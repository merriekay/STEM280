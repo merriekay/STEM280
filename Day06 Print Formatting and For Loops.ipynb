{
 "cells": [
  {
   "cell_type": "markdown",
   "metadata": {
    "slideshow": {
     "slide_type": "slide"
    }
   },
   "source": [
    "# STEM280: Day 06\n",
    "## For Loops\n",
    "\n",
    "####  STEM 280: Introduction to Computer Science I | Summer 2023\n",
    "\n",
    "Tuesday, Juuly 25th, 2023\n",
    "\n",
    " 📜 [Syllabus](https://docs.google.com/document/d/1LMCXdvynDdj4QWc0T9DgF4tos4PYLBpwOPHRC8BO-rA/edit?usp=sharing) | 📬 [CodePost Login](https://codepost.io/login) | 📆 [Schedule](https://docs.google.com/spreadsheets/d/e/2PACX-1vQiF1fOj8DS9cAab8N9gVPdHtNYzXs9GCBNMdPc3xWbg_qfXanppZrFVqxVSa_H_zy9WyCmGMQSAZEp/pubhtml)"
   ]
  },
  {
   "cell_type": "markdown",
   "metadata": {
    "slideshow": {
     "slide_type": "slide"
    }
   },
   "source": [
    "> Note to self: Make sure you're recording 🎥"
   ]
  },
  {
   "cell_type": "markdown",
   "metadata": {
    "slideshow": {
     "slide_type": "slide"
    }
   },
   "source": [
    "# Admin Stuff"
   ]
  },
  {
   "cell_type": "markdown",
   "metadata": {
    "slideshow": {
     "slide_type": "fragment"
    }
   },
   "source": [
    "Grading:\n",
    "- Quiz #1 is graded\n",
    "- Lab #3 is graded\n"
   ]
  },
  {
   "cell_type": "markdown",
   "metadata": {
    "slideshow": {
     "slide_type": "fragment"
    }
   },
   "source": [
    "You should be working on:\n",
    "- Lab #5 is released today, due Thursday July 27th by 11:59pm\n",
    "\n",
    "Readings:\n",
    "- "
   ]
  },
  {
   "cell_type": "markdown",
   "metadata": {
    "slideshow": {
     "slide_type": "slide"
    }
   },
   "source": [
    "# ⏪ Quick Review:"
   ]
  },
  {
   "cell_type": "markdown",
   "metadata": {
    "slideshow": {
     "slide_type": "slide"
    }
   },
   "source": [
    "## Repeating code\n",
    "\n",
    "\n",
    "Sometimes we want a section of our code to repeat multiple times. For this we use a __loop__. \n",
    "\n",
    "The first loop we're going to look at is a `while` loop. Its syntax is a lot like the `if` statement (but there's no else part):\n",
    "* keyword `while`\n",
    "* condition\n",
    "* colon `:`\n",
    "* indented block of code\n",
    "\n",
    "**Example**: remember this code we wrote for a simple guess-the-number game? What if we want the user to be able to keep guess until they get it right?"
   ]
  },
  {
   "cell_type": "code",
   "execution_count": 42,
   "metadata": {
    "scrolled": true,
    "slideshow": {
     "slide_type": "slide"
    }
   },
   "outputs": [
    {
     "name": "stdout",
     "output_type": "stream",
     "text": [
      "Guess a number: 5\n",
      "Wrong!\n",
      "Guess a number: 7\n",
      "That was right, good guess!\n",
      "Thank you for playing!\n"
     ]
    }
   ],
   "source": [
    "secret_number = 7\n",
    "guess = 0\n",
    "\n",
    "while guess != secret_number:\n",
    "    guess = int(input(\"Guess a number: \"))\n",
    "\n",
    "    if guess == secret_number:\n",
    "        print(\"That was right, good guess!\")\n",
    "    else:\n",
    "        print(\"Wrong!\")\n",
    "\n",
    "print(\"Thank you for playing!\") "
   ]
  },
  {
   "cell_type": "markdown",
   "metadata": {
    "slideshow": {
     "slide_type": "slide"
    }
   },
   "source": [
    "## Loops with Lists\n",
    "\n",
    "Loops are really good for doing things with lists. For example, you use the `len()` function to find out how many items are in a list and then create a count-controlled loop to go through each item in the list, using the counter as the list index. For example, this list will print out all of the values in the rainfall_amounts list."
   ]
  },
  {
   "cell_type": "code",
   "execution_count": 52,
   "metadata": {
    "scrolled": false
   },
   "outputs": [
    {
     "name": "stdout",
     "output_type": "stream",
     "text": [
      "Day 0 had 0.0 inches of rainfall.\n",
      "Day 1 had 0.3 inches of rainfall.\n",
      "Day 2 had 0.71 inches of rainfall.\n",
      "Day 3 had 0.0 inches of rainfall.\n",
      "Day 4 had 0.32 inches of rainfall.\n",
      "Day 5 had 1.1 inches of rainfall.\n",
      "Day 6 had 0.4 inches of rainfall.\n"
     ]
    }
   ],
   "source": [
    "rainfall = [0.0, 0.3, 0.71, 0.0, 0.32, 1.1, 0.4]\n",
    "counter = 0\n",
    "\n",
    "while counter < len(rainfall):\n",
    "    print(\"Day\",counter,\"had\",rainfall[counter],\"inches of rainfall.\")\n",
    "    counter += 1"
   ]
  },
  {
   "cell_type": "markdown",
   "metadata": {
    "slideshow": {
     "slide_type": "slide"
    }
   },
   "source": [
    "# ✨ New Material"
   ]
  },
  {
   "cell_type": "markdown",
   "metadata": {
    "slideshow": {
     "slide_type": "slide"
    }
   },
   "source": [
    "# Print Formatting\n",
    "\n",
    "If we didnt want the next print statemenet to otput on the next line, we can ass in a second __argument__ to the print function.\n",
    "\n",
    "Passing in `end=\"\"` inside the parenthese of `print()` will no longer make the next print statement continue on the next line. "
   ]
  },
  {
   "cell_type": "code",
   "execution_count": 2,
   "metadata": {},
   "outputs": [
    {
     "name": "stdout",
     "output_type": "stream",
     "text": [
      "one\n",
      "two\n",
      "three\n",
      "==============\n",
      "onetwothree"
     ]
    }
   ],
   "source": [
    "print(\"one\")\n",
    "print(\"two\")\n",
    "print(\"three\")\n",
    "print(\"==============\")\n",
    "print(\"one\", end=\"\")\n",
    "print(\"two\", end=\"\")\n",
    "print(\"three\", end=\"\")"
   ]
  },
  {
   "cell_type": "markdown",
   "metadata": {
    "slideshow": {
     "slide_type": "slide"
    }
   },
   "source": [
    "## Printing a blank line\n",
    "\n",
    "If you want the output to contain a blank line, then print can be used without an __argument__."
   ]
  },
  {
   "cell_type": "code",
   "execution_count": 3,
   "metadata": {},
   "outputs": [
    {
     "name": "stdout",
     "output_type": "stream",
     "text": [
      "hello\n",
      "\n",
      "\n",
      "now I'm here\n"
     ]
    }
   ],
   "source": [
    "print(\"hello\")\n",
    "print()\n",
    "print()\n",
    "print(\"now I'm here\")"
   ]
  },
  {
   "cell_type": "markdown",
   "metadata": {
    "slideshow": {
     "slide_type": "slide"
    }
   },
   "source": [
    "# 💬 Goup Exercise #1:\n",
    "\n",
    "Prompt the user for an integer\n",
    "\n",
    "Print out a row of alternating X's and O's in which the number of characters equals the number input"
   ]
  },
  {
   "cell_type": "code",
   "execution_count": 4,
   "metadata": {},
   "outputs": [
    {
     "name": "stdout",
     "output_type": "stream",
     "text": [
      "Please enter an integer: 3\n",
      "XOX"
     ]
    }
   ],
   "source": [
    "# Example Output #1"
   ]
  },
  {
   "cell_type": "code",
   "execution_count": 5,
   "metadata": {},
   "outputs": [
    {
     "name": "stdout",
     "output_type": "stream",
     "text": [
      "Please enter an integer: 8\n",
      "XOXOXOXO"
     ]
    }
   ],
   "source": [
    "# Example Output #2"
   ]
  },
  {
   "cell_type": "code",
   "execution_count": 6,
   "metadata": {},
   "outputs": [
    {
     "name": "stdout",
     "output_type": "stream",
     "text": [
      "Please enter an integer: 45\n",
      "XOXOXOXOXOXOXOXOXOXOXOXOXOXOXOXOXOXOXOXOXOXOX"
     ]
    }
   ],
   "source": [
    "# Example Output #3"
   ]
  },
  {
   "cell_type": "markdown",
   "metadata": {
    "slideshow": {
     "slide_type": "slide"
    }
   },
   "source": [
    "## Print formatting `sep`:\n",
    "\n",
    "When multiple arguments are passed into the `print()` function, they are by default separated by a space."
   ]
  },
  {
   "cell_type": "code",
   "execution_count": 7,
   "metadata": {},
   "outputs": [
    {
     "name": "stdout",
     "output_type": "stream",
     "text": [
      "The cost of your item is $ 5.75\n"
     ]
    }
   ],
   "source": [
    "cost = 5.75\n",
    "print(\"The cost of your item is $\", cost)"
   ]
  },
  {
   "cell_type": "markdown",
   "metadata": {
    "slideshow": {
     "slide_type": "fragment"
    }
   },
   "source": [
    "Note the pesky space between the $ and the cost above."
   ]
  },
  {
   "cell_type": "markdown",
   "metadata": {
    "slideshow": {
     "slide_type": "slide"
    }
   },
   "source": [
    "## Print formatting `sep`:\n",
    "\n",
    "If you do not want the default space between arguetsin a print statement, you can put an additional argument that specifies exactly what should be placed between items in the print statement. \n",
    "\n",
    "For example, nothing (the empty string) denoted `\"\"`, which is denoted as `sep = \"\"`"
   ]
  },
  {
   "cell_type": "code",
   "execution_count": 8,
   "metadata": {},
   "outputs": [
    {
     "name": "stdout",
     "output_type": "stream",
     "text": [
      "The cost of your item is $5.75\n"
     ]
    }
   ],
   "source": [
    "cost = 5.75\n",
    "print(\"The cost of your item is $\", cost, sep=\"\")"
   ]
  },
  {
   "cell_type": "markdown",
   "metadata": {},
   "source": [
    "## The `round()` function:\n",
    "\n",
    "Python provides a round function that rounds a decimal number to the nearest whole number."
   ]
  },
  {
   "cell_type": "code",
   "execution_count": 9,
   "metadata": {},
   "outputs": [
    {
     "data": {
      "text/plain": [
       "5"
      ]
     },
     "execution_count": 9,
     "metadata": {},
     "output_type": "execute_result"
    }
   ],
   "source": [
    "round(4.56)"
   ]
  },
  {
   "cell_type": "code",
   "execution_count": 10,
   "metadata": {},
   "outputs": [
    {
     "data": {
      "text/plain": [
       "9"
      ]
     },
     "execution_count": 10,
     "metadata": {},
     "output_type": "execute_result"
    }
   ],
   "source": [
    "round(9.12)"
   ]
  },
  {
   "cell_type": "markdown",
   "metadata": {
    "slideshow": {
     "slide_type": "slide"
    }
   },
   "source": [
    "# 💬 Goup Exercise #2:\n",
    "\n",
    "There is somthing peculiar (perhaps a bug?) with Python's implementation of `round()`\n",
    "\n",
    "Tkae a minute, write some code with round, and see if you can figure out this issue... "
   ]
  },
  {
   "cell_type": "code",
   "execution_count": null,
   "metadata": {},
   "outputs": [],
   "source": []
  },
  {
   "cell_type": "markdown",
   "metadata": {
    "slideshow": {
     "slide_type": "slide"
    }
   },
   "source": [
    "## Types of Rounding\n",
    "\n",
    "There are actually many different types of rounding:\n",
    "- convergent rounding\n",
    "- statistician's rounding\n",
    "- Guassian rounding\n",
    "- odd-even rounding\n",
    "- banker's rounding\n",
    "\n",
    "Python's rounding:\n",
    "- Numbers which are equidistant from the wo nearest integers are roundd to the nearest _even integer_. \n",
    "- Thus, 0.5 rounds down to 0; 1.5 rounds up to 2."
   ]
  },
  {
   "cell_type": "markdown",
   "metadata": {},
   "source": [
    "## Rounding to Decimal Places:\n",
    "\n",
    "You can also use round to round float numbers to a specific number of decimal places..."
   ]
  },
  {
   "cell_type": "code",
   "execution_count": 11,
   "metadata": {},
   "outputs": [
    {
     "name": "stdout",
     "output_type": "stream",
     "text": [
      "3.142\n"
     ]
    }
   ],
   "source": [
    "my_val = round(3.1415926, 3)\n",
    "print(my_val)"
   ]
  },
  {
   "cell_type": "markdown",
   "metadata": {
    "slideshow": {
     "slide_type": "slide"
    }
   },
   "source": [
    "# Introduction to For Loops and `range()`"
   ]
  },
  {
   "cell_type": "markdown",
   "metadata": {
    "slideshow": {
     "slide_type": "slide"
    }
   },
   "source": [
    "# Count-Controlled Loops\n",
    "\n",
    "__count-controlled loop__: a loop that ierates a specific number of times. \n",
    "- So far, we've accomplished this using a combination of a `counter`, `while` loop, and the `len()` function.\n"
   ]
  },
  {
   "cell_type": "code",
   "execution_count": 43,
   "metadata": {
    "scrolled": true
   },
   "outputs": [
    {
     "name": "stdout",
     "output_type": "stream",
     "text": [
      "Sunday\n",
      "Monday\n",
      "Tuesday\n",
      "Wednesday\n",
      "Thursday\n",
      "Friday\n",
      "Saturday\n"
     ]
    }
   ],
   "source": [
    "days_in_week = ['Sunday','Monday', 'Tuesday', 'Wednesday', 'Thursday', 'Friday', 'Saturday']\n",
    "counter = 0\n",
    "while counter < len(days_in_week):\n",
    "    print(days_in_week[counter])\n",
    "    counter +=1"
   ]
  },
  {
   "cell_type": "markdown",
   "metadata": {
    "slideshow": {
     "slide_type": "slide"
    }
   },
   "source": [
    "# The For Loop:\n",
    "## 🔐✨ New Keywords Unlocked: `for` and `in`\n",
    "Use a `for` statement to easily write count-controlled loops.\n",
    "- designed to work with a sequence of data items.\n",
    "    - iterates once for each item in the sequence."
   ]
  },
  {
   "cell_type": "markdown",
   "metadata": {
    "slideshow": {
     "slide_type": "subslide"
    }
   },
   "source": [
    "## `for` loop syntax:\n",
    "- keyword `for`\n",
    "- __target variable__: you get to make this one up, but it's best if it hasn't been used in your current program.\n",
    "- keyword `in`\n",
    "- a sequence\n",
    "- colon `:`\n",
    "\n",
    "Example:"
   ]
  },
  {
   "cell_type": "code",
   "execution_count": 44,
   "metadata": {
    "slideshow": {
     "slide_type": "subslide"
    }
   },
   "outputs": [
    {
     "name": "stdout",
     "output_type": "stream",
     "text": [
      "Sunday\n",
      "Monday\n",
      "Tuesday\n",
      "Wednesday\n",
      "Thursday\n",
      "Friday\n",
      "Saturday\n"
     ]
    }
   ],
   "source": [
    "days_in_week = ['Sunday','Monday', 'Tuesday', 'Wednesday', 'Thursday', 'Friday', 'Saturday']\n",
    "\n",
    "for day in days_in_week: #day is the target variable\n",
    "    print(day)"
   ]
  },
  {
   "cell_type": "code",
   "execution_count": 45,
   "metadata": {},
   "outputs": [
    {
     "name": "stdout",
     "output_type": "stream",
     "text": [
      "1\n",
      "2\n",
      "3\n",
      "4\n",
      "5\n"
     ]
    }
   ],
   "source": [
    "for num in [1,2,3,4,5]:\n",
    "    print(num)"
   ]
  },
  {
   "cell_type": "markdown",
   "metadata": {
    "slideshow": {
     "slide_type": "slide"
    }
   },
   "source": [
    "<div>\n",
    "<img src=\"images/day05_forloops.png\" width=\"500\"/>\n",
    "</div>"
   ]
  },
  {
   "cell_type": "markdown",
   "metadata": {
    "slideshow": {
     "slide_type": "slide"
    }
   },
   "source": [
    "# 💬 Goup Exercise #3:\n",
    "\n",
    "Walk through the following for loops. Before you try running them, see if you can predit what they will output."
   ]
  },
  {
   "cell_type": "code",
   "execution_count": null,
   "metadata": {},
   "outputs": [],
   "source": [
    "for val in [1,3,5,7,9]:\n",
    "    print(val)"
   ]
  },
  {
   "cell_type": "code",
   "execution_count": null,
   "metadata": {},
   "outputs": [],
   "source": [
    "for name in ['Han Solo', 'Darth Vader', 'Yoda', 'The Child']:\n",
    "    print(name)"
   ]
  },
  {
   "cell_type": "code",
   "execution_count": null,
   "metadata": {},
   "outputs": [],
   "source": [
    "for num in [1,2,3,4,5]:\n",
    "    if num%2==0:\n",
    "        print(num)"
   ]
  },
  {
   "cell_type": "code",
   "execution_count": 46,
   "metadata": {
    "scrolled": true
   },
   "outputs": [
    {
     "name": "stdout",
     "output_type": "stream",
     "text": [
      "type something:apple\n",
      "a\n",
      "p\n",
      "p\n",
      "l\n",
      "e\n"
     ]
    }
   ],
   "source": [
    "my_string = input(\"type something:\")\n",
    "for char in my_string:\n",
    "    print(char)"
   ]
  },
  {
   "cell_type": "markdown",
   "metadata": {
    "slideshow": {
     "slide_type": "slide"
    }
   },
   "source": [
    "# 💬 Goup Exercise #4:\n",
    "\n",
    "Describe, in your own words, what this code will do:"
   ]
  },
  {
   "cell_type": "code",
   "execution_count": null,
   "metadata": {},
   "outputs": [],
   "source": [
    "import random\n",
    "\n",
    "number = random.randint(1,10)\n",
    "\n",
    "for try_number in [1,2,3,4,5]:\n",
    "    print(\"try\", try_number, \"--\", end=\"\")\n",
    "    guess = int(input(\"guess a number \"))\n",
    "    \n",
    "    if guess == number:\n",
    "        print(\"you got it!\")\n",
    "    else:\n",
    "        print(\"Nope\")"
   ]
  },
  {
   "cell_type": "markdown",
   "metadata": {
    "slideshow": {
     "slide_type": "slide"
    }
   },
   "source": [
    "# The `range()` function\n",
    "\n",
    "The `range()` function simplifies the process of writing a for loop.\n",
    "\n",
    "- `range()` returns an iterable object\n",
    "    - *iterable* means that it contains a sequence of values that can be iterated (looped) over."
   ]
  },
  {
   "cell_type": "code",
   "execution_count": 47,
   "metadata": {},
   "outputs": [
    {
     "data": {
      "text/plain": [
       "range(0, 5)"
      ]
     },
     "execution_count": 47,
     "metadata": {},
     "output_type": "execute_result"
    }
   ],
   "source": [
    "range(5)"
   ]
  },
  {
   "cell_type": "code",
   "execution_count": 6,
   "metadata": {
    "slideshow": {
     "slide_type": "subslide"
    }
   },
   "outputs": [
    {
     "name": "stdout",
     "output_type": "stream",
     "text": [
      "0\n",
      "1\n",
      "2\n",
      "3\n",
      "4\n"
     ]
    }
   ],
   "source": [
    "for num in range(5):\n",
    "    print(num)"
   ]
  },
  {
   "cell_type": "code",
   "execution_count": 7,
   "metadata": {},
   "outputs": [
    {
     "name": "stdout",
     "output_type": "stream",
     "text": [
      "Hello World!\n",
      "Hello World!\n",
      "Hello World!\n",
      "Hello World!\n",
      "Hello World!\n"
     ]
    }
   ],
   "source": [
    "for x in range(5):\n",
    "    print(\"Hello World!\")"
   ]
  },
  {
   "cell_type": "markdown",
   "metadata": {
    "slideshow": {
     "slide_type": "slide"
    }
   },
   "source": [
    "## Passing `range()` Multiple Arguments\n",
    "\n",
    "By default, the range function produces a sequence of numbers that increases by 1.\n",
    "\n",
    "If you pass three __arguments__ to range:\n",
    "- the first number is the starting value\n",
    "- the second number is the ending limit\n",
    "- the third number is the step value (increment)"
   ]
  },
  {
   "cell_type": "code",
   "execution_count": 48,
   "metadata": {},
   "outputs": [
    {
     "name": "stdout",
     "output_type": "stream",
     "text": [
      "10\n",
      "8\n",
      "6\n",
      "4\n",
      "2\n"
     ]
    }
   ],
   "source": [
    "for x in range(10,1,-2):\n",
    "    print(x)"
   ]
  },
  {
   "cell_type": "markdown",
   "metadata": {
    "slideshow": {
     "slide_type": "slide"
    }
   },
   "source": [
    "## 💬 Goup Exercise #5:\n",
    "\n",
    "Using for loops and the `range()` function, take a crack at the following tasks:\n",
    "- print out all integers between 1 and 200 (including 200)\n",
    "- print out all even integers between 1 and 200 (including 200)\n",
    "- print out all integers counting down from 50 to 1\n",
    "- print out all integers between 1 and 10, followed by the squares\n",
    "    - So this output might look like:\n",
    "    \n",
    "    `1 --- 1`\n",
    "    \n",
    "    `2 --- 4` \n",
    "    \n",
    "    `3 --- 9` etc"
   ]
  },
  {
   "cell_type": "code",
   "execution_count": null,
   "metadata": {},
   "outputs": [],
   "source": []
  },
  {
   "cell_type": "markdown",
   "metadata": {
    "slideshow": {
     "slide_type": "slide"
    }
   },
   "source": [
    "## Two Main Formulas for For Loops:\n",
    "\n",
    "There are two common strategies for using for loops with lists. \n",
    "\n",
    "The first is called `list_comprehension`, and is used when you want to have access only to the values that are in the list, but don't necessarily care about the indices of the list. \n",
    "\n",
    "It looks something like this:"
   ]
  },
  {
   "cell_type": "code",
   "execution_count": 49,
   "metadata": {
    "slideshow": {
     "slide_type": "slide"
    }
   },
   "outputs": [
    {
     "name": "stdout",
     "output_type": "stream",
     "text": [
      "-5 4\n",
      "-15 5\n",
      "-8 6\n",
      "-1 7\n"
     ]
    }
   ],
   "source": [
    "temperatures = [30, 20, 2, -5, -15, -8, -1, 0, 5, 35]\n",
    "\n",
    "for temp in temperatures:\n",
    "    if temp < 0:\n",
    "        print(temp, day)"
   ]
  },
  {
   "cell_type": "markdown",
   "metadata": {
    "slideshow": {
     "slide_type": "-"
    }
   },
   "source": [
    "What if we wanted to print out which days had negative temperatures? Our output might look like:\n",
    "\n",
    "`Day 3 had a negative temperature`\n",
    "\n",
    "`Day 4 had a negative temperature`\n",
    "\n",
    "`Day 5 had a negative temperature`\n",
    "\n",
    "`Day 6 had a negative temperature`\n",
    "\n",
    "Any ideas how we might accomplish this?"
   ]
  },
  {
   "cell_type": "code",
   "execution_count": null,
   "metadata": {},
   "outputs": [],
   "source": []
  },
  {
   "cell_type": "markdown",
   "metadata": {
    "slideshow": {
     "slide_type": "fragment"
    }
   },
   "source": [
    "Possible solutions:\n",
    "- use a counter\n",
    "- use the `range()` function"
   ]
  },
  {
   "cell_type": "code",
   "execution_count": null,
   "metadata": {
    "slideshow": {
     "slide_type": "slide"
    }
   },
   "outputs": [],
   "source": [
    "# what will this code do?\n",
    "temperatures = [30, 20, 2, -5, -15, -8, -1, 0, 5, 35]\n",
    "\n",
    "for index in range(len(temperatures)):\n",
    "    print(index)"
   ]
  },
  {
   "cell_type": "code",
   "execution_count": null,
   "metadata": {
    "slideshow": {
     "slide_type": "fragment"
    }
   },
   "outputs": [],
   "source": [
    "temperatures = [30, 20, 2, -5, -15, -8, -1, 0, 5, 35]\n",
    "\n",
    "for index in range(len(temperatures)):\n",
    "    if temperatures[index] < 0:\n",
    "        print(\"Day\", index, \" had a negative temperature\")"
   ]
  },
  {
   "cell_type": "markdown",
   "metadata": {},
   "source": [
    "# 💬 Goup Exercise #7:\n",
    "\n",
    "- Do Lab #4 with a for loop (in 4 lines of code):"
   ]
  },
  {
   "cell_type": "code",
   "execution_count": 13,
   "metadata": {},
   "outputs": [
    {
     "name": "stdout",
     "output_type": "stream",
     "text": [
      "What is the limit? 10\n",
      "What is the increment? 2\n",
      "0\n",
      "2\n",
      "4\n",
      "6\n",
      "8\n",
      "10\n"
     ]
    }
   ],
   "source": [
    "# exmample output for lab #4"
   ]
  }
 ],
 "metadata": {
  "celltoolbar": "Slideshow",
  "kernelspec": {
   "display_name": "Python 3 (ipykernel)",
   "language": "python",
   "name": "python3"
  },
  "language_info": {
   "codemirror_mode": {
    "name": "ipython",
    "version": 3
   },
   "file_extension": ".py",
   "mimetype": "text/x-python",
   "name": "python",
   "nbconvert_exporter": "python",
   "pygments_lexer": "ipython3",
   "version": "3.11.3"
  }
 },
 "nbformat": 4,
 "nbformat_minor": 4
}
