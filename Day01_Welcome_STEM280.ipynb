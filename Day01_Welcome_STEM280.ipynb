{
 "cells": [
  {
   "cell_type": "markdown",
   "metadata": {
    "slideshow": {
     "slide_type": "slide"
    }
   },
   "source": [
    "# STEM280: Day 01\n",
    "## Welcome to STEM280\n",
    "\n",
    "####  STEM 280: Introduction to Computer Science I | Summer 2023\n",
    "\n",
    "Thursday, July 6, 2023\n",
    "\n",
    " 📜 [Syllabus](https://analytics.drake.edu/~moore/cs167_s23_syllabus.html) | 📬 [CodePost Login](https://codepost.io/login)"
   ]
  },
  {
   "cell_type": "markdown",
   "metadata": {
    "slideshow": {
     "slide_type": "slide"
    }
   },
   "source": [
    "> Note to self: Make sure you're recording 🎥"
   ]
  },
  {
   "cell_type": "markdown",
   "metadata": {
    "slideshow": {
     "slide_type": "slide"
    }
   },
   "source": [
    "# Hello!\n",
    "\n",
    "I'm Meredith Moore, the instructor for STEM280.\n",
    "\n",
    "__Meredith Moore, Ph.D.__\n",
    "- Ph.D. in Computer Science from ASU in 2020\n",
    "- B.S. in Computer Science and Neuroscience from Drake University in 2015\n",
    "- Starting my 4th year teaching at Drake\n",
    "- 2nd time teaching STEM 280\n",
    "\n",
    "Contact Info:\n",
    "- meredith.moore@drake.edu\n",
    "- Collier Scripps Hall 325"
   ]
  },
  {
   "cell_type": "markdown",
   "metadata": {
    "slideshow": {
     "slide_type": "slide"
    }
   },
   "source": [
    "# Today's Overview:\n",
    "\n",
    "- Part 1: Course Overview / Syllabus\n",
    "- Part 2: Introduction to Computer Science\n",
    "- break\n",
    "- Part 3: Let's start coding!"
   ]
  },
  {
   "cell_type": "markdown",
   "metadata": {
    "slideshow": {
     "slide_type": "slide"
    }
   },
   "source": [
    "# Part 1: Course Overview"
   ]
  },
  {
   "cell_type": "markdown",
   "metadata": {
    "slideshow": {
     "slide_type": "slide"
    }
   },
   "source": [
    "# Course Expectations:\n",
    "There is no programming prequesite for this course.\n",
    "- as long as you can type and turn on a computer (and think logically), you can earn an A in this course.\n",
    "- Those with programming expericne, be careful\n",
    "<div>\n",
    "<img src=\"images/day01_noexp.png\"/ width=300>\n",
    "</div>"
   ]
  },
  {
   "cell_type": "markdown",
   "metadata": {
    "slideshow": {
     "slide_type": "slide"
    }
   },
   "source": [
    "# 🛠 Course Tools\n",
    "\n",
    "There are a few tools that we will use to make this course run smoothly:\n",
    "- __Blackboard__: slides, code, labs, announcements\n",
    "- __CodePost__: code will be submitted to CodePost for grading\n",
    "- __Thonny__: Thonny is what we will use to write Python programs in"
   ]
  },
  {
   "cell_type": "markdown",
   "metadata": {
    "slideshow": {
     "slide_type": "slide"
    }
   },
   "source": [
    "# A Note on Content Delivery\n",
    "\n",
    "You might notice that these slides aren't Powerpoint or Google Slides...\n",
    "\n",
    "I'm using Jupyter Notebooks (a way of writing code and text together), and presenting them as slides. \n",
    "\n",
    "I understand that this might mean you have to adjust how you take notes in this class. \n",
    "\n",
    "I'll demonstrate how I'd take notes if I were you. It involves using Google Drive and another great tool called Google Colaboratory. "
   ]
  },
  {
   "cell_type": "code",
   "execution_count": null,
   "metadata": {},
   "outputs": [],
   "source": [
    "# demo code here"
   ]
  },
  {
   "cell_type": "markdown",
   "metadata": {
    "slideshow": {
     "slide_type": "slide"
    }
   },
   "source": [
    "## 🫶 An Accommodation Request\n",
    "\n",
    "It is a personal goal of mine to respond to your emails within 24 hours of you sending it. However... I have ADHD and I don't always make that happen. \n",
    "\n",
    "__My ask__: If it has been more than 24 hours and you haven't heard from me, please feel free to forward me your email again with a simple \"bump\" in the message to provide me a gentle reminder to respond. \n"
   ]
  },
  {
   "cell_type": "markdown",
   "metadata": {
    "slideshow": {
     "slide_type": "slide"
    }
   },
   "source": [
    "# Blackboard Tour"
   ]
  },
  {
   "cell_type": "markdown",
   "metadata": {
    "slideshow": {
     "slide_type": "slide"
    }
   },
   "source": [
    "# 📜 Syllabus\n",
    "\n",
    "[The syllabus is available here](https://docs.google.com/document/d/1LMCXdvynDdj4QWc0T9DgF4tos4PYLBpwOPHRC8BO-rA/edit?usp=sharing) (also on blackboard)\n",
    "\n",
    "Please read the syllabus prior to class on Tuesday. \n",
    "\n",
    "It specifies expectations (for you and for me):\n",
    "- Assignments\n",
    "- Plagiarism\n",
    "- Contacting me\n",
    "- Course goals\n",
    "\n",
    "I'll go over some of the most important pieces in the next few slides."
   ]
  },
  {
   "cell_type": "markdown",
   "metadata": {
    "slideshow": {
     "slide_type": "slide"
    }
   },
   "source": [
    "## 💼 Office Hours\n",
    "\n",
    "Tuesday and Thursday after class for as long as needed."
   ]
  },
  {
   "cell_type": "markdown",
   "metadata": {
    "slideshow": {
     "slide_type": "slide"
    }
   },
   "source": [
    "# 📚 Textbook(s)\n",
    "\n",
    "It's been my experience htat most students can do well in the course using the lecture notes and code examples provided.\n",
    "\n",
    "I don't want to make you purchase a text that will go out of date or that won't be used again. \n",
    "\n",
    "There are plenty of free, open-source, online textbooks\n",
    "\n",
    "A small inconvenience: there isn't one online textbook that does it all. \n",
    "\n",
    "I don't love _everything_  about any text\n",
    "\n",
    "I will post links to chapters of a textbook that will provide supplementary materials for you each class. (each session is technically 2 classes)"
   ]
  },
  {
   "cell_type": "markdown",
   "metadata": {
    "slideshow": {
     "slide_type": "slide"
    }
   },
   "source": [
    "- [Think Python: How to Think Like a Computer Scientist](https://greenteapress.com/thinkpython2/html/index.html) 2nd Edition by Allen B. Downey\n",
    "- [A Practical Introduction to Python Programming](https://www.brianheinold.net/python/python_book.html) by Brian Heinold\n",
    "- [A Byte of Python](https://python.swaroopch.com/) by Swaroop\n",
    "- [Python for Everybody](https://www.py4e.com/lessons) by Charles Severance"
   ]
  },
  {
   "cell_type": "markdown",
   "metadata": {
    "slideshow": {
     "slide_type": "slide"
    }
   },
   "source": [
    "## Readings for Tuesday:\n",
    "\n",
    "Reading #1: [About Python](https://python.swaroopch.com/about_python.html) from \"A Byte of Python\"\n",
    "- why is it called Python?\n",
    "- Advantgaes of Python\n",
    "\n",
    "Reading #2: [Variables (Python for Everyone)](https://www.py4e.com/html3/02-variables)"
   ]
  },
  {
   "cell_type": "markdown",
   "metadata": {
    "slideshow": {
     "slide_type": "slide"
    }
   },
   "source": [
    "# Grading Policy:\n",
    "\n",
    "| **Activity**     | **% Final Grade** |\n",
    "|------------------|-------------------|\n",
    "| Programming Labs | 40%               |\n",
    "| Content Quizzes  | 40%               |\n",
    "| Final Project    | 20%               |"
   ]
  },
  {
   "cell_type": "markdown",
   "metadata": {
    "slideshow": {
     "slide_type": "slide"
    }
   },
   "source": [
    "## Programming Labs (40%):\n",
    "\n",
    "A seires of short execises accompanying nearly each class topic, usually culminating in a challenge exercise which will be submitted for credit.\n",
    "- submitted via CodePost (we'll talk more about this later)\n",
    "- There will be many of these (like one a class period)\n",
    "- 4 points each"
   ]
  },
  {
   "cell_type": "markdown",
   "metadata": {
    "slideshow": {
     "slide_type": "slide"
    }
   },
   "source": [
    "## Content Quizzes (40%)\n",
    "\n",
    "Open-note, open-book, take-home quizzes that will be submitted via Blackboard\n",
    "\n",
    "You will be gien (approximately 24 hours to complete them)\n",
    "\n",
    "Dates TBD, but I'll give you advance warning."
   ]
  },
  {
   "cell_type": "markdown",
   "metadata": {
    "slideshow": {
     "slide_type": "slide"
    }
   },
   "source": [
    "## Final Project (20%)\n",
    "\n",
    "You will develop a program of your choosing that incorporates many different programming concepts you have learned throughout the semester. \n",
    "\n",
    "The final project is to be completed individually."
   ]
  },
  {
   "cell_type": "markdown",
   "metadata": {
    "slideshow": {
     "slide_type": "slide"
    }
   },
   "source": [
    "## Grade Scale\n",
    "\n",
    "<div>\n",
    "<img src=\"images/day01_gradescale.png\"/ width=500>\n",
    "</div>"
   ]
  },
  {
   "cell_type": "markdown",
   "metadata": {
    "slideshow": {
     "slide_type": "slide"
    }
   },
   "source": [
    "## Collaboration Policy and Academic Integrity\n",
    "- You may work together on _labs_\n",
    "- You may __not__ work together on _projects and quizzes_\n",
    "- When working together, say who you worked with in the code comments\n",
    "- When taking code from somewhere on the Internet, cite it in your comments and provide a link\n",
    "- May not look at code from previous students in the course\n",
    "- May not search the Internet for solutions\n",
    "- First violation: 0 on that thing\n",
    "- Second violation: F for the course"
   ]
  },
  {
   "cell_type": "markdown",
   "metadata": {
    "slideshow": {
     "slide_type": "slide"
    }
   },
   "source": [
    "# Introductory Questionnaire\n",
    "\n",
    "Before class on Tuesday, pleas answer the questions on the [introducory questionnaire](https://forms.gle/JSpLJgsFkyMJ4vz59).\n",
    "\n",
    "This take-home questionnaire is intended to help the professor learn more about you."
   ]
  },
  {
   "cell_type": "markdown",
   "metadata": {
    "slideshow": {
     "slide_type": "slide"
    }
   },
   "source": [
    "# Introduction Slides\n",
    "\n",
    "Before Tuesday, please create an Introduction Slide in the [STEM 280 Introductions presentation](https://docs.google.com/presentation/d/1eV5BUXx3gKfS0CFJX2h9ntrmhfgRXr8CTPcpaiszvZQ/edit?usp=sharing)\n",
    "\n",
    "We'll start off Tuesday by having each of you introduce yourself in 2 minutes or so with this slide. "
   ]
  },
  {
   "cell_type": "markdown",
   "metadata": {
    "slideshow": {
     "slide_type": "slide"
    }
   },
   "source": [
    "# 🙋 Questions?"
   ]
  },
  {
   "cell_type": "markdown",
   "metadata": {
    "slideshow": {
     "slide_type": "slide"
    }
   },
   "source": [
    "# Part 2: Introduction to Computer Science"
   ]
  },
  {
   "cell_type": "markdown",
   "metadata": {
    "slideshow": {
     "slide_type": "slide"
    }
   },
   "source": [
    "# What is Computer Science?"
   ]
  },
  {
   "cell_type": "markdown",
   "metadata": {
    "slideshow": {
     "slide_type": "fragment"
    }
   },
   "source": [
    "Study of Computers?"
   ]
  },
  {
   "cell_type": "markdown",
   "metadata": {
    "slideshow": {
     "slide_type": "fragment"
    }
   },
   "source": [
    "Programming?"
   ]
  },
  {
   "cell_type": "markdown",
   "metadata": {
    "slideshow": {
     "slide_type": "fragment"
    }
   },
   "source": [
    "Computer science is the sutdy of __algorithms__."
   ]
  },
  {
   "cell_type": "markdown",
   "metadata": {
    "slideshow": {
     "slide_type": "slide"
    }
   },
   "source": [
    "## 🚨🚨 Terminology Alert 🚨🚨\n",
    "An __algorithm__ is a step-by-step procedure for producing a solution to a given problem. "
   ]
  },
  {
   "cell_type": "markdown",
   "metadata": {
    "slideshow": {
     "slide_type": "slide"
    }
   },
   "source": [
    "# Algorithm Examples?"
   ]
  },
  {
   "cell_type": "markdown",
   "metadata": {
    "slideshow": {
     "slide_type": "slide"
    }
   },
   "source": [
    "\n",
    "<div>\n",
    "<img src=\"images/day01_algo_ex1.png\"/ width=700>\n",
    "</div>"
   ]
  },
  {
   "cell_type": "markdown",
   "metadata": {
    "slideshow": {
     "slide_type": "slide"
    }
   },
   "source": [
    "\n",
    "<div>\n",
    "<img src=\"images/day01_algo_ex2.png\"/ width=600>\n",
    "</div>"
   ]
  },
  {
   "cell_type": "markdown",
   "metadata": {
    "slideshow": {
     "slide_type": "slide"
    }
   },
   "source": [
    "\n",
    "<div>\n",
    "<img src=\"images/day01_algo_ex3.png\"/ width=600>\n",
    "</div>"
   ]
  },
  {
   "cell_type": "markdown",
   "metadata": {
    "slideshow": {
     "slide_type": "slide"
    }
   },
   "source": [
    "Making a peanut butter and jelly sandwich..."
   ]
  },
  {
   "cell_type": "markdown",
   "metadata": {
    "slideshow": {
     "slide_type": "slide"
    }
   },
   "source": [
    "# 💬 Goup Exercise:\n",
    "\n",
    "I'm going to randomly assign 3 breakout rooms (2, 2, 3).\n",
    "\n",
    "1. Introduce yourselves\n",
    "    - where do you teach?\n",
    "    - what do you teach? (age/subject)\n",
    "2. Discuss the algorithm for making a peanut butter and jelly sandwich.\n",
    "3. Write down your algorithm\n",
    "\n",
    "You have 5 minutes. Be ready to discuss."
   ]
  },
  {
   "cell_type": "markdown",
   "metadata": {
    "slideshow": {
     "slide_type": "slide"
    }
   },
   "source": [
    "# Why program?\n",
    "\n",
    "Why is programming such a valuable skill? \n",
    "- computers are tools that can be programmed to perform many functions. \n",
    "\n",
    "Implement _ _ _ _ _  to solve problems or calculate answers to problems, listen to music, give recommendations, display images, play videos..."
   ]
  },
  {
   "cell_type": "markdown",
   "metadata": {
    "slideshow": {
     "slide_type": "slide"
    }
   },
   "source": [
    "# Why program?\n",
    "\n",
    "Why is programming such a valuable skill? \n",
    "- computers are tools that can be programmed to perform many functions. \n",
    "\n",
    "Implement __algorithms__ to solve problems or calculate answers to problems, listen to music, give recommendations, display images, play videos..."
   ]
  },
  {
   "cell_type": "markdown",
   "metadata": {
    "slideshow": {
     "slide_type": "slide"
    }
   },
   "source": [
    "# Computer Programs:\n",
    "\n",
    "## 🚨🚨 Terminology Alert 🚨🚨\n",
    "A __program__ is a sequence of instructions that specifies how to perform a computation.\n",
    "\n",
    "Computers are not intelligent!\n",
    "- All they do is follow instructions"
   ]
  },
  {
   "cell_type": "markdown",
   "metadata": {
    "slideshow": {
     "slide_type": "fragment"
    }
   },
   "source": [
    "__Programming languages__ are formal languages that have been designed to express (compute) computations."
   ]
  },
  {
   "cell_type": "markdown",
   "metadata": {
    "slideshow": {
     "slide_type": "fragment"
    }
   },
   "source": [
    "Programming langauges have strict rules, known as __syntax__, that must be carefully followed. \n",
    "- much like grammar"
   ]
  },
  {
   "cell_type": "markdown",
   "metadata": {
    "slideshow": {
     "slide_type": "slide"
    }
   },
   "source": [
    "# Integrated Development Environment (IDE)\n",
    "\n",
    "An Integrated Development Environment (IDE) is a software system that allows programmers to develop and test code. \n",
    "\n",
    "For this class we'll primarly use an IDE called __Thonny__.\n",
    "\n",
    "<div>\n",
    "<img src=\"images/day01_thonny.png\"/ width=600>\n",
    "</div>\n"
   ]
  },
  {
   "cell_type": "markdown",
   "metadata": {
    "slideshow": {
     "slide_type": "slide"
    }
   },
   "source": [
    "## A metaphor:\n",
    "\n",
    "We're going to start simple... \n",
    "<div>\n",
    "<img src=\"images/day01_thonny_metaphor.png\"/ width=700>\n",
    "</div>\n"
   ]
  },
  {
   "cell_type": "markdown",
   "metadata": {
    "slideshow": {
     "slide_type": "slide"
    }
   },
   "source": [
    "# Download Thonny\n",
    "\n",
    "https://thonny.org/ \n",
    "\n",
    "Show download procedure, and run first program."
   ]
  },
  {
   "cell_type": "markdown",
   "metadata": {
    "slideshow": {
     "slide_type": "slide"
    }
   },
   "source": [
    "# How to Program\n",
    "\n",
    "Programming is not a linear process. You don't just sit down, start writing the first line of code and then keep writing until you're done. \n",
    "\n",
    "Good programmers _design_ their programs before they start writing. \n",
    "- much like having an outline for an essay\n",
    "\n",
    "(a simple) program development cycle:\n",
    "- design the program\n",
    "- write the code\n",
    "- correct syntax errors\n",
    "- test the program\n",
    "- correct logic errors"
   ]
  },
  {
   "cell_type": "markdown",
   "metadata": {
    "slideshow": {
     "slide_type": "slide"
    }
   },
   "source": [
    "# Resiliency in Computer Science\n",
    "\n",
    "One of the best indicators of success in a computer science student is their ability to be __resilient__. \n",
    "\n",
    "Programs almost never work on the first try. To get code to work, you'll have to sit with it, fiddle with it, and try, try again.\n",
    "\n",
    "At first, computer science can be _very_ frustrating. This doesn't mean you're bad at computer science. It just means that you're learning and with every error you run into, you'll be better prepared in the future.\n",
    "\n",
    "This course will work to build your tool box of computer science concepts that you can use to build whatever the heck you want. "
   ]
  },
  {
   "cell_type": "markdown",
   "metadata": {
    "slideshow": {
     "slide_type": "slide"
    }
   },
   "source": [
    "# Psueudocode\n",
    "\n",
    "__Pseudocode__ is an informal 'language' that has no syntax rules\n",
    "- not meant to be compiled or executed (run)\n",
    "- used to create model programs (think scaffolding/outlines)\n",
    "    - no need to worry about syntax errors, can focus on the program's design.\n",
    "    - can be translated directly into actual code in any programming langauge.\n",
    "    \n",
    "I encourage you to always start with pseudocode before you build a program. "
   ]
  },
  {
   "cell_type": "markdown",
   "metadata": {
    "slideshow": {
     "slide_type": "slide"
    }
   },
   "source": [
    "# 🍪 Goup Exercise:\n",
    "\n",
    "A cookie recipe calls for the following ingredients:\n",
    "- 1.5 cups of sugar\n",
    "- 1 cup of butter\n",
    "- 2.75 cups of flour\n",
    "\n",
    "The recipe produces 48 cookies.\n",
    "\n",
    "Take a couple of minutes and write out the __psuedocode__ for a program that:\n",
    "- asks the user how many cookies they would like to make\n",
    "- then displays the number of cups of each ingredient needd for the specified number of cookies"
   ]
  },
  {
   "cell_type": "markdown",
   "metadata": {
    "slideshow": {
     "slide_type": "slide"
    }
   },
   "source": [
    "## _cookie_algorithm.py_ "
   ]
  },
  {
   "cell_type": "markdown",
   "metadata": {
    "slideshow": {
     "slide_type": "slide"
    }
   },
   "source": [
    "# 🐍 Python\n",
    "\n",
    "Python is a programming langauge.\n",
    "- It's main purpose is to convert statements (instructions or _source code_) that programmers write into statements that can be executed on a computer. \n",
    "    - __interpreter__: a program that executes computer code.\n",
    "- __syntax__: rules that must be followed so that the interpreter can successfully convert the written instructions to statements the computer can execute."
   ]
  },
  {
   "cell_type": "markdown",
   "metadata": {},
   "source": [
    "# Keywords\n",
    "\n",
    "Programming langauges have __keywords__ or __reserved words__\n",
    "- words that have a specified meaning as part of the syntax of the language.\n",
    "\n",
    "<div>\n",
    "<img src=\"images/day01_keywords.png\"/ width=700>\n",
    "</div>"
   ]
  },
  {
   "cell_type": "code",
   "execution_count": null,
   "metadata": {},
   "outputs": [],
   "source": [
    "#try it out:\n"
   ]
  },
  {
   "cell_type": "markdown",
   "metadata": {
    "slideshow": {
     "slide_type": "slide"
    }
   },
   "source": [
    "# Ya'll Deserve a break!\n",
    "\n",
    "Be back at: "
   ]
  },
  {
   "cell_type": "markdown",
   "metadata": {
    "slideshow": {
     "slide_type": "slide"
    }
   },
   "source": [
    "# Part 3: Let's start coding!\n",
    "\n",
    "- Code and Comments\n",
    "- Variables\n",
    "- printing text and variables\n",
    "- expressions\n",
    "- Lab #1"
   ]
  },
  {
   "cell_type": "markdown",
   "metadata": {
    "slideshow": {
     "slide_type": "slide"
    }
   },
   "source": [
    "# `print` Statement:\n",
    "\n",
    "The `print` statement is a Python line of code that will output a value when the program is run. \n",
    "\n",
    "The value output will be whatever is between the parentheses `()`."
   ]
  },
  {
   "cell_type": "code",
   "execution_count": 2,
   "metadata": {},
   "outputs": [
    {
     "name": "stdout",
     "output_type": "stream",
     "text": [
      "Hello STEM280!\n"
     ]
    }
   ],
   "source": [
    "print(\"Hello STEM280!\")"
   ]
  },
  {
   "cell_type": "markdown",
   "metadata": {
    "slideshow": {
     "slide_type": "slide"
    }
   },
   "source": [
    "## Demo using Thonny"
   ]
  },
  {
   "cell_type": "markdown",
   "metadata": {
    "slideshow": {
     "slide_type": "slide"
    }
   },
   "source": [
    "# Strings:\n",
    "\n",
    "## 🚨🚨 Terminology Alert 🚨🚨\n",
    "In Python, any sequence of characters between double-quotes `\"`, or single quotes `'` is known as a __string__. \n",
    "\n",
    "String Examples:\n",
    "- `\"Hello World\"`\n",
    "- `'123 ABC'`\n",
    "- `\"Greetings, what is your name?\"`"
   ]
  },
  {
   "cell_type": "markdown",
   "metadata": {
    "slideshow": {
     "slide_type": "slide"
    }
   },
   "source": [
    "# Comments:\n",
    "\n",
    "__Comments__ are notes of explanation that document lines of code or sections of a program. \n",
    "\n",
    "Comments are part of the program, butthe Python _interpreter_ ignores them.\n",
    "\n",
    "They are intended for people who may be reading the source code:\n",
    "- like your professor\n",
    "- or your teammates\n",
    "\n",
    "Python comments are denoted with a `#`."
   ]
  },
  {
   "cell_type": "code",
   "execution_count": 4,
   "metadata": {},
   "outputs": [
    {
     "name": "stdout",
     "output_type": "stream",
     "text": [
      "this is a string\n",
      "this, too, is a string\n"
     ]
    }
   ],
   "source": [
    "# this is a comment\n",
    "\n",
    "print('this is a string') #comments can go after lines of code too\n",
    "print(\"this, too, is a string\")"
   ]
  },
  {
   "cell_type": "markdown",
   "metadata": {
    "slideshow": {
     "slide_type": "slide"
    }
   },
   "source": [
    "## Multi-line comments\n",
    "\n",
    "Text that is surrounded by triple quotes (either `'`, or `\"`) are also comments:"
   ]
  },
  {
   "cell_type": "code",
   "execution_count": null,
   "metadata": {},
   "outputs": [],
   "source": [
    "# This is a comment\n",
    "\n",
    "'''This is also a comment'''\n",
    "\n",
    "\"\"\"\n",
    "Yes\n",
    "This\n",
    "Is \n",
    "A\n",
    "Comment\n",
    "\"\"\""
   ]
  },
  {
   "cell_type": "markdown",
   "metadata": {
    "slideshow": {
     "slide_type": "slide"
    }
   },
   "source": [
    "## Pro-Tip:\n",
    "\n",
    "In Thonny, you can select a chunk of code, and comment all of the lines out by control (or command) 3.\n",
    "\n",
    "<div>\n",
    "<img src=\"images/day01_comments.png\"/ width=400>\n",
    "</div>"
   ]
  },
  {
   "cell_type": "markdown",
   "metadata": {
    "slideshow": {
     "slide_type": "slide"
    }
   },
   "source": [
    "# Variables:\n",
    "\n",
    "A __variable__ is a _name_ that represents a value stored in the computer's memory.\n",
    "\n",
    "Programmers use variables to hold values that might change.\n",
    "\n",
    "They're kind of like cells in a spreadsheet.\n",
    "\n",
    "> cell with name B4 has the value of 42, and we can use that value in other computations by reerringto its name.\n",
    "\n",
    "<div>\n",
    "<img src=\"images/day01_cell.png\"/ width=400>\n",
    "</div>\n"
   ]
  },
  {
   "cell_type": "markdown",
   "metadata": {
    "slideshow": {
     "slide_type": "slide"
    }
   },
   "source": [
    "# Example + Survey"
   ]
  },
  {
   "cell_type": "code",
   "execution_count": null,
   "metadata": {},
   "outputs": [],
   "source": [
    "B4 = 42\n",
    "B5 = B4 + 10\n",
    "print(B4)\n",
    "print(B5)"
   ]
  },
  {
   "cell_type": "markdown",
   "metadata": {},
   "source": [
    "What will be the output when this code is run?\n",
    "\n",
    "a. `42 52`\n",
    "\n",
    "b. `B4 B5`\n",
    "\n",
    "c. `B4 B5 + 10`\n",
    "\n",
    "d. None of these\n"
   ]
  },
  {
   "cell_type": "markdown",
   "metadata": {
    "slideshow": {
     "slide_type": "slide"
    }
   },
   "source": [
    "# Outputting a variable's value\n",
    "\n",
    "Don't miss that the print statement will output a _variable's value_ if the variable is between the parentheses. "
   ]
  },
  {
   "cell_type": "code",
   "execution_count": 5,
   "metadata": {},
   "outputs": [
    {
     "name": "stdout",
     "output_type": "stream",
     "text": [
      "34\n"
     ]
    }
   ],
   "source": [
    "value = 34\n",
    "print(value)"
   ]
  },
  {
   "cell_type": "markdown",
   "metadata": {
    "slideshow": {
     "slide_type": "slide"
    }
   },
   "source": [
    "# A tricky question:\n",
    "\n",
    "What will be the output when the following code is executed?"
   ]
  },
  {
   "cell_type": "code",
   "execution_count": null,
   "metadata": {},
   "outputs": [],
   "source": [
    "my_val = 27.5\n",
    "print(\"my_val\")"
   ]
  },
  {
   "cell_type": "markdown",
   "metadata": {
    "slideshow": {
     "slide_type": "slide"
    }
   },
   "source": [
    "# Printing text and variables together\n",
    "We've seen printing out text by itself and variables by themselves... What if I want both in the same print statmeent?\n",
    "\n",
    "You can pass multiple things to `print()` using _commas_ between them."
   ]
  },
  {
   "cell_type": "code",
   "execution_count": 7,
   "metadata": {},
   "outputs": [
    {
     "name": "stdout",
     "output_type": "stream",
     "text": [
      "The number is\n",
      "5\n",
      "The number is 5\n"
     ]
    }
   ],
   "source": [
    "num = 5\n",
    "print(\"The number is\")\n",
    "print(num)\n",
    "\n",
    "#all together now:\n",
    "print(\"The number is\", num)"
   ]
  },
  {
   "cell_type": "markdown",
   "metadata": {
    "slideshow": {
     "slide_type": "slide"
    }
   },
   "source": [
    "## Another example:"
   ]
  },
  {
   "cell_type": "code",
   "execution_count": 8,
   "metadata": {},
   "outputs": [
    {
     "name": "stdout",
     "output_type": "stream",
     "text": [
      "There are 42 sutdents who need to eat lunch.\n"
     ]
    }
   ],
   "source": [
    "students = 42\n",
    "print(\"There are\", students, \"sutdents who need to eat lunch.\")"
   ]
  },
  {
   "cell_type": "markdown",
   "metadata": {
    "slideshow": {
     "slide_type": "slide"
    }
   },
   "source": [
    "# Variable Names Matter\n",
    "\n",
    "You can give variables (almost) any name you want. "
   ]
  },
  {
   "cell_type": "code",
   "execution_count": 9,
   "metadata": {},
   "outputs": [
    {
     "name": "stdout",
     "output_type": "stream",
     "text": [
      "52\n"
     ]
    }
   ],
   "source": [
    "x = 42\n",
    "y = x + 10\n",
    "print(y)"
   ]
  },
  {
   "cell_type": "markdown",
   "metadata": {
    "slideshow": {
     "slide_type": "fragment"
    }
   },
   "source": [
    "But... you should give them descriptive names for the sake of humans reading the code"
   ]
  },
  {
   "cell_type": "code",
   "execution_count": 10,
   "metadata": {},
   "outputs": [
    {
     "name": "stdout",
     "output_type": "stream",
     "text": [
      "52\n"
     ]
    }
   ],
   "source": [
    "num_students = 42\n",
    "num_adults = 10\n",
    "total_field_trip_lunches = num_students + num_adults\n",
    "print(total_field_trip_lunches)"
   ]
  },
  {
   "cell_type": "markdown",
   "metadata": {
    "slideshow": {
     "slide_type": "slide"
    }
   },
   "source": [
    "# Variable Naming Rules\n",
    "Rules for naming variables in Python:\n",
    "- Variable name cannot (shoud not) be a Python keyword\n",
    "- variable name cannot contain spaces\n",
    "- first character must be a letter or an underscore\n",
    "- after the first character, you may use letters, digits, or underscores\n",
    "- variable names are case sensitive."
   ]
  },
  {
   "cell_type": "markdown",
   "metadata": {
    "slideshow": {
     "slide_type": "slide"
    }
   },
   "source": [
    "# Variable Naming Conventions\n",
    "\n",
    "Variable names should reflect the use of the variable.\n",
    "- Don't use `x` when `total_sale` is more descriptive.\n",
    "\n",
    "Variable names shoudl begin with a lowercase letter\n",
    "\n",
    "If a variable has more than one word, connect them with an underscore (this is called \"snake case\")\n",
    "- `total_sale` ✅\n",
    "- `totalSale` ❌ (this is called Camel case and is commonly used in Java)\n",
    "- `totalsale` ❌"
   ]
  },
  {
   "cell_type": "markdown",
   "metadata": {
    "slideshow": {
     "slide_type": "slide"
    }
   },
   "source": [
    "## 💪🏻 Exercise:\n",
    "\n",
    "Which of the following are bad variable names? Why?\n",
    "\n",
    "- `if`\n",
    "- `Taxable income`\n",
    "- `1st_place_award`\n",
    "- `#cash_prize`\n",
    "- `seven`\n",
    "- `X`\n",
    "- `cupsOfSugar`"
   ]
  },
  {
   "cell_type": "markdown",
   "metadata": {},
   "source": [
    "## Bad Variable Name Examles:"
   ]
  },
  {
   "cell_type": "code",
   "execution_count": 11,
   "metadata": {},
   "outputs": [
    {
     "ename": "SyntaxError",
     "evalue": "invalid syntax (<ipython-input-11-7a2c26bbaa19>, line 1)",
     "output_type": "error",
     "traceback": [
      "\u001b[0;36m  File \u001b[0;32m\"<ipython-input-11-7a2c26bbaa19>\"\u001b[0;36m, line \u001b[0;32m1\u001b[0m\n\u001b[0;31m    cash prize = 34\u001b[0m\n\u001b[0m         ^\u001b[0m\n\u001b[0;31mSyntaxError\u001b[0m\u001b[0;31m:\u001b[0m invalid syntax\n"
     ]
    }
   ],
   "source": [
    "cash prize = 34"
   ]
  },
  {
   "cell_type": "code",
   "execution_count": 12,
   "metadata": {},
   "outputs": [
    {
     "ename": "NameError",
     "evalue": "name 'Students' is not defined",
     "output_type": "error",
     "traceback": [
      "\u001b[0;31m---------------------------------------------------------------------------\u001b[0m",
      "\u001b[0;31mNameError\u001b[0m                                 Traceback (most recent call last)",
      "\u001b[0;32m<ipython-input-12-18c3e7a0187f>\u001b[0m in \u001b[0;36m<module>\u001b[0;34m\u001b[0m\n\u001b[1;32m      1\u001b[0m \u001b[0mstudents\u001b[0m \u001b[0;34m=\u001b[0m \u001b[0;36m42\u001b[0m\u001b[0;34m\u001b[0m\u001b[0;34m\u001b[0m\u001b[0m\n\u001b[0;32m----> 2\u001b[0;31m \u001b[0mprint\u001b[0m\u001b[0;34m(\u001b[0m\u001b[0mStudents\u001b[0m\u001b[0;34m)\u001b[0m\u001b[0;34m\u001b[0m\u001b[0;34m\u001b[0m\u001b[0m\n\u001b[0m",
      "\u001b[0;31mNameError\u001b[0m: name 'Students' is not defined"
     ]
    }
   ],
   "source": [
    "students = 42\n",
    "print(Students)"
   ]
  },
  {
   "cell_type": "markdown",
   "metadata": {
    "slideshow": {
     "slide_type": "slide"
    }
   },
   "source": [
    "# Assignment Statements\n",
    "\n",
    "Code with a `=` is called an __assignment statement__.\n",
    "\n",
    "You can use an __assignment statement__ to create a variable and make it reference a piece of data (a value). \n",
    "\n",
    "Examples:"
   ]
  },
  {
   "cell_type": "code",
   "execution_count": 14,
   "metadata": {},
   "outputs": [],
   "source": [
    "age = 25\n",
    "hourly_rate = 15.5\n",
    "greeting = \"hello everyone\""
   ]
  },
  {
   "cell_type": "markdown",
   "metadata": {
    "slideshow": {
     "slide_type": "slide"
    }
   },
   "source": [
    "## Assignment Statements have an order\n",
    "\n",
    "Whatever is on the right side of the `=` will be evaluated and saved to the variable named on the left side. "
   ]
  },
  {
   "cell_type": "code",
   "execution_count": 15,
   "metadata": {},
   "outputs": [],
   "source": [
    "students = 42"
   ]
  },
  {
   "cell_type": "markdown",
   "metadata": {
    "slideshow": {
     "slide_type": "fragment"
    }
   },
   "source": [
    "You can't write it the other way around."
   ]
  },
  {
   "cell_type": "code",
   "execution_count": 16,
   "metadata": {},
   "outputs": [
    {
     "ename": "SyntaxError",
     "evalue": "cannot assign to literal (<ipython-input-16-e94c5307290e>, line 1)",
     "output_type": "error",
     "traceback": [
      "\u001b[0;36m  File \u001b[0;32m\"<ipython-input-16-e94c5307290e>\"\u001b[0;36m, line \u001b[0;32m1\u001b[0m\n\u001b[0;31m    42 = students\u001b[0m\n\u001b[0m    ^\u001b[0m\n\u001b[0;31mSyntaxError\u001b[0m\u001b[0;31m:\u001b[0m cannot assign to literal\n"
     ]
    }
   ],
   "source": [
    "42 = students"
   ]
  },
  {
   "cell_type": "markdown",
   "metadata": {
    "slideshow": {
     "slide_type": "slide"
    }
   },
   "source": [
    "# Expressions\n",
    "\n",
    "An _expression_ is something evaluated by the Python interpreter:"
   ]
  },
  {
   "cell_type": "code",
   "execution_count": 17,
   "metadata": {},
   "outputs": [
    {
     "name": "stdout",
     "output_type": "stream",
     "text": [
      "Total field trip lunches: 52\n"
     ]
    }
   ],
   "source": [
    "num_students = 42\n",
    "num_adults = 10\n",
    "total_field_trip_lunches = num_students + num_adults\n",
    "print(\"Total field trip lunches:\", total_field_trip_lunches)"
   ]
  },
  {
   "cell_type": "markdown",
   "metadata": {
    "slideshow": {
     "slide_type": "fragment"
    }
   },
   "source": [
    "When `num_students + num_adults` is _evaluated,_ it results in an answer, so it is an __expression__."
   ]
  },
  {
   "cell_type": "markdown",
   "metadata": {
    "slideshow": {
     "slide_type": "slide"
    }
   },
   "source": [
    "Expressions include __operators__ like `+`, and __operands__ like `num_students` and `num_adults`."
   ]
  },
  {
   "cell_type": "markdown",
   "metadata": {},
   "source": [
    "<div>\n",
    "<img src=\"images/day01_operator.png\"/ width=200>\n",
    "</div>"
   ]
  },
  {
   "cell_type": "markdown",
   "metadata": {
    "slideshow": {
     "slide_type": "slide"
    }
   },
   "source": [
    "## Arithmetic Operators\n",
    "\n",
    "Python supports all of the arithmetic operators you know and love:\n",
    "- `( )` parentheses\n",
    "- `**` exponents\n",
    "- `*` multiplcation\n",
    "- `/` division\n",
    "- `-` subtraction\n",
    "- `+` addition\n",
    "\n",
    "PEMDAS order of operations"
   ]
  },
  {
   "cell_type": "code",
   "execution_count": 19,
   "metadata": {},
   "outputs": [
    {
     "name": "stdout",
     "output_type": "stream",
     "text": [
      "9.0\n"
     ]
    }
   ],
   "source": [
    "val = 6/2*(1+2)\n",
    "print(val)"
   ]
  },
  {
   "cell_type": "code",
   "execution_count": 20,
   "metadata": {},
   "outputs": [
    {
     "name": "stdout",
     "output_type": "stream",
     "text": [
      "16\n"
     ]
    }
   ],
   "source": [
    "val = 2**4\n",
    "print(val)"
   ]
  },
  {
   "cell_type": "markdown",
   "metadata": {
    "slideshow": {
     "slide_type": "slide"
    }
   },
   "source": [
    "# Exercise: Let's give it a try\n",
    "\n",
    "1. Open Thonny\n",
    "2. Create a new File\n",
    "3. Save it as `Day02Exercise.py`\n",
    "\n",
    "> You may want to consider putting this into its own folder inside your STEM280 folder."
   ]
  },
  {
   "cell_type": "markdown",
   "metadata": {
    "slideshow": {
     "slide_type": "slide"
    }
   },
   "source": [
    "Create a program that uses a variable and outputs a computation of your choice. Some ideas:\n",
    "- amount of sugar, flour, butter for cookies\n",
    "- BMI calculator\n",
    "- English to metric conversion\n",
    "- Yield on investments\n",
    "- Weight on moon formula\n",
    "\n",
    "Feel free to work with others! I'll leave a few breakout rooms open, if you want to work on your own, say here.\n",
    "\n",
    "Goals:\n",
    "- Get comfortable with Thonny\n",
    "- Make mistakes(and fix them)\n",
    "- Experiment\n",
    "- Have fun!"
   ]
  },
  {
   "cell_type": "markdown",
   "metadata": {
    "slideshow": {
     "slide_type": "slide"
    }
   },
   "source": [
    "# CodePost:\n",
    "\n",
    "CodePost is a software system that allows you to hand in code, and it will automatically run your code (against my test cases) to determine if they are correct\n",
    "\n",
    "You can submit as many times as you’d like (before the deadline)\n",
    "\n",
    "Goals: \n",
    "- gives you peace of mind that your code works as expected\n",
    "- gives you immediate feedback if there are mistakes\n",
    "- Saves me time in grading\n",
    "\t\n"
   ]
  },
  {
   "cell_type": "markdown",
   "metadata": {
    "slideshow": {
     "slide_type": "slide"
    }
   },
   "source": [
    "## Sign Up for CodePost:\n",
    "\n",
    "Getting started, go to this link: https://codepost.io/signup/join?code=XUE4F47N9D\n",
    "\n",
    "Please use your Drake email address.\n"
   ]
  },
  {
   "cell_type": "markdown",
   "metadata": {
    "slideshow": {
     "slide_type": "slide"
    }
   },
   "source": [
    "# Lab #1:\n",
    "\n",
    "Due by the end of the day on Tuesday.\n",
    "\n",
    "Four 'exercises' (and 'reflections') that are there to provide a hands-on walkthrough of additional content and experimentation with Python and Thonny.\n",
    "\n",
    "__Challenge Exercise__ -- this is what you 'hand-in' via CodePost.\n",
    "- For Lab #1, this is just a simple program that prints out \"Hello World!\" (not that the capitalization is important)."
   ]
  },
  {
   "cell_type": "markdown",
   "metadata": {
    "slideshow": {
     "slide_type": "slide"
    }
   },
   "source": [
    "## What to work on:\n",
    "\n",
    "Usually, we'll have less work than this, I promise!!\n",
    "\n",
    "1. Read [syllabus]()\n",
    "\n",
    "2. Complete [Introductory Questionnaire](https://forms.gle/JSpLJgsFkyMJ4vz59)\n",
    "\n",
    "3. Create your Introduction Slide in the [STEM 280 Introductions presentation](https://docs.google.com/presentation/d/1eV5BUXx3gKfS0CFJX2h9ntrmhfgRXr8CTPcpaiszvZQ/edit?usp=sharing)\n",
    "\n",
    "4. Lab #1, due by 11:59 on Tuesday 7/11\n",
    "\n",
    "### Resources:\n",
    "Reading #1: [About Python](https://python.swaroopch.com/about_python.html) from \"A Byte of Python\"\n",
    "    - why is it called Python?\n",
    "    - Advantgaes of Python\n",
    "\n",
    "Reading #2: [Variables (Python for Everyone)](https://www.py4e.com/html3/02-variables)"
   ]
  }
 ],
 "metadata": {
  "celltoolbar": "Slideshow",
  "kernelspec": {
   "display_name": "Python 3",
   "language": "python",
   "name": "python3"
  },
  "language_info": {
   "codemirror_mode": {
    "name": "ipython",
    "version": 3
   },
   "file_extension": ".py",
   "mimetype": "text/x-python",
   "name": "python",
   "nbconvert_exporter": "python",
   "pygments_lexer": "ipython3",
   "version": "3.8.3"
  }
 },
 "nbformat": 4,
 "nbformat_minor": 4
}
