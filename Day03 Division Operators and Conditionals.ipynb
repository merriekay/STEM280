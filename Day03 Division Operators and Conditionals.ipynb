{
 "cells": [
  {
   "cell_type": "markdown",
   "metadata": {
    "slideshow": {
     "slide_type": "slide"
    }
   },
   "source": [
    "# STEM280: Day 03\n",
    "## Division Operators and Conditionals\n",
    "\n",
    "####  STEM 280: Introduction to Computer Science I | Summer 2023\n",
    "\n",
    "Thursday, July 13th, 2023\n",
    "\n",
    " 📜 [Syllabus](https://docs.google.com/document/d/1LMCXdvynDdj4QWc0T9DgF4tos4PYLBpwOPHRC8BO-rA/edit?usp=sharing) | 📬 [CodePost Login](https://codepost.io/login) | 📆 [Schedule](https://docs.google.com/spreadsheets/d/e/2PACX-1vQiF1fOj8DS9cAab8N9gVPdHtNYzXs9GCBNMdPc3xWbg_qfXanppZrFVqxVSa_H_zy9WyCmGMQSAZEp/pubhtml)"
   ]
  },
  {
   "cell_type": "markdown",
   "metadata": {
    "slideshow": {
     "slide_type": "slide"
    }
   },
   "source": [
    "> Note to self: Make sure you're recording 🎥"
   ]
  },
  {
   "cell_type": "markdown",
   "metadata": {
    "slideshow": {
     "slide_type": "slide"
    }
   },
   "source": [
    "# Admin Stuff"
   ]
  },
  {
   "cell_type": "markdown",
   "metadata": {
    "slideshow": {
     "slide_type": "fragment"
    }
   },
   "source": [
    "Grading:\n",
    "- CodePost isn't running the tests like normal, I'm troubleshooting still, but will grade Lab #2 (and maybe Lab #3) manually.\n"
   ]
  },
  {
   "cell_type": "markdown",
   "metadata": {
    "slideshow": {
     "slide_type": "fragment"
    }
   },
   "source": [
    "You should be working on:\n",
    "- Lab #3 is released today, due Tuesday July 18th by 11:59pm.\n",
    "- Quiz #1\n",
    "\n",
    "[Reading #4](https://www.brianheinold.net/python/python_book.html#chapter_ifstatements)"
   ]
  },
  {
   "attachments": {},
   "cell_type": "markdown",
   "metadata": {
    "slideshow": {
     "slide_type": "subslide"
    }
   },
   "source": [
    "### Quiz #1\n",
    "\n",
    "Quiz #1 will be released today after class, and is due on __Tuesday 7/18 by 11:59pm.__ \n",
    "\n",
    "Can be found under 'Quizzes' on Bb.\n",
    "\n",
    "- to be completed individually\n",
    "- notes/resources are fair game\n",
    "- if you use any resources outside of the course material, please __cite your sources__ in the space provided at the end of the quiz.\n",
    "- while this quiz is not timed, you must submit it before the deadline and you only have one submission."
   ]
  },
  {
   "cell_type": "markdown",
   "metadata": {
    "slideshow": {
     "slide_type": "slide"
    }
   },
   "source": [
    "# ⏪ Quick Review:"
   ]
  },
  {
   "cell_type": "markdown",
   "metadata": {
    "slideshow": {
     "slide_type": "slide"
    }
   },
   "source": [
    "# User Input\n",
    "\n",
    "Python provides a function called `input` that gets input from the keyboard.\n",
    "\n",
    "When this function is called, the program _stops and waits_ for the user to type someting.\n",
    "\n",
    "When the user presses `Return` or `Enter`, the program resumes and `input` returns what the user typed as a string. "
   ]
  },
  {
   "cell_type": "code",
   "execution_count": 16,
   "metadata": {
    "slideshow": {
     "slide_type": "-"
    }
   },
   "outputs": [
    {
     "name": "stdout",
     "output_type": "stream",
     "text": [
      "Please enter your first name: Meredith\n",
      "Please enter your last name: Moore\n",
      "Ahoy,  Meredith Moore\n"
     ]
    }
   ],
   "source": [
    "first_name = input(\"Please enter your first name: \")\n",
    "last_name = input(\"Please enter your last name: \")\n",
    "print(\"Ahoy, \", first_name, last_name)"
   ]
  },
  {
   "cell_type": "markdown",
   "metadata": {
    "slideshow": {
     "slide_type": "slide"
    }
   },
   "source": [
    "## User Input -- Strings\n",
    "\n",
    "By default, the value of the variable that results from an input statment is a `String`.\n",
    "\n",
    "Strings are very useful, but they are limited in that they only hold a sequence of characters.\n",
    "- As such, you __cannot perform mathematical operations on strings__ or string variables.\n",
    "- if I want the result of the input function to give me a value that I can use in a calculation, I need to convert the string to a numeric format."
   ]
  },
  {
   "cell_type": "markdown",
   "metadata": {
    "slideshow": {
     "slide_type": "slide"
    }
   },
   "source": [
    "# Numerical Formats:\n",
    "\n",
    "Python has two main forms of numbers:\n",
    "- `int` -- short for integer. these are whole nubmers that are not a fraction.\n",
    "    - examples are 0, 4, 24, -12\n",
    "- `float` -- floats are numbers with a decimal point. Float is short for 'floating-point' numbers. \n",
    "    - examples are 1.3, -34.5, 5.0, 0.0\n"
   ]
  },
  {
   "cell_type": "markdown",
   "metadata": {
    "slideshow": {
     "slide_type": "slide"
    }
   },
   "source": [
    "## The `type()` function\n",
    "\n",
    "Not sure what the type of a variable is? Python provides an easy way to check the type of any variable or expression, it's called `type()`"
   ]
  },
  {
   "cell_type": "code",
   "execution_count": 1,
   "metadata": {},
   "outputs": [
    {
     "name": "stdout",
     "output_type": "stream",
     "text": [
      "<class 'int'>\n",
      "<class 'float'>\n",
      "<class 'str'>\n"
     ]
    }
   ],
   "source": [
    "num_dogs = 2\n",
    "miles_walked_per_day = 1.5\n",
    "dogs_name = \"Zoey\"\n",
    "\n",
    "print(type(num_dogs))\n",
    "print(type(miles_walked_per_day))\n",
    "print(type(dogs_name))"
   ]
  },
  {
   "cell_type": "markdown",
   "metadata": {
    "slideshow": {
     "slide_type": "slide"
    }
   },
   "source": [
    "# `int()` and `float()` for calculations\n",
    "\n",
    "If you expect the user to type an `integer` or `float`, you can try to convert the return value to int using the `int()` or `float()` function:"
   ]
  },
  {
   "cell_type": "code",
   "execution_count": 19,
   "metadata": {},
   "outputs": [
    {
     "name": "stdout",
     "output_type": "stream",
     "text": [
      "how many cookies would you like to make? 100\n",
      "you will need 3.125 cups of sugar.\n"
     ]
    }
   ],
   "source": [
    "num_cookies_str = input(\"how many cookies would you like to make? \")\n",
    "num_cookies_int = int(num_cookies_str) # convert num_cookies_str to an integer\n",
    "\n",
    "# num_cookies = int(input(\"how many cookies would you like to make? \"))\n",
    "\n",
    "ratio = num_cookies_int/48\n",
    "sugar = ratio*1.5\n",
    "print(\"you will need\", sugar, \"cups of sugar.\")"
   ]
  },
  {
   "cell_type": "markdown",
   "metadata": {
    "slideshow": {
     "slide_type": "slide"
    }
   },
   "source": [
    "## Other Type Conversion Functions\n",
    "\n",
    "Convert to a floating-point types with `float()`\n",
    "\n",
    "Convert to a string with `str()`"
   ]
  },
  {
   "cell_type": "code",
   "execution_count": 57,
   "metadata": {},
   "outputs": [
    {
     "name": "stdout",
     "output_type": "stream",
     "text": [
      "Enter the temperature in Fahrenheit 72.5\n",
      "That's 22.5 in Celsius\n"
     ]
    }
   ],
   "source": [
    "fahrenheit_temp = float(input(\"Enter the temperature in Fahrenheit \"))\n",
    "celsius_temp = (fahrenheit_temp - 32) * (5/9)\n",
    "print(\"That's\", celsius_temp, \"in Celsius\")"
   ]
  },
  {
   "cell_type": "markdown",
   "metadata": {
    "slideshow": {
     "slide_type": "slide"
    }
   },
   "source": [
    "<div>\n",
    "<img src=\"images/day02_type_conversion.png\"/ width=800>\n",
    "</div>"
   ]
  },
  {
   "cell_type": "markdown",
   "metadata": {
    "id": "uYiNmovOkfUg",
    "slideshow": {
     "slide_type": "slide"
    }
   },
   "source": [
    "## Abstraction: Big idea in computer science"
   ]
  },
  {
   "cell_type": "markdown",
   "metadata": {
    "id": "qYDMNpjHkfUg"
   },
   "source": [
    "<center>\n",
    "<div>\n",
    "<img src=\"images/day02_abstraction.jpg\" width=\"600\"/>\n",
    "</div>\n",
    "</center>\n"
   ]
  },
  {
   "cell_type": "markdown",
   "metadata": {
    "id": "yEOUa5TwkfUh"
   },
   "source": [
    "You don't have to know how to farm to be a chef - they work at different levels of abstraction in food production.\n",
    "\n",
    "In computer science, you build bigger, more complex things by using the building blocks others (or you) have provided.\n",
    "\n",
    "chef image credit: https://www.flickr.com/photos/nestle/3885866873"
   ]
  },
  {
   "cell_type": "markdown",
   "metadata": {
    "slideshow": {
     "slide_type": "slide"
    }
   },
   "source": [
    "# ✨ New Material"
   ]
  },
  {
   "cell_type": "markdown",
   "metadata": {},
   "source": [
    "# Accumulator Operator:\n",
    "\n",
    "A common task in computer science is to update the value of a variable by 1. \n",
    "\n",
    "Python provides an operator to do just that: `+=`\n",
    "\n",
    "This is often referred to as an __accumulator operator__. \n",
    "\n",
    "The following two expressions do the same thing (they assign x the value of x + 1)"
   ]
  },
  {
   "cell_type": "code",
   "execution_count": 2,
   "metadata": {},
   "outputs": [
    {
     "name": "stdout",
     "output_type": "stream",
     "text": [
      "1\n",
      "2\n"
     ]
    }
   ],
   "source": [
    "x = 0 # start with x = 0\n",
    "\n",
    "x = x + 1 \n",
    "print(x)\n",
    "\n",
    "x += 1\n",
    "print(x)"
   ]
  },
  {
   "cell_type": "markdown",
   "metadata": {},
   "source": [
    "## Other Assignment Operators:\n",
    "Python has a built in operator pattern (`+=`, `-=`, `*=`, `/=`) that takes the value of a variable and changes it by adding, subtracting, mulitplying, or dividing the variable by whatever value follows the operator."
   ]
  },
  {
   "cell_type": "code",
   "execution_count": 3,
   "metadata": {},
   "outputs": [
    {
     "name": "stdout",
     "output_type": "stream",
     "text": [
      "5.0\n"
     ]
    }
   ],
   "source": [
    "x = 5\n",
    "x += 5  # 5 + 5 = 10\n",
    "x *= 10 # 10*10 = 100\n",
    "x /= 10 # 100/10 = 10\n",
    "x -= 5  # 10-5 = 5\n",
    "print(x)"
   ]
  },
  {
   "cell_type": "markdown",
   "metadata": {
    "slideshow": {
     "slide_type": "slide"
    }
   },
   "source": [
    "# Let's test our understanding:\n",
    "\n",
    "Re-write the following expressions using the assignment operators we just learned about:\n",
    "1. `x = x + 7`\n",
    "    - \n",
    "    \n",
    "2. `x = x * 5`\n",
    "    - \n",
    "    \n",
    "3. `x = x / 10`\n",
    "    - \n",
    "    \n",
    "4. `x = x - 2`\n",
    "    - \n",
    "    "
   ]
  },
  {
   "cell_type": "markdown",
   "metadata": {},
   "source": [
    "# Special Characters in Strings:\n",
    "\n",
    "There are a few special characters that can be included in strings worth mentioning:\n",
    "- `\\n`: this will add a 'newline' to whatever text you want to print:"
   ]
  },
  {
   "cell_type": "code",
   "execution_count": 5,
   "metadata": {},
   "outputs": [
    {
     "name": "stdout",
     "output_type": "stream",
     "text": [
      " a \n",
      " b \n",
      " c \n",
      "\n"
     ]
    }
   ],
   "source": [
    "print(\" a \\n b \\n c \\n\")"
   ]
  },
  {
   "cell_type": "markdown",
   "metadata": {
    "slideshow": {
     "slide_type": "fragment"
    }
   },
   "source": [
    "- `\\t`: this will add a 'tab' to whatever you're printing out"
   ]
  },
  {
   "cell_type": "code",
   "execution_count": 6,
   "metadata": {},
   "outputs": [
    {
     "name": "stdout",
     "output_type": "stream",
     "text": [
      "a \t b \t c \t\n"
     ]
    }
   ],
   "source": [
    "print(\"a \\t b \\t c \\t\")"
   ]
  },
  {
   "cell_type": "markdown",
   "metadata": {
    "slideshow": {
     "slide_type": "slide"
    }
   },
   "source": [
    "## More special characters:"
   ]
  },
  {
   "cell_type": "markdown",
   "metadata": {},
   "source": [
    "- `\\\"`: this will print a single double-quote (`\"`)"
   ]
  },
  {
   "cell_type": "code",
   "execution_count": 8,
   "metadata": {},
   "outputs": [
    {
     "name": "stdout",
     "output_type": "stream",
     "text": [
      "\"\n"
     ]
    }
   ],
   "source": [
    "print(\"\\\"\")"
   ]
  },
  {
   "cell_type": "markdown",
   "metadata": {
    "slideshow": {
     "slide_type": "fragment"
    }
   },
   "source": [
    "- `\\\\`: this will print a single backslash `\\`"
   ]
  },
  {
   "cell_type": "code",
   "execution_count": 11,
   "metadata": {},
   "outputs": [
    {
     "name": "stdout",
     "output_type": "stream",
     "text": [
      "\\\n"
     ]
    }
   ],
   "source": [
    "print(\"\\\\\")"
   ]
  },
  {
   "cell_type": "markdown",
   "metadata": {
    "slideshow": {
     "slide_type": "slide"
    }
   },
   "source": [
    "### A Tricky question...\n",
    "What do you think will happen here?"
   ]
  },
  {
   "cell_type": "code",
   "execution_count": null,
   "metadata": {},
   "outputs": [],
   "source": [
    "print(\"\\\")\n",
    "print(\"\\\\\")"
   ]
  },
  {
   "cell_type": "markdown",
   "metadata": {
    "id": "gGeu1d4OiC1-",
    "slideshow": {
     "slide_type": "slide"
    }
   },
   "source": [
    "# Division Operators"
   ]
  },
  {
   "cell_type": "markdown",
   "metadata": {
    "id": "yOnfD0H1iC1-",
    "slideshow": {
     "slide_type": "slide"
    }
   },
   "source": [
    "## Floating-point division operator\n",
    "\n",
    "The `/` operator will always give you a _float_ as a result."
   ]
  },
  {
   "cell_type": "code",
   "execution_count": 4,
   "metadata": {
    "id": "8yxO4jIuiC1_"
   },
   "outputs": [
    {
     "data": {
      "text/plain": [
       "16.0"
      ]
     },
     "execution_count": 4,
     "metadata": {},
     "output_type": "execute_result"
    }
   ],
   "source": [
    "320 / 20"
   ]
  },
  {
   "cell_type": "code",
   "execution_count": 5,
   "metadata": {
    "id": "D8lSZNbeiC1_"
   },
   "outputs": [
    {
     "data": {
      "text/plain": [
       "16.791666666666668"
      ]
     },
     "execution_count": 5,
     "metadata": {},
     "output_type": "execute_result"
    }
   ],
   "source": [
    "403.0 / 24.0"
   ]
  },
  {
   "cell_type": "code",
   "execution_count": 6,
   "metadata": {},
   "outputs": [
    {
     "data": {
      "text/plain": [
       "float"
      ]
     },
     "execution_count": 6,
     "metadata": {},
     "output_type": "execute_result"
    }
   ],
   "source": [
    "type(320/20)"
   ]
  },
  {
   "cell_type": "markdown",
   "metadata": {
    "id": "Y7UHGmtBiC1_",
    "slideshow": {
     "slide_type": "slide"
    }
   },
   "source": [
    "## Integer division operators\n",
    "\n",
    "Sometimes, instead of getting the full floating-point expansion, you might want the quotient and remainder separately. \n",
    "\n",
    "<div>\n",
    "<img src=\"images/day02_floor.png\"/ width=200>\n",
    "</div>\n",
    "\n",
    "\n",
    "The `//` is the _floor_ division operator - it gives you the quotient and _ignores_ and fractional/remainder part.\n"
   ]
  },
  {
   "cell_type": "code",
   "execution_count": 8,
   "metadata": {
    "id": "5lybxjNOiC1_"
   },
   "outputs": [
    {
     "data": {
      "text/plain": [
       "16"
      ]
     },
     "execution_count": 8,
     "metadata": {},
     "output_type": "execute_result"
    }
   ],
   "source": [
    "403 // 24"
   ]
  },
  {
   "cell_type": "markdown",
   "metadata": {
    "id": "_J-DBdIPiC1_",
    "slideshow": {
     "slide_type": "slide"
    }
   },
   "source": [
    "## Modulo operator\n",
    "\n",
    "The `%` operator is the __modulo__ operator - another word for remainder - it will ignore the quotient and just give you the remainder.\n",
    "\n",
    "<div>\n",
    "<img src=\"images/day02_mod.png\"/ width=200>\n",
    "</div>"
   ]
  },
  {
   "cell_type": "code",
   "execution_count": 10,
   "metadata": {
    "id": "s101RW8niC2A"
   },
   "outputs": [
    {
     "data": {
      "text/plain": [
       "19"
      ]
     },
     "execution_count": 10,
     "metadata": {},
     "output_type": "execute_result"
    }
   ],
   "source": [
    "403 % 24"
   ]
  },
  {
   "cell_type": "markdown",
   "metadata": {
    "id": "wwE7mQLHiC2A",
    "slideshow": {
     "slide_type": "slide"
    }
   },
   "source": [
    "## Group Exercises\n",
    "\n",
    "Try each of the following in your interactive shell. What pattern do you notice?"
   ]
  },
  {
   "cell_type": "code",
   "execution_count": null,
   "metadata": {
    "id": "VvK2Xw1diC2A"
   },
   "outputs": [],
   "source": [
    "0 // 2\n",
    "1 // 2\n",
    "3 // 2\n",
    "4 // 2\n",
    "5 // 2\n",
    "6 // 2\n",
    "20 // 5\n",
    "21 // 5\n",
    "22 // 5\n",
    "23 // 5\n",
    "24 // 5\n",
    "25 // 5"
   ]
  },
  {
   "cell_type": "markdown",
   "metadata": {
    "id": "egZfyLUKiC2A",
    "slideshow": {
     "slide_type": "slide"
    }
   },
   "source": [
    "Try each of the following in your interactive shell. What pattern do you notice?"
   ]
  },
  {
   "cell_type": "code",
   "execution_count": null,
   "metadata": {
    "id": "8K2HONPsiC2A"
   },
   "outputs": [],
   "source": [
    "0 % 2\n",
    "1 % 2\n",
    "3 % 2\n",
    "4 % 2\n",
    "5 % 2\n",
    "6 % 2\n",
    "20 % 5\n",
    "21 % 5\n",
    "22 % 5\n",
    "23 % 5\n",
    "24 % 5\n",
    "25 % 5"
   ]
  },
  {
   "cell_type": "markdown",
   "metadata": {
    "id": "R2M1xFEbiC2B",
    "slideshow": {
     "slide_type": "slide"
    }
   },
   "source": [
    "Write down in your notes:\n",
    "* What is the difference between `//` and `/`?\n",
    "* What is the difference between `//` and `%`?\n",
    "\n",
    "Try each of the following in your interactive shell."
   ]
  },
  {
   "cell_type": "code",
   "execution_count": null,
   "metadata": {
    "id": "JExLpjaeiC2B",
    "outputId": "f3323123-27f3-4639-9856-769b1b9db39d"
   },
   "outputs": [
    {
     "name": "stdout",
     "output_type": "stream",
     "text": [
      "4.0\n"
     ]
    },
    {
     "ename": "ZeroDivisionError",
     "evalue": "division by zero",
     "output_type": "error",
     "traceback": [
      "\u001b[0;31m---------------------------------------------------------------------------\u001b[0m",
      "\u001b[0;31mZeroDivisionError\u001b[0m                         Traceback (most recent call last)",
      "\u001b[0;32m<ipython-input-14-5c56365b62c3>\u001b[0m in \u001b[0;36m<module>\u001b[0;34m\u001b[0m\n\u001b[1;32m      1\u001b[0m \u001b[0mprint\u001b[0m\u001b[0;34m(\u001b[0m\u001b[0;36m23\u001b[0m \u001b[0;34m//\u001b[0m \u001b[0;36m5.50\u001b[0m\u001b[0;34m)\u001b[0m\u001b[0;34m\u001b[0m\u001b[0;34m\u001b[0m\u001b[0m\n\u001b[0;32m----> 2\u001b[0;31m \u001b[0;36m23\u001b[0m \u001b[0;34m/\u001b[0m \u001b[0;36m0\u001b[0m\u001b[0;34m\u001b[0m\u001b[0;34m\u001b[0m\u001b[0m\n\u001b[0m",
      "\u001b[0;31mZeroDivisionError\u001b[0m: division by zero"
     ]
    }
   ],
   "source": [
    "print(23 // 5.50)\n",
    "23 / 0"
   ]
  },
  {
   "cell_type": "markdown",
   "metadata": {
    "id": "Jh5xCezyiC2B",
    "slideshow": {
     "slide_type": "-"
    }
   },
   "source": [
    "Write down in your notes:\n",
    "* What happens when you use a float with the floor division operator?\n",
    "* What happens in Python if you try to divide by 0?"
   ]
  },
  {
   "cell_type": "markdown",
   "metadata": {
    "slideshow": {
     "slide_type": "slide"
    }
   },
   "source": [
    "# Group Exercise:\n",
    "\n",
    "Take a few minutes and try to answer these questions using Python and the division operators we just talked about:\n",
    "\n",
    "1. There are 100 pieces of candy; there are 8 people at the party; how many pieces of candy does each person get? How much candy is left over?\n",
    "\n",
    "2. I'm programming a super computer with 64 processors to perform 1500 variations of a simulation for a physics experiment, and each of the simulations takes about the same amount of time to run. How many simulations should be given to each processor?\n",
    "\n",
    "3. I have 78 cents, how many quarters should I give in change?"
   ]
  },
  {
   "cell_type": "markdown",
   "metadata": {
    "id": "T9SoBhJ1iC2B",
    "slideshow": {
     "slide_type": "slide"
    }
   },
   "source": [
    "## When is this useful?\n",
    "\n",
    "If you want to check if a number is dividisl by 4 - say you're checking to see if the year is a presidential election year, Olympic year, leap year, etc., you can see if the result is zero:"
   ]
  },
  {
   "cell_type": "code",
   "execution_count": 11,
   "metadata": {
    "id": "7B92DE52iC2B",
    "outputId": "e9aacaef-9f04-4110-9773-941421c16114"
   },
   "outputs": [
    {
     "data": {
      "text/plain": [
       "0"
      ]
     },
     "execution_count": 11,
     "metadata": {},
     "output_type": "execute_result"
    }
   ],
   "source": [
    "2024 % 4"
   ]
  },
  {
   "cell_type": "markdown",
   "metadata": {
    "slideshow": {
     "slide_type": "slide"
    }
   },
   "source": [
    "Modulo (`%`) is also good if you need to check if a number is even or odd:"
   ]
  },
  {
   "cell_type": "code",
   "execution_count": 12,
   "metadata": {},
   "outputs": [
    {
     "data": {
      "text/plain": [
       "1"
      ]
     },
     "execution_count": 12,
     "metadata": {},
     "output_type": "execute_result"
    }
   ],
   "source": [
    "253 % 2 # odd numbers have a remainder of 1 when divided by 2"
   ]
  },
  {
   "cell_type": "code",
   "execution_count": 13,
   "metadata": {},
   "outputs": [
    {
     "data": {
      "text/plain": [
       "0"
      ]
     },
     "execution_count": 13,
     "metadata": {},
     "output_type": "execute_result"
    }
   ],
   "source": [
    "254 % 2 # even numbers have a remainder of 0 when divided by 2"
   ]
  },
  {
   "cell_type": "markdown",
   "metadata": {
    "slideshow": {
     "slide_type": "slide"
    }
   },
   "source": [
    "# Try it! 🍕\n",
    "\n",
    "Write a program that will:\n",
    "- prompt the user for the number of slices of pizza;\n",
    "- prompt the user for the number of people\n",
    "- print out how many slices each person can eat (if everyone gets the same number of slices)\n",
    "- print out how many slices will be left over"
   ]
  },
  {
   "cell_type": "markdown",
   "metadata": {
    "slideshow": {
     "slide_type": "slide"
    }
   },
   "source": [
    "# Take a Break:\n",
    "\n",
    "Be back by: "
   ]
  },
  {
   "cell_type": "markdown",
   "metadata": {
    "slideshow": {
     "slide_type": "slide"
    }
   },
   "source": [
    "## Conditional execution of code\n",
    "\n",
    "Sometimes, you want your program to do something different based on different conditions. These are called __conditional statements__.\n",
    "\n",
    "For example, consider the pay calculator. If this employer offers 50% extra pay for overtime (i.e., worked > 40 hours), how could we account for that?"
   ]
  },
  {
   "cell_type": "code",
   "execution_count": 6,
   "metadata": {},
   "outputs": [
    {
     "name": "stdout",
     "output_type": "stream",
     "text": [
      "Enter your hourly wage: 9.25\n",
      "Enter your number of hours worked: 41\n",
      "Total pay:  383.875\n"
     ]
    }
   ],
   "source": [
    "wage = float(input(\"Enter your hourly wage: \"))\n",
    "hours = float(input(\"Enter your number of hours worked: \"))\n",
    "\n",
    "#option 1: only correct if they didn't work overtime\n",
    "#pay = wage*hours\n",
    "\n",
    "#option 2: only correct if they worked overtime\n",
    "overtime_hours = hours-40\n",
    "pay = (wage*40) + (wage*1.5*overtime_hours)\n",
    "\n",
    "print(\"Total pay: \",pay)"
   ]
  },
  {
   "cell_type": "markdown",
   "metadata": {
    "slideshow": {
     "slide_type": "slide"
    }
   },
   "source": [
    "## Syntax for `if` statements\n",
    "\n",
    "* keyword `if`\n",
    "* a condition\n",
    "* colon `:`\n",
    "* indented _block_ of code"
   ]
  },
  {
   "cell_type": "code",
   "execution_count": 12,
   "metadata": {
    "scrolled": true,
    "slideshow": {
     "slide_type": "subslide"
    }
   },
   "outputs": [
    {
     "name": "stdout",
     "output_type": "stream",
     "text": [
      "What is your age? 100\n",
      "Applying 10% senior discount\n",
      "Your total bill is 32.067\n"
     ]
    }
   ],
   "source": [
    "total_bill = 35.63\n",
    "age = float(input(\"What is your age? \"))\n",
    "\n",
    "if age > 65:\n",
    "    # notice the 'if' keyword and the colon ':'\n",
    "    print(\"Applying 10% senior discount\")\n",
    "    total_bill = total_bill * 0.9 \n",
    "    #any indented code is only runs\n",
    "    #when the condition is True\n",
    "    \n",
    "#un-indented code runs no matter what\n",
    "print(\"Your total bill is\", total_bill)"
   ]
  },
  {
   "cell_type": "markdown",
   "metadata": {
    "slideshow": {
     "slide_type": "slide"
    }
   },
   "source": [
    "But, sometimes you need more than just an `if` statement:\n",
    "\n",
    "## Syntax for `if-else` statements\n",
    "\n",
    "* keyword `if`\n",
    "* a condition\n",
    "* colon `:`\n",
    "* indented block of code\n",
    "* keyword `else`\n",
    "* colon `:`\n",
    "* indented block of code"
   ]
  },
  {
   "cell_type": "code",
   "execution_count": 16,
   "metadata": {
    "slideshow": {
     "slide_type": "subslide"
    }
   },
   "outputs": [
    {
     "name": "stdout",
     "output_type": "stream",
     "text": [
      "Enter your height in inches: 30\n",
      "You are not tall enough for this ride.\n",
      "Have fun!\n"
     ]
    }
   ],
   "source": [
    "#if-else example\n",
    "height = int(input(\"Enter your height in inches: \"))\n",
    "\n",
    "if height < 60: # notice the 'if' keyword and the colon ':'\n",
    "    print(\"You are not tall enough for this ride.\")\n",
    "    #indented block of code that runs if the condition is true\n",
    "    \n",
    "else: # notice the 'else' keyword and the colon ':'\n",
    "    print(\"You are tall enough for this ride.\")\n",
    "    #indented block of code that runs if the condition is not true\n",
    "\n",
    "print(\"Have fun!\")\n",
    "#notice that the 'if' and 'else' clauses match indentation"
   ]
  },
  {
   "cell_type": "markdown",
   "metadata": {
    "slideshow": {
     "slide_type": "slide"
    }
   },
   "source": [
    "## Group Exercise\n",
    "\n",
    "How could we make this work using an `if-else`?"
   ]
  },
  {
   "cell_type": "code",
   "execution_count": 12,
   "metadata": {},
   "outputs": [
    {
     "name": "stdout",
     "output_type": "stream",
     "text": [
      "Enter your hourly wage: 9.25\n",
      "Enter your number of hours worked: 41\n",
      "Total pay:  379.25\n"
     ]
    }
   ],
   "source": [
    "wage = float(input(\"Enter your hourly wage: \"))\n",
    "hours = float(input(\"Enter your number of hours worked: \"))\n",
    "\n",
    "#option 1: only correct if they didn't work overtime\n",
    "pay = wage * hours\n",
    "\n",
    "# option 2: only correct if they wokred overtime \n",
    "# overtime_hours = hours - 40\n",
    "# pay = (wage *40) + (wage * 1.5*overtime_hours)\n",
    "\n",
    "print(\"Total pay: \", pay)"
   ]
  },
  {
   "cell_type": "markdown",
   "metadata": {
    "slideshow": {
     "slide_type": "slide"
    }
   },
   "source": [
    "## Boolean type\n",
    "\n",
    "The __Boolean__ type has two possible values: `True` and `False`\n",
    "\n",
    "`type()` of a Boolean variable will read as `bool`\n"
   ]
  },
  {
   "cell_type": "code",
   "execution_count": 13,
   "metadata": {},
   "outputs": [
    {
     "name": "stdout",
     "output_type": "stream",
     "text": [
      "The condition is True!\n"
     ]
    }
   ],
   "source": [
    "bool_variable = (48 < 60)\n",
    "\n",
    "if bool_variable:\n",
    "    print(\"The condition is True!\")"
   ]
  },
  {
   "cell_type": "markdown",
   "metadata": {
    "slideshow": {
     "slide_type": "slide"
    }
   },
   "source": [
    "## Boolean Expressions\n",
    "\n",
    "A __boolean expression__ is any expression that can be evaluated to a Boolean value (`True` or `False`)\n",
    "\n",
    "Boolean expressions use __boolean operators__ (see on the next slide) "
   ]
  },
  {
   "cell_type": "markdown",
   "metadata": {},
   "source": [
    "The _condition_ for an `if`/`if-else` statement can be anything that results in a Boolean. An expression, like `height < 60` that results in a Boolean is called a __Boolean expression__."
   ]
  },
  {
   "cell_type": "markdown",
   "metadata": {
    "slideshow": {
     "slide_type": "slide"
    }
   },
   "source": [
    "## Some Boolean operators\n",
    "\n",
    "* `<` less than\n",
    "* `>` greater than\n",
    "* `<=` less than or equal\n",
    "    - note there is no $\\leq$ button on your keyboard\n",
    "* `>=` greater than or equal\n",
    "* `==` equal (comparison)\n",
    "    - note that `=` is used for assignment, they're different operators, don't confuse them!\n",
    "* `!=` not equal"
   ]
  },
  {
   "cell_type": "markdown",
   "metadata": {
    "slideshow": {
     "slide_type": "slide"
    }
   },
   "source": [
    "You can use these *boolean operators* to __evaluate complex expressions__:"
   ]
  },
  {
   "cell_type": "code",
   "execution_count": 4,
   "metadata": {
    "scrolled": true,
    "slideshow": {
     "slide_type": "-"
    }
   },
   "outputs": [
    {
     "name": "stdout",
     "output_type": "stream",
     "text": [
      "True\n",
      "False\n",
      "False\n"
     ]
    }
   ],
   "source": [
    "x = 2 < 15\n",
    "y = 2>= 15\n",
    "print(x)\n",
    "print(y)\n",
    "print(x and y)"
   ]
  },
  {
   "cell_type": "markdown",
   "metadata": {
    "slideshow": {
     "slide_type": "subslide"
    }
   },
   "source": [
    "### Examples of Boolean Operators in Practice:"
   ]
  },
  {
   "cell_type": "code",
   "execution_count": 40,
   "metadata": {
    "slideshow": {
     "slide_type": "-"
    }
   },
   "outputs": [
    {
     "name": "stdout",
     "output_type": "stream",
     "text": [
      "shhhhh... the secret number is: 6\n",
      "Guess a number: 6\n",
      "That was right, good guess!\n"
     ]
    }
   ],
   "source": [
    "import random\n",
    "secret_number = random.randint(1,10)\n",
    "print(\"shhhhh... the secret number is:\", secret_number)\n",
    "guess = int(input(\"Guess a number: \"))\n",
    "\n",
    "if guess == secret_number:\n",
    "    print(\"That was right, good guess!\")\n",
    "else:\n",
    "    print(\"Wrong!\")"
   ]
  },
  {
   "cell_type": "markdown",
   "metadata": {
    "slideshow": {
     "slide_type": "fragment"
    }
   },
   "source": [
    "**Challenge**: What would we need to change to make `secret_number` a random number?"
   ]
  },
  {
   "cell_type": "code",
   "execution_count": 44,
   "metadata": {
    "scrolled": true,
    "slideshow": {
     "slide_type": "subslide"
    }
   },
   "outputs": [
    {
     "name": "stdout",
     "output_type": "stream",
     "text": [
      "Enter number of people at the table: 8\n",
      "Was this a business lunch for a non-profit organization? bananaas\n",
      "Calculating 6% sales tax.\n",
      "Automatically adding 15% gratuity.\n",
      "Your total is 148.10850000000002\n"
     ]
    }
   ],
   "source": [
    "total_bill = 121.50\n",
    "party_size = int(input(\"Enter number of people at the table: \"))\n",
    "non_profit = input(\"Was this a business lunch for a non-profit organization? \")\n",
    " \n",
    "if non_profit != \"yes\":\n",
    "    print(\"Calculating 6% sales tax.\")\n",
    "    total_bill = total_bill * 1.06\n",
    "    \n",
    "if party_size >= 8:\n",
    "    print(\"Automatically adding 15% gratuity.\")\n",
    "    total_bill = total_bill * 1.15\n",
    "    \n",
    "print(\"Your total is\",total_bill)"
   ]
  },
  {
   "cell_type": "markdown",
   "metadata": {
    "slideshow": {
     "slide_type": "slide"
    }
   },
   "source": [
    "## Nested If Statements\n",
    "\n",
    "You can include conditional statements _inside_ of other conditional statements\n",
    "\n",
    "Such statements are called __nested__ _if statements_."
   ]
  },
  {
   "cell_type": "markdown",
   "metadata": {
    "slideshow": {
     "slide_type": "slide"
    }
   },
   "source": [
    "## Nested If Statement Example\n",
    "\n",
    "Describe what will happen... take it one line at a time."
   ]
  },
  {
   "cell_type": "code",
   "execution_count": null,
   "metadata": {},
   "outputs": [],
   "source": [
    "username = input(\"username: \")\n",
    "if username == 'user123':\n",
    "    password = input(\"password: \")\n",
    "    if password == 'Summer23!':\n",
    "        print(\"Access granted.\")\n",
    "    else:\n",
    "        print(\"wrong password\")\n",
    "else:\n",
    "    print(\"incorrect username\")"
   ]
  },
  {
   "cell_type": "markdown",
   "metadata": {
    "slideshow": {
     "slide_type": "slide"
    }
   },
   "source": [
    "## Exercise #2:\n",
    "\n",
    "Write the code that will:\n",
    "- Prompt the user for their age\n",
    "- If they are >= 16\n",
    "    - Prompt the user if they've passed the driving exam\n",
    "    - If 'yes', the print \"Congratulations!\"\n",
    "    - otherwise, print \"Sorry, you can't drive\"\n",
    "- Otherwise print \"you aren't old enough to drive\""
   ]
  },
  {
   "cell_type": "markdown",
   "metadata": {
    "slideshow": {
     "slide_type": "slide"
    }
   },
   "source": [
    "## Exercise #3: \n",
    "\n",
    "Prompt the user for an integer\n",
    "- if the number is greater than 100, print \"DO NOT GO OUTSIDE -- TOO HOT\"\n",
    "- If the number is less than 0, print \"DO NOT GO OUTSIDE -- TOO COLD\"\n",
    "- If the number is between 0 and 100, print \"OK\""
   ]
  },
  {
   "cell_type": "markdown",
   "metadata": {
    "slideshow": {
     "slide_type": "slide"
    }
   },
   "source": [
    "## Example:\n",
    "\n",
    "Imagine a situation where, given an input, the computer had to return a grade:\n",
    "- Prompt user for their score (between 0 and 100)\n",
    "- If score >= 90, print \"you earned an A\"\n",
    "- If score >= 80, print \"you earned a B\"\n",
    "- If score >= 70, print \"you earned a C\"\n",
    "- If score >= 60, print \"you earned a D\"\n",
    "- If score < 60, print \"you earned an F\"\n",
    "\n",
    "Consider this solution:"
   ]
  },
  {
   "cell_type": "code",
   "execution_count": null,
   "metadata": {},
   "outputs": [],
   "source": [
    "score = int(input('Enter your score:'))\n",
    "\n",
    "if score >=90: \n",
    "    print(\"your earned an A\")\n",
    "if score >=80: \n",
    "    print(\"your earned a B\")\n",
    "if score >=70: \n",
    "    print(\"your earned a C\")\n",
    "if score >=60: \n",
    "    print(\"your earned a D\")\n",
    "if score <60: \n",
    "    print(\"your earned an F\")"
   ]
  },
  {
   "cell_type": "markdown",
   "metadata": {
    "slideshow": {
     "slide_type": "slide"
    }
   },
   "source": [
    "Let's use nested if statments... is this better?"
   ]
  },
  {
   "cell_type": "code",
   "execution_count": null,
   "metadata": {},
   "outputs": [],
   "source": [
    "score = int(input('Enter your score:'))\n",
    "\n",
    "if score >=90: \n",
    "    print(\"your earned an A\")\n",
    "else:\n",
    "    if score >=80: \n",
    "        print(\"your earned a B\")\n",
    "    else:\n",
    "        if score >=70: \n",
    "            print(\"your earned a C\")\n",
    "        else:\n",
    "            if score >=60: \n",
    "                print(\"your earned a D\")\n",
    "            else:\n",
    "                if score <60: \n",
    "                    print(\"your earned an F\")"
   ]
  },
  {
   "cell_type": "markdown",
   "metadata": {
    "slideshow": {
     "slide_type": "slide"
    }
   },
   "source": [
    "# The `if`-`elif`-`else` statement\n",
    "\n",
    "`if`-`elif`-`else`: special version of a decision structure--makes logic of nested decision structures simpler to write.\n",
    "\n",
    "You can include multiple `elif` statements:\n",
    "\n",
    "Syntax:\n",
    "\n",
    "__`if`__ `condition1`:\n",
    "    - `statements`\n",
    "__`elif`__ `condition2`:\n",
    "    - `statements`\n",
    "__`else`__:\n",
    "    - `statements`"
   ]
  },
  {
   "cell_type": "code",
   "execution_count": 14,
   "metadata": {
    "slideshow": {
     "slide_type": "slide"
    }
   },
   "outputs": [
    {
     "name": "stdout",
     "output_type": "stream",
     "text": [
      "Enter your score:67\n",
      "your earned a D\n"
     ]
    }
   ],
   "source": [
    "score = int(input('Enter your score:'))\n",
    "\n",
    "if score >=90: \n",
    "    print(\"your earned an A\")\n",
    "elif score >=80: \n",
    "    print(\"your earned a B\")\n",
    "elif score >=70: \n",
    "    print(\"your earned a C\")\n",
    "elif score >=60: \n",
    "    print(\"your earned a D\")\n",
    "else: \n",
    "    print(\"your earned an F\")"
   ]
  },
  {
   "cell_type": "markdown",
   "metadata": {
    "slideshow": {
     "slide_type": "slide"
    }
   },
   "source": [
    "## Exercise #4\n",
    "\n",
    "Prompt the user for the number of hours of sleep they got last night.\n",
    "\n",
    "Use ONLY if-elif-else statments to print out an appropriate response based on the inputted number and following chart:\n",
    "\n",
    "| Hours           | Response                                |\n",
    "|-----------------|-----------------------------------------|\n",
    "| Above 8         | \"You are well-rested!\"                  |\n",
    "| Between 4 and 8 | \"The coffee shop is around the corner.\" |\n",
    "| Between 0 and 4 | \"Are you sure you're awake?\"            |\n",
    "| Less than 0     | \"Input error\"                           |"
   ]
  },
  {
   "cell_type": "markdown",
   "metadata": {
    "slideshow": {
     "slide_type": "slide"
    }
   },
   "source": [
    "# Lab #3"
   ]
  },
  {
   "cell_type": "markdown",
   "metadata": {
    "slideshow": {
     "slide_type": "slide"
    }
   },
   "source": [
    "# You should be working on:\n",
    "\n"
   ]
  },
  {
   "cell_type": "markdown",
   "metadata": {},
   "source": [
    "You should be working on:\n",
    "- Lab #3 released today, due Tuesday, by 11:59pm\n",
    "- Quiz #1 will be released after class, due Tuesday, by 11:59pm\n",
    "\n",
    "Readings:\n",
    "- [Reading #3](https://greenteapress.com/thinkpython2/html/thinkpython2002.html#sec10) Values and Types\n",
    "- [Reading #4](https://www.brianheinold.net/python/python_book.html#chapter_ifstatements) If Statements"
   ]
  },
  {
   "cell_type": "code",
   "execution_count": null,
   "metadata": {},
   "outputs": [],
   "source": []
  }
 ],
 "metadata": {
  "celltoolbar": "Slideshow",
  "kernelspec": {
   "display_name": "Python 3",
   "language": "python",
   "name": "python3"
  },
  "language_info": {
   "codemirror_mode": {
    "name": "ipython",
    "version": 3
   },
   "file_extension": ".py",
   "mimetype": "text/x-python",
   "name": "python",
   "nbconvert_exporter": "python",
   "pygments_lexer": "ipython3",
   "version": "3.8.3"
  }
 },
 "nbformat": 4,
 "nbformat_minor": 4
}
