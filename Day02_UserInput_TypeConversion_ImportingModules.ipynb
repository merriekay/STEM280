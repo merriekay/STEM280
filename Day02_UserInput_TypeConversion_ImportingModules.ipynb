{
 "cells": [
  {
   "cell_type": "markdown",
   "metadata": {
    "slideshow": {
     "slide_type": "slide"
    }
   },
   "source": [
    "# STEM280: Day 02\n",
    "## User Input, Types, Division Operations, and If Statements\n",
    "\n",
    "####  CS65: Introduction to Computer Science I | Fall 2023\n",
    "\n",
    "Tuesday, July 11th, 2023\n",
    "\n",
    " 📜 [Syllabus](https://docs.google.com/document/d/1LMCXdvynDdj4QWc0T9DgF4tos4PYLBpwOPHRC8BO-rA/edit?usp=sharing) | 📬 [CodePost Login](https://codepost.io/login) | 📆 [Schedule](https://docs.google.com/spreadsheets/d/e/2PACX-1vQiF1fOj8DS9cAab8N9gVPdHtNYzXs9GCBNMdPc3xWbg_qfXanppZrFVqxVSa_H_zy9WyCmGMQSAZEp/pubhtml)"
   ]
  },
  {
   "cell_type": "markdown",
   "metadata": {
    "slideshow": {
     "slide_type": "slide"
    }
   },
   "source": [
    "> Note to self: Make sure you're recording 🎥"
   ]
  },
  {
   "cell_type": "markdown",
   "metadata": {
    "slideshow": {
     "slide_type": "slide"
    }
   },
   "source": [
    "# Admin Stuff"
   ]
  },
  {
   "cell_type": "markdown",
   "metadata": {
    "slideshow": {
     "slide_type": "fragment"
    }
   },
   "source": [
    "You should be working on:\n",
    "- Lab #1 by 11:59 pm tonight \n",
    "    - \"Hello World\", submit via CodePost\n",
    "- Lab #2 released today, due Thursday 7/13 by 11:59pm\n",
    "- Quiz #1 will be released Thursday 7/13, due Tuesday, by 11:59pm\n",
    "\n",
    "Readings:\n",
    "- [Reading #3](https://greenteapress.com/thinkpython2/html/thinkpython2002.html#sec10) Values and Types\n",
    "- [Reading #4](https://www.brianheinold.net/python/python_book.html#chapter_ifstatements) If Statements"
   ]
  },
  {
   "cell_type": "markdown",
   "metadata": {
    "slideshow": {
     "slide_type": "slide"
    }
   },
   "source": [
    "# Lab #1:\n",
    "\n",
    "Due by the end of the day on Tuesday.\n",
    "\n",
    "Four 'exercises' (and 'reflections') that are there to provide a hands-on walkthrough of additional content and experimentation with Python and Thonny.\n",
    "\n",
    "__Challenge Exercise__ -- this is what you 'hand-in' via CodePost.\n",
    "- For Lab #1, this is just a simple program that prints out \"Hello World!\" (note that the capitalization is important)."
   ]
  },
  {
   "cell_type": "markdown",
   "metadata": {
    "slideshow": {
     "slide_type": "slide"
    }
   },
   "source": [
    "# Introductions:\n",
    "\n",
    "Let's introduce ourselves! [slides](https://docs.google.com/presentation/d/1eV5BUXx3gKfS0CFJX2h9ntrmhfgRXr8CTPcpaiszvZQ/edit#slide=id.g22eeb46fb97_0_79)"
   ]
  },
  {
   "cell_type": "markdown",
   "metadata": {
    "slideshow": {
     "slide_type": "slide"
    }
   },
   "source": [
    "# ⏪ Quick Review:"
   ]
  },
  {
   "cell_type": "markdown",
   "metadata": {
    "slideshow": {
     "slide_type": "slide"
    }
   },
   "source": [
    "# `print` Statement:\n",
    "\n",
    "The `print` statement is a Python line of code that will output a value when the program is run. \n",
    "\n",
    "The value output will be whatever is between the parentheses `()`."
   ]
  },
  {
   "cell_type": "code",
   "execution_count": 2,
   "metadata": {},
   "outputs": [
    {
     "name": "stdout",
     "output_type": "stream",
     "text": [
      "Hello STEM280!\n"
     ]
    }
   ],
   "source": [
    "print(\"Hello STEM280!\")"
   ]
  },
  {
   "cell_type": "markdown",
   "metadata": {
    "slideshow": {
     "slide_type": "slide"
    }
   },
   "source": [
    "# Strings:\n",
    "\n",
    "## 🚨🚨 Terminology Alert 🚨🚨\n",
    "In Python, any sequence of characters between double-quotes `\"`, or single quotes `'` is known as a __string__. \n",
    "\n",
    "String Examples:\n",
    "- `\"Hello World\"`\n",
    "- `'123 ABC'`\n",
    "- `\"Greetings, what is your name?\"`"
   ]
  },
  {
   "cell_type": "markdown",
   "metadata": {
    "slideshow": {
     "slide_type": "slide"
    }
   },
   "source": [
    "# Comments:\n",
    "\n",
    "__Comments__ are notes of explanation that document lines of code or sections of a program. \n",
    "\n",
    "Comments are part of the program, but the Python _interpreter_ ignores them.\n",
    "\n",
    "They are intended for people who may be reading the source code:\n",
    "- like your professor\n",
    "- or your teammates\n",
    "\n",
    "Python comments are denoted with a `#`."
   ]
  },
  {
   "cell_type": "code",
   "execution_count": 4,
   "metadata": {},
   "outputs": [
    {
     "name": "stdout",
     "output_type": "stream",
     "text": [
      "this is a string\n",
      "this, too, is a string\n"
     ]
    }
   ],
   "source": [
    "# this is a comment\n",
    "\n",
    "print('this is a string') #comments can go after lines of code too\n",
    "print(\"this, too, is a string\")"
   ]
  },
  {
   "cell_type": "markdown",
   "metadata": {
    "slideshow": {
     "slide_type": "slide"
    }
   },
   "source": [
    "## Multi-line comments\n",
    "\n",
    "Text that is surrounded by triple quotes (either `'`, or `\"`) are also comments:"
   ]
  },
  {
   "cell_type": "code",
   "execution_count": null,
   "metadata": {},
   "outputs": [],
   "source": [
    "# This is a comment\n",
    "\n",
    "'''This is also a comment\n",
    "This comment is on multiple lines\n",
    "'''\n",
    "\n",
    "\"\"\"\n",
    "Yes\n",
    "This\n",
    "is \n",
    "A\n",
    "Comment\n",
    "\"\"\""
   ]
  },
  {
   "cell_type": "markdown",
   "metadata": {
    "slideshow": {
     "slide_type": "slide"
    }
   },
   "source": [
    "# Variables:\n",
    "\n",
    "A __variable__ is a _name_ that represents a value stored in the computer's memory.\n",
    "\n",
    "Programmers use variables to hold values that might change.\n",
    "\n",
    "They're kind of like cells in a spreadsheet.\n",
    "\n",
    "> cell with name B4 has the value of 42, and we can use that value in other computations by reerringto its name.\n",
    "\n",
    "<div>\n",
    "<img src=\"images/day01_cell.png\"/ width=400>\n",
    "</div>\n"
   ]
  },
  {
   "cell_type": "markdown",
   "metadata": {
    "slideshow": {
     "slide_type": "slide"
    }
   },
   "source": [
    "# Assignment Statements\n",
    "\n",
    "Code with a `=` is called an __assignment statement__.\n",
    "\n",
    "You can use an __assignment statement__ to create a variable and make it reference a piece of data (a value). \n",
    "\n",
    "Examples:"
   ]
  },
  {
   "cell_type": "code",
   "execution_count": 25,
   "metadata": {},
   "outputs": [],
   "source": [
    "age = 25\n",
    "hourly_rate = 15.5\n",
    "greeting = \"hello everyone\""
   ]
  },
  {
   "cell_type": "markdown",
   "metadata": {
    "slideshow": {
     "slide_type": "slide"
    }
   },
   "source": [
    "# Expressions\n",
    "\n",
    "An _expression_ is something evaluated by the Python interpreter:"
   ]
  },
  {
   "cell_type": "code",
   "execution_count": 17,
   "metadata": {},
   "outputs": [
    {
     "name": "stdout",
     "output_type": "stream",
     "text": [
      "Total field trip lunches: 52\n"
     ]
    }
   ],
   "source": [
    "num_students = 42\n",
    "num_adults = 10\n",
    "total_field_trip_lunches = num_students + num_adults\n",
    "print(\"Total field trip lunches:\", total_field_trip_lunches)"
   ]
  },
  {
   "cell_type": "markdown",
   "metadata": {
    "slideshow": {
     "slide_type": "fragment"
    }
   },
   "source": [
    "When `num_students + num_adults` is _evaluated,_ it results in an answer, so it is an __expression__."
   ]
  },
  {
   "cell_type": "markdown",
   "metadata": {
    "slideshow": {
     "slide_type": "slide"
    }
   },
   "source": [
    "## Arithmetic Operators\n",
    "\n",
    "Python supports all of the arithmetic operators you know and love:\n",
    "- `( )` parentheses\n",
    "- `**` exponents\n",
    "- `*` multiplcation\n",
    "- `/` division\n",
    "- `-` subtraction\n",
    "- `+` addition\n",
    "\n",
    "PEMDAS order of operations"
   ]
  },
  {
   "cell_type": "code",
   "execution_count": 19,
   "metadata": {},
   "outputs": [
    {
     "name": "stdout",
     "output_type": "stream",
     "text": [
      "9.0\n"
     ]
    }
   ],
   "source": [
    "val = 6/2*(1+2)\n",
    "print(val)"
   ]
  },
  {
   "cell_type": "code",
   "execution_count": 31,
   "metadata": {},
   "outputs": [
    {
     "name": "stdout",
     "output_type": "stream",
     "text": [
      "2\n"
     ]
    }
   ],
   "source": [
    "val = 2**6\n",
    "print(val)"
   ]
  },
  {
   "cell_type": "markdown",
   "metadata": {
    "slideshow": {
     "slide_type": "slide"
    }
   },
   "source": [
    "# ✨ New Material"
   ]
  },
  {
   "cell_type": "markdown",
   "metadata": {
    "slideshow": {
     "slide_type": "slide"
    }
   },
   "source": [
    "# User Input\n",
    "\n",
    "Python provides a function called `input` that gets input from the keyboard.\n",
    "\n",
    "When this function is called, the program _stops and waits_ for the user to type someting.\n",
    "\n",
    "When the user presses `Return` or `Enter`, the program resumes and `input` returns what the user typed as a string. "
   ]
  },
  {
   "cell_type": "code",
   "execution_count": 23,
   "metadata": {
    "slideshow": {
     "slide_type": "-"
    }
   },
   "outputs": [
    {
     "name": "stdout",
     "output_type": "stream",
     "text": [
      "Please enter your first name: Meredith\n",
      "Please enter your last name: Moore\n",
      "Ahoy,  Meredith Moore\n"
     ]
    }
   ],
   "source": [
    "first_name = input(\"Please enter your first name: \")\n",
    "last_name = input(\"Please enter your last name: \")\n",
    "print(\"Ahoy, \", first_name, last_name)"
   ]
  },
  {
   "cell_type": "markdown",
   "metadata": {
    "slideshow": {
     "slide_type": "slide"
    }
   },
   "source": [
    "## User Input -- Strings\n",
    "\n",
    "By default, the value of the variable that results from an input statment is a `String`.\n",
    "\n",
    "Strings are very useful, but they are limited in that they only hold a sequence of characters.\n",
    "- As such, you __cannot perform mathematical operations on strings__ or string variables.\n",
    "- if I want the result of the input function to give me a value that I can use in a calculation, I need to convert the string to a numeric format."
   ]
  },
  {
   "cell_type": "markdown",
   "metadata": {
    "slideshow": {
     "slide_type": "slide"
    }
   },
   "source": [
    "# Numerical Formats:\n",
    "\n",
    "Python has two main forms of numbers:\n",
    "- `int` -- short for integer. these are whole nubmers that are not a fraction.\n",
    "    - examples are 0, 4, 24, -12\n",
    "- `float` -- floats are numbers with a decimal point. Float is short for 'floating-point' numbers. \n",
    "    - examples are 1.3, -34.5, 5.0, 0.0\n"
   ]
  },
  {
   "cell_type": "markdown",
   "metadata": {
    "slideshow": {
     "slide_type": "slide"
    }
   },
   "source": [
    "# This will cause an error... Why?"
   ]
  },
  {
   "cell_type": "code",
   "execution_count": null,
   "metadata": {},
   "outputs": [],
   "source": [
    "num_cookies = input(\"How many cookies would you like to make?\")\n",
    "ratio = num_cookies/48"
   ]
  },
  {
   "cell_type": "markdown",
   "metadata": {
    "slideshow": {
     "slide_type": "slide"
    }
   },
   "source": [
    "# `int()` and `float()` for calculations\n",
    "\n",
    "If you expect the user to type an `integer` or `float`, you can try to convert the return value to int using the `int()` or `float()` function:"
   ]
  },
  {
   "cell_type": "code",
   "execution_count": 24,
   "metadata": {},
   "outputs": [
    {
     "name": "stdout",
     "output_type": "stream",
     "text": [
      "how many cookies would you like to make? 38\n",
      "you will need 1.1875 cups of sugar.\n"
     ]
    }
   ],
   "source": [
    "num_cookies = int(input(\"how many cookies would you like to make? \"))\n",
    "ratio = num_cookies/48\n",
    "sugar = ratio*1.5\n",
    "print(\"you will need\", sugar, \"cups of sugar.\")"
   ]
  },
  {
   "cell_type": "markdown",
   "metadata": {
    "slideshow": {
     "slide_type": "slide"
    }
   },
   "source": [
    "# 💪🏻 Exercise:\n",
    "\n",
    "Update your code from Day01 to allow a user to enter a value into your calculation:"
   ]
  },
  {
   "cell_type": "markdown",
   "metadata": {
    "slideshow": {
     "slide_type": "slide"
    }
   },
   "source": [
    "# Type\n",
    "\n",
    "All __data__ has a __type__ which defines what kind of thing it is and what you can do with it."
   ]
  },
  {
   "cell_type": "code",
   "execution_count": null,
   "metadata": {},
   "outputs": [],
   "source": [
    "num_students = 42 # whole numbers\n",
    "avg_gas_estimate = 2.7 # numbers with decimal point\n",
    "print(\"Hello world!\") # text data (strings)"
   ]
  },
  {
   "cell_type": "markdown",
   "metadata": {
    "slideshow": {
     "slide_type": "slide"
    }
   },
   "source": [
    "## Type Examples:\n",
    "\n",
    "`integer`: whole numbers\n",
    "- 4, 144, -235"
   ]
  },
  {
   "cell_type": "markdown",
   "metadata": {
    "slideshow": {
     "slide_type": "fragment"
    }
   },
   "source": [
    "`floating point`: numbers with decimal points\n",
    "- 2.56, -2.4, 5.0"
   ]
  },
  {
   "cell_type": "markdown",
   "metadata": {
    "slideshow": {
     "slide_type": "fragment"
    }
   },
   "source": [
    "`string`: text data\n",
    "- \"Hello wolrd\", \"Nice to meet you\", \"She ate 20 apples\""
   ]
  },
  {
   "cell_type": "markdown",
   "metadata": {
    "slideshow": {
     "slide_type": "slide"
    }
   },
   "source": [
    "## The `type()` function\n",
    "\n",
    "Not sure what the type of a variable is? Python provides an easy way to check the type of any variable or expression, it's called `type()`"
   ]
  },
  {
   "cell_type": "code",
   "execution_count": 1,
   "metadata": {},
   "outputs": [
    {
     "name": "stdout",
     "output_type": "stream",
     "text": [
      "<class 'int'>\n",
      "<class 'float'>\n",
      "<class 'str'>\n"
     ]
    }
   ],
   "source": [
    "num_dogs = 2\n",
    "miles_walked_per_day = 1.5\n",
    "dogs_name = \"Zoey\"\n",
    "\n",
    "print(type(num_dogs))\n",
    "print(type(miles_walked_per_day))\n",
    "print(type(dogs_name))"
   ]
  },
  {
   "cell_type": "markdown",
   "metadata": {
    "slideshow": {
     "slide_type": "slide"
    }
   },
   "source": [
    "# Intro to REPL\n",
    "\n",
    "A Read-Eval-Print Loop, or __REPL__, is a computer environment where user inputs are read and evaluated, and then the restuls are returned to the user.\n",
    "\n",
    "Demo using Thonny:\n",
    "<div>\n",
    "<img src=\"images/day02_repl.png\"/ width=600>\n",
    "</div>"
   ]
  },
  {
   "cell_type": "markdown",
   "metadata": {
    "slideshow": {
     "slide_type": "fragment"
    }
   },
   "source": [
    "It can also look like this. Remember though, use the shell as a playground... any code you write here will not be saved.\n",
    "\n",
    "<div>\n",
    "<img src=\"images/day02_repl2.png\"/ width=300>\n",
    "</div>"
   ]
  },
  {
   "cell_type": "markdown",
   "metadata": {
    "slideshow": {
     "slide_type": "slide"
    }
   },
   "source": [
    "## What will be output?"
   ]
  },
  {
   "cell_type": "code",
   "execution_count": null,
   "metadata": {},
   "outputs": [],
   "source": [
    "num_students = 42\n",
    "avg_gas_estimate = 3.70\n",
    "print(\"Hello world!\")\n",
    "\n",
    "print(type(2.70))\n",
    "print(type(avg_gas_estimate))\n",
    "print(type(num_students))"
   ]
  },
  {
   "cell_type": "markdown",
   "metadata": {
    "slideshow": {
     "slide_type": "slide"
    }
   },
   "source": [
    "# Expressions on Strings:\n",
    "\n",
    "We've seen how arithmetic operators work on numerical types like ints and floats.\n",
    "\n",
    "__Strings__ have their own operators too - and some look like arithmetic operators!"
   ]
  },
  {
   "cell_type": "code",
   "execution_count": null,
   "metadata": {},
   "outputs": [],
   "source": [
    "greeting = \"Hello\"\n",
    "name = \"Professor Moore\"\n",
    "print(greeting + name)\n",
    "\n",
    "# what do you think will happen?"
   ]
  },
  {
   "cell_type": "markdown",
   "metadata": {
    "slideshow": {
     "slide_type": "slide"
    }
   },
   "source": [
    "## How about this one?"
   ]
  },
  {
   "cell_type": "code",
   "execution_count": null,
   "metadata": {},
   "outputs": [],
   "source": [
    "greeting = \"Hello\"\n",
    "name = \"Professor Moore\"\n",
    "print(greeting + name)\n",
    "\n",
    "print(greeting - name)"
   ]
  },
  {
   "cell_type": "markdown",
   "metadata": {
    "slideshow": {
     "slide_type": "slide"
    }
   },
   "source": [
    "## Other Operations:\n",
    "\n",
    "The `len` function will output the number of characters that a string has:"
   ]
  },
  {
   "cell_type": "code",
   "execution_count": 4,
   "metadata": {},
   "outputs": [
    {
     "data": {
      "text/plain": [
       "5"
      ]
     },
     "execution_count": 4,
     "metadata": {},
     "output_type": "execute_result"
    }
   ],
   "source": [
    "len(\"Hello\")"
   ]
  },
  {
   "cell_type": "code",
   "execution_count": 5,
   "metadata": {},
   "outputs": [
    {
     "data": {
      "text/plain": [
       "3"
      ]
     },
     "execution_count": 5,
     "metadata": {},
     "output_type": "execute_result"
    }
   ],
   "source": [
    "len(\"123\")"
   ]
  },
  {
   "cell_type": "code",
   "execution_count": 6,
   "metadata": {},
   "outputs": [
    {
     "data": {
      "text/plain": [
       "44"
      ]
     },
     "execution_count": 6,
     "metadata": {},
     "output_type": "execute_result"
    }
   ],
   "source": [
    "len(\"The quick brown fox jumped over the lazy dog\")"
   ]
  },
  {
   "cell_type": "markdown",
   "metadata": {
    "slideshow": {
     "slide_type": "slide"
    }
   },
   "source": [
    "## What do you think will happen here?"
   ]
  },
  {
   "cell_type": "code",
   "execution_count": null,
   "metadata": {},
   "outputs": [],
   "source": [
    "val = \"32\"\n",
    "print( type(val) )\n",
    "print( type(len(val)) )"
   ]
  },
  {
   "cell_type": "markdown",
   "metadata": {
    "slideshow": {
     "slide_type": "slide"
    }
   },
   "source": [
    "# Other Types\n",
    "\n",
    "There are several other built-in types that we'll hear morea bout later like: \n",
    "- `Boolean`: can have one of two values-- `True` or `False`\n",
    "- `List`: for keeping track of a sequence of values"
   ]
  },
  {
   "cell_type": "code",
   "execution_count": 7,
   "metadata": {},
   "outputs": [
    {
     "name": "stdout",
     "output_type": "stream",
     "text": [
      "<class 'bool'>\n",
      "<class 'list'>\n"
     ]
    }
   ],
   "source": [
    "print( type(False) )\n",
    "print( type([1,2,3]) )"
   ]
  },
  {
   "cell_type": "markdown",
   "metadata": {
    "slideshow": {
     "slide_type": "slide"
    }
   },
   "source": [
    "# Let's build a temperature converter!\n",
    "\n",
    "The formula for converting Fahrenheit temperatures to Celsius is:\n",
    "\n",
    "$ C = (F - 32) * \\frac{5}{9} $"
   ]
  },
  {
   "cell_type": "markdown",
   "metadata": {},
   "source": [
    "# Exercise #1:\n",
    "\n",
    "Create a file called `Temperature.py`\n",
    "\n",
    "Type in the following code:"
   ]
  },
  {
   "cell_type": "code",
   "execution_count": null,
   "metadata": {
    "slideshow": {
     "slide_type": "fragment"
    }
   },
   "outputs": [],
   "source": [
    "fahrenheit_temp = input(\"Enter the temperature in Fahrenheit \")\n",
    "celsius_temp = (fahrenheit_temp - 32) * (5/9)\n",
    "print(\"That's\", celcius_temp, \"in Celsius\")"
   ]
  },
  {
   "cell_type": "markdown",
   "metadata": {},
   "source": [
    "Will it work? Why or why not?"
   ]
  },
  {
   "cell_type": "markdown",
   "metadata": {
    "slideshow": {
     "slide_type": "slide"
    }
   },
   "source": [
    "# Converting a string to an integer\n",
    "\n",
    "Forunately, there's a built-in function we can use to convert something to an integer:\n",
    "- `int()`"
   ]
  },
  {
   "cell_type": "markdown",
   "metadata": {
    "slideshow": {
     "slide_type": "slide"
    }
   },
   "source": [
    "## TemperatureConverterTry2.py"
   ]
  },
  {
   "cell_type": "code",
   "execution_count": 9,
   "metadata": {},
   "outputs": [
    {
     "name": "stdout",
     "output_type": "stream",
     "text": [
      "Enter the temperature in Fahrenheit 75\n",
      "That's 23.88888888888889 in Celsius\n"
     ]
    }
   ],
   "source": [
    "fahrenheit_temp_str = input(\"Enter the temperature in Fahrenheit \")\n",
    "fahrenheit_temp_int = int(fahrenheit_temp_str)\n",
    "\n",
    "celsius_temp = (fahrenheit_temp_int - 32) * (5/9)\n",
    "print(\"That's\", celsius_temp, \"in Celsius\")"
   ]
  },
  {
   "cell_type": "markdown",
   "metadata": {
    "slideshow": {
     "slide_type": "fragment"
    }
   },
   "source": [
    "or... you can do it in one step:"
   ]
  },
  {
   "cell_type": "code",
   "execution_count": 10,
   "metadata": {},
   "outputs": [
    {
     "name": "stdout",
     "output_type": "stream",
     "text": [
      "Enter the temperature in Fahrenheit 75\n",
      "That's 23.88888888888889 in Celsius\n"
     ]
    }
   ],
   "source": [
    "fahrenheit_temp = int(input(\"Enter the temperature in Fahrenheit \"))\n",
    "celsius_temp = (fahrenheit_temp - 32) * (5/9)\n",
    "print(\"That's\", celsius_temp, \"in Celsius\")"
   ]
  },
  {
   "cell_type": "markdown",
   "metadata": {
    "slideshow": {
     "slide_type": "slide"
    }
   },
   "source": [
    "## A Tricky Question:\n",
    "\n",
    "What would happen if the user typed a floating-point value like 72.5?"
   ]
  },
  {
   "cell_type": "code",
   "execution_count": null,
   "metadata": {},
   "outputs": [],
   "source": [
    "fahrenheit_temp_str = int(input(\"Enter the temperature in Fahrenheit \"))\n",
    "fahrenheit_temp_int = int(fahrenheit_temp_str)\n",
    "celsius_temp = (fahrenheit_temp_int - 32) * (5/9)\n",
    "print(\"That's\", celsius_temp, \"in Celsius\")"
   ]
  },
  {
   "cell_type": "markdown",
   "metadata": {
    "slideshow": {
     "slide_type": "slide"
    }
   },
   "source": [
    "## Other Type Conversion Functions\n",
    "\n",
    "Convert to a floating-point types with `float()`\n",
    "\n",
    "Convert to a string with `str()`"
   ]
  },
  {
   "cell_type": "code",
   "execution_count": 13,
   "metadata": {},
   "outputs": [
    {
     "name": "stdout",
     "output_type": "stream",
     "text": [
      "Enter the temperature in Fahrenheit 72.5\n",
      "That's 22.22222222222222 in Celsius\n"
     ]
    }
   ],
   "source": [
    "fahrenheit_temp_str = float(input(\"Enter the temperature in Fahrenheit \"))\n",
    "fahrenheit_temp_int = int(fahrenheit_temp_str)\n",
    "celsius_temp = (fahrenheit_temp_int - 32) * (5/9)\n",
    "print(\"That's\", celsius_temp, \"in Celsius\")"
   ]
  },
  {
   "cell_type": "markdown",
   "metadata": {
    "slideshow": {
     "slide_type": "slide"
    }
   },
   "source": [
    "<div>\n",
    "<img src=\"images/day02_type_conversion.png\"/ width=800>\n",
    "</div>"
   ]
  },
  {
   "cell_type": "markdown",
   "metadata": {
    "slideshow": {
     "slide_type": "slide"
    }
   },
   "source": [
    "## Let's try something else:"
   ]
  },
  {
   "cell_type": "code",
   "execution_count": null,
   "metadata": {},
   "outputs": [],
   "source": [
    "target_number = 42\n",
    "# the code below will break, any ideas why?\n",
    "user_input = int(input(\"please enter a number larger than\", target_number))"
   ]
  },
  {
   "cell_type": "code",
   "execution_count": 16,
   "metadata": {},
   "outputs": [
    {
     "name": "stdout",
     "output_type": "stream",
     "text": [
      "Enter a number greater than 4249\n"
     ]
    }
   ],
   "source": [
    "target_number - 42\n",
    "\n",
    "user_input = int(input(\"Enter a number greater than \" + str(target_number)))"
   ]
  },
  {
   "cell_type": "markdown",
   "metadata": {
    "slideshow": {
     "slide_type": "slide"
    }
   },
   "source": [
    "# Take a break :) \n",
    "\n",
    "Be back by: "
   ]
  },
  {
   "cell_type": "markdown",
   "metadata": {
    "id": "uYiNmovOkfUg",
    "slideshow": {
     "slide_type": "slide"
    }
   },
   "source": [
    "## Abstraction: Big idea in computer science"
   ]
  },
  {
   "cell_type": "markdown",
   "metadata": {
    "id": "qYDMNpjHkfUg"
   },
   "source": [
    "<center>\n",
    "<div>\n",
    "<img src=\"images/day02_abstraction.jpg\" width=\"600\"/>\n",
    "</div>\n",
    "</center>\n"
   ]
  },
  {
   "cell_type": "markdown",
   "metadata": {
    "id": "yEOUa5TwkfUh"
   },
   "source": [
    "You don't have to know how to farm to be a chef - they work at different levels of abstraction in food production.\n",
    "\n",
    "In computer science, you build bigger, more complex things by using the building blocks others (or you) have provided.\n",
    "\n",
    "chef image credit: https://www.flickr.com/photos/nestle/3885866873"
   ]
  },
  {
   "cell_type": "markdown",
   "metadata": {
    "id": "ZR_5IoewkfUh",
    "slideshow": {
     "slide_type": "slide"
    }
   },
   "source": [
    "## Abstraction examples we've already seen\n",
    "\n",
    "We've already used several built-in _functions_ in this class: `print()`, `input()`, `type()`, `int()`, `float()`, `str()`\n",
    "* A function is an abstraction tool\n",
    "* We don't have to understand how they work in order to use them"
   ]
  },
  {
   "cell_type": "code",
   "execution_count": null,
   "metadata": {
    "id": "cN_ZTbfhkfUh",
    "outputId": "2b28a44e-7156-4a4d-9159-e8564252289a"
   },
   "outputs": [
    {
     "name": "stdout",
     "output_type": "stream",
     "text": [
      "Enter your name Meredith\n",
      "Hello Meredith\n"
     ]
    }
   ],
   "source": [
    "name = input(\"Enter your name \")\n",
    "print(\"Hello\",name)"
   ]
  },
  {
   "cell_type": "markdown",
   "metadata": {
    "id": "rwoY_DRVkfUh",
    "slideshow": {
     "slide_type": "fragment"
    }
   },
   "source": [
    "`input(\"Enter your name \")` and `print(\"Hello\",name)` are __function calls__\n",
    "\n",
    "Anything you put in the parentheses, like `\"Enter your name \"`, `\"Hello\"`, and `name` are _arguments_ which are passed to the function\n",
    "\n",
    "Functions do/execute/compute something based on the arguments"
   ]
  },
  {
   "cell_type": "markdown",
   "metadata": {
    "id": "SCDKymzHkfUh",
    "slideshow": {
     "slide_type": "slide"
    }
   },
   "source": [
    "## Functions that aren't built-in\n",
    "\n",
    "One of the things that makes Python such a great language is that there are many functions you can use that aren't built in. \n",
    "\n",
    "They're written by other programmers and made available to you.\n",
    "\n",
    "In order to use them, you need an `import` statement.\n",
    "\n",
    "Something you import this way is called a __module__.\n",
    "\n",
    "When running a function from a module, you usually use the __dot notation__."
   ]
  },
  {
   "cell_type": "code",
   "execution_count": null,
   "metadata": {
    "id": "8CJon-SFkfUi",
    "outputId": "2b81023c-def4-485b-9b7a-371addccf413"
   },
   "outputs": [
    {
     "name": "stdout",
     "output_type": "stream",
     "text": [
      "100\n"
     ]
    }
   ],
   "source": [
    "import random\n",
    "print( random.randint(1,100) )"
   ]
  },
  {
   "cell_type": "markdown",
   "metadata": {
    "id": "_QZVC7b7kfUi",
    "slideshow": {
     "slide_type": "slide"
    }
   },
   "source": [
    "In `random.randint(1,100)`, `random` is the name of the module and `randint` is the name of the function we want to use from that module. `1` and `100` are __arguments__ we pass to the function that tell it what range of numbers we want our random number to be in."
   ]
  },
  {
   "cell_type": "code",
   "execution_count": null,
   "metadata": {
    "id": "mnZj5GDZkfUi",
    "outputId": "7f1f5b7a-1c18-4bda-c226-ad4c4c39927d"
   },
   "outputs": [
    {
     "name": "stdout",
     "output_type": "stream",
     "text": [
      "2022-09-12 11:56:00.648897\n"
     ]
    }
   ],
   "source": [
    "import datetime\n",
    "print( datetime.datetime.now() )"
   ]
  },
  {
   "cell_type": "markdown",
   "metadata": {
    "id": "dFAiT9P_kfUi",
    "slideshow": {
     "slide_type": "fragment"
    }
   },
   "source": [
    "Notice that this uses two dots - in this case, the pattern is `modulename.typename.functionname` becaise the `datetime` modules contains many different types, and those types each support different functions.\n",
    "\n",
    "Different modules are set up to be used in slightly different ways."
   ]
  },
  {
   "cell_type": "markdown",
   "metadata": {
    "id": "7QIBob84kfUj",
    "slideshow": {
     "slide_type": "slide"
    }
   },
   "source": [
    "How do you know how to use a module?"
   ]
  },
  {
   "cell_type": "markdown",
   "metadata": {
    "id": "cDtlP4_gkfUj"
   },
   "source": [
    "Find the documentation for it on the web!\n",
    "\n",
    "https://docs.python.org/3/library/datetime.html"
   ]
  },
  {
   "cell_type": "code",
   "execution_count": 3,
   "metadata": {
    "hideCode": true,
    "id": "vsPKFiTEkfUj",
    "slideshow": {
     "slide_type": "slide"
    }
   },
   "outputs": [
    {
     "data": {
      "text/html": [
       "\n",
       "        <iframe\n",
       "            width=\"900\"\n",
       "            height=\"450\"\n",
       "            src=\"https://docs.python.org/3/library/datetime.html\"\n",
       "            frameborder=\"0\"\n",
       "            allowfullscreen\n",
       "        ></iframe>\n",
       "        "
      ],
      "text/plain": [
       "<IPython.lib.display.IFrame at 0x7fd968c38c70>"
      ]
     },
     "execution_count": 3,
     "metadata": {},
     "output_type": "execute_result"
    }
   ],
   "source": [
    "from IPython.display import IFrame\n",
    "IFrame('https://docs.python.org/3/library/datetime.html',width=900,height=450)"
   ]
  },
  {
   "cell_type": "markdown",
   "metadata": {
    "id": "_8pTeffbkfUj"
   },
   "source": [
    "https://docs.python.org/3/library/random.html"
   ]
  },
  {
   "cell_type": "code",
   "execution_count": 2,
   "metadata": {
    "hideCode": true,
    "id": "KVLk0VP3kfUj",
    "outputId": "f7876282-1c9d-4850-a869-a515b3c604e8",
    "slideshow": {
     "slide_type": "slide"
    }
   },
   "outputs": [
    {
     "data": {
      "text/html": [
       "\n",
       "        <iframe\n",
       "            width=\"900\"\n",
       "            height=\"450\"\n",
       "            src=\"https://docs.python.org/3/library/random.html\"\n",
       "            frameborder=\"0\"\n",
       "            allowfullscreen\n",
       "        ></iframe>\n",
       "        "
      ],
      "text/plain": [
       "<IPython.lib.display.IFrame at 0x7fd968c38b20>"
      ]
     },
     "execution_count": 2,
     "metadata": {},
     "output_type": "execute_result"
    }
   ],
   "source": [
    "from IPython.display import IFrame\n",
    "IFrame('https://docs.python.org/3/library/random.html',width=900,height=450)"
   ]
  },
  {
   "cell_type": "markdown",
   "metadata": {
    "id": "p_2Xj2pUkfUj",
    "slideshow": {
     "slide_type": "slide"
    }
   },
   "source": [
    "## Modules can provide new functions and new types"
   ]
  },
  {
   "cell_type": "code",
   "execution_count": null,
   "metadata": {
    "id": "4hxza9txkfUk",
    "outputId": "8c64b16c-2d49-4d29-d150-22b8c1e7ec5a"
   },
   "outputs": [
    {
     "data": {
      "text/plain": [
       "module"
      ]
     },
     "execution_count": 47,
     "metadata": {},
     "output_type": "execute_result"
    }
   ],
   "source": [
    "type(datetime)"
   ]
  },
  {
   "cell_type": "code",
   "execution_count": null,
   "metadata": {
    "id": "eNajlXkfkfUk",
    "outputId": "de5eef3a-90a9-437a-a585-8a683bf1a926",
    "slideshow": {
     "slide_type": "fragment"
    }
   },
   "outputs": [
    {
     "data": {
      "text/plain": [
       "type"
      ]
     },
     "execution_count": 48,
     "metadata": {},
     "output_type": "execute_result"
    }
   ],
   "source": [
    "type(datetime.datetime)"
   ]
  },
  {
   "cell_type": "code",
   "execution_count": null,
   "metadata": {
    "id": "GOlzkFBlkfUk",
    "outputId": "71f65c02-70ab-4dcb-e5d6-00dc622be318",
    "slideshow": {
     "slide_type": "fragment"
    }
   },
   "outputs": [
    {
     "data": {
      "text/plain": [
       "datetime.datetime"
      ]
     },
     "execution_count": 49,
     "metadata": {},
     "output_type": "execute_result"
    }
   ],
   "source": [
    "current = datetime.datetime.now()\n",
    "type(current)"
   ]
  },
  {
   "cell_type": "markdown",
   "metadata": {
    "id": "9U1zsCgZkfUk",
    "slideshow": {
     "slide_type": "slide"
    }
   },
   "source": [
    "https://xkcd.com/353/\n",
    "\n",
    "<center>\n",
    "<div>\n",
    "<img src=\"images/day02_xkcd.png\"/>\n",
    "</div>\n",
    "</center>\n"
   ]
  },
  {
   "cell_type": "markdown",
   "metadata": {
    "id": "gGeu1d4OiC1-",
    "slideshow": {
     "slide_type": "slide"
    }
   },
   "source": [
    "# Division Operators"
   ]
  },
  {
   "cell_type": "markdown",
   "metadata": {
    "id": "yOnfD0H1iC1-",
    "slideshow": {
     "slide_type": "slide"
    }
   },
   "source": [
    "## Floating-point division operator\n",
    "\n",
    "The `/` operator will always give you a _float_ as a result."
   ]
  },
  {
   "cell_type": "code",
   "execution_count": 4,
   "metadata": {
    "id": "8yxO4jIuiC1_"
   },
   "outputs": [
    {
     "data": {
      "text/plain": [
       "16.0"
      ]
     },
     "execution_count": 4,
     "metadata": {},
     "output_type": "execute_result"
    }
   ],
   "source": [
    "320 / 20"
   ]
  },
  {
   "cell_type": "code",
   "execution_count": 5,
   "metadata": {
    "id": "D8lSZNbeiC1_"
   },
   "outputs": [
    {
     "data": {
      "text/plain": [
       "16.791666666666668"
      ]
     },
     "execution_count": 5,
     "metadata": {},
     "output_type": "execute_result"
    }
   ],
   "source": [
    "403.0 / 24.0"
   ]
  },
  {
   "cell_type": "code",
   "execution_count": 6,
   "metadata": {},
   "outputs": [
    {
     "data": {
      "text/plain": [
       "float"
      ]
     },
     "execution_count": 6,
     "metadata": {},
     "output_type": "execute_result"
    }
   ],
   "source": [
    "type(320/20)"
   ]
  },
  {
   "cell_type": "markdown",
   "metadata": {
    "id": "Y7UHGmtBiC1_",
    "slideshow": {
     "slide_type": "slide"
    }
   },
   "source": [
    "## Integer division operators\n",
    "\n",
    "Sometimes, instead of getting the full floating-point expansion, you might want the quotient and remainder separately. \n",
    "\n",
    "<div>\n",
    "<img src=\"images/day02_floor.png\"/ width=200>\n",
    "</div>\n",
    "\n",
    "\n",
    "The `//` is the _floor_ division operator - it gives you the quotient and _ignores_ and fractional/remainder part.\n"
   ]
  },
  {
   "cell_type": "code",
   "execution_count": 7,
   "metadata": {
    "id": "GP6kJY8ViC1_",
    "slideshow": {
     "slide_type": "fragment"
    }
   },
   "outputs": [
    {
     "data": {
      "text/plain": [
       "16"
      ]
     },
     "execution_count": 7,
     "metadata": {},
     "output_type": "execute_result"
    }
   ],
   "source": [
    "320 // 20"
   ]
  },
  {
   "cell_type": "code",
   "execution_count": 8,
   "metadata": {
    "id": "5lybxjNOiC1_"
   },
   "outputs": [
    {
     "data": {
      "text/plain": [
       "16"
      ]
     },
     "execution_count": 8,
     "metadata": {},
     "output_type": "execute_result"
    }
   ],
   "source": [
    "403 // 24"
   ]
  },
  {
   "cell_type": "markdown",
   "metadata": {
    "id": "_J-DBdIPiC1_",
    "slideshow": {
     "slide_type": "slide"
    }
   },
   "source": [
    "## Modulo operator\n",
    "\n",
    "The `%` operator is the __modulo__ operator - another word for remainder - it will ignore the quotient and just give you the remainder.\n",
    "\n",
    "<div>\n",
    "<img src=\"images/day02_mod.png\"/ width=200>\n",
    "</div>"
   ]
  },
  {
   "cell_type": "code",
   "execution_count": 9,
   "metadata": {
    "id": "_k6t6QoXiC2A",
    "slideshow": {
     "slide_type": "fragment"
    }
   },
   "outputs": [
    {
     "data": {
      "text/plain": [
       "16"
      ]
     },
     "execution_count": 9,
     "metadata": {},
     "output_type": "execute_result"
    }
   ],
   "source": [
    "403 // 24"
   ]
  },
  {
   "cell_type": "code",
   "execution_count": 10,
   "metadata": {
    "id": "s101RW8niC2A"
   },
   "outputs": [
    {
     "data": {
      "text/plain": [
       "19"
      ]
     },
     "execution_count": 10,
     "metadata": {},
     "output_type": "execute_result"
    }
   ],
   "source": [
    "403 % 24"
   ]
  },
  {
   "cell_type": "markdown",
   "metadata": {
    "id": "wwE7mQLHiC2A",
    "slideshow": {
     "slide_type": "slide"
    }
   },
   "source": [
    "## Group Exercises\n",
    "\n",
    "Try each of the following in your interactive shell. What pattern do you notice?"
   ]
  },
  {
   "cell_type": "code",
   "execution_count": null,
   "metadata": {
    "id": "VvK2Xw1diC2A"
   },
   "outputs": [],
   "source": [
    "0 // 2\n",
    "1 // 2\n",
    "3 // 2\n",
    "4 // 2\n",
    "5 // 2\n",
    "6 // 2\n",
    "20 // 5\n",
    "21 // 5\n",
    "22 // 5\n",
    "23 // 5\n",
    "24 // 5\n",
    "25 // 5"
   ]
  },
  {
   "cell_type": "markdown",
   "metadata": {
    "id": "egZfyLUKiC2A",
    "slideshow": {
     "slide_type": "slide"
    }
   },
   "source": [
    "Try each of the following in your interactive shell. What pattern do you notice?"
   ]
  },
  {
   "cell_type": "code",
   "execution_count": null,
   "metadata": {
    "id": "8K2HONPsiC2A"
   },
   "outputs": [],
   "source": [
    "0 % 2\n",
    "1 % 2\n",
    "3 % 2\n",
    "4 % 2\n",
    "5 % 2\n",
    "6 % 2\n",
    "20 % 5\n",
    "21 % 5\n",
    "22 % 5\n",
    "23 % 5\n",
    "24 % 5\n",
    "25 % 5"
   ]
  },
  {
   "cell_type": "markdown",
   "metadata": {
    "id": "R2M1xFEbiC2B",
    "slideshow": {
     "slide_type": "slide"
    }
   },
   "source": [
    "Write down in your notes:\n",
    "* What is the difference between `//` and `/`?\n",
    "* What is the difference between `//` and `%`?\n",
    "\n",
    "Try each of the following in your interactive shell."
   ]
  },
  {
   "cell_type": "code",
   "execution_count": null,
   "metadata": {
    "id": "JExLpjaeiC2B",
    "outputId": "f3323123-27f3-4639-9856-769b1b9db39d"
   },
   "outputs": [
    {
     "name": "stdout",
     "output_type": "stream",
     "text": [
      "4.0\n"
     ]
    },
    {
     "ename": "ZeroDivisionError",
     "evalue": "division by zero",
     "output_type": "error",
     "traceback": [
      "\u001b[0;31m---------------------------------------------------------------------------\u001b[0m",
      "\u001b[0;31mZeroDivisionError\u001b[0m                         Traceback (most recent call last)",
      "\u001b[0;32m<ipython-input-14-5c56365b62c3>\u001b[0m in \u001b[0;36m<module>\u001b[0;34m\u001b[0m\n\u001b[1;32m      1\u001b[0m \u001b[0mprint\u001b[0m\u001b[0;34m(\u001b[0m\u001b[0;36m23\u001b[0m \u001b[0;34m//\u001b[0m \u001b[0;36m5.50\u001b[0m\u001b[0;34m)\u001b[0m\u001b[0;34m\u001b[0m\u001b[0;34m\u001b[0m\u001b[0m\n\u001b[0;32m----> 2\u001b[0;31m \u001b[0;36m23\u001b[0m \u001b[0;34m/\u001b[0m \u001b[0;36m0\u001b[0m\u001b[0;34m\u001b[0m\u001b[0;34m\u001b[0m\u001b[0m\n\u001b[0m",
      "\u001b[0;31mZeroDivisionError\u001b[0m: division by zero"
     ]
    }
   ],
   "source": [
    "print(23 // 5.50)\n",
    "23 / 0"
   ]
  },
  {
   "cell_type": "markdown",
   "metadata": {
    "id": "Jh5xCezyiC2B",
    "slideshow": {
     "slide_type": "-"
    }
   },
   "source": [
    "Write down in your notes:\n",
    "* What happens when you use a float with the floor division operator?\n",
    "* What happens in Python if you try to divide by 0?"
   ]
  },
  {
   "cell_type": "markdown",
   "metadata": {
    "slideshow": {
     "slide_type": "slide"
    }
   },
   "source": [
    "# Group Exercise:\n",
    "\n",
    "Take a few minutes and try to answer these questions using Python and the division operators we just talked about:\n",
    "\n",
    "1. There are 100 pieces of candy; there are 8 people at the party; how many pieces of candy does each person get? How much candy is left over?\n",
    "\n",
    "2. I'm programming a super computer with 64 processors to perform 1500 variations of a simulation for a physics experiment, and each of the simulations takes about the same amount of time to run. How many simulations should be given to each processor?\n",
    "\n",
    "3. I have 78 cents, how many quarters should I give in change?"
   ]
  },
  {
   "cell_type": "markdown",
   "metadata": {
    "id": "T9SoBhJ1iC2B",
    "slideshow": {
     "slide_type": "slide"
    }
   },
   "source": [
    "## When is this useful?\n",
    "\n",
    "If you want to check if a number is dividisl by 4 - say you're checking to see if the year is a presidential election year, Olympic year, leap year, etc., you can see if the result is zero:"
   ]
  },
  {
   "cell_type": "code",
   "execution_count": 11,
   "metadata": {
    "id": "7B92DE52iC2B",
    "outputId": "e9aacaef-9f04-4110-9773-941421c16114"
   },
   "outputs": [
    {
     "data": {
      "text/plain": [
       "0"
      ]
     },
     "execution_count": 11,
     "metadata": {},
     "output_type": "execute_result"
    }
   ],
   "source": [
    "2024 % 4"
   ]
  },
  {
   "cell_type": "markdown",
   "metadata": {
    "slideshow": {
     "slide_type": "slide"
    }
   },
   "source": [
    "Modulo (`%`) is also good if you need to check if a number is even or odd:"
   ]
  },
  {
   "cell_type": "code",
   "execution_count": 12,
   "metadata": {},
   "outputs": [
    {
     "data": {
      "text/plain": [
       "1"
      ]
     },
     "execution_count": 12,
     "metadata": {},
     "output_type": "execute_result"
    }
   ],
   "source": [
    "253 % 2 # odd numbers have a remainder of 1 when divided by 2"
   ]
  },
  {
   "cell_type": "code",
   "execution_count": 13,
   "metadata": {},
   "outputs": [
    {
     "data": {
      "text/plain": [
       "0"
      ]
     },
     "execution_count": 13,
     "metadata": {},
     "output_type": "execute_result"
    }
   ],
   "source": [
    "254 % 2 # even numbers have a remainder of 0 when divided by 2"
   ]
  },
  {
   "cell_type": "markdown",
   "metadata": {
    "slideshow": {
     "slide_type": "slide"
    }
   },
   "source": [
    "# Try it! 🍕\n",
    "\n",
    "Write a program that will:\n",
    "- prompt the user for the number of slices of pizza;\n",
    "- promt the user for the number of people\n",
    "- print out how many slices each person can eat (if everyone gets the same number of slices)\n",
    "- print out how many slices will be left over"
   ]
  },
  {
   "cell_type": "markdown",
   "metadata": {
    "slideshow": {
     "slide_type": "slide"
    }
   },
   "source": [
    "# Lab #2\n",
    "\n",
    "Pay Calculator, on Blackboard:\n",
    "\n",
    "Let's go through it."
   ]
  },
  {
   "cell_type": "markdown",
   "metadata": {
    "slideshow": {
     "slide_type": "slide"
    }
   },
   "source": [
    "# You should be working on:\n",
    "\n"
   ]
  },
  {
   "cell_type": "markdown",
   "metadata": {},
   "source": [
    "You should be working on:\n",
    "- Lab #1 by 11:59 pm tonight \n",
    "    - \"Hello World\", submit via CodePost\n",
    "- Lab #2 released today, due Thursday 7/13 by 11:59pm\n",
    "- Quiz #1 will be released Thursday 7/13, due Tuesday, by 11:59pm\n",
    "\n",
    "Readings:\n",
    "- [Reading #3](https://greenteapress.com/thinkpython2/html/thinkpython2002.html#sec10) Values and Types\n",
    "- [Reading #4](https://www.brianheinold.net/python/python_book.html#chapter_ifstatements) If Statements"
   ]
  }
 ],
 "metadata": {
  "celltoolbar": "Slideshow",
  "kernelspec": {
   "display_name": "Python 3",
   "language": "python",
   "name": "python3"
  },
  "language_info": {
   "codemirror_mode": {
    "name": "ipython",
    "version": 3
   },
   "file_extension": ".py",
   "mimetype": "text/x-python",
   "name": "python",
   "nbconvert_exporter": "python",
   "pygments_lexer": "ipython3",
   "version": "3.8.3"
  }
 },
 "nbformat": 4,
 "nbformat_minor": 4
}
