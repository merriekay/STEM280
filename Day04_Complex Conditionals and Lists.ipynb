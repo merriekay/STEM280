{
  "cells": [
    {
      "cell_type": "markdown",
      "metadata": {
        "id": "view-in-github",
        "colab_type": "text"
      },
      "source": [
        "<a href=\"https://colab.research.google.com/github/merriekay/STEM280/blob/main/Day04_Complex%20Conditionals%20and%20Lists.ipynb\" target=\"_parent\"><img src=\"https://colab.research.google.com/assets/colab-badge.svg\" alt=\"Open In Colab\"/></a>"
      ]
    },
    {
      "cell_type": "markdown",
      "metadata": {
        "id": "A_rwkU2uH8WW"
      },
      "source": [
        "# STEM280: Day04\n",
        "## Complex Conditionals and Lists\n",
        "\n",
        "####  STEM 280: Introduction to Computer Science I | Summer 2023\n",
        "\n",
        "Tuesday, July 17th, 2023\n",
        "\n",
        " 📜 [Syllabus](https://docs.google.com/document/d/1LMCXdvynDdj4QWc0T9DgF4tos4PYLBpwOPHRC8BO-rA/edit?usp=sharing) | 📬 [CodePost Login](https://codepost.io/login) | 📆 [Schedule](https://docs.google.com/spreadsheets/d/e/2PACX-1vQiF1fOj8DS9cAab8N9gVPdHtNYzXs9GCBNMdPc3xWbg_qfXanppZrFVqxVSa_H_zy9WyCmGMQSAZEp/pubhtml)"
      ]
    },
    {
      "cell_type": "markdown",
      "metadata": {
        "id": "F540rVMPH8WY"
      },
      "source": [
        "> Note to self: Make sure you're recording 🎥"
      ]
    },
    {
      "cell_type": "markdown",
      "metadata": {
        "id": "lpkRI7zKH8WY"
      },
      "source": [
        "# Admin Stuff"
      ]
    },
    {
      "cell_type": "markdown",
      "metadata": {
        "id": "4jrW9Zu_H8WY"
      },
      "source": [
        "# You should be working on:\n",
        "- Lab #3 is due tonight by 11:59\n",
        "- Quiz #1 is due tonight by 11:59\n",
        "\n",
        "[Reading #4 Lists](https://analytics.drake.edu/~urness/CS65Text/Chapter9.html)"
      ]
    },
    {
      "cell_type": "markdown",
      "metadata": {
        "id": "iiAc2jBzH8WY"
      },
      "source": [
        "# ⏪ Quick Review:"
      ]
    },
    {
      "cell_type": "markdown",
      "metadata": {
        "id": "li_2qqMBH8WZ"
      },
      "source": [
        "## Conditionals Review\n",
        "\n",
        "So far, we've seen *conditional statements*"
      ]
    },
    {
      "cell_type": "code",
      "execution_count": null,
      "metadata": {
        "id": "Wxd9pHHmH8WZ"
      },
      "outputs": [],
      "source": [
        "total_bill = 35.63\n",
        "age = float(input(\"What is your age? \"))\n",
        "\n",
        "if age > 65:\n",
        "    print(\"Applying 10% senior discount\")\n",
        "    total_bill = total_bill * 0.9\n",
        "    #any indented code is only runs\n",
        "    #when the condition is True\n",
        "\n",
        "#un-indented code runs no matter what\n",
        "print(\"Your total bill is\", total_bill)"
      ]
    },
    {
      "cell_type": "markdown",
      "metadata": {
        "id": "Ak9mMZaQH8Wa"
      },
      "source": [
        "conditional statements with two alternatives"
      ]
    },
    {
      "cell_type": "code",
      "execution_count": null,
      "metadata": {
        "id": "CwCWfwrmH8Wa"
      },
      "outputs": [],
      "source": [
        "height = float(input(\"Enter your height in inches: \"))\n",
        "\n",
        "if height < 60:\n",
        "    print(\"You are not tall enough for this ride.\")\n",
        "else:\n",
        "    print(\"You are tall enough for this ride.\")"
      ]
    },
    {
      "cell_type": "markdown",
      "metadata": {
        "id": "YEeKQ3mMH8Wa"
      },
      "source": [
        "and in the lab, we saw _nested_ conditional statements"
      ]
    },
    {
      "cell_type": "code",
      "execution_count": null,
      "metadata": {
        "id": "oJ1iD4nYH8Wa"
      },
      "outputs": [],
      "source": [
        "num = int(input(\"Enter a number: \"))\n",
        "\n",
        "#this code checks if a number is divisible by both 2 and 3\n",
        "if num % 2 == 0:\n",
        "    print(num,\"is even\")\n",
        "else:\n",
        "    if num % 3 == 0:\n",
        "        print(num,\"is odd and divisble by 3\")\n",
        "    else:\n",
        "        print(num,\"is odd and not divisible by 3\")"
      ]
    },
    {
      "cell_type": "markdown",
      "metadata": {
        "id": "qphLx5M6H8Wb"
      },
      "source": [
        "# ✨ New Material"
      ]
    },
    {
      "cell_type": "markdown",
      "metadata": {
        "id": "eDE_14MHH8Wb"
      },
      "source": [
        "## Group Exercise: Comparing Strings\n",
        "\n",
        "Type the following program into Thonny, and run it several times. What does it do?"
      ]
    },
    {
      "cell_type": "code",
      "execution_count": null,
      "metadata": {
        "id": "T4270uy-H8Wb"
      },
      "outputs": [],
      "source": [
        "name1 = input(\"Enter a name: \")\n",
        "name2 = input(\"Enter another name: \")\n",
        "\n",
        "if name1 < name2:\n",
        "    print(name1,\"is first\")\n",
        "else:\n",
        "    print(name2,\"is first\")"
      ]
    },
    {
      "cell_type": "markdown",
      "metadata": {
        "id": "eV_5gaZvH8Wb"
      },
      "source": [
        "Is string comparison in Python case-sensitive? E.g., is `\"Meredith\"` the same as `\"meredith\"`? How could we test it?"
      ]
    },
    {
      "cell_type": "code",
      "execution_count": null,
      "metadata": {
        "id": "hmds8-rGH8Wb"
      },
      "outputs": [],
      "source": [
        "answer = input(\"Yes or no?\")\n",
        "\n",
        "if answer.lower().strip() == \"yes\":\n",
        "    print(\"Huzzah!\")"
      ]
    },
    {
      "cell_type": "markdown",
      "metadata": {
        "id": "H_0BYnfaH8Wc"
      },
      "source": [
        "## Character representation\n",
        "\n",
        "Every text character is represented by a numerical code in your computer's memory.\n",
        "\n",
        "They came up with in the 1960's as part of the ASCII standard (https://en.wikipedia.org/wiki/ASCII)\n",
        "\n",
        "Here's some examples\n",
        "\n",
        "<table>\n",
        "<tr>\n",
        "    <td style=\"padding:30px\">\n",
        "        <table>\n",
        "            <tr><th> code </th> <th>character </tr>\n",
        "            <tr><td>33 </td><td> !</td></tr>\n",
        "            <tr><td>34 </td><td> \"</td></tr>\n",
        "            <tr><td>35 </td><td> #</td></tr>\n",
        "            <tr><td>36 </td><td> $</td></tr>\n",
        "            <tr><td>37 </td><td> % </td></tr>      \n",
        "        </table>      \n",
        "    </td>\n",
        "    <td style=\"padding:30px\">\n",
        "        <table>\n",
        "            <tr><th> code </th> <th>character </tr>\n",
        "            <tr><td>65 </td><td> A</td></tr>\n",
        "            <tr><td>66 </td><td> B</td></tr>\n",
        "            <tr><td>67 </td><td> C</td></tr>\n",
        "            <tr><td>68 </td><td> D</td></tr>\n",
        "            <tr><td>69 </td><td> E </td></tr>      \n",
        "        </table>\n",
        "    </td>\n",
        "    <td style=\"padding:30px\">\n",
        "        <table>\n",
        "            <tr><th> code </th> <th>character </tr>\n",
        "            <tr><td>97 </td><td> a</td></tr>\n",
        "            <tr><td>98 </td><td> b</td></tr>\n",
        "            <tr><td>99 </td><td> c</td></tr>\n",
        "            <tr><td>100 </td><td> d</td></tr>\n",
        "            <tr><td>101 </td><td> e </td></tr>      \n",
        "        </table>     \n",
        "    </td\n",
        "</tr>\n",
        "</table>"
      ]
    },
    {
      "cell_type": "markdown",
      "metadata": {
        "id": "wpfJSAq1H8Wc"
      },
      "source": [
        "You can use the built-in `ord()` function to look up the code for any given character. Use `chr()` to do the opposite."
      ]
    },
    {
      "cell_type": "code",
      "execution_count": null,
      "metadata": {
        "id": "cWXEbm2WH8Wc"
      },
      "outputs": [],
      "source": [
        "ord(\"m\")"
      ]
    },
    {
      "cell_type": "code",
      "execution_count": null,
      "metadata": {
        "id": "xGN2_LCbH8Wc"
      },
      "outputs": [],
      "source": [
        "chr(109)"
      ]
    },
    {
      "cell_type": "markdown",
      "metadata": {
        "id": "rA7AbTxaH8Wc"
      },
      "source": [
        "## Helpful String Functions\n",
        "\n",
        "Here are two helpful functions that will come in handy when using strings:\n",
        "- `lower()`: will return the string with all lowercase letters [documentation](https://python-reference.readthedocs.io/en/latest/docs/str/lower.html)\n",
        "- `upper()`: will return the string with all uppercase letters [documentation](https://python-reference.readthedocs.io/en/latest/docs/str/upper.html)\n",
        "- `strip()`: will return the string without any leading or trailing whitespace [documentation](https://python-reference.readthedocs.io/en/latest/docs/str/strip.html)"
      ]
    },
    {
      "cell_type": "code",
      "execution_count": null,
      "metadata": {
        "id": "gfgIzFEtH8Wd"
      },
      "outputs": [],
      "source": [
        "fruit = input(\"What is your favorite fruit?\")\n",
        "print(\"fruit.lower():\", fruit.lower())\n",
        "print(\"fruit.upper():\", fruit.upper())\n",
        "print(\"fruit.strip():\", fruit.strip())\n",
        "\n",
        "if fruit.lower().strip() == 'bananas':\n",
        "    print(\"Wow, that's bananas.\")"
      ]
    },
    {
      "cell_type": "markdown",
      "metadata": {
        "id": "WTg8nSPuH8Wd"
      },
      "source": [
        "## Other conditional statement options\n",
        "\n",
        "There are also __chained conditional statements__ when you have more than two choices\n",
        "\n",
        "`elif` a new keyword meaning \"else if\" which allows you to add as many more options to a conditional statement as you want."
      ]
    },
    {
      "cell_type": "code",
      "execution_count": null,
      "metadata": {
        "id": "RNk7PkItH8Wd"
      },
      "outputs": [],
      "source": [
        "temp = float(input(\"What's the temperature? \"))\n",
        "\n",
        "if temp >= 70:\n",
        "    print(\"Let's go hiking.\")\n",
        "elif temp >= 30:\n",
        "    print(\"Let's put on jackets and go hiking.\")\n",
        "elif temp >= 10:\n",
        "    print(\"Let's go skiing.\")\n",
        "else:\n",
        "    print(\"It's too cold. Let's stay in and code.\")"
      ]
    },
    {
      "cell_type": "markdown",
      "metadata": {
        "id": "nchd21zbH8Wd"
      },
      "source": [
        "Note:\n",
        "* `else` part is still optional but gives you the opportunity for \"default\" behavior\n",
        "* at most one block in a `if-elif-else statement` will run"
      ]
    },
    {
      "cell_type": "markdown",
      "metadata": {
        "id": "2QcyeAfBH8Wd"
      },
      "source": [
        "## a common chained-conditional logic error\n",
        "\n",
        "Take a look at this code... see if you can spot the error."
      ]
    },
    {
      "cell_type": "code",
      "execution_count": null,
      "metadata": {
        "id": "diO9LQUGH8Wd"
      },
      "outputs": [],
      "source": [
        "temp = float(input(\"What's the temperature? \"))\n",
        "\n",
        "if temp >= 70:\n",
        "    print(\"Let's go hiking.\")\n",
        "elif temp >= 30:\n",
        "    print(\"Let's put on jackets and go hiking.\")\n",
        "elif temp >= 10:\n",
        "    print(\"Let's go skiing.\")\n",
        "else:\n",
        "    print(\"It's too cold. Let's stay in and code.\")"
      ]
    },
    {
      "cell_type": "markdown",
      "metadata": {
        "id": "uqcOTOqFH8We"
      },
      "source": [
        "Make sure to put the conditions in the order you want to check them - the first one to evalute to `True` will be the one that runs."
      ]
    },
    {
      "cell_type": "markdown",
      "metadata": {
        "id": "1WkoSOzPH8We"
      },
      "source": [
        "## Logical Operators\n",
        "\n",
        "__Logical operators__ are operators that take Booleans as operands: `and`, `or`, `not`"
      ]
    },
    {
      "cell_type": "code",
      "execution_count": null,
      "metadata": {
        "id": "vNUDISRdH8We"
      },
      "outputs": [],
      "source": [
        "temp = float(input(\"What's the temperature? \"))\n",
        "raining = input(\"Is it raining? \")\n",
        "\n",
        "if temp < 50 or raining == 'yes':\n",
        "    print(\"Grab your coat.\")\n",
        "\n",
        "if not (raining == 'yes') and temp > 70:\n",
        "    print(\"Grab your mitt.\")"
      ]
    },
    {
      "cell_type": "code",
      "execution_count": null,
      "metadata": {
        "id": "WUw2XRx9H8We"
      },
      "outputs": [],
      "source": [
        "a = 2\n",
        "b = 4\n",
        "c = 6"
      ]
    },
    {
      "cell_type": "markdown",
      "metadata": {
        "id": "9DQJlYphH8We"
      },
      "source": [
        "See if you can work out the values below before the answer is revealed"
      ]
    },
    {
      "cell_type": "code",
      "execution_count": null,
      "metadata": {
        "id": "jCfj_I2uH8We"
      },
      "outputs": [],
      "source": [
        "a == 4 or b > 2"
      ]
    },
    {
      "cell_type": "code",
      "execution_count": null,
      "metadata": {
        "id": "qPPpQ87ZH8We"
      },
      "outputs": [],
      "source": [
        "6 <= c and a > 3"
      ]
    },
    {
      "cell_type": "code",
      "execution_count": null,
      "metadata": {
        "id": "PoCUtQn2H8Wf"
      },
      "outputs": [],
      "source": [
        "1 != b and c != 3"
      ]
    },
    {
      "cell_type": "code",
      "execution_count": null,
      "metadata": {
        "id": "5ji4gdYrH8Wf"
      },
      "outputs": [],
      "source": [
        "a >= -1 or a <= b"
      ]
    },
    {
      "cell_type": "code",
      "execution_count": null,
      "metadata": {
        "id": "JHCVbEGDH8Wf"
      },
      "outputs": [],
      "source": [
        "not a > 2"
      ]
    },
    {
      "cell_type": "markdown",
      "metadata": {
        "id": "topwK_lkH8Wf"
      },
      "source": [
        "Logical operators are pretty intuitive because we use them in our natural language, but they can sometimes be tricky when you get complex expressions."
      ]
    },
    {
      "cell_type": "code",
      "execution_count": null,
      "metadata": {
        "id": "BryfrRdaH8Wf"
      },
      "outputs": [],
      "source": [
        "a = 2\n",
        "b = 4\n",
        "c = 6\n",
        "result = a == 2 or b != 2 and c != 6 or a == b + c\n",
        "print(result)"
      ]
    },
    {
      "cell_type": "markdown",
      "metadata": {
        "id": "dZAH0ksNH8Wo"
      },
      "source": [
        "Rule of thumb: Always use parentheses when you have more than one logical operator"
      ]
    },
    {
      "cell_type": "markdown",
      "metadata": {
        "id": "Av6JwYtDH8Wo"
      },
      "source": [
        "## Group Exercise:\n",
        "\n",
        "Using this flow chart, write a program that will ask the user questions about an emergency and recommend how they should respond. (image credit [cpr.heart.org](https://cpr.heart.org/en/resuscitation-science/cpr-and-ecc-guidelines/algorithms))\n",
        "\n",
        "<div>\n",
        "<img src=\"https://github.com/merriekay/STEM280/blob/main/images/day04_heart.jpeg?raw=1\" width=\"600\"/>\n",
        "</div>\n"
      ]
    },
    {
      "cell_type": "code",
      "execution_count": null,
      "metadata": {
        "id": "kEsJi_5CH8Wp"
      },
      "outputs": [],
      "source": [
        "# Let's go through this one together:\n"
      ]
    },
    {
      "cell_type": "markdown",
      "metadata": {
        "id": "8sh0RnrPH8Wp"
      },
      "source": [
        "# Break time!\n",
        "\n",
        "Be back by:"
      ]
    },
    {
      "cell_type": "markdown",
      "metadata": {
        "id": "36TbXDPKH8Wp"
      },
      "source": [
        "# Containers\n",
        "\n",
        "Some types in Python are used for storing a collection of values. These types are called __containers__.\n",
        "\n",
        "__List:__ a container type that stores values in a ordered _sequence_"
      ]
    },
    {
      "cell_type": "markdown",
      "metadata": {
        "id": "cF-kZWtuH8Wp"
      },
      "source": [
        "<div>\n",
        "<img src=\"https://github.com/merriekay/STEM280/blob/main/images/day04_doctors.png?raw=1\" width=\"300\"/>\n",
        "</div>\n"
      ]
    },
    {
      "cell_type": "code",
      "execution_count": null,
      "metadata": {
        "id": "mvgkuBC-H8Wp"
      },
      "outputs": [],
      "source": [
        "doctor_who_actors = [\"Tennant\",\"Smith\",\"Capaldi\",\"Whittaker\", \"Gatwa\"]\n",
        "rainfall_amounts = [0.0, 0.3, 0.71, 0.0, 0.32, 1.1, 0.4]\n",
        "dates = [\"March 14, 2020\",2021,\"4/1\"]\n",
        "empty_list = []"
      ]
    },
    {
      "cell_type": "markdown",
      "metadata": {
        "id": "ZZbOozoFH8Wp"
      },
      "source": [
        "values in a list are called __items__ or __elements__, e.g., `\"Capaldi\"`, `0.3`\n",
        "\n",
        "Syntax: start with `[`, end with `]`, separate with `,`"
      ]
    },
    {
      "cell_type": "markdown",
      "metadata": {
        "id": "09JGs23FH8Wq"
      },
      "source": [
        "## Accessing items in a list\n",
        "\n",
        "You can access individual items in a list using their __index__, which is their position in the list:\n",
        "- indices _start at 0_\n",
        "- Use `[ ]` at the end of the list to access the index\n",
        "- Between the brackets, you can put a number or a variable (of type int)\n"
      ]
    },
    {
      "cell_type": "code",
      "execution_count": null,
      "metadata": {
        "id": "piZFo74IH8Wq",
        "outputId": "e768658d-b572-44a2-f242-7b71c6c6cb0b"
      },
      "outputs": [
        {
          "name": "stdout",
          "output_type": "stream",
          "text": [
            "Whittaker\n"
          ]
        }
      ],
      "source": [
        "#           index:       0      1          2        3          4 (notice it doens't go to 5, since we start at 0)\n",
        "doctor_who_actors = [\"Tennant\",\"Smith\",\"Capaldi\",\"Whittaker\", \"Gatwa\"]\n",
        "print(doctor_who_actors[3])"
      ]
    },
    {
      "cell_type": "code",
      "execution_count": null,
      "metadata": {
        "id": "F_fCzu0DH8Wq"
      },
      "outputs": [],
      "source": [
        "i = 4\n",
        "rainfall_amounts = [0.0, 0.3, 0.71, 0.0, 0.32, 1.1, 0.4]\n",
        "print(rainfall_amounts[i])"
      ]
    },
    {
      "cell_type": "markdown",
      "metadata": {
        "id": "TsdIWWvtH8Wr"
      },
      "source": [
        "Using index notation, you can treat an item in a list like any other variable"
      ]
    },
    {
      "cell_type": "code",
      "execution_count": null,
      "metadata": {
        "id": "pqESaPq5H8Wr"
      },
      "outputs": [],
      "source": [
        "rainfall_amounts = [0.0, 0.3, 0.71, 0.0, 0.32, 1.1, 0.4]\n",
        "total_weekend_rainfall = rainfall_amounts[5] + rainfall_amounts[6]\n",
        "total_weekend_rainfall"
      ]
    },
    {
      "cell_type": "markdown",
      "metadata": {
        "id": "vlJlPAGwH8Wr"
      },
      "source": [
        "You will get an error if you try to access an item using an index that is too big for the list."
      ]
    },
    {
      "cell_type": "code",
      "execution_count": null,
      "metadata": {
        "id": "jP7iKAwEH8Ws",
        "outputId": "97359c72-d867-472f-fb1e-01cf81d3eab4"
      },
      "outputs": [
        {
          "ename": "IndexError",
          "evalue": "list index out of range",
          "output_type": "error",
          "traceback": [
            "\u001b[0;31m---------------------------------------------------------------------------\u001b[0m",
            "\u001b[0;31mIndexError\u001b[0m                                Traceback (most recent call last)",
            "\u001b[0;32m<ipython-input-5-304a6e9e3e9b>\u001b[0m in \u001b[0;36m<module>\u001b[0;34m\u001b[0m\n\u001b[1;32m      1\u001b[0m \u001b[0mdoctor_who_actors\u001b[0m \u001b[0;34m=\u001b[0m \u001b[0;34m[\u001b[0m\u001b[0;34m\"Tennant\"\u001b[0m\u001b[0;34m,\u001b[0m\u001b[0;34m\"Smith\"\u001b[0m\u001b[0;34m,\u001b[0m\u001b[0;34m\"Capaldi\"\u001b[0m\u001b[0;34m,\u001b[0m\u001b[0;34m\"Whittaker\"\u001b[0m\u001b[0;34m,\u001b[0m \u001b[0;34m\"Gatwa\"\u001b[0m\u001b[0;34m]\u001b[0m\u001b[0;34m\u001b[0m\u001b[0;34m\u001b[0m\u001b[0m\n\u001b[0;32m----> 2\u001b[0;31m \u001b[0mprint\u001b[0m\u001b[0;34m(\u001b[0m\u001b[0mdoctor_who_actors\u001b[0m\u001b[0;34m[\u001b[0m\u001b[0;36m5\u001b[0m\u001b[0;34m]\u001b[0m\u001b[0;34m)\u001b[0m\u001b[0;34m\u001b[0m\u001b[0;34m\u001b[0m\u001b[0m\n\u001b[0m",
            "\u001b[0;31mIndexError\u001b[0m: list index out of range"
          ]
        }
      ],
      "source": [
        "doctor_who_actors = [\"Tennant\",\"Smith\",\"Capaldi\",\"Whittaker\", \"Gatwa\"]\n",
        "print(doctor_who_actors[5])"
      ]
    },
    {
      "cell_type": "markdown",
      "metadata": {
        "id": "eROa5xtpH8Ws"
      },
      "source": [
        "But, if you use a negative index, it will count from the back of the list."
      ]
    },
    {
      "cell_type": "code",
      "execution_count": null,
      "metadata": {
        "id": "0Qiwf35qH8Ws",
        "outputId": "8ee26ff2-107e-40dd-f147-072e5ade54d0"
      },
      "outputs": [
        {
          "name": "stdout",
          "output_type": "stream",
          "text": [
            "Gatwa is the current Doctor.\n",
            "Whittaker was the previous Doctor.\n"
          ]
        }
      ],
      "source": [
        "doctor_who_actors = [\"Tennant\",\"Smith\",\"Capaldi\",\"Whittaker\", \"Gatwa\"]\n",
        "print(doctor_who_actors[-1], \"is the current Doctor.\")\n",
        "print(doctor_who_actors[-2], \"was the previous Doctor.\")"
      ]
    },
    {
      "cell_type": "markdown",
      "metadata": {
        "id": "aCfwewpGH8Ws"
      },
      "source": [
        "## Updating items in a list\n",
        "\n",
        "You can also use list notation to change values in a list:\n",
        "- use the index to the position in the list you'd like to change (`rainfall_amounts[2]`) on the right hand side of the assignment operator `=` and the value on the left"
      ]
    },
    {
      "cell_type": "code",
      "execution_count": null,
      "metadata": {
        "id": "oKuS3SrcH8Wt"
      },
      "outputs": [],
      "source": [
        "rainfall_amounts = [0.0, 0.3, 0.71, 0.0, 0.32, 1.1, 0.4]\n",
        "rainfall_amounts[2] = 0.65\n",
        "print(rainfall_amounts)"
      ]
    },
    {
      "cell_type": "markdown",
      "metadata": {
        "id": "YBASqnjNH8Wt"
      },
      "source": [
        "## Group Exercises:\n",
        "\n",
        "Fill in the blank:"
      ]
    },
    {
      "cell_type": "code",
      "execution_count": null,
      "metadata": {
        "id": "nvgaqH7KH8Wt"
      },
      "outputs": [],
      "source": [
        "rainfall_amounts = [0.0, 0.3, 0.71, 0.0, 0.32, 1.1, 0.4]\n",
        "day_num = int(input(\"Enter the number of a day 0-6: \"))\n",
        "print(\"Day\",day_num,\"had\",         ,\"inches of rainfall\") #Fill in the blank"
      ]
    },
    {
      "cell_type": "markdown",
      "metadata": {
        "id": "zgMZp_D-H8Wt"
      },
      "source": [
        "Add the line of code that will update the list with the new value."
      ]
    },
    {
      "cell_type": "code",
      "execution_count": null,
      "metadata": {
        "id": "o0NmdfXKH8Wu"
      },
      "outputs": [],
      "source": [
        "rainfall_amounts = [0.0, 0.3, 0.71, 0.0, 0.32, 1.1, 0.4]\n",
        "day_num = int(input(\"Enter the number of a day 0-6: \"))\n",
        "new_amt = float(input(\"Enter an updated rainfall amount for that day: \"))\n",
        "#new line of code here\n",
        "rainfall_amounts[day_num] = new_amt\n",
        "print(rainfall_amounts)"
      ]
    },
    {
      "cell_type": "markdown",
      "metadata": {
        "id": "LUA9CZoFH8Wu"
      },
      "source": [
        "## Functions\n",
        "\n",
        "There are several useful functions that you can use on lists.\n",
        "\n",
        "Some of them require you to pass the list as an argument"
      ]
    },
    {
      "cell_type": "code",
      "execution_count": null,
      "metadata": {
        "id": "0YxAeLKoH8Wu"
      },
      "outputs": [],
      "source": [
        "rainfall_amounts = [0.0, 0.3, 0.71, 0.0, 0.32, 1.1, 0.4]\n",
        "len(rainfall_amounts) #length of the list"
      ]
    },
    {
      "cell_type": "code",
      "execution_count": null,
      "metadata": {
        "id": "_KKC697EH8Wu"
      },
      "outputs": [],
      "source": [
        "max(rainfall_amounts) #largest value in the list"
      ]
    },
    {
      "cell_type": "markdown",
      "metadata": {
        "id": "aqPcqNj5H8Wu"
      },
      "source": [
        "Some of them require to use the dot notation.\n",
        "\n",
        "Whenever you use a function with dot notation, it is technically called a __method__. The distinction will become more important later, but for now, don't be confused if you see the word _method_ in documentation like here: https://docs.python.org/3/tutorial/datastructures.html"
      ]
    },
    {
      "cell_type": "code",
      "execution_count": null,
      "metadata": {
        "id": "eaYZTuL3H8Wu"
      },
      "outputs": [],
      "source": [
        "rainfall_amounts = [0.0, 0.3, 0.71, 0.0, 0.32, 1.1, 0.4]\n",
        "rainfall_amounts.index(0.71) #which index can I find 0.3 at?"
      ]
    },
    {
      "cell_type": "code",
      "execution_count": null,
      "metadata": {
        "id": "Ukp_I7xxH8Wv"
      },
      "outputs": [],
      "source": [
        "rainfall_amounts.count(0.0) #how many times does 0.0 appear in the list?"
      ]
    },
    {
      "cell_type": "markdown",
      "metadata": {
        "id": "5n1pI1M8H8Wv"
      },
      "source": [
        "## Group Exercises:"
      ]
    },
    {
      "cell_type": "code",
      "execution_count": null,
      "metadata": {
        "id": "v1FW51WFH8Wv",
        "outputId": "60ac78dd-5f32-48f5-bc51-99c08929bb65"
      },
      "outputs": [
        {
          "name": "stdout",
          "output_type": "stream",
          "text": [
            "5\n",
            "Whittaker\n",
            "0.0\n",
            "2.83\n",
            "[0.4, 1.1, 0.32, 0.0, 0.71, 0.3, 0.0]\n",
            "[0.0, 0.0, 0.3, 0.32, 0.4, 0.71, 1.1]\n",
            "0\n"
          ]
        }
      ],
      "source": [
        "doctor_who_actors = [\"Tennant\",\"Smith\",\"Capaldi\",\"Whittaker\", \"Gatwa\"]\n",
        "print( len(doctor_who_actors) )\n",
        "print( max(doctor_who_actors) )\n",
        "\n",
        "rainfall_amounts = [0.0, 0.3, 0.71, 0.0, 0.32, 1.1, 0.4]\n",
        "print( min(rainfall_amounts) )\n",
        "print( sum(rainfall_amounts) )\n",
        "\n",
        "rainfall_amounts.reverse()\n",
        "print(rainfall_amounts)\n",
        "\n",
        "rainfall_amounts.sort()\n",
        "print(rainfall_amounts)\n",
        "print(doctor_who_actors.index(\"Tennant\"))"
      ]
    },
    {
      "cell_type": "markdown",
      "metadata": {
        "id": "6ryg8ho6H8Wv"
      },
      "source": [
        "Execute this code and answer the following questions:\n",
        "- What do the `min()` and `sum()` functions do?\n",
        "- What do the `reverse()` and `sort()` function do?\n",
        "- Can you apply `sum()` too the `doctor_who_actors` list?\n",
        "- Write the line of code that will tell you which index `\"Tennant\"` appears at in the `doctor_who_actors` list."
      ]
    },
    {
      "cell_type": "markdown",
      "metadata": {
        "id": "1DlHuYiNH8Wv"
      },
      "source": [
        "## Testing membership in a list\n",
        "\n",
        "You can test if a value is in a list using the `in` operator."
      ]
    },
    {
      "cell_type": "code",
      "execution_count": null,
      "metadata": {
        "id": "Sj-BRVoJH8Ww"
      },
      "outputs": [],
      "source": [
        "doctor_who_actors = [\"McGann\",\"Eccleston\",\"Tennant\",\"Smith\",\"Capaldi\",\"Whittaker\"]\n",
        "print(\"Smith\" in doctor_who_actors)"
      ]
    },
    {
      "cell_type": "code",
      "execution_count": null,
      "metadata": {
        "id": "2kLORGuxH8Ww"
      },
      "outputs": [],
      "source": [
        "rainfall_amounts = [0.0, 0.3, 0.71, 0.0, 0.32, 1.1, 0.4]\n",
        "amt = float(input(\"Enter a rainfall amount: \"))\n",
        "if amt in rainfall_amounts:\n",
        "    print(\"that amount appears in the list\")"
      ]
    },
    {
      "cell_type": "markdown",
      "metadata": {
        "id": "N842pYH3H8Ww"
      },
      "source": [
        "## Group Exercise\n",
        "\n",
        "Fill in the blank"
      ]
    },
    {
      "cell_type": "code",
      "execution_count": null,
      "metadata": {
        "id": "ukXCcvKVH8Ww"
      },
      "outputs": [],
      "source": [
        "doctor_who_actors = [\"McGann\",\"Eccleston\",\"Tennant\",\"Smith\",\"Capaldi\",\"Whittaker\"]\n",
        "actor = input(\"Enter the last jname of an actor: \")\n",
        "\n",
        "if ___________________ :   #fill in the blank\n",
        "    print(actor,\"has played Doctor Who.\")\n",
        "else:\n",
        "    print(actor, \"has not played Doctor Who... yet\")"
      ]
    },
    {
      "cell_type": "markdown",
      "metadata": {
        "hideCode": false,
        "hidePrompt": false,
        "id": "RJwmD2IUH8Ww"
      },
      "source": [
        "## Appending items to the end of a list\n",
        "\n",
        "Add new items to the end of a list using the `append()` list method."
      ]
    },
    {
      "cell_type": "code",
      "execution_count": null,
      "metadata": {
        "hideCode": false,
        "hidePrompt": false,
        "id": "DlaxdJYwH8Ww"
      },
      "outputs": [],
      "source": [
        "rainfall_amounts = [0.0, 0.3, 0.71, 0.0, 0.32, 1.1, 0.4]\n",
        "rainfall_amounts.append(0.1)\n",
        "print(rainfall_amounts)"
      ]
    },
    {
      "cell_type": "markdown",
      "metadata": {
        "hideCode": false,
        "hidePrompt": false,
        "id": "1M29HLXNH8Wx"
      },
      "source": [
        "## Inserting new items into the beginning/middle of a list\n",
        "\n",
        "Add new items to the beginning or middlle of a list using the `insert()` method."
      ]
    },
    {
      "cell_type": "code",
      "execution_count": null,
      "metadata": {
        "hideCode": false,
        "hidePrompt": false,
        "id": "AkQoBMdZH8Wx"
      },
      "outputs": [],
      "source": [
        "doctor_who_actors = [\"McGann\",\"Eccleston\",\"Tennant\",\"Smith\",\"Capaldi\",\"Whittaker\"]\n",
        "doctor_who_actors.insert(1,\"Hurt\")\n",
        "print(doctor_who_actors)"
      ]
    },
    {
      "cell_type": "markdown",
      "metadata": {
        "id": "V1ulUG_FH8Wx"
      },
      "source": [
        "## Group Exercise:\n",
        "\n",
        "A programmer wants to write a program that allows new rainfall amounts to appear at the beginning of the list. Here's the code they wrote for it, but they have an error in their code. Explain the problem and fix the code."
      ]
    },
    {
      "cell_type": "code",
      "execution_count": null,
      "metadata": {
        "id": "-N6ht7BiH8Wx"
      },
      "outputs": [],
      "source": [
        "rainfall_amounts = [0.0, 0.3, 0.71, 0.0, 0.32, 1.1, 0.4]\n",
        "new_val = float(input(\"Enter a new amount: \"))\n",
        "rainfall_amounts.append(new_val)\n",
        "print(rainfall_amounts)"
      ]
    },
    {
      "cell_type": "markdown",
      "metadata": {
        "hideCode": false,
        "hidePrompt": false,
        "id": "IYUhAfabH8Wx"
      },
      "source": [
        "## Removing items by value\n",
        "\n",
        "When you know the __value__ of the item you want to delete from the list, use the `remove()` method.\n",
        "\n",
        "This will only delete the first instance of the value.\n",
        "\n",
        "If the item isn't there, it will give an error."
      ]
    },
    {
      "cell_type": "code",
      "execution_count": null,
      "metadata": {
        "hideCode": false,
        "hidePrompt": false,
        "id": "B1GeqqGUH8Wx"
      },
      "outputs": [],
      "source": [
        "rainfall_amounts = [0.0, 0.3, 0.71, 0.0, 0.32, 1.1, 0.4]\n",
        "rainfall_amounts.remove(0.0)\n",
        "print(rainfall_amounts)"
      ]
    },
    {
      "cell_type": "markdown",
      "metadata": {
        "id": "DCOmZvrwH8Wx"
      },
      "source": [
        "## Removing items by index\n",
        "\n",
        "When you know the position of the item you want to delete, use the `pop()` method."
      ]
    },
    {
      "cell_type": "code",
      "execution_count": null,
      "metadata": {
        "id": "toswEPs5H8Wy"
      },
      "outputs": [],
      "source": [
        "rainfall_amounts = [0.0, 0.3, 0.71, 0.0, 0.32, 1.1, 0.4]\n",
        "value = rainfall_amounts.pop(5)\n",
        "print(rainfall_amounts)\n",
        "print(value)"
      ]
    },
    {
      "cell_type": "markdown",
      "metadata": {
        "id": "PjRBzlNEH8Wy"
      },
      "source": [
        "## Group Exercise:\n",
        "\n",
        "A programmer wants to write a program that allows the user to enter a rain amount and then remove that if it is in the list. However, when they test this code, some of the tests cause the program to crash. Explain the problem and write the code that will fix it (_Hint: you might need to add an `if` statement_)."
      ]
    },
    {
      "cell_type": "code",
      "execution_count": null,
      "metadata": {
        "id": "g-D4XKlKH8Wy"
      },
      "outputs": [],
      "source": [
        "rainfall_amounts = [0.0, 0.3, 0.71, 0.0, 0.32, 1.1, 0.4]\n",
        "val_to_remove = float(input(\"Enter a value to remove: \"))\n",
        "\n",
        "if val_to_remove in rainfall_amounts:\n",
        "    rainfall_amounts.remove(val_to_remove)\n",
        "else:\n",
        "    print(\"that's not in the list\")\n",
        "print(rainfall_amounts)"
      ]
    },
    {
      "cell_type": "markdown",
      "metadata": {
        "id": "5VisvZtLH8Wy"
      },
      "source": [
        "# You should be working on:"
      ]
    },
    {
      "cell_type": "markdown",
      "metadata": {
        "id": "6oPO-fEEH8Wy"
      },
      "source": [
        "- Lab #3 is due tonight by 11:59\n",
        "- Quiz #1 is due tonight by 11:59\n",
        "\n",
        "[Reading #4 Lists](https://analytics.drake.edu/~urness/CS65Text/Chapter9.html)"
      ]
    },
    {
      "cell_type": "code",
      "execution_count": null,
      "metadata": {
        "id": "BRn7rOoQH8Wz"
      },
      "outputs": [],
      "source": []
    }
  ],
  "metadata": {
    "celltoolbar": "Slideshow",
    "kernelspec": {
      "display_name": "Python 3",
      "language": "python",
      "name": "python3"
    },
    "language_info": {
      "codemirror_mode": {
        "name": "ipython",
        "version": 3
      },
      "file_extension": ".py",
      "mimetype": "text/x-python",
      "name": "python",
      "nbconvert_exporter": "python",
      "pygments_lexer": "ipython3",
      "version": "3.8.3"
    },
    "colab": {
      "provenance": [],
      "include_colab_link": true
    }
  },
  "nbformat": 4,
  "nbformat_minor": 0
}