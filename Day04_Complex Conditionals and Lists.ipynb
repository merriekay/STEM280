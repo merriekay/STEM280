{
 "cells": [
  {
   "cell_type": "markdown",
   "metadata": {
    "slideshow": {
     "slide_type": "slide"
    }
   },
   "source": [
    "# STEM280: Day04\n",
    "## Complex Conditionals and Lists\n",
    "\n",
    "####  STEM 280: Introduction to Computer Science I | Summer 2023\n",
    "\n",
    "Tuesday, July 17th, 2023\n",
    "\n",
    " 📜 [Syllabus](https://docs.google.com/document/d/1LMCXdvynDdj4QWc0T9DgF4tos4PYLBpwOPHRC8BO-rA/edit?usp=sharing) | 📬 [CodePost Login](https://codepost.io/login) | 📆 [Schedule](https://docs.google.com/spreadsheets/d/e/2PACX-1vQiF1fOj8DS9cAab8N9gVPdHtNYzXs9GCBNMdPc3xWbg_qfXanppZrFVqxVSa_H_zy9WyCmGMQSAZEp/pubhtml)"
   ]
  },
  {
   "cell_type": "markdown",
   "metadata": {
    "slideshow": {
     "slide_type": "slide"
    }
   },
   "source": [
    "> Note to self: Make sure you're recording 🎥"
   ]
  },
  {
   "cell_type": "markdown",
   "metadata": {
    "slideshow": {
     "slide_type": "slide"
    }
   },
   "source": [
    "# Admin Stuff"
   ]
  },
  {
   "cell_type": "markdown",
   "metadata": {
    "slideshow": {
     "slide_type": "fragment"
    }
   },
   "source": [
    "# You should be working on:\n",
    "- Lab #3 is due tonight by 11:59\n",
    "- Quiz #1 is due tonight by 11:59\n",
    "\n",
    "[Reading #4 Lists](https://analytics.drake.edu/~urness/CS65Text/Chapter9.html)"
   ]
  },
  {
   "cell_type": "markdown",
   "metadata": {
    "slideshow": {
     "slide_type": "slide"
    }
   },
   "source": [
    "# ⏪ Quick Review:"
   ]
  },
  {
   "cell_type": "markdown",
   "metadata": {
    "slideshow": {
     "slide_type": "slide"
    }
   },
   "source": [
    "## Conditionals Review\n",
    "\n",
    "So far, we've seen *conditional statements*"
   ]
  },
  {
   "cell_type": "code",
   "execution_count": null,
   "metadata": {
    "slideshow": {
     "slide_type": "-"
    }
   },
   "outputs": [],
   "source": [
    "total_bill = 35.63\n",
    "age = float(input(\"What is your age? \"))\n",
    "\n",
    "if age > 65:\n",
    "    print(\"Applying 10% senior discount\")\n",
    "    total_bill = total_bill * 0.9\n",
    "    #any indented code is only runs\n",
    "    #when the condition is True\n",
    "    \n",
    "#un-indented code runs no matter what\n",
    "print(\"Your total bill is\", total_bill)"
   ]
  },
  {
   "cell_type": "markdown",
   "metadata": {
    "slideshow": {
     "slide_type": "subslide"
    }
   },
   "source": [
    "conditional statements with two alternatives"
   ]
  },
  {
   "cell_type": "code",
   "execution_count": null,
   "metadata": {},
   "outputs": [],
   "source": [
    "height = float(input(\"Enter your height in inches: \"))\n",
    "\n",
    "if height < 60:\n",
    "    print(\"You are not tall enough for this ride.\")\n",
    "else:\n",
    "    print(\"You are tall enough for this ride.\")"
   ]
  },
  {
   "cell_type": "markdown",
   "metadata": {
    "slideshow": {
     "slide_type": "subslide"
    }
   },
   "source": [
    "and in the lab, we saw _nested_ conditional statements"
   ]
  },
  {
   "cell_type": "code",
   "execution_count": null,
   "metadata": {},
   "outputs": [],
   "source": [
    "num = int(input(\"Enter a number: \"))\n",
    "\n",
    "#this code checks if a number is divisible by both 2 and 3\n",
    "if num % 2 == 0:\n",
    "    print(num,\"is even\")\n",
    "else:\n",
    "    if num % 3 == 0:\n",
    "        print(num,\"is odd and divisble by 3\")\n",
    "    else:\n",
    "        print(num,\"is odd and not divisible by 3\")"
   ]
  },
  {
   "cell_type": "markdown",
   "metadata": {
    "slideshow": {
     "slide_type": "slide"
    }
   },
   "source": [
    "# ✨ New Material"
   ]
  },
  {
   "cell_type": "markdown",
   "metadata": {
    "slideshow": {
     "slide_type": "slide"
    }
   },
   "source": [
    "## Group Exercise: Comparing Strings\n",
    "\n",
    "Type the following program into Thonny, and run it several times. What does it do?"
   ]
  },
  {
   "cell_type": "code",
   "execution_count": null,
   "metadata": {},
   "outputs": [],
   "source": [
    "name1 = input(\"Enter a name: \")\n",
    "name2 = input(\"Enter another name: \")\n",
    "\n",
    "if name1 < name2:\n",
    "    print(name1,\"is first\")\n",
    "else:\n",
    "    print(name2,\"is first\")"
   ]
  },
  {
   "cell_type": "markdown",
   "metadata": {
    "slideshow": {
     "slide_type": "subslide"
    }
   },
   "source": [
    "Is string comparison in Python case-sensitive? E.g., is `\"Meredith\"` the same as `\"meredith\"`? How could we test it?"
   ]
  },
  {
   "cell_type": "code",
   "execution_count": null,
   "metadata": {},
   "outputs": [],
   "source": [
    "answer = input(\"Yes or no?\")\n",
    "\n",
    "if answer.lower().strip() == \"yes\":\n",
    "    print(\"Huzzah!\")"
   ]
  },
  {
   "cell_type": "markdown",
   "metadata": {
    "slideshow": {
     "slide_type": "slide"
    }
   },
   "source": [
    "## Character representation\n",
    "\n",
    "Every text character is represented by a numerical code in your computer's memory. \n",
    "\n",
    "They came up with in the 1960's as part of the ASCII standard (https://en.wikipedia.org/wiki/ASCII)\n",
    "\n",
    "Here's some examples\n",
    "\n",
    "<table>\n",
    "<tr>\n",
    "    <td style=\"padding:30px\">\n",
    "        <table>\n",
    "            <tr><th> code </th> <th>character </tr>\n",
    "            <tr><td>33 </td><td> !</td></tr>\n",
    "            <tr><td>34 </td><td> \"</td></tr>\n",
    "            <tr><td>35 </td><td> #</td></tr>\n",
    "            <tr><td>36 </td><td> $</td></tr>\n",
    "            <tr><td>37 </td><td> % </td></tr>      \n",
    "        </table>      \n",
    "    </td>\n",
    "    <td style=\"padding:30px\">\n",
    "        <table>\n",
    "            <tr><th> code </th> <th>character </tr>\n",
    "            <tr><td>65 </td><td> A</td></tr>\n",
    "            <tr><td>66 </td><td> B</td></tr>\n",
    "            <tr><td>67 </td><td> C</td></tr>\n",
    "            <tr><td>68 </td><td> D</td></tr>\n",
    "            <tr><td>69 </td><td> E </td></tr>      \n",
    "        </table>\n",
    "    </td>\n",
    "    <td style=\"padding:30px\">\n",
    "        <table>\n",
    "            <tr><th> code </th> <th>character </tr>\n",
    "            <tr><td>97 </td><td> a</td></tr>\n",
    "            <tr><td>98 </td><td> b</td></tr>\n",
    "            <tr><td>99 </td><td> c</td></tr>\n",
    "            <tr><td>100 </td><td> d</td></tr>\n",
    "            <tr><td>101 </td><td> e </td></tr>      \n",
    "        </table>     \n",
    "    </td\n",
    "</tr>\n",
    "</table>"
   ]
  },
  {
   "cell_type": "markdown",
   "metadata": {
    "slideshow": {
     "slide_type": "subslide"
    }
   },
   "source": [
    "You can use the built-in `ord()` function to look up the code for any given character. Use `chr()` to do the opposite."
   ]
  },
  {
   "cell_type": "code",
   "execution_count": null,
   "metadata": {},
   "outputs": [],
   "source": [
    "ord(\"m\")"
   ]
  },
  {
   "cell_type": "code",
   "execution_count": null,
   "metadata": {},
   "outputs": [],
   "source": [
    "chr(109)"
   ]
  },
  {
   "cell_type": "markdown",
   "metadata": {
    "slideshow": {
     "slide_type": "slide"
    }
   },
   "source": [
    "## Helpful String Functions\n",
    "\n",
    "Here are two helpful functions that will come in handy when using strings:\n",
    "- `lower()`: will return the string with all lowercase letters [documentation](https://python-reference.readthedocs.io/en/latest/docs/str/lower.html)\n",
    "- `upper()`: will return the string with all uppercase letters [documentation](https://python-reference.readthedocs.io/en/latest/docs/str/upper.html)\n",
    "- `strip()`: will return the string without any leading or trailing whitespace [documentation](https://python-reference.readthedocs.io/en/latest/docs/str/strip.html)"
   ]
  },
  {
   "cell_type": "code",
   "execution_count": null,
   "metadata": {},
   "outputs": [],
   "source": [
    "fruit = input(\"What is your favorite fruit?\")\n",
    "print(\"fruit.lower():\", fruit.lower())\n",
    "print(\"fruit.upper():\", fruit.upper())\n",
    "print(\"fruit.strip():\", fruit.strip())\n",
    "\n",
    "if fruit.lower().strip() == 'bananas':\n",
    "    print(\"Wow, that's bananas.\")"
   ]
  },
  {
   "cell_type": "markdown",
   "metadata": {
    "slideshow": {
     "slide_type": "slide"
    }
   },
   "source": [
    "## Other conditional statement options\n",
    "\n",
    "There are also __chained conditional statements__ when you have more than two choices\n",
    "\n",
    "`elif` a new keyword meaning \"else if\" which allows you to add as many more options to a conditional statement as you want."
   ]
  },
  {
   "cell_type": "code",
   "execution_count": null,
   "metadata": {},
   "outputs": [],
   "source": [
    "temp = float(input(\"What's the temperature? \"))\n",
    "\n",
    "if temp >= 70:\n",
    "    print(\"Let's go hiking.\")\n",
    "elif temp >= 30:\n",
    "    print(\"Let's put on jackets and go hiking.\")\n",
    "elif temp >= 10:\n",
    "    print(\"Let's go skiing.\")\n",
    "else:\n",
    "    print(\"It's too cold. Let's stay in and code.\")"
   ]
  },
  {
   "cell_type": "markdown",
   "metadata": {
    "slideshow": {
     "slide_type": "subslide"
    }
   },
   "source": [
    "Note:\n",
    "* `else` part is still optional but gives you the opportunity for \"default\" behavior\n",
    "* at most one block in a `if-elif-else statement` will run"
   ]
  },
  {
   "cell_type": "markdown",
   "metadata": {
    "slideshow": {
     "slide_type": "subslide"
    }
   },
   "source": [
    "## a common chained-conditional logic error\n",
    "\n",
    "Take a look at this code... see if you can spot the error."
   ]
  },
  {
   "cell_type": "code",
   "execution_count": null,
   "metadata": {},
   "outputs": [],
   "source": [
    "temp = float(input(\"What's the temperature? \"))\n",
    "\n",
    "if temp >= 70:\n",
    "    print(\"Let's go hiking.\")\n",
    "elif temp >= 30:\n",
    "    print(\"Let's put on jackets and go hiking.\")\n",
    "elif temp >= 10:\n",
    "    print(\"Let's go skiing.\")\n",
    "else:\n",
    "    print(\"It's too cold. Let's stay in and code.\")"
   ]
  },
  {
   "cell_type": "markdown",
   "metadata": {
    "slideshow": {
     "slide_type": "fragment"
    }
   },
   "source": [
    "Make sure to put the conditions in the order you want to check them - the first one to evalute to `True` will be the one that runs."
   ]
  },
  {
   "cell_type": "markdown",
   "metadata": {
    "slideshow": {
     "slide_type": "slide"
    }
   },
   "source": [
    "## Logical Operators\n",
    "\n",
    "__Logical operators__ are operators that take Booleans as operands: `and`, `or`, `not`"
   ]
  },
  {
   "cell_type": "code",
   "execution_count": null,
   "metadata": {},
   "outputs": [],
   "source": [
    "temp = float(input(\"What's the temperature? \"))\n",
    "raining = input(\"Is it raining? \")\n",
    "\n",
    "if temp < 50 or raining == 'yes':\n",
    "    print(\"Grab your coat.\")\n",
    "\n",
    "if not (raining == 'yes') and temp > 70:\n",
    "    print(\"Grab your mitt.\")"
   ]
  },
  {
   "cell_type": "code",
   "execution_count": null,
   "metadata": {
    "slideshow": {
     "slide_type": "slide"
    }
   },
   "outputs": [],
   "source": [
    "a = 2\n",
    "b = 4\n",
    "c = 6"
   ]
  },
  {
   "cell_type": "markdown",
   "metadata": {},
   "source": [
    "See if you can work out the values below before the answer is revealed"
   ]
  },
  {
   "cell_type": "code",
   "execution_count": null,
   "metadata": {
    "slideshow": {
     "slide_type": "-"
    }
   },
   "outputs": [],
   "source": [
    "a == 4 or b > 2"
   ]
  },
  {
   "cell_type": "code",
   "execution_count": null,
   "metadata": {
    "slideshow": {
     "slide_type": "-"
    }
   },
   "outputs": [],
   "source": [
    "6 <= c and a > 3"
   ]
  },
  {
   "cell_type": "code",
   "execution_count": null,
   "metadata": {
    "slideshow": {
     "slide_type": "-"
    }
   },
   "outputs": [],
   "source": [
    "1 != b and c != 3"
   ]
  },
  {
   "cell_type": "code",
   "execution_count": null,
   "metadata": {
    "slideshow": {
     "slide_type": "-"
    }
   },
   "outputs": [],
   "source": [
    "a >= -1 or a <= b"
   ]
  },
  {
   "cell_type": "code",
   "execution_count": null,
   "metadata": {
    "slideshow": {
     "slide_type": "-"
    }
   },
   "outputs": [],
   "source": [
    "not a > 2"
   ]
  },
  {
   "cell_type": "markdown",
   "metadata": {
    "slideshow": {
     "slide_type": "slide"
    }
   },
   "source": [
    "Logical operators are pretty intuitive because we use them in our natural language, but they can sometimes be tricky when you get complex expressions."
   ]
  },
  {
   "cell_type": "code",
   "execution_count": null,
   "metadata": {},
   "outputs": [],
   "source": [
    "a = 2\n",
    "b = 4\n",
    "c = 6\n",
    "result = a == 2 or b != 2 and c != 6 or a == b + c\n",
    "print(result)"
   ]
  },
  {
   "cell_type": "markdown",
   "metadata": {
    "slideshow": {
     "slide_type": "fragment"
    }
   },
   "source": [
    "Rule of thumb: Always use parentheses when you have more than one logical operator"
   ]
  },
  {
   "attachments": {},
   "cell_type": "markdown",
   "metadata": {
    "slideshow": {
     "slide_type": "slide"
    }
   },
   "source": [
    "## Group Exercise:\n",
    "\n",
    "Using this flow chart, write a program that will ask the user questions about an emergency and recommend how they should respond. (image credit [cpr.heart.org](https://cpr.heart.org/en/resuscitation-science/cpr-and-ecc-guidelines/algorithms))\n",
    "\n",
    "<div>\n",
    "<img src=\"images/day04_heart.jpeg\" width=\"600\"/>\n",
    "</div>\n"
   ]
  },
  {
   "cell_type": "code",
   "execution_count": null,
   "metadata": {
    "slideshow": {
     "slide_type": "subslide"
    }
   },
   "outputs": [],
   "source": [
    "# Let's go through this one together:\n"
   ]
  },
  {
   "cell_type": "markdown",
   "metadata": {},
   "source": [
    "# Break time!\n",
    "\n",
    "Be back by: "
   ]
  },
  {
   "cell_type": "markdown",
   "metadata": {
    "slideshow": {
     "slide_type": "slide"
    }
   },
   "source": [
    "# Containers\n",
    "\n",
    "Some types in Python are used for storing a collection of values. These types are called __containers__. \n",
    "\n",
    "__List:__ a container type that stores values in a ordered _sequence_"
   ]
  },
  {
   "attachments": {},
   "cell_type": "markdown",
   "metadata": {
    "slideshow": {
     "slide_type": "subslide"
    }
   },
   "source": [
    "<div>\n",
    "<img src=\"images/day04_doctors.png\" width=\"300\"/>\n",
    "</div>\n"
   ]
  },
  {
   "cell_type": "code",
   "execution_count": 2,
   "metadata": {},
   "outputs": [],
   "source": [
    "doctor_who_actors = [\"Tennant\",\"Smith\",\"Capaldi\",\"Whittaker\", \"Gatwa\"]\n",
    "rainfall_amounts = [0.0, 0.3, 0.71, 0.0, 0.32, 1.1, 0.4]\n",
    "dates = [\"March 14, 2020\",2021,\"4/1\"]\n",
    "empty_list = []"
   ]
  },
  {
   "cell_type": "markdown",
   "metadata": {},
   "source": [
    "values in a list are called __items__ or __elements__, e.g., `\"Capaldi\"`, `0.3`\n",
    "\n",
    "Syntax: start with `[`, end with `]`, separate with `,`"
   ]
  },
  {
   "cell_type": "markdown",
   "metadata": {
    "slideshow": {
     "slide_type": "slide"
    }
   },
   "source": [
    "## Accessing items in a list\n",
    "\n",
    "You can access individual items in a list using their __index__, which is their position in the list:\n",
    "- indices _start at 0_\n",
    "- Use `[ ]` at the end of the list to access the index\n",
    "- Between the brackets, you can put a number or a variable (of type int)\n"
   ]
  },
  {
   "cell_type": "code",
   "execution_count": 4,
   "metadata": {
    "slideshow": {
     "slide_type": "fragment"
    }
   },
   "outputs": [
    {
     "name": "stdout",
     "output_type": "stream",
     "text": [
      "Whittaker\n"
     ]
    }
   ],
   "source": [
    "#           index:       0      1          2        3          4 (notice it doens't go to 5, since we start at 0)\n",
    "doctor_who_actors = [\"Tennant\",\"Smith\",\"Capaldi\",\"Whittaker\", \"Gatwa\"]\n",
    "print(doctor_who_actors[3]) "
   ]
  },
  {
   "cell_type": "code",
   "execution_count": null,
   "metadata": {
    "slideshow": {
     "slide_type": "fragment"
    }
   },
   "outputs": [],
   "source": [
    "i = 4\n",
    "rainfall_amounts = [0.0, 0.3, 0.71, 0.0, 0.32, 1.1, 0.4]\n",
    "print(rainfall_amounts[i])"
   ]
  },
  {
   "cell_type": "markdown",
   "metadata": {
    "slideshow": {
     "slide_type": "subslide"
    }
   },
   "source": [
    "Using index notation, you can treat an item in a list like any other variable"
   ]
  },
  {
   "cell_type": "code",
   "execution_count": null,
   "metadata": {},
   "outputs": [],
   "source": [
    "rainfall_amounts = [0.0, 0.3, 0.71, 0.0, 0.32, 1.1, 0.4]\n",
    "total_weekend_rainfall = rainfall_amounts[5] + rainfall_amounts[6] \n",
    "total_weekend_rainfall "
   ]
  },
  {
   "cell_type": "markdown",
   "metadata": {
    "slideshow": {
     "slide_type": "subslide"
    }
   },
   "source": [
    "You will get an error if you try to access an item using an index that is too big for the list."
   ]
  },
  {
   "cell_type": "code",
   "execution_count": 5,
   "metadata": {},
   "outputs": [
    {
     "ename": "IndexError",
     "evalue": "list index out of range",
     "output_type": "error",
     "traceback": [
      "\u001b[0;31m---------------------------------------------------------------------------\u001b[0m",
      "\u001b[0;31mIndexError\u001b[0m                                Traceback (most recent call last)",
      "\u001b[0;32m<ipython-input-5-304a6e9e3e9b>\u001b[0m in \u001b[0;36m<module>\u001b[0;34m\u001b[0m\n\u001b[1;32m      1\u001b[0m \u001b[0mdoctor_who_actors\u001b[0m \u001b[0;34m=\u001b[0m \u001b[0;34m[\u001b[0m\u001b[0;34m\"Tennant\"\u001b[0m\u001b[0;34m,\u001b[0m\u001b[0;34m\"Smith\"\u001b[0m\u001b[0;34m,\u001b[0m\u001b[0;34m\"Capaldi\"\u001b[0m\u001b[0;34m,\u001b[0m\u001b[0;34m\"Whittaker\"\u001b[0m\u001b[0;34m,\u001b[0m \u001b[0;34m\"Gatwa\"\u001b[0m\u001b[0;34m]\u001b[0m\u001b[0;34m\u001b[0m\u001b[0;34m\u001b[0m\u001b[0m\n\u001b[0;32m----> 2\u001b[0;31m \u001b[0mprint\u001b[0m\u001b[0;34m(\u001b[0m\u001b[0mdoctor_who_actors\u001b[0m\u001b[0;34m[\u001b[0m\u001b[0;36m5\u001b[0m\u001b[0;34m]\u001b[0m\u001b[0;34m)\u001b[0m\u001b[0;34m\u001b[0m\u001b[0;34m\u001b[0m\u001b[0m\n\u001b[0m",
      "\u001b[0;31mIndexError\u001b[0m: list index out of range"
     ]
    }
   ],
   "source": [
    "doctor_who_actors = [\"Tennant\",\"Smith\",\"Capaldi\",\"Whittaker\", \"Gatwa\"]\n",
    "print(doctor_who_actors[5])"
   ]
  },
  {
   "cell_type": "markdown",
   "metadata": {
    "slideshow": {
     "slide_type": "subslide"
    }
   },
   "source": [
    "But, if you use a negative index, it will count from the back of the list."
   ]
  },
  {
   "cell_type": "code",
   "execution_count": 8,
   "metadata": {},
   "outputs": [
    {
     "name": "stdout",
     "output_type": "stream",
     "text": [
      "Gatwa is the current Doctor.\n",
      "Whittaker was the previous Doctor.\n"
     ]
    }
   ],
   "source": [
    "doctor_who_actors = [\"Tennant\",\"Smith\",\"Capaldi\",\"Whittaker\", \"Gatwa\"]\n",
    "print(doctor_who_actors[-1], \"is the current Doctor.\")\n",
    "print(doctor_who_actors[-2], \"was the previous Doctor.\")"
   ]
  },
  {
   "cell_type": "markdown",
   "metadata": {
    "slideshow": {
     "slide_type": "slide"
    }
   },
   "source": [
    "## Updating items in a list\n",
    "\n",
    "You can also use list notation to change values in a list: \n",
    "- use the index to the position in the list you'd like to change (`rainfall_amounts[2]`) on the right hand side of the assignment operator `=` and the value on the left "
   ]
  },
  {
   "cell_type": "code",
   "execution_count": null,
   "metadata": {},
   "outputs": [],
   "source": [
    "rainfall_amounts = [0.0, 0.3, 0.71, 0.0, 0.32, 1.1, 0.4]\n",
    "rainfall_amounts[2] = 0.65\n",
    "print(rainfall_amounts)"
   ]
  },
  {
   "cell_type": "markdown",
   "metadata": {
    "slideshow": {
     "slide_type": "slide"
    }
   },
   "source": [
    "## Group Exercises:\n",
    "\n",
    "Fill in the blank:"
   ]
  },
  {
   "cell_type": "code",
   "execution_count": null,
   "metadata": {},
   "outputs": [],
   "source": [
    "rainfall_amounts = [0.0, 0.3, 0.71, 0.0, 0.32, 1.1, 0.4]\n",
    "day_num = int(input(\"Enter the number of a day 0-6: \"))\n",
    "print(\"Day\",day_num,\"had\",         ,\"inches of rainfall\") #Fill in the blank"
   ]
  },
  {
   "cell_type": "markdown",
   "metadata": {
    "slideshow": {
     "slide_type": "fragment"
    }
   },
   "source": [
    "Add the line of code that will update the list with the new value."
   ]
  },
  {
   "cell_type": "code",
   "execution_count": null,
   "metadata": {},
   "outputs": [],
   "source": [
    "rainfall_amounts = [0.0, 0.3, 0.71, 0.0, 0.32, 1.1, 0.4]\n",
    "day_num = int(input(\"Enter the number of a day 0-6: \"))\n",
    "new_amt = float(input(\"Enter an updated rainfall amount for that day: \"))\n",
    "#new line of code here\n",
    "rainfall_amounts[day_num] = new_amt\n",
    "print(rainfall_amounts)"
   ]
  },
  {
   "cell_type": "markdown",
   "metadata": {
    "slideshow": {
     "slide_type": "slide"
    }
   },
   "source": [
    "## Functions\n",
    "\n",
    "There are several useful functions that you can use on lists.\n",
    "\n",
    "Some of them require you to pass the list as an argument"
   ]
  },
  {
   "cell_type": "code",
   "execution_count": null,
   "metadata": {
    "slideshow": {
     "slide_type": "fragment"
    }
   },
   "outputs": [],
   "source": [
    "rainfall_amounts = [0.0, 0.3, 0.71, 0.0, 0.32, 1.1, 0.4]\n",
    "len(rainfall_amounts) #length of the list "
   ]
  },
  {
   "cell_type": "code",
   "execution_count": null,
   "metadata": {
    "slideshow": {
     "slide_type": "fragment"
    }
   },
   "outputs": [],
   "source": [
    "max(rainfall_amounts) #largest value in the list"
   ]
  },
  {
   "cell_type": "markdown",
   "metadata": {
    "slideshow": {
     "slide_type": "subslide"
    }
   },
   "source": [
    "Some of them require to use the dot notation. \n",
    "\n",
    "Whenever you use a function with dot notation, it is technically called a __method__. The distinction will become more important later, but for now, don't be confused if you see the word _method_ in documentation like here: https://docs.python.org/3/tutorial/datastructures.html"
   ]
  },
  {
   "cell_type": "code",
   "execution_count": null,
   "metadata": {
    "slideshow": {
     "slide_type": "fragment"
    }
   },
   "outputs": [],
   "source": [
    "rainfall_amounts = [0.0, 0.3, 0.71, 0.0, 0.32, 1.1, 0.4]\n",
    "rainfall_amounts.index(0.71) #which index can I find 0.3 at? "
   ]
  },
  {
   "cell_type": "code",
   "execution_count": null,
   "metadata": {
    "slideshow": {
     "slide_type": "fragment"
    }
   },
   "outputs": [],
   "source": [
    "rainfall_amounts.count(0.0) #how many times does 0.0 appear in the list?"
   ]
  },
  {
   "cell_type": "markdown",
   "metadata": {
    "slideshow": {
     "slide_type": "subslide"
    }
   },
   "source": [
    "## Group Exercises:"
   ]
  },
  {
   "cell_type": "code",
   "execution_count": 9,
   "metadata": {},
   "outputs": [
    {
     "name": "stdout",
     "output_type": "stream",
     "text": [
      "5\n",
      "Whittaker\n",
      "0.0\n",
      "2.83\n",
      "[0.4, 1.1, 0.32, 0.0, 0.71, 0.3, 0.0]\n",
      "[0.0, 0.0, 0.3, 0.32, 0.4, 0.71, 1.1]\n",
      "0\n"
     ]
    }
   ],
   "source": [
    "doctor_who_actors = [\"Tennant\",\"Smith\",\"Capaldi\",\"Whittaker\", \"Gatwa\"]\n",
    "print( len(doctor_who_actors) )\n",
    "print( max(doctor_who_actors) )\n",
    "\n",
    "rainfall_amounts = [0.0, 0.3, 0.71, 0.0, 0.32, 1.1, 0.4]\n",
    "print( min(rainfall_amounts) )\n",
    "print( sum(rainfall_amounts) )\n",
    "\n",
    "rainfall_amounts.reverse()\n",
    "print(rainfall_amounts)\n",
    "\n",
    "rainfall_amounts.sort()\n",
    "print(rainfall_amounts)\n",
    "print(doctor_who_actors.index(\"Tennant\"))"
   ]
  },
  {
   "cell_type": "markdown",
   "metadata": {},
   "source": [
    "Execute this code and answer the following questions:\n",
    "- What do the `min()` and `sum()` functions do? \n",
    "- What do the `reverse()` and `sort()` function do?\n",
    "- Can you apply `sum()` too the `doctor_who_actors` list?\n",
    "- Write the line of code that will tell you which index `\"Tennant\"` appears at in the `doctor_who_actors` list."
   ]
  },
  {
   "cell_type": "markdown",
   "metadata": {
    "slideshow": {
     "slide_type": "slide"
    }
   },
   "source": [
    "## Testing membership in a list\n",
    "\n",
    "You can test if a value is in a list using the `in` operator."
   ]
  },
  {
   "cell_type": "code",
   "execution_count": null,
   "metadata": {},
   "outputs": [],
   "source": [
    "doctor_who_actors = [\"McGann\",\"Eccleston\",\"Tennant\",\"Smith\",\"Capaldi\",\"Whittaker\"]\n",
    "print(\"Smith\" in doctor_who_actors)"
   ]
  },
  {
   "cell_type": "code",
   "execution_count": null,
   "metadata": {},
   "outputs": [],
   "source": [
    "rainfall_amounts = [0.0, 0.3, 0.71, 0.0, 0.32, 1.1, 0.4]\n",
    "amt = float(input(\"Enter a rainfall amount: \"))\n",
    "if amt in rainfall_amounts:\n",
    "    print(\"that amount appears in the list\")"
   ]
  },
  {
   "cell_type": "markdown",
   "metadata": {
    "slideshow": {
     "slide_type": "subslide"
    }
   },
   "source": [
    "## Group Exercise\n",
    "\n",
    "Fill in the blank"
   ]
  },
  {
   "cell_type": "code",
   "execution_count": null,
   "metadata": {},
   "outputs": [],
   "source": [
    "doctor_who_actors = [\"McGann\",\"Eccleston\",\"Tennant\",\"Smith\",\"Capaldi\",\"Whittaker\"]\n",
    "actor = input(\"Enter the last jname of an actor: \")\n",
    "\n",
    "if ___________________ :   #fill in the blank\n",
    "    print(actor,\"has played Doctor Who.\")\n",
    "else:\n",
    "    print(actor, \"has not played Doctor Who... yet\")"
   ]
  },
  {
   "cell_type": "markdown",
   "metadata": {
    "hideCode": false,
    "hidePrompt": false,
    "slideshow": {
     "slide_type": "slide"
    }
   },
   "source": [
    "## Appending items to the end of a list\n",
    "\n",
    "Add new items to the end of a list using the `append()` list method."
   ]
  },
  {
   "cell_type": "code",
   "execution_count": null,
   "metadata": {
    "hideCode": false,
    "hidePrompt": false
   },
   "outputs": [],
   "source": [
    "rainfall_amounts = [0.0, 0.3, 0.71, 0.0, 0.32, 1.1, 0.4]\n",
    "rainfall_amounts.append(0.1)\n",
    "print(rainfall_amounts)"
   ]
  },
  {
   "cell_type": "markdown",
   "metadata": {
    "hideCode": false,
    "hidePrompt": false,
    "slideshow": {
     "slide_type": "slide"
    }
   },
   "source": [
    "## Inserting new items into the beginning/middle of a list\n",
    "\n",
    "Add new items to the beginning or middlle of a list using the `insert()` method."
   ]
  },
  {
   "cell_type": "code",
   "execution_count": null,
   "metadata": {
    "hideCode": false,
    "hidePrompt": false
   },
   "outputs": [],
   "source": [
    "doctor_who_actors = [\"McGann\",\"Eccleston\",\"Tennant\",\"Smith\",\"Capaldi\",\"Whittaker\"]\n",
    "doctor_who_actors.insert(1,\"Hurt\")\n",
    "print(doctor_who_actors)"
   ]
  },
  {
   "cell_type": "markdown",
   "metadata": {
    "slideshow": {
     "slide_type": "subslide"
    }
   },
   "source": [
    "## Group Exercise:\n",
    "\n",
    "A programmer wants to write a program that allows new rainfall amounts to appear at the beginning of the list. Here's the code they wrote for it, but they have an error in their code. Explain the problem and fix the code."
   ]
  },
  {
   "cell_type": "code",
   "execution_count": null,
   "metadata": {},
   "outputs": [],
   "source": [
    "rainfall_amounts = [0.0, 0.3, 0.71, 0.0, 0.32, 1.1, 0.4]\n",
    "new_val = float(input(\"Enter a new amount: \"))\n",
    "rainfall_amounts.append(new_val)\n",
    "print(rainfall_amounts)"
   ]
  },
  {
   "cell_type": "markdown",
   "metadata": {
    "hideCode": false,
    "hidePrompt": false,
    "slideshow": {
     "slide_type": "slide"
    }
   },
   "source": [
    "## Removing items by value\n",
    "\n",
    "When you know the __value__ of the item you want to delete from the list, use the `remove()` method.\n",
    "\n",
    "This will only delete the first instance of the value.\n",
    "\n",
    "If the item isn't there, it will give an error."
   ]
  },
  {
   "cell_type": "code",
   "execution_count": null,
   "metadata": {
    "hideCode": false,
    "hidePrompt": false
   },
   "outputs": [],
   "source": [
    "rainfall_amounts = [0.0, 0.3, 0.71, 0.0, 0.32, 1.1, 0.4]\n",
    "rainfall_amounts.remove(0.0)\n",
    "print(rainfall_amounts)"
   ]
  },
  {
   "cell_type": "markdown",
   "metadata": {
    "slideshow": {
     "slide_type": "slide"
    }
   },
   "source": [
    "## Removing items by index\n",
    "\n",
    "When you know the position of the item you want to delete, use the `pop()` method."
   ]
  },
  {
   "cell_type": "code",
   "execution_count": null,
   "metadata": {},
   "outputs": [],
   "source": [
    "rainfall_amounts = [0.0, 0.3, 0.71, 0.0, 0.32, 1.1, 0.4]\n",
    "value = rainfall_amounts.pop(5)\n",
    "print(rainfall_amounts)\n",
    "print(value)"
   ]
  },
  {
   "cell_type": "markdown",
   "metadata": {
    "slideshow": {
     "slide_type": "subslide"
    }
   },
   "source": [
    "## Group Exercise:\n",
    "\n",
    "A programmer wants to write a program that allows the user to enter a rain amount and then remove that if it is in the list. However, when they test this code, some of the tests cause the program to crash. Explain the problem and write the code that will fix it (_Hint: you might need to add an `if` statement_)."
   ]
  },
  {
   "cell_type": "code",
   "execution_count": null,
   "metadata": {},
   "outputs": [],
   "source": [
    "rainfall_amounts = [0.0, 0.3, 0.71, 0.0, 0.32, 1.1, 0.4]\n",
    "val_to_remove = float(input(\"Enter a value to remove: \"))\n",
    "\n",
    "if val_to_remove in rainfall_amounts:\n",
    "    rainfall_amounts.remove(val_to_remove)\n",
    "else:\n",
    "    print(\"that's not in the list\")\n",
    "print(rainfall_amounts)"
   ]
  },
  {
   "cell_type": "markdown",
   "metadata": {
    "slideshow": {
     "slide_type": "slide"
    }
   },
   "source": [
    "# You should be working on:"
   ]
  },
  {
   "cell_type": "markdown",
   "metadata": {},
   "source": [
    "- Lab #3 is due tonight by 11:59\n",
    "- Quiz #1 is due tonight by 11:59\n",
    "\n",
    "[Reading #4 Lists](https://analytics.drake.edu/~urness/CS65Text/Chapter9.html)"
   ]
  },
  {
   "cell_type": "code",
   "execution_count": null,
   "metadata": {},
   "outputs": [],
   "source": []
  }
 ],
 "metadata": {
  "celltoolbar": "Slideshow",
  "kernelspec": {
   "display_name": "Python 3",
   "language": "python",
   "name": "python3"
  },
  "language_info": {
   "codemirror_mode": {
    "name": "ipython",
    "version": 3
   },
   "file_extension": ".py",
   "mimetype": "text/x-python",
   "name": "python",
   "nbconvert_exporter": "python",
   "pygments_lexer": "ipython3",
   "version": "3.8.3"
  }
 },
 "nbformat": 4,
 "nbformat_minor": 4
}
