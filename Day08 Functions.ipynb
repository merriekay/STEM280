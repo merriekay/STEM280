{
  "cells": [
    {
      "cell_type": "markdown",
      "metadata": {
        "id": "view-in-github",
        "colab_type": "text"
      },
      "source": [
        "<a href=\"https://colab.research.google.com/github/merriekay/STEM280/blob/main/Day08%20Functions.ipynb\" target=\"_parent\"><img src=\"https://colab.research.google.com/assets/colab-badge.svg\" alt=\"Open In Colab\"/></a>"
      ]
    },
    {
      "cell_type": "markdown",
      "metadata": {
        "id": "QIS0-XCtTKRn"
      },
      "source": [
        "# STEM280: Day 08\n",
        "## Functions\n",
        "\n",
        "####  STEM 280: Introduction to Computer Science I | Summer 2023\n",
        "\n",
        "Tuesday, August 1st, 2023\n",
        "\n",
        " 📜 [Syllabus](https://docs.google.com/document/d/1LMCXdvynDdj4QWc0T9DgF4tos4PYLBpwOPHRC8BO-rA/edit?usp=sharing) | 📬 [CodePost Login](https://codepost.io/login) | 📆 [Schedule](https://docs.google.com/spreadsheets/d/e/2PACX-1vQiF1fOj8DS9cAab8N9gVPdHtNYzXs9GCBNMdPc3xWbg_qfXanppZrFVqxVSa_H_zy9WyCmGMQSAZEp/pubhtml)"
      ]
    },
    {
      "cell_type": "markdown",
      "metadata": {
        "id": "PP4tVdmnTKRp"
      },
      "source": [
        "> Note to self: Make sure you're recording 🎥"
      ]
    },
    {
      "cell_type": "markdown",
      "metadata": {
        "id": "uvzX3VuFTKRp"
      },
      "source": [
        "# Admin Stuff"
      ]
    },
    {
      "cell_type": "markdown",
      "metadata": {
        "id": "7ybdbdMaTKRq"
      },
      "source": [
        "You should be working on:\n",
        "- Lab #6 is due tonight by 11:59pm\n",
        "- Lab #7 is released today, due Thursday 8/3 by 11:59 pm.\n",
        "- Quiz #2 is released today, due Tuesday 8/8 by 11:59 pm.\n",
        "\n",
        "[Reading #9](https://www.py4e.com/html3/04-functions)"
      ]
    },
    {
      "cell_type": "markdown",
      "metadata": {
        "id": "0Pl7KH1MTKRq"
      },
      "source": [
        "# ⏪ Quick Review:"
      ]
    },
    {
      "cell_type": "markdown",
      "metadata": {
        "id": "eTbnWbdvTKRq"
      },
      "source": [
        "## Review Q:\n",
        "\n",
        "What do you think this wil do?"
      ]
    },
    {
      "cell_type": "code",
      "execution_count": null,
      "metadata": {
        "id": "ZXroY-qpTKRq"
      },
      "outputs": [],
      "source": [
        "from graphics import *\n",
        "WIDTH = 600\n",
        "HEIGHT = 480\n",
        "\n",
        "speed = 2\n",
        "going_right = True\n",
        "\n",
        "win = GraphWin(\"Title\", WIDTH, HEIGHT)\n",
        "\n",
        "ball = Circle(Point(30,270), 10)\n",
        "ball.setFill(\"red\")\n",
        "ball.draw(win)\n",
        "\n",
        "while win.isOpen():\n",
        "    ball.move(speed,0)\n",
        "    update(60) # refresh for 60 frames per second"
      ]
    },
    {
      "cell_type": "markdown",
      "metadata": {
        "id": "IgE0yh50TKRr"
      },
      "source": [
        "## Challenge: Make it bounce!\n",
        "Now... try to make it bounce off of all of the walls...\n",
        "\n",
        "> Hint: `ball.getCenter().getX()`"
      ]
    },
    {
      "cell_type": "markdown",
      "metadata": {
        "id": "6j_ox-eSTKRr"
      },
      "source": [
        "# ✨ New Material"
      ]
    },
    {
      "cell_type": "markdown",
      "metadata": {
        "id": "gn-QIVOoTKRs"
      },
      "source": [
        "## Setting Different Coordinates\n",
        "\n",
        "Working with pixel values can be tedious.\n",
        "\n",
        "Sometimes it makes more sense to use a scale from 0 to 1, where 0 is the start of the window, and 1 is the end of the window.\n",
        "\n",
        "This is included in the `graphics.py` file, as the `setCoords` method."
      ]
    },
    {
      "cell_type": "code",
      "execution_count": null,
      "metadata": {
        "id": "hkrE4qo9TKRs"
      },
      "outputs": [],
      "source": [
        "from graphics import *\n",
        "\n",
        "win = GraphWin(\"hello\", 400, 400)\n",
        "win.setCoords(0,0,1,1) #change coordinate systems\n",
        "\n",
        "rect = Rectangle(Point(0.1,0.1), Point(0.5,0.5))\n",
        "rect.setfill(\"black\")\n",
        "rect.draw(win)"
      ]
    },
    {
      "cell_type": "markdown",
      "metadata": {
        "id": "edu4WL92TKRs"
      },
      "source": [
        "## Getting Mouse Clicks\n",
        "\n",
        "We can use the `getMouse()` method, which returns the `Point` that was clicked like so:"
      ]
    },
    {
      "cell_type": "code",
      "execution_count": null,
      "metadata": {
        "id": "pBQHgm9XTKRs",
        "outputId": "d6667715-a2a2-4b2d-a2e9-62d8c3de3d5c"
      },
      "outputs": [
        {
          "name": "stdout",
          "output_type": "stream",
          "text": [
            "Point(537.0, 258.0)\n"
          ]
        }
      ],
      "source": [
        "from graphics import *\n",
        "win = GraphWin(\"detect clicks\", 640, 640)\n",
        "p = win.getMouse() #stores the point where the user clicked\n",
        "print(p)"
      ]
    },
    {
      "cell_type": "markdown",
      "metadata": {
        "id": "2u79YhPITKRt"
      },
      "source": [
        "## Group Exercise #1:\n",
        "\n",
        "__Part I__: How can you draw a triangle?\n",
        "> __Hint__: [take a look at the API](https://mcsp.wartburg.edu/zelle/python/graphics/graphics/index.html), there's no 'Triangle' object, but what else might work?\n",
        "\n",
        "\n",
        "__Part II__: Write a program that will capture three points when the user clicks on the window. Draw a blue triangle between these three points.\n",
        "\n",
        "When you're done with Part II, try these next steps:\n",
        "- Can you make it a random color?\n",
        "- Can you allow the user to make 10 different triangles?"
      ]
    },
    {
      "cell_type": "markdown",
      "metadata": {
        "id": "bUMqjSmxTKRt"
      },
      "source": [
        "## Getting Key Presses `win.key()`"
      ]
    },
    {
      "cell_type": "code",
      "execution_count": null,
      "metadata": {
        "id": "auoC9l9WTKRu"
      },
      "outputs": [],
      "source": [
        "win = GraphWin(\"Moving a Circle\", 500, 500)\n",
        "win.setCoords(0,0,1,1)\n",
        "\n",
        "#creates a red circle on the window\n",
        "circ = Circle(Point(0.25,0.25), 0.1)\n",
        "circ.setFill(\"red\")\n",
        "circ.draw(win)\n",
        "\n",
        "#while the user doesn't close the window...\n",
        "while win.isOpen():\n",
        "\n",
        "    #check if the user just pressed an arrow key\n",
        "    # and if so, move the circle in that direction.\n",
        "    key = win.getKey()\n",
        "\n",
        "    if key == 'Up':\n",
        "        circ.move(-0,0.05)\n",
        "    elif key == 'Down':\n",
        "        circ.move(0,-0.05)\n",
        "    elif key == 'Right':\n",
        "        circ.move(0.05,0)\n",
        "    elif key == 'Left':\n",
        "        circ.move(-0.05,0)"
      ]
    },
    {
      "cell_type": "markdown",
      "metadata": {
        "id": "BTVPSt1xTKRu"
      },
      "source": [
        "## Group Exercise #2:\n",
        "\n",
        "Can you change the code from the previous slide so that it works not just with the arrow keys, but also the `w`, `a`, `s`, `d` keys as well?\n",
        "\n",
        "If you're done with that:\n",
        "- try making it so that the circle can't go outside of the borders.\n",
        "- add another shape... can you make something happen (change the color, display some text, etc) when the red circle hits this other shape?"
      ]
    },
    {
      "cell_type": "markdown",
      "metadata": {
        "id": "L-bGpLWaTKRu"
      },
      "source": [
        "## What will this do?"
      ]
    },
    {
      "cell_type": "code",
      "execution_count": null,
      "metadata": {
        "id": "en33SxnPTKRu"
      },
      "outputs": [],
      "source": [
        "from graphics import *\n",
        "\n",
        "WIDTH = 600\n",
        "HEIGHT = 480\n",
        "\n",
        "win = GraphWin(\"Title\", WIDTH, HEIGHT)\n",
        "\n",
        "paddle = Rectangle(Point(50, 450), Point(250, 475))\n",
        "paddle.setFill(\"black\")\n",
        "paddle.draw(win)\n",
        "\n",
        "while win.isOpen():\n",
        "    key = win.checkKey()\n",
        "    if key == 'Right':\n",
        "        paddle.move(20, 0)\n",
        "    elif key == 'Left':\n",
        "        paddle.move(-20, 0)\n",
        "    update(60) # refresh for 60 frames per second\n",
        ""
      ]
    },
    {
      "cell_type": "markdown",
      "metadata": {
        "id": "SKbCAivWTKRu"
      },
      "source": [
        "## Displaying a Die:"
      ]
    },
    {
      "cell_type": "code",
      "execution_count": null,
      "metadata": {
        "id": "-M5MnS5aTKRu"
      },
      "outputs": [],
      "source": [
        "from graphics import *\n",
        "import random\n",
        "\n",
        "win = GraphWin(\"Awesome Game\", 500, 500, autoflush=False)\n",
        "win.setCoords(0,0,1,1)\n",
        "\n",
        "#build a rectangle in the center of the screen\n",
        "rect = Rectangle(Point(0.25,0.75), Point(0.75,0.25))\n",
        "\n",
        "#make the outline black and fill white\n",
        "rect.setOutline('black')\n",
        "rect.setFill(\"white\")\n",
        "\n",
        "#draw it\n",
        "rect.draw(win)\n",
        "\n",
        "# get a dice roll:\n",
        "roll = random.randint(1,3) # starting with 3 for now\n",
        "\n",
        "if roll == 1:\n",
        "    pip1 = Circle(Point(0.5,0.5), 0.04)\n",
        "    pip1.setFill('black')\n",
        "    pip1.draw(win)\n",
        "elif roll == 2:\n",
        "    pip1 = Circle(Point(0.35,0.65), 0.04)\n",
        "    pip1.setFill('black')\n",
        "    pip1.draw(win)\n",
        "    pip2 = Circle(Point(0.65,0.35), 0.04)\n",
        "    pip2.setFill('black')\n",
        "    pip2.draw(win)\n",
        "elif roll == 3:\n",
        "    pip1 = Circle(Point(0.35,0.65), 0.04)\n",
        "    pip1.setFill('black')\n",
        "    pip1.draw(win)\n",
        "    pip2 = Circle(Point(0.65,0.35), 0.04)\n",
        "    pip2.setFill('black')\n",
        "    pip2.draw(win)\n",
        "    pip3 = Circle(Point(0.5,0.5), 0.04)\n",
        "    pip3.setFill('black')\n",
        "    pip3.draw(win)\n",
        "\n",
        "# you can do 4, 5, 6"
      ]
    },
    {
      "cell_type": "markdown",
      "metadata": {
        "id": "d8L_OUMuTKRv"
      },
      "source": [
        "# Modules\n",
        "\n",
        "One of the things that makes Python such a great language is that there are many functions you can use that aren't built in.\n",
        "- They're written by other programmers and made available to you.\n",
        "- In order to use them, you need an `import` statement.\n",
        "- Something you import this way is called a module.\n",
        "\n",
        "So far, we've used a couple modules:\n",
        "- `from graphics import *`\n",
        "- `import random`"
      ]
    },
    {
      "cell_type": "code",
      "execution_count": null,
      "metadata": {
        "id": "couufZiiTKRv",
        "outputId": "2e036ae1-a232-4145-f45b-b5a5aa2ebaf4"
      },
      "outputs": [
        {
          "name": "stdout",
          "output_type": "stream",
          "text": [
            "23\n"
          ]
        }
      ],
      "source": [
        "import random\n",
        "print(random.randint(1,100))"
      ]
    },
    {
      "cell_type": "markdown",
      "metadata": {
        "id": "YP14a8lmTKRv"
      },
      "source": [
        "- `random` is the name of the module\n",
        "- `randint` is the name of the _function_ that we want to use from that module\n",
        "- `1`, and `100` are __arguments__ we pass to the function that tell it what range of numbers we want our random number to be in."
      ]
    },
    {
      "cell_type": "code",
      "execution_count": null,
      "metadata": {
        "id": "6R7xcDQSTKRv"
      },
      "outputs": [],
      "source": [
        "from graphics import *"
      ]
    },
    {
      "cell_type": "markdown",
      "metadata": {
        "id": "9ZUkJRYZTKRv"
      },
      "source": [
        "Notice the use of `*` here...\n",
        "- In this case, we don't need to prepend calls to the graphics library with `graphics.function_name()`.\n",
        "- The `*` can be read as \"all\" here, so essentially, we're importing every function that the `graphics` modules has to offer."
      ]
    },
    {
      "cell_type": "markdown",
      "metadata": {
        "id": "afDmLdGrTKRv"
      },
      "source": [
        "# Creating our own Functions"
      ]
    },
    {
      "cell_type": "markdown",
      "metadata": {
        "id": "9lq_frTFTKRw"
      },
      "source": [
        "## We've seen a lot of function _calls_ so far"
      ]
    },
    {
      "cell_type": "code",
      "execution_count": null,
      "metadata": {
        "id": "939brTDOTKRw"
      },
      "outputs": [],
      "source": [
        "print(\"Hello world!\")\n",
        "type(2.70)\n",
        "fahrenheit_temp =  input(\"Enter the temperature in Fahrenheit \") )\n",
        "len(name)\n",
        "user_input = int( input(\"Enter a number greater than \"+str(target_number)+\" \") )\n",
        "max(rainfall_amounts)\n",
        "with open(\"gettysburg.txt\") as gettysburg_file:\n",
        "    gettysburg_text = gettysburg_file.readlines()"
      ]
    },
    {
      "cell_type": "markdown",
      "metadata": {
        "id": "yweAd6RGTKRw"
      },
      "source": [
        "## Why use Functions? ♻️\n",
        "\n",
        "The benefits of using functions:\n",
        "- __Reduce__: using functions generally results in less code, and simpler code at that\n",
        "- __Reuse__: Write the code once and call it multiple times\n",
        "- __Recycle__: did you write a function for something a few projects back ago? Good news, all you have to do is copy and paste and it will work in another project.\n",
        "\n",
        "Also:\n",
        "- Better _testing_ and _debugging_\n",
        "- Easier facilitation of __teamwork__"
      ]
    },
    {
      "cell_type": "markdown",
      "metadata": {
        "id": "rKt8bBviTKRw"
      },
      "source": [
        "### 😍 Why are these awesome?\n",
        "* __easier problem solving__ - break big takss into small ones\n",
        "* __better organization__ - easier to find/change the code you're looking for\n",
        "* __easier testing/debugging__ - you can test each function by itself before integrating into the bigger program\n",
        "    *testing an individual function by itself is called __unit testing__\n",
        "* __reusable__- you can write code that will be useful many times in this program and possibly later ones."
      ]
    },
    {
      "cell_type": "markdown",
      "metadata": {
        "id": "LcF75wf1TKRw"
      },
      "source": [
        "## Defining your own functions\n",
        "\n",
        "\n",
        "The syntax for defining your own function includes the following"
      ]
    },
    {
      "cell_type": "markdown",
      "metadata": {
        "cell_style": "split",
        "id": "MceMMTZUTKRw"
      },
      "source": [
        "### 🔐 New Keyword Unlocked! `def`\n",
        "* keyword `def` (short for _define_)\n",
        "* a name/identifier that you pick (same rules as variable names)\n",
        "* parentheses `( )` (later, we'll put things inside these parentheses)\n",
        "* colon `:`\n",
        "* indented block of code"
      ]
    },
    {
      "cell_type": "markdown",
      "metadata": {
        "id": "StQ1-utlTKRx"
      },
      "source": [
        "## Example #1:"
      ]
    },
    {
      "cell_type": "code",
      "execution_count": null,
      "metadata": {
        "id": "RDwfgKfhTKRx"
      },
      "outputs": [],
      "source": [
        "def message():\n",
        "    print(\"Hello STEM 280\")\n",
        "    print(\"I'm in a function!\")"
      ]
    },
    {
      "cell_type": "markdown",
      "metadata": {
        "id": "wmrszFhKTKRx"
      },
      "source": [
        "This function won't run or do anything until you call it. Callit just like any other function you've used:"
      ]
    },
    {
      "cell_type": "code",
      "execution_count": null,
      "metadata": {
        "id": "sgvLNbv4TKRx",
        "outputId": "fdd476ef-10a2-40fc-c7a5-7fcdff4db97c"
      },
      "outputs": [
        {
          "name": "stdout",
          "output_type": "stream",
          "text": [
            "Hello STEM 280\n",
            "I'm in a function!\n"
          ]
        }
      ],
      "source": [
        "message()"
      ]
    },
    {
      "cell_type": "markdown",
      "metadata": {
        "id": "M-yXqKPATKRx"
      },
      "source": [
        "## Transfer of Control\n",
        "\n",
        "When a function gets called, the execution of the code is transferred to the statements within the function definition\n",
        "\n",
        "After, the execution returns to the line below where the function was called"
      ]
    },
    {
      "cell_type": "markdown",
      "metadata": {
        "id": "Jxd2Kbn9TKRx"
      },
      "source": [
        "What do you thnk will be output?"
      ]
    },
    {
      "cell_type": "code",
      "execution_count": null,
      "metadata": {
        "id": "E9msRkCLTKR8"
      },
      "outputs": [],
      "source": [
        "def message():\n",
        "    print(\"Hello STEM 280\")\n",
        "    print(\"I'm in a function!\")\n",
        "\n",
        "print(\"here\")\n",
        "message()\n",
        "print(\"thanks for playing!\")"
      ]
    },
    {
      "cell_type": "markdown",
      "metadata": {
        "id": "G4zKGYHFTKR8"
      },
      "source": [
        "## Functions calling Functions\n",
        "\n",
        "A function can be defined before it can be called\n",
        "- Use `def` to define a function\n",
        "- List the functions at the top of your `.py` file\n",
        "\n",
        "Nothing prevents a function to be called from within another function"
      ]
    },
    {
      "cell_type": "code",
      "execution_count": null,
      "metadata": {
        "id": "f2EJHvJ7TKR8"
      },
      "outputs": [],
      "source": [
        "# define the message function\n",
        "def message():\n",
        "    print(\"Hello STEM 280\")\n",
        "    print(\"I'm in a function!\")\n",
        "\n",
        "# define the main function:\n",
        "def main():\n",
        "    print(\"I'm starting in the main function\")\n",
        "    message()\n",
        "    print(\"Goodbye\")\n",
        "\n",
        "# call the main function\n",
        "main()"
      ]
    },
    {
      "cell_type": "markdown",
      "metadata": {
        "id": "NWTwYxQVTKR8"
      },
      "source": [
        "## Group Exercise #3:\n",
        "\n",
        "In Thonny, open a new file.\n",
        "\n",
        "Create a function named `my_function`\n",
        "\n",
        "When `my_function` is called, it shoudl print out \"THIS IS AWESOME!!\"\n",
        "\n",
        "Use a loop; call the function so it prints out \"THIS IS AWESOME!!\" 10 times\n",
        "\n",
        "_What is the minimum number of lines of code you can write this program in?_"
      ]
    },
    {
      "cell_type": "markdown",
      "metadata": {
        "id": "SMBNKgYwTKR9"
      },
      "source": [
        "## Arguments:\n",
        "\n",
        "In most of the functions we've called, we've passed arguments to the them data that we put inside of the parentheses that the function needs to work as intended.\n",
        "\n",
        "Argument Examples:"
      ]
    },
    {
      "cell_type": "code",
      "execution_count": null,
      "metadata": {
        "id": "Jv4eukKlTKR9"
      },
      "outputs": [],
      "source": [
        "print(\"Hello world!\")\n",
        "type(2.70)\n",
        "fahrenheit_temp =  input(\"Enter the temperature in Fahrenheit \")\n",
        "len(name)\n",
        "user_input = int( input(\"Enter a number greater than \"+str(target_number)+\" \") )\n",
        "max(rainfall_amounts)"
      ]
    },
    {
      "cell_type": "markdown",
      "metadata": {
        "id": "6J4fMarfTKR9"
      },
      "source": [
        "- `\"Hello world!\"` tells the `print()` function what should be displayed\n",
        "- `2.70` tells the `type()` function what we want to know the type of\n",
        "- `\"Enter the temperature in Fahrenheit \"` tells the `input()` what the prompt should be\n",
        "- `name` is the string variable we want to know the length of with `len()`\n",
        "- etc."
      ]
    },
    {
      "cell_type": "markdown",
      "metadata": {
        "id": "FlI4U-KbTKR9"
      },
      "source": [
        "## Syntax for defining functions that take arguments\n",
        "\n",
        "When defining a function that takes arguments, put a new variable name inside the parentheses. This variable is called a __parameter__."
      ]
    },
    {
      "cell_type": "code",
      "execution_count": null,
      "metadata": {
        "id": "JoOSg7nNTKR9"
      },
      "outputs": [],
      "source": [
        "def f_to_c(fahrenheit_temp):\n",
        "    celsius_temp = (fahrenheit_temp-32)*(5/9)\n",
        "    print(\"That's\",celsius_temp,\"in Celsius\")"
      ]
    },
    {
      "cell_type": "markdown",
      "metadata": {
        "id": "_zjqu18RTKR-"
      },
      "source": [
        "When we call the function, whatever _argument_ we give it gets saved to the _parameter_."
      ]
    },
    {
      "cell_type": "code",
      "execution_count": null,
      "metadata": {
        "id": "ifU_6SNeTKR-",
        "outputId": "1b514144-4a00-4c66-8568-fbe1f35406c4"
      },
      "outputs": [
        {
          "name": "stdout",
          "output_type": "stream",
          "text": [
            "That's 32.22222222222222 in Celsius\n",
            "What was the reading in fahrenheit? 86\n",
            "That's 30.0 in Celsius\n"
          ]
        }
      ],
      "source": [
        "f_to_c(90)\n",
        "\n",
        "temp_reading = float(input(\"What was the reading in fahrenheit? \"))\n",
        "f_to_c(temp_reading)"
      ]
    },
    {
      "cell_type": "markdown",
      "metadata": {
        "id": "WuAO1bnITKR-"
      },
      "source": [
        "## Things to remember about arguments and parameters\n",
        "\n",
        "__Parameter__: a variable - you never put a literal number/string/etc. in the parens when you _define_ the function.\n",
        "\n",
        "__Argument__: can be a literal value, a variable, or any other expression (it will be evaluated and the result will be passed as the argument)\n",
        "\n",
        ">Remember: The value of the argument gets copied to the parameter variable"
      ]
    },
    {
      "cell_type": "code",
      "execution_count": null,
      "metadata": {
        "id": "WemHSgWpTKR-",
        "outputId": "42efadbd-2b64-4cbf-ccfa-251167926321"
      },
      "outputs": [
        {
          "name": "stdout",
          "output_type": "stream",
          "text": [
            "That's 37.77777777777778 in Celsius\n"
          ]
        }
      ],
      "source": [
        "def f_to_c(fahrenheit_temp):   #fahrenheit_temp is a parameter\n",
        "    celsius_temp = (fahrenheit_temp-32)*(5/9)\n",
        "    print(\"That's\",celsius_temp,\"in Celsius\")\n",
        "\n",
        "f_to_c(90)  #90 is an argument"
      ]
    },
    {
      "cell_type": "markdown",
      "metadata": {
        "id": "7EaA8GLaTKR_"
      },
      "source": [
        "## Arguments v Parameters\n",
        "The difference between an __argument__ and a __parameter__ can be difficult to remember. But here's a tool to help ya:\n",
        "<div>\n",
        "<img src=\"https://github.com/merriekay/STEM280/blob/main/images/day08_outside.png?raw=1\" width=\"400\"/>\n",
        "</div>\n",
        "[credit to typealias.com](https://typealias.com/guides/parameters-arguments/)"
      ]
    },
    {
      "cell_type": "markdown",
      "metadata": {
        "id": "ciCIeI1UTKR_"
      },
      "source": [
        "Another example:\n",
        "\n",
        "Which variable in the code below is the:\n",
        "- __argument__\n",
        "- __parameter__\n"
      ]
    },
    {
      "cell_type": "code",
      "execution_count": null,
      "metadata": {
        "id": "5aXZelQyTKR_"
      },
      "outputs": [],
      "source": [
        "def vote_verification(age):\n",
        "    if age >= 18:\n",
        "        print(\"You can vote!\")\n",
        "    else:\n",
        "        print(\"You are not old enough to vote\")\n",
        "\n",
        "# ask user for age and call the function\n",
        "val = int(input(\"How old are you? \"))\n",
        "vote_verification(val)"
      ]
    },
    {
      "cell_type": "markdown",
      "metadata": {
        "id": "gXrcT3vLTKR_"
      },
      "source": [
        "## Group Exercise #4\n",
        "\n",
        "Define a function called `greeting()`.\n",
        "- The function should start by prompting the user for their name\n",
        "- The function should then print 'Hello' followed by the name that was entered.\n",
        "- Can you do this with passing an argument to greeting? (Hint--try moving the input statement outside of the function)"
      ]
    },
    {
      "cell_type": "code",
      "execution_count": null,
      "metadata": {
        "id": "jrBGvwPgTKR_",
        "outputId": "2c386f0b-b98f-45df-912f-e21d326e1262"
      },
      "outputs": [
        {
          "name": "stdout",
          "output_type": "stream",
          "text": [
            "enter a name:Meredith\n",
            "Hello Meredith\n",
            "enter a name:Prof Moore\n",
            "Hello Prof Moore\n"
          ]
        }
      ],
      "source": [
        "def greeting(name):\n",
        "    # your code here\n",
        "\n",
        "\n",
        "username = input(\"enter a name:\")\n",
        "greeting(username)\n",
        "\n",
        "username2 = input(\"enter a name:\")\n",
        "greeting(username2)"
      ]
    },
    {
      "cell_type": "markdown",
      "metadata": {
        "id": "ih6s7soETKSA"
      },
      "source": [
        "## Functions with multiple parameters\n",
        "\n",
        "You can define functions with multiple parameters by separating the variable names with commas."
      ]
    },
    {
      "cell_type": "code",
      "execution_count": null,
      "metadata": {
        "id": "xOq1K-a0TKSA"
      },
      "outputs": [],
      "source": [
        "def calculate_pay(wage, hours):\n",
        "    if hours <= 40:\n",
        "        pay = wage*hours\n",
        "    else:\n",
        "        overtime_hours = hours-40\n",
        "        pay = (wage*40) + (wage*1.5*overtime_hours)\n",
        "\n",
        "    print(\"Total pay:\",pay)"
      ]
    },
    {
      "cell_type": "code",
      "execution_count": null,
      "metadata": {
        "id": "iZzG2vJUTKSA",
        "outputId": "d69749b3-62d7-4251-cefa-f05599e01884"
      },
      "outputs": [
        {
          "name": "stdout",
          "output_type": "stream",
          "text": [
            "Total pay: 290.0\n",
            "Total pay: 1318.75\n"
          ]
        }
      ],
      "source": [
        "calculate_pay(7.25,40)\n",
        "calculate_pay(52.75,25)"
      ]
    },
    {
      "cell_type": "markdown",
      "metadata": {
        "id": "cMfPLteoTKSA"
      },
      "source": [
        "__The order of the arguments is important!__\n",
        "\n",
        "arguments get assigned to parameters in the order they're listed"
      ]
    },
    {
      "cell_type": "code",
      "execution_count": null,
      "metadata": {
        "id": "snUBhAQwTKSA"
      },
      "outputs": [],
      "source": [
        "def calculate_pay(wage,hours,w4_dependents,health_insurance_contribution):\n",
        "    if hours <= 40:\n",
        "        pay = wage*hours\n",
        "    else:\n",
        "        overtime_hours = hours-40\n",
        "        pay = (wage*40) + (wage*1.5*overtime_hours)\n",
        "\n",
        "    #pretend we have all the code here to adjust paycheck for withholdings, etc."
      ]
    },
    {
      "cell_type": "code",
      "execution_count": null,
      "metadata": {
        "id": "DG0z0wIBTKSB"
      },
      "outputs": [],
      "source": [
        "calculate_pay(52.75,25,7,400)"
      ]
    },
    {
      "cell_type": "markdown",
      "metadata": {
        "id": "Wlm3TlkHTKSB"
      },
      "source": [
        "## Group Exercise #5\n",
        "\n",
        "Define a new function called `print_face` with three parameters (make sure to use descriptive names for the parameter variables) that would allow me to call it and get the following behavior.\n",
        "\n",
        "<div>\n",
        "<img src=\"https://github.com/merriekay/STEM280/blob/main/images/day08_faces.png?raw=1\" width=\"400\"/>\n",
        "</div>"
      ]
    },
    {
      "cell_type": "code",
      "execution_count": null,
      "metadata": {
        "id": "OqYif0sRTKSB",
        "outputId": "4575a525-4ec3-41b0-9045-157b15f35a92"
      },
      "outputs": [
        {
          "name": "stdout",
          "output_type": "stream",
          "text": [
            "*   *\n",
            "  ^   \n",
            "=====\n"
          ]
        }
      ],
      "source": [
        "def print_face(eyes, nose, mouth):\n",
        "    # your code here\n",
        "\n",
        "print_face(\"*\",\"^\", \"=\")"
      ]
    },
    {
      "cell_type": "markdown",
      "metadata": {
        "id": "PUH1K23STKSB"
      },
      "source": [
        "# Take a Break"
      ]
    },
    {
      "cell_type": "markdown",
      "metadata": {
        "id": "AblqOx_DTKSB"
      },
      "source": [
        "## Getting data out of functions\n",
        "\n",
        "__Parameters__ / __Arguments__: These work together to enable getting data into functions-- it's essentially the input of the function.\n",
        "\n",
        "__Return values:__ Enable getting data out of functions - think of it as the _result_ of a function\n",
        "\n",
        "Let's think about examples from functions we've called:"
      ]
    },
    {
      "cell_type": "code",
      "execution_count": null,
      "metadata": {
        "id": "MxjqsQJMTKSB"
      },
      "outputs": [],
      "source": [
        "name = input(\"What is your name? \")\n",
        "name_length = len(name)\n",
        "print(name,\"has\",name_length,\"letters\")"
      ]
    },
    {
      "cell_type": "markdown",
      "metadata": {
        "id": "gHs5UhLpTKSC"
      },
      "source": [
        "- `input()` returns a string (whatever the user typed) and we saved that result to `name`\n",
        "- `len()` returns an integer (the length of the string `name`) and we saved that result to `name_length`\n",
        "- `print()` doesn't return anything - we never see print on the right side of an `=`"
      ]
    },
    {
      "cell_type": "markdown",
      "metadata": {
        "id": "KXPRr4RiTKSC"
      },
      "source": [
        "## Syntax for returning values\n",
        "\n",
        "### 🔐✨ New keyword unlocked `return`\n",
        "To return a value from a function you've defined, put the `return` statement somewhere in your function\n",
        "* keyword `return`\n",
        "* an expression (i.e., a value, a variable, mathematical operation, or anything that results in a value)"
      ]
    },
    {
      "cell_type": "markdown",
      "metadata": {
        "id": "1btLz6d1TKSC"
      },
      "source": [
        "Let's see an example of how to use the `return` keyword to get information from a function."
      ]
    },
    {
      "cell_type": "code",
      "execution_count": null,
      "metadata": {
        "id": "plYi7gOiTKSC"
      },
      "outputs": [],
      "source": [
        "def f_to_c(fahrenheit_temp):\n",
        "    celsius_temp = (fahrenheit_temp-32)*(5/9)\n",
        "    return celsius_temp"
      ]
    },
    {
      "cell_type": "code",
      "execution_count": null,
      "metadata": {
        "id": "5sB4YyIgTKSC",
        "outputId": "51b675e5-c866-4394-e62f-8fd327ff6c3f"
      },
      "outputs": [
        {
          "name": "stdout",
          "output_type": "stream",
          "text": [
            "Enter fahrenheit reading: 86\n",
            "30.0\n"
          ]
        }
      ],
      "source": [
        "f_reading = float(input(\"Enter fahrenheit reading: \"))\n",
        "c_temp = f_to_c(f_reading)\n",
        "print(c_temp)"
      ]
    },
    {
      "cell_type": "markdown",
      "metadata": {
        "id": "TVz-2qBcTKSC"
      },
      "source": [
        "Because `f_to_c()` returns something, we can save its result to `c_temp`\n",
        ">Note that the `return` statement will cause the function to end - even if it is in the middle of the function, so you usually find it at the end of a function."
      ]
    },
    {
      "cell_type": "markdown",
      "metadata": {
        "id": "W0Q8AssRTKSD"
      },
      "source": [
        "## Returned values can be used anywhere the value itself could be used"
      ]
    },
    {
      "cell_type": "code",
      "execution_count": null,
      "metadata": {
        "id": "BrqRs1HKTKSD",
        "outputId": "fc5da537-a482-4aee-e10f-c81549745af2"
      },
      "outputs": [
        {
          "name": "stdout",
          "output_type": "stream",
          "text": [
            "100F is 37.77777777777778 in Celsius.\n",
            "In Kelvin, it is 310.92777777777775\n"
          ]
        }
      ],
      "source": [
        "print(\"100F is\",f_to_c(100),\"in Celsius.\")\n",
        "kelvin_reading = 273.15 + f_to_c(100)\n",
        "print(\"In Kelvin, it is\",kelvin_reading)"
      ]
    },
    {
      "cell_type": "markdown",
      "metadata": {
        "id": "QAce3vMPTKSD"
      },
      "source": [
        "## Group Exercise #6:\n",
        "Define a new function called `tip_calculator` which accepts a numerical argument (a dollar amount for a bill at a restaurant). It should calculate how much a 15% tip would be and print the value. It's ok if the value isn't rounded to the nearest cent\n",
        "\n",
        "_Hint:_ there should be no `input` statements in your code.\n",
        "\n",
        "If I wanted to call it, I would do things like this:"
      ]
    },
    {
      "cell_type": "code",
      "execution_count": null,
      "metadata": {
        "id": "PCmh8ms2TKSD"
      },
      "outputs": [],
      "source": [
        "tip_calculator(12.87) #should print 1.9305\n",
        "tip_calculator(110.20) #16.53\n",
        "tip_calculator(37.95) #5.6925"
      ]
    },
    {
      "cell_type": "markdown",
      "metadata": {
        "id": "_QVPoSKuTKSD"
      },
      "source": [
        "If you do want to round to the nearest cent, you could use the round function, which works like this:"
      ]
    },
    {
      "cell_type": "code",
      "execution_count": null,
      "metadata": {
        "id": "FaAVpWtTTKSE",
        "outputId": "eabdad48-9909-4e89-c639-a8d8e74dbad9"
      },
      "outputs": [
        {
          "data": {
            "text/plain": [
              "1.93"
            ]
          },
          "execution_count": 1,
          "metadata": {},
          "output_type": "execute_result"
        }
      ],
      "source": [
        "round(1.9305,2)"
      ]
    },
    {
      "cell_type": "markdown",
      "metadata": {
        "id": "l8BA8yn_TKSE"
      },
      "source": [
        "## Passing Different Data Types in and out of functions\n",
        "\n",
        "__Arguments__, __parameters__ and __returns__ can be all different types of data:\n",
        "- `str`, `int`, `float`, even `lists`!\n",
        "\n",
        "Here's an example of passing lists to and from a function:"
      ]
    },
    {
      "cell_type": "code",
      "execution_count": null,
      "metadata": {
        "id": "fkm6zzjeTKSE",
        "outputId": "91a431da-2759-4450-e572-396d7afd02b8"
      },
      "outputs": [
        {
          "name": "stdout",
          "output_type": "stream",
          "text": [
            "['green', 'orange', 'yellow', 'green', 'blue', 'purple']\n"
          ]
        }
      ],
      "source": [
        "def replace_red_with_green(color_list): #color_list is a list of colors\n",
        "    counter = 0\n",
        "    while counter < len(color_list):\n",
        "        if color_list[counter] == 'red':\n",
        "            color_list[counter] = 'green'\n",
        "        counter +=1\n",
        "    return color_list #returning a list\n",
        "\n",
        "rainbow = ['red', 'orange' , 'yellow','green', 'blue', 'purple']\n",
        "\n",
        "new_colors = replace_red_with_green(rainbow) #passing a list to the function\n",
        "print(new_colors)"
      ]
    },
    {
      "cell_type": "markdown",
      "metadata": {
        "id": "EW9zPH8QTKSE"
      },
      "source": [
        "## Want some more practice?\n",
        "\n",
        "Give these a try:\n",
        "- define a function called `election_year()` that will take in an integer, `year`, and will return a boolean value (`True` or `False`) based on whether or not that year will be the year of a presidential election.\n",
        "    - > Hint: play around with some of the recent presidential election years and the `%` operator... what pattern do you notice?\n",
        "- write a function called `coin_flip()` which should simulate a coin flip. 50% of the time it should print 'Heads', 50% of the time it should print 'Tails'. Try using a loop to call `coin_flip()` 10 times.\n",
        "- write a function called `roll_die()` that takes one parameter for the number of sides on the die, have it print out a random number between 1 and the parameter (inclusive). Can you change this so it _returns_ the value rather than printing?\n",
        "\n"
      ]
    },
    {
      "cell_type": "markdown",
      "metadata": {
        "id": "0QvwSco1TKSE"
      },
      "source": [
        "## Another Practice Problem:\n",
        "\n",
        "Let's combine what we just learned about functions with the code for Exercise #5 (random circles) from Lab #6.\n",
        "\n",
        "Rather that wrapping the entire code in a for loop to get it to build however many random circles the user wants, can we write a function that we instead call a bunch of times?\n",
        "\n",
        "<div>\n",
        "<img src=\"https://github.com/merriekay/STEM280/blob/main/images/day07_randomcircles.png?raw=1\" width=\"400\"/>\n",
        "</div>"
      ]
    },
    {
      "cell_type": "code",
      "execution_count": null,
      "metadata": {
        "id": "54I0Qy_1TKSF"
      },
      "outputs": [],
      "source": [
        "# here's the code to draw **one** random circle\n",
        "import random\n",
        "from graphics import *\n",
        "\n",
        "win = GraphWin(\"Random Circles\", 400, 400)\n",
        "\n",
        "#a random color\n",
        "r = random.randint(0,255)\n",
        "g = random.randint(0,255)\n",
        "b = random.randint(0,255)\n",
        "\n",
        "color = color_rgb(r,g,b)\n",
        "\n",
        "#a random location\n",
        "x = random.randint(0,350)\n",
        "y = random.randint(0,350)\n",
        "\n",
        "#a random radius\n",
        "radius = random.randint(10,50)\n",
        "\n",
        "#a random circle\n",
        "circ = Circle(Point(x,y), radius)\n",
        "circ.setFill(color)\n",
        "circ.draw(win)"
      ]
    },
    {
      "cell_type": "markdown",
      "metadata": {
        "id": "jPZTffvWTKSF"
      },
      "source": [
        "# Admin Stuff"
      ]
    },
    {
      "cell_type": "markdown",
      "metadata": {
        "id": "ZH37WQXQTKSF"
      },
      "source": [
        "You should be working on:\n",
        "- Lab #6 is due tonight by 11:59pm\n",
        "- Lab #7 is released today, due Thursday 8/3 by 11:59 pm.\n",
        "- Quiz #2 is released today, due Tuesday 8/8 by 11:59 pm.\n",
        "\n",
        "[Reading #9](https://www.py4e.com/html3/04-functions)"
      ]
    }
  ],
  "metadata": {
    "celltoolbar": "Slideshow",
    "kernelspec": {
      "display_name": "Python 3 (ipykernel)",
      "language": "python",
      "name": "python3"
    },
    "language_info": {
      "codemirror_mode": {
        "name": "ipython",
        "version": 3
      },
      "file_extension": ".py",
      "mimetype": "text/x-python",
      "name": "python",
      "nbconvert_exporter": "python",
      "pygments_lexer": "ipython3",
      "version": "3.11.4"
    },
    "colab": {
      "provenance": [],
      "include_colab_link": true
    }
  },
  "nbformat": 4,
  "nbformat_minor": 0
}