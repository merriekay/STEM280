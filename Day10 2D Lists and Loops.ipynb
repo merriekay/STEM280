{
 "cells": [
  {
   "cell_type": "markdown",
   "metadata": {
    "slideshow": {
     "slide_type": "slide"
    }
   },
   "source": [
    "# STEM280: Day 10\n",
    "## 2D Lists and Loops\n",
    "\n",
    "####  STEM 280: Introduction to Computer Science I | Summer 2023\n",
    "\n",
    "Tuesday,August 8th, 2023\n",
    "\n",
    " 📜 [Syllabus](https://docs.google.com/document/d/1LMCXdvynDdj4QWc0T9DgF4tos4PYLBpwOPHRC8BO-rA/edit?usp=sharing) | 📬 [CodePost Login](https://codepost.io/login) | 📆 [Schedule](https://docs.google.com/spreadsheets/d/e/2PACX-1vQiF1fOj8DS9cAab8N9gVPdHtNYzXs9GCBNMdPc3xWbg_qfXanppZrFVqxVSa_H_zy9WyCmGMQSAZEp/pubhtml)"
   ]
  },
  {
   "cell_type": "markdown",
   "metadata": {
    "slideshow": {
     "slide_type": "slide"
    }
   },
   "source": [
    "> Note to self: Make sure you're recording 🎥"
   ]
  },
  {
   "cell_type": "markdown",
   "metadata": {
    "slideshow": {
     "slide_type": "slide"
    }
   },
   "source": [
    "# Admin Stuff"
   ]
  },
  {
   "cell_type": "markdown",
   "metadata": {
    "slideshow": {
     "slide_type": "fragment"
    }
   },
   "source": [
    "You should be working on:\n",
    "- Quiz #2 is due Tuesday 8/8 by 11:59pm\n",
    "- Project Proposal is released today, due Tuesday 8/8 by 11:59 pm"
   ]
  },
  {
   "cell_type": "markdown",
   "metadata": {
    "slideshow": {
     "slide_type": "fragment"
    }
   },
   "source": [
    "New Stuff:\n",
    "- Quiz #3 is _released_ after class today, due Tuesday August 15th by 11:59pm.\n",
    "- Final prject __code__ and __video__ are due Tuesday August 15th by 11:59 pm\n",
    "    - Codoe submitted via Blackboard\n",
    "    - Video submitted to [Google Drive Link](https://drive.google.com/drive/folders/1ns-YzYOQ0xRCEUnhF4a9uoEoWvT_aa2M?usp=sharing)"
   ]
  },
  {
   "cell_type": "markdown",
   "metadata": {
    "slideshow": {
     "slide_type": "slide"
    }
   },
   "source": [
    "## Course Evaluations:\n",
    "\n",
    "We're going to start by giving you 5 mintues to fill out the [course evlauation](https://drake.campuslabs.com/eval-home/)\n",
    "- use your Drake Credentials to login"
   ]
  },
  {
   "cell_type": "markdown",
   "metadata": {
    "slideshow": {
     "slide_type": "slide"
    }
   },
   "source": [
    "# Final Project\n",
    "\n",
    "For the final project, you will develop a program of your choosing that incorporates many different programming concepts you have learned throughout this class.\n",
    "- The final project is to be completed individually.\n",
    "- __Due__: 8/15 by 11:59pm, submit you code as well as a short (<2 min) video of you demoing your code\n",
    "    - [Submit your video here](https://drive.google.com/drive/folders/1ns-YzYOQ0xRCEUnhF4a9uoEoWvT_aa2M?usp=sharing)\n",
    "- At the top of your code, please include a description of which of these elements you used, as well as a description of what score you believe you deserve."
   ]
  },
  {
   "cell_type": "markdown",
   "metadata": {
    "slideshow": {
     "slide_type": "slide"
    }
   },
   "source": [
    "To receive full credit on the project you will need to use at least __13__ of the following __20__ elements:\n",
    "- variables\n",
    "- comments\n",
    "- `if-else` statement\n",
    "- `if-elif-else` statement\n",
    "- get input from the user\n",
    "- print output to the console\n",
    "- one of the following operators `//`, `%`, `+=`, or `-=`\n",
    "- nested if-statement\n",
    "- `while` loop\n",
    "- `for` loop\n",
    "- a graphics element\n",
    "- a random number\n",
    "- at least 1 user-defined function\n",
    "- keyword argument\n",
    "- default parameter\n",
    "- docstring for each function\n",
    "- list\n",
    "- nested list (2D list) _we'll learn this soon_\n",
    "- nested loop _we'll learn this soon_\n",
    "- something new that we haven't learned in class\n"
   ]
  },
  {
   "cell_type": "markdown",
   "metadata": {
    "slideshow": {
     "slide_type": "slide"
    }
   },
   "source": [
    "## Project Proposal:\n",
    "The proposal requires a short (1/2 page to 1 page) written description for your final project. It can be a word processing document, google doc link, or a pdf file and should include the following:\n",
    "1. your name\n",
    "2. the idea (the game, simulation, visualization, etc. you plan to implement for your final project)\n",
    "3. A development plan\n",
    "    - what will you do first, second, third, etc\n",
    "    - what functions will you use or develop?"
   ]
  },
  {
   "cell_type": "markdown",
   "metadata": {
    "slideshow": {
     "slide_type": "slide"
    }
   },
   "source": [
    "# ⏪ Quick Review:"
   ]
  },
  {
   "cell_type": "code",
   "execution_count": null,
   "metadata": {},
   "outputs": [],
   "source": [
    "def back_to_school(school_supplies, num_students=15):\n",
    "    if num_students > 0:\n",
    "        print(\"You have\", num_students, \"in your class\")\n",
    "    \n",
    "    for item in school_supplies:\n",
    "        print(item)\n",
    "    \n",
    "    print(\"Each student needs\", len(school_supplies), \"things for class\")\n",
    "    print(\"That's \", num_students*len(school_supplies), \"items total.\")\n",
    "\n",
    "items = [\"paper\", \"pencils\", \"pens\", \"markers\", \"notebooks\", \"caclulator\", \"binder\" ]\n",
    "back_to_school(items, 30)"
   ]
  },
  {
   "cell_type": "markdown",
   "metadata": {},
   "source": [
    "##  Review Exercise #1: \n",
    "- are there any `default parameters` or `keyword arguments`? If so, what are they?\n",
    "- How could you change this so it __returns__ the total # of items rather than printing it?\n",
    "- Write a docstring for the above function."
   ]
  },
  {
   "cell_type": "markdown",
   "metadata": {
    "slideshow": {
     "slide_type": "subslide"
    }
   },
   "source": [
    "## Review Exercise #2\n",
    "What will each of the following do?"
   ]
  },
  {
   "cell_type": "code",
   "execution_count": null,
   "metadata": {},
   "outputs": [],
   "source": [
    "# 1\n",
    "for x in range(3):\n",
    "    print(x)"
   ]
  },
  {
   "cell_type": "code",
   "execution_count": null,
   "metadata": {},
   "outputs": [],
   "source": [
    "# 2\n",
    "animals = ['cat', 'dog', 'zebra']\n",
    "for animal in animals:\n",
    "    print(animal)"
   ]
  },
  {
   "cell_type": "code",
   "execution_count": null,
   "metadata": {},
   "outputs": [],
   "source": [
    "# 3\n",
    "animals = ['cat', 'dog', 'zebra']\n",
    "for ndx in range(len(animals)):\n",
    "    print(animals[ndx])"
   ]
  },
  {
   "cell_type": "code",
   "execution_count": null,
   "metadata": {
    "slideshow": {
     "slide_type": "subslide"
    }
   },
   "outputs": [],
   "source": [
    "# 4\n",
    "for i in range(250,-101, -50):\n",
    "    print(i)"
   ]
  },
  {
   "cell_type": "code",
   "execution_count": null,
   "metadata": {},
   "outputs": [],
   "source": [
    "#5 \n",
    "for i in range(1,10):\n",
    "    print(\"This is iteration\",i)"
   ]
  },
  {
   "cell_type": "markdown",
   "metadata": {
    "slideshow": {
     "slide_type": "slide"
    }
   },
   "source": [
    "# ✨ New Material"
   ]
  },
  {
   "cell_type": "markdown",
   "metadata": {
    "slideshow": {
     "slide_type": "slide"
    }
   },
   "source": [
    "# Nested Loops\n",
    "\n",
    "__Nested Loop__: A loop that is contained inside of another loop.\n",
    "\n",
    "Let's start here... what will the following loop output?"
   ]
  },
  {
   "cell_type": "code",
   "execution_count": null,
   "metadata": {},
   "outputs": [],
   "source": [
    "for col in range(5):\n",
    "    print(col, end='') "
   ]
  },
  {
   "cell_type": "markdown",
   "metadata": {
    "slideshow": {
     "slide_type": "fragment"
    }
   },
   "source": [
    "Now... what will happen if we put that loop inside of another loop, like so?"
   ]
  },
  {
   "cell_type": "code",
   "execution_count": null,
   "metadata": {},
   "outputs": [],
   "source": [
    "for row in range(3): #[0,1,2]\n",
    "    \n",
    "    for col in range(5): #this is the same loop we just saw above\n",
    "        print(col, end=\"\")\n",
    "        \n",
    "    print()"
   ]
  },
  {
   "cell_type": "markdown",
   "metadata": {
    "slideshow": {
     "slide_type": "slide"
    }
   },
   "source": [
    "### Whiteboard."
   ]
  },
  {
   "cell_type": "code",
   "execution_count": null,
   "metadata": {
    "slideshow": {
     "slide_type": "slide"
    }
   },
   "outputs": [],
   "source": [
    "num_rows = int(input(\"Enter number of rows: \"))\n",
    "num_cols = int(input(\"Enter number of cols: \"))\n",
    "\n",
    "for row in range(num_rows):\n",
    "    for col in range(num_cols):\n",
    "        print(row, col, sep=\"\", end=' ')\n",
    "    print() #adds a new line"
   ]
  },
  {
   "cell_type": "markdown",
   "metadata": {
    "slideshow": {
     "slide_type": "slide"
    }
   },
   "source": [
    "## Nested Loops Key Points:\n",
    "\n",
    "- the inner loop goes through all of items iteations for each iteration of the outer loop.\n",
    "- inner loops complete their iterations faster than outer loops. "
   ]
  },
  {
   "cell_type": "code",
   "execution_count": null,
   "metadata": {},
   "outputs": [],
   "source": [
    "for minute in range(1,4):\n",
    "    for second in range(5):\n",
    "        print(minute, \":\", second)"
   ]
  },
  {
   "cell_type": "markdown",
   "metadata": {
    "slideshow": {
     "slide_type": "slide"
    }
   },
   "source": [
    "# 2D Lists\n",
    "\n",
    "In the real world, we often store data in 2-dimensional table (think spreadsheets here). We call these tables _matrices_, or _2D arrays_. \n",
    "\n",
    "In Python, any table can be represented as a list of lists--a list where each element is in turn a list. \n",
    "\n",
    "__nested list__: a list of lists, or in other words, a 2-dimensional list.\n",
    "- also known as, a _matrix_\n",
    "- Each item in the outer list is a list, e.g. `[1,2,3,4]` is the first item in `my_matrix`"
   ]
  },
  {
   "cell_type": "code",
   "execution_count": null,
   "metadata": {},
   "outputs": [],
   "source": [
    "my_matrix = [[1,2,3,4], [5,6,7,8], [9,10,11,12]]\n",
    "#or\n",
    "my_matrix = [[1,2,3,4], \n",
    "             [5,6,7,8], \n",
    "             [9,10,11,12]]"
   ]
  },
  {
   "cell_type": "markdown",
   "metadata": {
    "slideshow": {
     "slide_type": "slide"
    }
   },
   "source": [
    "## 2D Lists (Matrices)\n",
    "\n",
    "Here's a table that explains a little bit more about our data:\n",
    "\n",
    "`scores = [[1,2,3,4], [5,6,7,8],[9,10,11,12]]`\n",
    "\n",
    "|       | column 0 | column 1 | column 2 | column 3 |\n",
    "|-------|----------|----------|----------|----------|\n",
    "| row 0 |     1    |     2    |     3    |     4    |\n",
    "| row 1 |     5    |     6    |     7    |     8    |\n",
    "| row 2 |     9    |    10    |    11    |    12    |\n"
   ]
  },
  {
   "cell_type": "code",
   "execution_count": null,
   "metadata": {},
   "outputs": [],
   "source": [
    "my_matrix = [[1,2,3,4], [5,6,7,8], [9,10,11,12]]\n",
    "#or\n",
    "my_matrix = [[1,2,3,4], \n",
    "             [5,6,7,8], \n",
    "             [9,10,11,12]]"
   ]
  },
  {
   "cell_type": "markdown",
   "metadata": {
    "slideshow": {
     "slide_type": "slide"
    }
   },
   "source": [
    "Accessing an element in a two-dimensional list requires two sets of brackets.\n",
    "- the first one is the index into the __row__\n",
    "- the second one is the index into the __columns__."
   ]
  },
  {
   "cell_type": "code",
   "execution_count": 4,
   "metadata": {},
   "outputs": [
    {
     "data": {
      "text/plain": [
       "[1, 2, 3, 4]"
      ]
     },
     "execution_count": 4,
     "metadata": {},
     "output_type": "execute_result"
    }
   ],
   "source": [
    "my_matrix = [[1,2,3,4], [5,6,7,8], [9,10,11,12]]\n",
    "element = my_matrix[0]\n",
    "element"
   ]
  },
  {
   "cell_type": "code",
   "execution_count": 6,
   "metadata": {},
   "outputs": [
    {
     "name": "stdout",
     "output_type": "stream",
     "text": [
      "1\n",
      "1\n"
     ]
    }
   ],
   "source": [
    "value = element[0]\n",
    "print(value)\n",
    "\n",
    "# OR\n",
    "val = my_matrix[0][0]\n",
    "print(val)"
   ]
  },
  {
   "cell_type": "markdown",
   "metadata": {
    "slideshow": {
     "slide_type": "slide"
    }
   },
   "source": [
    "## Group Exercise #1:\n",
    "\n",
    "Take a couple minutes and walk through this code and see if you can predict what it will print before you run it."
   ]
  },
  {
   "cell_type": "code",
   "execution_count": null,
   "metadata": {},
   "outputs": [],
   "source": [
    "a = [[1, 2, 3], [4, 5, 6]]\n",
    "print(a[0]) \n",
    "print(a[1])"
   ]
  },
  {
   "cell_type": "code",
   "execution_count": null,
   "metadata": {},
   "outputs": [],
   "source": [
    "b = a[0] \n",
    "print(b) \n",
    "print(a[0][2]) "
   ]
  },
  {
   "cell_type": "code",
   "execution_count": null,
   "metadata": {},
   "outputs": [],
   "source": [
    "a[0][1] = 7 \n",
    "print(a)\n",
    "print(b)"
   ]
  },
  {
   "cell_type": "code",
   "execution_count": null,
   "metadata": {},
   "outputs": [],
   "source": [
    "b[2] = 9\n",
    "print(a[0])\n",
    "print(b)"
   ]
  },
  {
   "cell_type": "markdown",
   "metadata": {
    "slideshow": {
     "slide_type": "slide"
    }
   },
   "source": [
    "## Processing 2D Lists\n",
    "\n",
    "To process 2D lists, we typically use _nested loops_.\n",
    "- the first loop (outer loop) iterates through the _row number_\n",
    "- the second loop (inner loop) runs through the elements inside of a row (the _columns_)."
   ]
  },
  {
   "cell_type": "code",
   "execution_count": 14,
   "metadata": {},
   "outputs": [
    {
     "name": "stdout",
     "output_type": "stream",
     "text": [
      "1 2 3 4 \n",
      "5 6 \n",
      "7 8 9 \n"
     ]
    }
   ],
   "source": [
    "a = [[1, 2, 3, 4], [5, 6], [7, 8, 9]]\n",
    "\n",
    "for i in range(len(a)): # outer loop\n",
    "    \n",
    "    for j in range(len(a[i])): # inner loop\n",
    "        print(a[i][j], end=' ')\n",
    "    print()"
   ]
  },
  {
   "cell_type": "markdown",
   "metadata": {
    "slideshow": {
     "slide_type": "slide"
    }
   },
   "source": [
    "## Getting `num_cols` and `num_rows`:\n",
    "\n",
    "Often times, we need to be able to find the number of columns and number of rows to be able to do some computation on our 2D list:"
   ]
  },
  {
   "cell_type": "code",
   "execution_count": 7,
   "metadata": {},
   "outputs": [
    {
     "name": "stdout",
     "output_type": "stream",
     "text": [
      "3\n",
      "4\n"
     ]
    }
   ],
   "source": [
    "my_matrix = [[1,2,3,4], \n",
    "             [5,6,7,8], \n",
    "             [9,10,11,12]]\n",
    "\n",
    "print(len(my_matrix))    # is this the number of cols or rows?\n",
    "print(len(my_matrix[0])) # how about this?\n",
    "\n",
    "num_rows = ________\n",
    "num_cols = ________"
   ]
  },
  {
   "cell_type": "markdown",
   "metadata": {
    "slideshow": {
     "slide_type": "slide"
    }
   },
   "source": [
    "## Print out a 2D list with a 2D Loop:\n",
    "\n",
    "2D lists work really well with 2D loops.\n",
    "\n",
    "Let's write some code that will allow us to print out `my_matrix`:"
   ]
  },
  {
   "cell_type": "code",
   "execution_count": 18,
   "metadata": {},
   "outputs": [
    {
     "name": "stdout",
     "output_type": "stream",
     "text": [
      "1 2 3 4 \n",
      "5 6 7 8 \n",
      "9 10 11 12 \n"
     ]
    }
   ],
   "source": [
    "my_matrix = [[1,2,3,4], [5,6,7,8], [9,10,11,12]]\n",
    "num_rows = len(my_matrix)\n",
    "num_cols = len(my_matrix[0])\n",
    "\n",
    "for row in range(num_rows): #for each row\n",
    "    \n",
    "    for col in range(num_cols): # for each column\n",
    "        print(my_matrix[row][col], end=\" \")\n",
    "    print()"
   ]
  },
  {
   "cell_type": "markdown",
   "metadata": {
    "slideshow": {
     "slide_type": "slide"
    }
   },
   "source": [
    "## Using Elements to Print 2D list:\n",
    "\n",
    "You don't necessarily need to use the `range()` function to be able to print out a 2D list. We can also directly use the elements.\n",
    "- this comes in handy when the length of the inner lists is not the same:"
   ]
  },
  {
   "cell_type": "code",
   "execution_count": 20,
   "metadata": {},
   "outputs": [
    {
     "name": "stdout",
     "output_type": "stream",
     "text": [
      "1 2 3 4 \n",
      "5 6 7 8 \n",
      "9 10 11 12 \n"
     ]
    }
   ],
   "source": [
    "my_matrix = [[1,2,3,4], [5,6,7,8], [9,10,11,12]]\n",
    "\n",
    "for row in my_matrix:\n",
    "    for element in row:\n",
    "        print(element, end=\" \")\n",
    "    print()"
   ]
  },
  {
   "cell_type": "code",
   "execution_count": 13,
   "metadata": {},
   "outputs": [
    {
     "name": "stdout",
     "output_type": "stream",
     "text": [
      "1 2 3 4 \n",
      "5 6 \n",
      "7 8 9 \n"
     ]
    }
   ],
   "source": [
    "a = [[1, 2, 3, 4], [5, 6], [7, 8, 9]]\n",
    "\n",
    "for row in a:\n",
    "    for elem in row:\n",
    "        print(elem, end=' ')\n",
    "    print()"
   ]
  },
  {
   "cell_type": "markdown",
   "metadata": {
    "slideshow": {
     "slide_type": "slide"
    }
   },
   "source": [
    "## Group Exercise #2:\n",
    "\n",
    "Use a nested for loop to print out the sum of each row of this 2D list:\n",
    "\n",
    "The output should look like: <br>\n",
    "`row 0 has sum 10` <br>\n",
    "`row 1 has sum 26` <br>\n",
    "`row 2 has sum 42` <br>\n"
   ]
  },
  {
   "cell_type": "markdown",
   "metadata": {
    "slideshow": {
     "slide_type": "slide"
    }
   },
   "source": [
    "# Let's break this one down into a few steps:\n",
    "1. Find out how many rows and columns a 2D list has using `len()`\n",
    "2. Print out the values of a matrix using a nested for loop\n",
    "    - output should look something like this: <br>\n",
    "    `1 2 3 4 ` <br>\n",
    "    `5 6 7 8 ` <br>\n",
    "    `9 10 11 12` <br>\n",
    "3. Print out the sum of the rows."
   ]
  },
  {
   "cell_type": "markdown",
   "metadata": {
    "slideshow": {
     "slide_type": "subslide"
    }
   },
   "source": [
    "## Step #1: get `num_rows` and `num_cols`"
   ]
  },
  {
   "cell_type": "code",
   "execution_count": 25,
   "metadata": {
    "slideshow": {
     "slide_type": "fragment"
    }
   },
   "outputs": [
    {
     "name": "stdout",
     "output_type": "stream",
     "text": [
      "Scores has  3 rows and  4 columns.\n"
     ]
    }
   ],
   "source": [
    "scores = [[1,2,3,4], [5,6,7,8],[9,10,11,12]]\n",
    "\n",
    "# Hint: to get the number of rows in a 2D list, use\n",
    "num_rows = len(scores)\n",
    "\n",
    "#How might we go about getting the number of columns? Remember... it's a list of lists.\n",
    "num_cols = len(scores[0])\n",
    "print(\"Scores has \", num_rows, 'rows and ', num_cols, 'columns.') "
   ]
  },
  {
   "cell_type": "markdown",
   "metadata": {
    "slideshow": {
     "slide_type": "subslide"
    }
   },
   "source": [
    "## Step #2: Print out the 2D list using nested for loops\n",
    "\n",
    "> __Hint__: You'll need to use `num_rows` and `num_cols` from step #1\n",
    "\n",
    "How would you fill in the following blanks?"
   ]
  },
  {
   "cell_type": "code",
   "execution_count": 28,
   "metadata": {
    "slideshow": {
     "slide_type": "-"
    }
   },
   "outputs": [
    {
     "name": "stdout",
     "output_type": "stream",
     "text": [
      "1 2 3 4 \n",
      "5 6 7 8 \n",
      "9 10 11 12 \n"
     ]
    }
   ],
   "source": [
    "scores = [[1,2,3,4], [5,6,7,8],[9,10,11,12]]\n",
    "num_rows = len(scores)\n",
    "num_cols = len(scores[0])\n",
    "\n",
    "for row in range(num_rows): #range(3) --> [0,1,2]\n",
    "    for col in range(num_cols): #range(4) --> [0,1,2,3]\n",
    "        print(scores[row][col], end=' ')\n",
    "    print()"
   ]
  },
  {
   "cell_type": "markdown",
   "metadata": {
    "slideshow": {
     "slide_type": "slide"
    }
   },
   "source": [
    "## Step #3: Pull it all together to calculate the sum of each row\n",
    "\n",
    "> __Hint__: You'll need to use two indices to index into `scores`\n",
    "\n",
    "What should you fill in the blank with?"
   ]
  },
  {
   "cell_type": "code",
   "execution_count": 29,
   "metadata": {
    "slideshow": {
     "slide_type": "-"
    }
   },
   "outputs": [
    {
     "name": "stdout",
     "output_type": "stream",
     "text": [
      "row 0 has sum 10\n",
      "row 1 has sum 26\n",
      "row 2 has sum 42\n"
     ]
    }
   ],
   "source": [
    "for row in range(num_rows): \n",
    "    total=0\n",
    "    for col in range(num_cols):\n",
    "        total += __________\n",
    "    print(\"row\", row, \"has sum\", total)"
   ]
  },
  {
   "cell_type": "markdown",
   "metadata": {
    "slideshow": {
     "slide_type": "slide"
    }
   },
   "source": [
    "## Group Exercise #3:\n",
    "\n",
    "Use a nested for loop to print out the sum or each __column__ of this 2D list.\n",
    "\n",
    "The output should look like:\n",
    "\n",
    "`col 0 has sum 15`\n",
    "\n",
    "`col 1 has sum 18`\n",
    "\n",
    "`col 2 has sum 21`\n",
    "\n",
    "`col 3 has sum 24`\n",
    "\n",
    "> Hint: the inner loop runs more than the outer loop... so what might you need to switch here?"
   ]
  },
  {
   "cell_type": "markdown",
   "metadata": {
    "slideshow": {
     "slide_type": "slide"
    }
   },
   "source": [
    "# Final Project Work Time\n",
    "\n",
    "I'll hang around and am happy to answer any questions about your final projects. "
   ]
  },
  {
   "cell_type": "markdown",
   "metadata": {
    "slideshow": {
     "slide_type": "slide"
    }
   },
   "source": [
    "# Admin Stuff"
   ]
  },
  {
   "cell_type": "markdown",
   "metadata": {
    "slideshow": {
     "slide_type": "fragment"
    }
   },
   "source": [
    "You should be working on:\n",
    "- Quiz #2 is due Tuesday 8/8 by 11:59pm\n",
    "- Project Proposal is released today, due Tuesday 8/8 by 11:59 pm"
   ]
  },
  {
   "cell_type": "markdown",
   "metadata": {
    "slideshow": {
     "slide_type": "fragment"
    }
   },
   "source": [
    "New Stuff:\n",
    "- Quiz #3 is _released_ after class today, due Tuesday August 15th by 11:59pm.\n",
    "- Final prject __code__ and __video__ are due Tuesday August 15th by 11:59 pm\n",
    "    - Codoe submitted via Blackboard\n",
    "    - Video submitted to [Google Drive Link](https://drive.google.com/drive/folders/1ns-YzYOQ0xRCEUnhF4a9uoEoWvT_aa2M?usp=sharing)"
   ]
  },
  {
   "cell_type": "markdown",
   "metadata": {
    "slideshow": {
     "slide_type": "slide"
    }
   },
   "source": [
    "## Course Evaluations:\n",
    "\n",
    "We're going to start by giving you 5 mintues to fill out the [course evlauation](https://drake.campuslabs.com/eval-home/)\n",
    "- use your Drake Credentials to login"
   ]
  }
 ],
 "metadata": {
  "celltoolbar": "Slideshow",
  "kernelspec": {
   "display_name": "Python 3 (ipykernel)",
   "language": "python",
   "name": "python3"
  },
  "language_info": {
   "codemirror_mode": {
    "name": "ipython",
    "version": 3
   },
   "file_extension": ".py",
   "mimetype": "text/x-python",
   "name": "python",
   "nbconvert_exporter": "python",
   "pygments_lexer": "ipython3",
   "version": "3.11.4"
  }
 },
 "nbformat": 4,
 "nbformat_minor": 4
}
