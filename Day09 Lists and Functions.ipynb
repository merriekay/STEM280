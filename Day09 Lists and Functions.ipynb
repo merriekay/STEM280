{
  "cells": [
    {
      "cell_type": "markdown",
      "metadata": {
        "id": "view-in-github",
        "colab_type": "text"
      },
      "source": [
        "<a href=\"https://colab.research.google.com/github/merriekay/STEM280/blob/main/Day09%20Lists%20and%20Functions.ipynb\" target=\"_parent\"><img src=\"https://colab.research.google.com/assets/colab-badge.svg\" alt=\"Open In Colab\"/></a>"
      ]
    },
    {
      "cell_type": "markdown",
      "metadata": {
        "id": "0VDnc0ccpu8g"
      },
      "source": [
        "# STEM280: Day 09\n",
        "## Global/Local Variables, Functions + Lists\n",
        "\n",
        "####  STEM 280: Introduction to Computer Science I | Summer 2023\n",
        "\n",
        "Thursday, August 3rd, 2023\n",
        "\n",
        " 📜 [Syllabus](https://docs.google.com/document/d/1LMCXdvynDdj4QWc0T9DgF4tos4PYLBpwOPHRC8BO-rA/edit?usp=sharing) | 📬 [CodePost Login](https://codepost.io/login) | 📆 [Schedule](https://docs.google.com/spreadsheets/d/e/2PACX-1vQiF1fOj8DS9cAab8N9gVPdHtNYzXs9GCBNMdPc3xWbg_qfXanppZrFVqxVSa_H_zy9WyCmGMQSAZEp/pubhtml)"
      ]
    },
    {
      "cell_type": "markdown",
      "metadata": {
        "id": "98_B_iX4pu8h"
      },
      "source": [
        "> Note to self: Make sure you're recording 🎥"
      ]
    },
    {
      "cell_type": "markdown",
      "metadata": {
        "id": "UjPekS0Jpu8i"
      },
      "source": [
        "# Admin Stuff"
      ]
    },
    {
      "cell_type": "markdown",
      "metadata": {
        "id": "BKwzWEHQpu8i"
      },
      "source": [
        "Grading:\n",
        "- Lab 4, 5a and 5b are graded\n"
      ]
    },
    {
      "cell_type": "markdown",
      "metadata": {
        "id": "XFlOQmQNpu8i"
      },
      "source": [
        "You should be working on:\n",
        "- Lab #7 is due tonight by 11:59 pm\n",
        "- Quiz #2 is due Tuesday 8/8 by 11:59pm\n",
        "- Project Proposal is released today, due Tuesday 8/8 by 11:59 pm"
      ]
    },
    {
      "cell_type": "markdown",
      "metadata": {
        "id": "-QQUAOQbpu8i"
      },
      "source": [
        "# Final Project\n",
        "\n",
        "For the final project, you will develop a program of your choosing that incorporates many different programming concepts you have learned throughout this class.\n",
        "- The final project is to be completed individually.\n",
        "- __Due__: 8/13 by 11:59pm, submit you code as well as a short (<2 min) video of you demoing your code"
      ]
    },
    {
      "cell_type": "markdown",
      "metadata": {
        "id": "XGCFCoZDpu8j"
      },
      "source": [
        "To receive full credit on the project you will need to use at least __13__ of the following __20__ elements:\n",
        "- variables\n",
        "- comments\n",
        "- `if-else` statement\n",
        "- `if-elif-else` statement\n",
        "- get input from the user\n",
        "- print output to the console\n",
        "- one of the following operators `//`, `%`, `+=`, or `-=`\n",
        "- nested if-statement\n",
        "- `while` loop\n",
        "- `for` loop\n",
        "- a graphics element\n",
        "- a random number\n",
        "- at least 1 user-defined function\n",
        "- keyword argument\n",
        "- default parameter\n",
        "- docstring for each function\n",
        "- list\n",
        "- nested list (2D list) _we'll learn this soon_\n",
        "- nested loop _we'll learn this soon_\n",
        "- something new that we haven't learned in class\n"
      ]
    },
    {
      "cell_type": "markdown",
      "metadata": {
        "id": "F9Le1RZ-pu8j"
      },
      "source": [
        "## Project Proposal:\n",
        "The proposal requires a short (1/2 page to 1 page) written description for your final project. It can be a word processing document, google doc link, or a pdf file and should include the following:\n",
        "1. your name\n",
        "2. the idea (the game, simulation, visualization, etc. you plan to implement for your final project)\n",
        "3. A development plan\n",
        "    - what will you do first, second, third, etc\n",
        "    - what functions will you use or develop?"
      ]
    },
    {
      "cell_type": "markdown",
      "metadata": {
        "id": "XYU4wQZ-pu8j"
      },
      "source": [
        "# ⏪ Quick Review:"
      ]
    },
    {
      "cell_type": "markdown",
      "metadata": {
        "id": "M1267yNNpu8j"
      },
      "source": [
        "## Functions calling Functions\n",
        "\n",
        "A function can be defined before it can be called\n",
        "- Use `def` to define a function\n",
        "- List the functions at the top of your `.py` file\n",
        "\n",
        "Nothing prevents a function to be called from within another function"
      ]
    },
    {
      "cell_type": "code",
      "execution_count": null,
      "metadata": {
        "id": "o-A_5lULpu8k",
        "outputId": "040a7ed7-0987-4f47-ae89-2037f131c628"
      },
      "outputs": [
        {
          "name": "stdout",
          "output_type": "stream",
          "text": [
            "I'm starting in the main function\n",
            "Hello STEM 280\n",
            "I'm in a function!\n",
            "Goodbye\n"
          ]
        }
      ],
      "source": [
        "# define the message function\n",
        "def message():\n",
        "    print(\"Hello STEM 280\")\n",
        "    print(\"I'm in a function!\")\n",
        "\n",
        "# define the main function:\n",
        "def main():\n",
        "    print(\"I'm starting in the main function\")\n",
        "    message()\n",
        "    print(\"Goodbye\")\n",
        "\n",
        "# call the main function\n",
        "main()"
      ]
    },
    {
      "cell_type": "markdown",
      "metadata": {
        "id": "3lu77Ibtpu8l"
      },
      "source": [
        "## Things to remember about arguments and parameters\n",
        "\n",
        "__Parameter__: a variable - you never put a literal number/string/etc. in the parens when you _define_ the function.\n",
        "\n",
        "__Argument__: can be a literal value, a variable, or any other expression (it will be evaluated and the result will be passed as the argument)\n",
        "\n",
        ">Remember: The value of the argument gets copied to the parameter variable"
      ]
    },
    {
      "cell_type": "code",
      "execution_count": null,
      "metadata": {
        "id": "5zg7uutEpu8l",
        "outputId": "acc5ef43-f968-48af-8eb2-85ebade28250"
      },
      "outputs": [
        {
          "name": "stdout",
          "output_type": "stream",
          "text": [
            "That's 37.77777777777778 in Celsius\n"
          ]
        }
      ],
      "source": [
        "def f_to_c(fahrenheit_temp):   #fahrenheit_temp is a parameter\n",
        "    celsius_temp = (fahrenheit_temp-32)*(5/9)\n",
        "    print(\"That's\",celsius_temp,\"in Celsius\")\n",
        "\n",
        "f_to_c(90)  #90 is an argument"
      ]
    },
    {
      "cell_type": "markdown",
      "metadata": {
        "id": "cF6zfdldpu8l"
      },
      "source": [
        "## Arguments v Parameters\n",
        "The difference between an __argument__ and a __parameter__ can be difficult to remember. But here's a tool to help ya:\n",
        "<div>\n",
        "<img src=\"https://github.com/merriekay/STEM280/blob/main/images/day08_outside.png?raw=1\" width=\"400\"/>\n",
        "</div>\n",
        "[credit to typealias.com](https://typealias.com/guides/parameters-arguments/)"
      ]
    },
    {
      "cell_type": "markdown",
      "metadata": {
        "id": "0P4kG7crpu8l"
      },
      "source": [
        "## Function Review:\n",
        "\n",
        "So far we've covered:\n",
        "- Function syntax: `def function_name(param1, param2):`\n",
        "- Passing information to a function using __arguments__ and __parameters__\n",
        "    > Remember, \"Take your argument outisde!\"\n",
        "- Passing __multiple arguments and parameters__ to functions\n",
        "- Getting output from a function using the `return` keyword"
      ]
    },
    {
      "cell_type": "markdown",
      "metadata": {
        "id": "XNHuOO3Rpu8m"
      },
      "source": [
        "# ✨ New Material"
      ]
    },
    {
      "cell_type": "markdown",
      "metadata": {
        "id": "QNWxeGC8pu8m"
      },
      "source": [
        "## Group Exercise #1:\n",
        "Define a new function called `tip_calculator` which accepts a numerical argument (a dollar amount for a bill at a restaurant). It should calculate how much a 15% tip would be and print the value. It's ok if the value isn't rounded to the nearest cent\n",
        "\n",
        "_Hint:_ there should be no `input` statements in your code.\n",
        "\n",
        "If I wanted to call it, I would do things like this:"
      ]
    },
    {
      "cell_type": "code",
      "execution_count": null,
      "metadata": {
        "id": "KxaupiF1pu8m"
      },
      "outputs": [],
      "source": [
        "# this is where we stopped"
      ]
    },
    {
      "cell_type": "code",
      "execution_count": null,
      "metadata": {
        "id": "Nib_oLkzpu8m"
      },
      "outputs": [],
      "source": [
        "tip_calculator(12.87) #should print 1.9305\n",
        "tip_calculator(110.20) #16.53\n",
        "tip_calculator(37.95) #5.6925"
      ]
    },
    {
      "cell_type": "markdown",
      "metadata": {
        "id": "MT8ctZ6Mpu8m"
      },
      "source": [
        "If you do want to round to the nearest cent, you could use the round function, which works like this:"
      ]
    },
    {
      "cell_type": "code",
      "execution_count": null,
      "metadata": {
        "id": "gcA02Fjnpu8m",
        "outputId": "8d8440e5-60ae-4b62-b564-d0d962c949c3"
      },
      "outputs": [
        {
          "data": {
            "text/plain": [
              "1.93"
            ]
          },
          "execution_count": 1,
          "metadata": {},
          "output_type": "execute_result"
        }
      ],
      "source": [
        "round(1.9305,2)"
      ]
    },
    {
      "cell_type": "markdown",
      "metadata": {
        "id": "bxvCzPADpu8n"
      },
      "source": [
        "## One step further\n",
        "Great... now, can you change the code above so that it takes two parameters:\n",
        "- one for the amount the bill was\n",
        "- one for the tip percent\n",
        "and have it return the total bill with the tip added"
      ]
    },
    {
      "cell_type": "markdown",
      "metadata": {
        "id": "kl58saUTpu8n"
      },
      "source": [
        "## Passing Different Data Types in and out of functions\n",
        "\n",
        "__Arguments__, __parameters__ and __returns__ can be all different types of data:\n",
        "- `str`, `int`, `float`, even `lists`!\n",
        "\n",
        "Here's an example of passing lists to and from a function:"
      ]
    },
    {
      "cell_type": "code",
      "execution_count": null,
      "metadata": {
        "id": "FlDGj3dQpu8n",
        "outputId": "636fe1c6-bd9f-4166-99a3-487b0d1218d1"
      },
      "outputs": [
        {
          "name": "stdout",
          "output_type": "stream",
          "text": [
            "['green', 'orange', 'yellow', 'green', 'blue', 'purple']\n"
          ]
        }
      ],
      "source": [
        "def replace_red_with_green(color_list): #color_list is a list of colors\n",
        "    counter = 0\n",
        "    while counter < len(color_list):\n",
        "        if color_list[counter] == 'red':\n",
        "            color_list[counter] = 'green'\n",
        "        counter +=1\n",
        "    return color_list #returning a list\n",
        "\n",
        "rainbow = ['red', 'orange' , 'yellow','green', 'blue', 'purple']\n",
        "\n",
        "new_colors = replace_red_with_green(rainbow) #passing a list to the function\n",
        "print(new_colors)"
      ]
    },
    {
      "cell_type": "markdown",
      "metadata": {
        "id": "WXJCSzGYpu8n"
      },
      "source": [
        "## Group Exercise #2\n",
        "\n",
        "Let's combine what we just learned about functions with the code for Exercise #5 (random circles) from Lab #6.\n",
        "\n",
        "Rather that wrapping the entire code in a for loop to get it to build however many random circles the user wants, can we write a function that we instead call a bunch of times?\n",
        "\n",
        "<div>\n",
        "<img src=\"https://github.com/merriekay/STEM280/blob/main/images/day07_randomcircles.png?raw=1\" width=\"400\"/>\n",
        "</div>"
      ]
    },
    {
      "cell_type": "code",
      "execution_count": null,
      "metadata": {
        "id": "1m-4AmClpu8n"
      },
      "outputs": [],
      "source": [
        "# here's the code to draw **one** random circle\n",
        "import random\n",
        "from graphics import *\n",
        "\n",
        "win = GraphWin(\"Random Circles\", 400, 400)\n",
        "\n",
        "#a random color\n",
        "r = random.randint(0,255)\n",
        "g = random.randint(0,255)\n",
        "b = random.randint(0,255)\n",
        "\n",
        "color = color_rgb(r,g,b)\n",
        "\n",
        "#a random location\n",
        "x = random.randint(0,350)\n",
        "y = random.randint(0,350)\n",
        "\n",
        "#a random radius\n",
        "radius = random.randint(10,50)\n",
        "\n",
        "#a random circle\n",
        "circ = Circle(Point(x,y), radius)\n",
        "circ.setFill(color)\n",
        "circ.draw(win)"
      ]
    },
    {
      "cell_type": "markdown",
      "metadata": {
        "id": "3oyBv_ftpu8n"
      },
      "source": [
        "## 📖✨ Terminology Alert: `void` and `value-returning` functions\n",
        "- __void function__: a function that does not return anything\n",
        "- __value-returning function__: a function that returns a value\n",
        "    - I've also heart this referred to as a __fruitful__ function."
      ]
    },
    {
      "cell_type": "markdown",
      "metadata": {
        "id": "6a1Gq5D4pu8n"
      },
      "source": [
        "## Passing Different Data Types in and out of functions\n",
        "\n",
        "__Arguments__, __parameters__ and __returns__ can be all different types of data:\n",
        "- `str`, `int`, `float`, even `lists`!\n",
        "\n",
        "Here's an example of passing lists to and from a function:"
      ]
    },
    {
      "cell_type": "code",
      "execution_count": null,
      "metadata": {
        "id": "Rbv6q58ypu8o",
        "outputId": "814ae00e-fafb-488e-f117-3bf41b052355"
      },
      "outputs": [
        {
          "name": "stdout",
          "output_type": "stream",
          "text": [
            "s\n"
          ]
        }
      ],
      "source": [
        "#this function takes in a string and returns a string\n",
        "def get_last_letter(word):\n",
        "    return word[-1]\n",
        "\n",
        "print(get_last_letter('supercalifragilisticexpialidocious'))"
      ]
    },
    {
      "cell_type": "markdown",
      "metadata": {
        "id": "Mjs6SM0-pu8o"
      },
      "source": [
        "## Group Exercise #3:\n",
        "\n",
        "Change the program below so that `pay` is _returned_ from `calculate_pay()` instead of printed.\n",
        "\n",
        "Change the `user_pay_calculator()` function so that it correctly calls the new version of `calculate_pay()`"
      ]
    },
    {
      "cell_type": "code",
      "execution_count": null,
      "metadata": {
        "id": "rR7lKbcvpu8o",
        "outputId": "4153a788-6a34-4451-925b-d191e54333f0"
      },
      "outputs": [
        {
          "name": "stdout",
          "output_type": "stream",
          "text": [
            "Enter your hourly wage: 15\n",
            "Enter your number of hours worked: 40\n",
            "600.0\n"
          ]
        }
      ],
      "source": [
        "def calculate_pay(wage,hours):\n",
        "    if hours <= 40:\n",
        "        pay = wage*hours\n",
        "    else:\n",
        "        overtime_hours = hours-40\n",
        "        pay = (wage*40) + (wage*1.5*overtime_hours)\n",
        "\n",
        "    print(\"Total pay:\",pay) #change this line\n",
        "\n",
        "\n",
        "def user_pay_calculator():\n",
        "    hourly_wage = float(input(\"Enter your hourly wage: \"))\n",
        "    num_hours = float(input(\"Enter your number of hours worked: \"))\n",
        "    calculate_pay(hourly_wage,num_hours) #change this line\n",
        "\n",
        "user_pay_calculator()"
      ]
    },
    {
      "cell_type": "markdown",
      "metadata": {
        "id": "GeyzdG-Rpu8o"
      },
      "source": [
        "# Documenting Functions\n",
        "## The `help()` function\n",
        "\n",
        "Python provides a built-in `help()` function that shows you how to use other functions. You can check it out in the interactive shell in Thonny like this:"
      ]
    },
    {
      "cell_type": "code",
      "execution_count": null,
      "metadata": {
        "id": "_OzYTjYWpu8o",
        "outputId": "8840b684-6971-464a-940a-ea1e37fe6a65"
      },
      "outputs": [
        {
          "name": "stdout",
          "output_type": "stream",
          "text": [
            "Help on built-in function len in module builtins:\n",
            "\n",
            "len(obj, /)\n",
            "    Return the number of items in a container.\n",
            "\n"
          ]
        }
      ],
      "source": [
        "help(len)"
      ]
    },
    {
      "cell_type": "markdown",
      "metadata": {
        "id": "wFCuGYgYpu8p"
      },
      "source": [
        "Go ahead and try it yourself on other functions we've used. Here are a few: `int`, `print`, `type`, `random.randint`, etc.\n",
        "\n",
        "To use it with a method, you need to use dot notation with an appropriate object, but as above, just use the name and not parentheses."
      ]
    },
    {
      "cell_type": "code",
      "execution_count": null,
      "metadata": {
        "id": "w8QMxi7ppu8p",
        "outputId": "d8c64f51-c89e-43d1-ef80-7f9402433fa8"
      },
      "outputs": [
        {
          "name": "stdout",
          "output_type": "stream",
          "text": [
            "Help on built-in function index:\n",
            "\n",
            "index(value, start=0, stop=9223372036854775807, /) method of builtins.list instance\n",
            "    Return first index of value.\n",
            "    \n",
            "    Raises ValueError if the value is not present.\n",
            "\n"
          ]
        }
      ],
      "source": [
        "help([].index)"
      ]
    },
    {
      "cell_type": "markdown",
      "metadata": {
        "id": "HJ1VMsW2pu8p"
      },
      "source": [
        "## Docstrings\n",
        "\n",
        "You can (and should!) support this with your functions too.\n",
        "\n",
        "To do it, add a __docstring__, a multiline comment starting as the first line in your function.\n",
        "> Remember, a multiline comment uses `\"\"\"` on the top and bottom line of your comment\n",
        "\n",
        "Things typically included:\n",
        "* __Description__: a description of the function's purpose\n",
        "* __Parameters__: a description of each parameter - so that they know what to pass as arguments\n",
        "* __Returns__: a description of the return value, if any - so they know how to use what they get back"
      ]
    },
    {
      "cell_type": "code",
      "execution_count": null,
      "metadata": {
        "id": "PiZ5gxaCpu8p"
      },
      "outputs": [],
      "source": [
        "def f_to_c(fahrenheit_temp):\n",
        "    \"\"\"\n",
        "    Convert a temperature from Fahrenheit to its Celsius equivalent.\n",
        "\n",
        "    Paremeters:\n",
        "        fahrenheit_temp: a float, the Fahrenheit temperature to be converted\n",
        "\n",
        "    Returns:\n",
        "        a float, the temperature converted into Celsius\n",
        "    \"\"\"\n",
        "    celsius_temp = (fahrenheit_temp-32)*(5/9)\n",
        "    return celsius_temp"
      ]
    },
    {
      "cell_type": "code",
      "execution_count": null,
      "metadata": {
        "id": "2LxtpmH-pu8p",
        "outputId": "39d19d26-e941-40df-98ed-56e7c425e507"
      },
      "outputs": [
        {
          "name": "stdout",
          "output_type": "stream",
          "text": [
            "Help on function f_to_c in module __main__:\n",
            "\n",
            "f_to_c(fahrenheit_temp)\n",
            "    Convert a temperature from Fahrenheit to its Celsius equivalent.\n",
            "    \n",
            "    Paremeters:\n",
            "        fahrenheit_temp: a float, the Fahrenheit temperature to be converted\n",
            "        \n",
            "    Returns:\n",
            "        a float, the temperature converted into Celsius\n",
            "\n"
          ]
        }
      ],
      "source": [
        "help(f_to_c)"
      ]
    },
    {
      "cell_type": "markdown",
      "metadata": {
        "id": "GfQOgRL6pu8q"
      },
      "source": [
        "## Group Exercise #4\n",
        "\n",
        "Write the docstring for the following function. Make sure that is includes:\n",
        "- description\n",
        "- parameters\n",
        "- returns"
      ]
    },
    {
      "cell_type": "code",
      "execution_count": null,
      "metadata": {
        "id": "s3Hz_SHzpu8z",
        "outputId": "8ee4063e-ec55-425f-f099-c2f20854886c"
      },
      "outputs": [
        {
          "name": "stdout",
          "output_type": "stream",
          "text": [
            "Help on function roll_die in module __main__:\n",
            "\n",
            "roll_die(sides)\n",
            "    # write docstring here\n",
            "\n"
          ]
        }
      ],
      "source": [
        "def roll_die(sides):\n",
        "    \"\"\"\n",
        "    # write docstring here\n",
        "    \"\"\"\n",
        "    roll = random.randint(1,sides)\n",
        "    return roll\n",
        "\n",
        "help(roll_die)"
      ]
    },
    {
      "cell_type": "markdown",
      "metadata": {
        "id": "-AjAx3v_pu80"
      },
      "source": [
        "# 📖✨ Terminology Alert: `scope`, `local`, `global`\n",
        "\n",
        "A variable's __scope__ is the part of the program that the variable is visible to.\n",
        "\n",
        "In Python, a scope can be __local__ to a function or __global__ (visible everywhere).\n",
        "\n",
        "Furthermore, scope may also be limited within a function - e.g., you can't use a variable before you've assigned something to it\n",
        "\n",
        "Parameters are local to the function they're defined in."
      ]
    },
    {
      "cell_type": "code",
      "execution_count": null,
      "metadata": {
        "id": "4HrhI6hFpu80",
        "outputId": "cdce5a7f-5afb-4ef4-8822-325c0015fce0"
      },
      "outputs": [
        {
          "name": "stdout",
          "output_type": "stream",
          "text": [
            "Enter your hourly wage: 40\n",
            "Enter your number of hours worked: 41\n",
            "Your total pay is 1660.0\n"
          ]
        }
      ],
      "source": [
        "import csv\n",
        "\n",
        "def calculate_pay(wage,hours):\n",
        "    if hours <= 40:\n",
        "        pay = wage*hours\n",
        "    else:\n",
        "        overtime_hours = hours-40\n",
        "        pay = (wage*40) + (wage*1.5*overtime_hours)\n",
        "\n",
        "    return pay\n",
        "\n",
        "def user_pay_calculator():\n",
        "    hourly_wage = float(input(\"Enter your hourly wage: \"))\n",
        "    num_hours = float(input(\"Enter your number of hours worked: \"))\n",
        "    #calculate_pay(hourly_wage,num_hours)\n",
        "    #print(pay) #won't work\n",
        "    print(\"Your total pay is\",calculate_pay(hourly_wage,num_hours))\n",
        "\n",
        "user_pay_calculator()"
      ]
    },
    {
      "cell_type": "markdown",
      "metadata": {
        "id": "QWSE2eajpu80"
      },
      "source": [
        "`wage`, `hours`, `overtime_hours`, `pay` are all local to the `calculate_pay()` function\n",
        "\n",
        "You can't use `pay` inside user_pay_calculator()\n",
        "\n",
        "Similarly, `hourly_wage` couldn't be used in `calculate_pay()`"
      ]
    },
    {
      "cell_type": "markdown",
      "metadata": {
        "id": "VCiEJpbUpu80"
      },
      "source": [
        "## Global variables\n",
        "\n",
        "Global variables are weird"
      ]
    },
    {
      "cell_type": "code",
      "execution_count": null,
      "metadata": {
        "id": "RoUQTxYwpu81",
        "outputId": "585f4f95-35d0-4cf3-b717-d5221e0afd40"
      },
      "outputs": [
        {
          "name": "stdout",
          "output_type": "stream",
          "text": [
            "350\n",
            "350\n"
          ]
        }
      ],
      "source": [
        "num_students = 350 #this variable is global because it is defined outside of a function\n",
        "\n",
        "def first_grade_classroom():\n",
        "    print(num_students)\n",
        "\n",
        "def second_grade_classroom():\n",
        "    print(num_students)\n",
        "\n",
        "first_grade_classroom()\n",
        "second_grade_classroom()"
      ]
    },
    {
      "cell_type": "code",
      "execution_count": null,
      "metadata": {
        "id": "hVheC4HXpu81",
        "outputId": "f7b84d9b-f8c1-43f7-c63f-71c973d02482"
      },
      "outputs": [
        {
          "name": "stdout",
          "output_type": "stream",
          "text": [
            "30\n",
            "350\n"
          ]
        }
      ],
      "source": [
        "num_students = 350 #this variable is global because it is defined outside of a function\n",
        "\n",
        "def first_grade_classroom():\n",
        "    num_students = 30  #this is actually now a local variable with the same name as the global variable!\n",
        "    print(num_students)\n",
        "\n",
        "def second_grade_classroom():\n",
        "    print(num_students)\n",
        "\n",
        "first_grade_classroom()\n",
        "second_grade_classroom()"
      ]
    },
    {
      "cell_type": "markdown",
      "metadata": {
        "id": "M1mGBMN3pu81"
      },
      "source": [
        "If you really want to change a global variable inside a function, you have to use the `global` keyword."
      ]
    },
    {
      "cell_type": "code",
      "execution_count": null,
      "metadata": {
        "id": "TidNWYbypu81",
        "outputId": "8ee95a70-491a-48cf-ee14-ea704d893032"
      },
      "outputs": [
        {
          "name": "stdout",
          "output_type": "stream",
          "text": [
            "30\n",
            "30\n"
          ]
        }
      ],
      "source": [
        "num_students = 350 #this variable is global because it is defined outside of a function\n",
        "\n",
        "def first_grade_classroom():\n",
        "    global num_students #here, we tell it to really use the global variable\n",
        "    num_students = 30\n",
        "    print(num_students)\n",
        "\n",
        "def second_grade_classroom():\n",
        "    print(num_students)\n",
        "\n",
        "first_grade_classroom()\n",
        "second_grade_classroom()"
      ]
    },
    {
      "cell_type": "markdown",
      "metadata": {
        "id": "t_BDqr0gpu81"
      },
      "source": [
        "But, you really _shouldn't_ do this. Changing global variables inside of functions makes programs _extremely difficult_ to debug.\n",
        "\n",
        "If you need the same variable in multiple functions, it is better to pass it as an argument or return it."
      ]
    },
    {
      "cell_type": "markdown",
      "metadata": {
        "id": "asnF7_eApu82"
      },
      "source": [
        "## Constants\n",
        "\n",
        "It's best to have all your code be in functions, except\n",
        "* Constant values you might need that never change (by convention, use all caps for names)\n",
        "* Maybe a single function call to launch the program."
      ]
    },
    {
      "cell_type": "code",
      "execution_count": null,
      "metadata": {
        "id": "PvZ4mL_xpu82"
      },
      "outputs": [],
      "source": [
        "import csv\n",
        "\n",
        "OVERTIME_THRESHOLD = 40\n",
        "\n",
        "def calculate_pay(wage,hours):\n",
        "    if hours <= OVERTIME_THRESHOLD:\n",
        "        pay = wage*hours\n",
        "    else:\n",
        "        overtime_hours = hours-OVERTIME_THRESHOLD\n",
        "        pay = (wage*OVERTIME_THRESHOLD) + (wage*1.5*overtime_hours)\n",
        "\n",
        "    return pay\n",
        "\n",
        "\n",
        "def user_pay_calculator():\n",
        "    hourly_wage = float(input(\"Enter your hourly wage: \"))\n",
        "    num_hours = float(input(\"Enter your number of hours worked: \"))\n",
        "    print(\"Your total pay is\",calculate_pay(hourly_wage,num_hours))\n",
        "\n",
        "user_pay_calculator()"
      ]
    },
    {
      "cell_type": "markdown",
      "metadata": {
        "id": "IW3Bu3Znpu82"
      },
      "source": [
        "## The last bit of Function Material:\n",
        "\n",
        "### 📖✨ New Terminology:\n",
        "- __default parameters__: setting a parameter to have a default value so you don't always have to pass it into the function.\n",
        "\n",
        "In the example below, we set `tip_percent=0.20` in the function definition, so `tip_percent` has a default value of `0.20`, which means it will be 0.20 unless otherwise specified."
      ]
    },
    {
      "cell_type": "code",
      "execution_count": null,
      "metadata": {
        "id": "a64U4Yxjpu82"
      },
      "outputs": [],
      "source": [
        "def calculate_tip(bill, tip_percent=0.2):\n",
        "    \"\"\"\n",
        "    will return the amount you should tip given the total of the bill and the tip_percent\n",
        "\n",
        "    Parameters:\n",
        "        bill, (float), the total amount the bill is before the tip\n",
        "        tip_percent, (float), default value of 0.2, the amount you want to tip your server.\n",
        "\n",
        "    Return:\n",
        "        the amount you should tip given the parameters\n",
        "    \"\"\"\n",
        "    return bill*tip_percent"
      ]
    },
    {
      "cell_type": "markdown",
      "metadata": {
        "id": "G3IG5g1opu82"
      },
      "source": [
        "When we can call `calculate_tip(100.0)` below without specifying the `tip_percent` argument, we don't get an error-- it automatically assumes `tip_percent=0.20`."
      ]
    },
    {
      "cell_type": "code",
      "execution_count": null,
      "metadata": {
        "id": "3d09yP_8pu82",
        "outputId": "6e4980e1-cc6f-4ebc-d293-14901d6d3b41"
      },
      "outputs": [
        {
          "name": "stdout",
          "output_type": "stream",
          "text": [
            "On a $100 bill, you should tip, $20.0\n"
          ]
        }
      ],
      "source": [
        "print(\"On a $100 bill, you should tip, $\", calculate_tip(100.0), sep='')"
      ]
    },
    {
      "cell_type": "markdown",
      "metadata": {
        "id": "9yET1xGFpu83"
      },
      "source": [
        "But, if you'd like to use something other than the __default parameter__ value (in this case, `0.20`), you can override the default parameter by passing in a different value as an argument:"
      ]
    },
    {
      "cell_type": "code",
      "execution_count": null,
      "metadata": {
        "id": "l_5cCV5Tpu83",
        "outputId": "9dc5a25d-edac-4828-f226-ba21a2e48ca0"
      },
      "outputs": [
        {
          "name": "stdout",
          "output_type": "stream",
          "text": [
            "If you get terrible service, you should tip $10.0\n"
          ]
        }
      ],
      "source": [
        "print(\"If you get terrible service, you should tip $\", calculate_tip(100, 0.10), sep='')"
      ]
    },
    {
      "cell_type": "markdown",
      "metadata": {
        "id": "b7RTPbhypu83"
      },
      "source": [
        "### Multiple Parameters Review\n",
        "So far, when dealing with multiple arguments/parameters, we've learned that the order is important!\n",
        "- `parameter 1` will take on the value of `argument 1`, `parameter 2` will take on the value of `argument 2`, etc."
      ]
    },
    {
      "cell_type": "code",
      "execution_count": null,
      "metadata": {
        "id": "XyGPVm1cpu83",
        "outputId": "78cbb0e5-26c5-421b-e778-c00c8c2aed1f"
      },
      "outputs": [
        {
          "name": "stdout",
          "output_type": "stream",
          "text": [
            "688.75\n"
          ]
        }
      ],
      "source": [
        "def calculate_pay(wage, hours, overtime_threshold):\n",
        "    if hours < overtime_threshold:\n",
        "        return hours*wage\n",
        "    else:\n",
        "        return 40*wage + (hours-overtime_threshold) * wage * 1.5\n",
        "\n",
        "print(calculate_pay(14.5, 45, 40))"
      ]
    },
    {
      "cell_type": "markdown",
      "metadata": {
        "id": "EdiCXgxapu83"
      },
      "source": [
        "### 📖✨ New Terminology:\n",
        "But... this is not always the case.\n",
        "- __keyword arguments__: when calling a function with multiple parameters, you can specify the parameter by the keyword so that you don't have to worry about the order of the arguments."
      ]
    },
    {
      "cell_type": "code",
      "execution_count": null,
      "metadata": {
        "id": "nwR9k7mWpu84",
        "outputId": "906381c7-54e0-431d-a5ae-06c10941e41f"
      },
      "outputs": [
        {
          "name": "stdout",
          "output_type": "stream",
          "text": [
            "688.75\n",
            "688.75\n"
          ]
        }
      ],
      "source": [
        "def calculate_pay(wage, hours, overtime_threshold=40):\n",
        "    if hours < overtime_threshold:\n",
        "        return hours*wage\n",
        "    else:\n",
        "        return 40*wage + (hours-overtime_threshold) * wage * 1.5\n",
        "\n",
        "print(calculate_pay(14.5, 45, 40))\n",
        "print(calculate_pay(hours=45, wage=14.5, overtime_threshold=40))"
      ]
    },
    {
      "cell_type": "markdown",
      "metadata": {
        "id": "SYjz3obipu84"
      },
      "source": [
        "## Group Exercise #5:\n",
        "\n",
        "Write a function called `split_bill()` that takes in three arguments, `total_bill`, `num_people`, and `tip_pecent`, and will return what each person would owe if you were to split the bill evenly.\n",
        "\n",
        "Make `tip_percent` a default parameter with the value of `0.20`.\n",
        "\n",
        "Call the function multiple times, use __keyword arguments__ to call the function with the arguments out of order.\n",
        "\n",
        "Write a __docstring__ for your function and make sure it works by calling the `help()` function on it."
      ]
    },
    {
      "cell_type": "code",
      "execution_count": null,
      "metadata": {
        "id": "ldim0LPjpu84"
      },
      "outputs": [],
      "source": []
    },
    {
      "cell_type": "markdown",
      "metadata": {
        "id": "oexWwZwhpu84"
      },
      "source": [
        "# Break"
      ]
    },
    {
      "cell_type": "markdown",
      "metadata": {
        "id": "sUkchil9pu84"
      },
      "source": [
        "# Lists and Functions\n",
        "\n",
        "The second part of class will be a lot of exercises with lists and functions."
      ]
    },
    {
      "cell_type": "markdown",
      "metadata": {
        "id": "RsaEDedfpu84"
      },
      "source": [
        "## Quick Review:\n",
        "Last class we talked about **lists**\n",
        "\n",
        "| **Code**                     | **Operation**                                           |\n",
        "|:------------------------------|:---------------------------------------------------------|\n",
        "| `list_sum = sum(my_list)`    | Returns the sum of the elements in the list             |\n",
        "| `num_elements= len(my_list)` | returns number of elements in list                      |\n",
        "| `my_list[1] = 3`             | changes element of the list at index 1                  |\n",
        "| `del my_list[3]`             | deletes element of list at index 3                      |\n",
        "| `my_list.append(7)`          | adds the element 7 to the ened of the list              |\n",
        "| `my_list.pop(2)`             | removes the element at index 2 (also returns the value) |\n",
        "| `my_list.sort()`             | Sorts the list in ascending order                       |\n",
        "| `my_list.sort(reverse=True)` | Sorts the list in descending order                      |\n",
        "| `my_list.reverse()`          | reverses the list                                       |"
      ]
    },
    {
      "cell_type": "markdown",
      "metadata": {
        "id": "UjzT1PSXpu84"
      },
      "source": [
        "## Group Exercise #6:\n",
        "\n",
        "1. Create an emtpy list\n",
        "2. Write a loop that will execute three times\n",
        "3. Inside the loop, prompt the user to enter a float number\n",
        "4. Append the float number entered to a list\n",
        "5. Outside of the loop, print out the min, max, sum, and average of the numbers entered (use the functions min, max, sum and len in your program)"
      ]
    },
    {
      "cell_type": "code",
      "execution_count": null,
      "metadata": {
        "id": "8wDbuewZpu85",
        "outputId": "22dd8628-0b2c-4f3c-cd14-30af08730d23"
      },
      "outputs": [
        {
          "name": "stdout",
          "output_type": "stream",
          "text": [
            "please enter a number: 2.25\n",
            "please enter a number: 3.75\n",
            "please enter a number: 6.9\n",
            "max is 6.9\n",
            "min is 2.25\n",
            "average is 4.3\n"
          ]
        }
      ],
      "source": [
        "# example output"
      ]
    },
    {
      "cell_type": "markdown",
      "metadata": {
        "id": "jMLneSZ2pu85"
      },
      "source": [
        "## Testing membership in a list:\n",
        "\n",
        "Remember, you can test if a value is in a list by using the `in` operator."
      ]
    },
    {
      "cell_type": "code",
      "execution_count": null,
      "metadata": {
        "id": "eRLidvhwpu85",
        "outputId": "ff969332-cf9e-48ae-f2f7-465a77f649b8"
      },
      "outputs": [
        {
          "name": "stdout",
          "output_type": "stream",
          "text": [
            "False\n"
          ]
        }
      ],
      "source": [
        "grocery_list = [\"apples\", \"bananans\", \"carrots\"]\n",
        "print(\"donuts\" in grocery_list)"
      ]
    },
    {
      "cell_type": "markdown",
      "metadata": {
        "id": "iH-sXdBVpu85"
      },
      "source": [
        "## Looping through lists\n",
        "\n",
        "You will often have a program that will process all of the elements of a list\n",
        "\n",
        "Examples:\n",
        "- add up all of the elements\n",
        "- search for the existence of some feature (e.g.e outliers) from all of the elements\n",
        "- print out all of the elements\n",
        "- Do a mathematical operation over all elements"
      ]
    },
    {
      "cell_type": "code",
      "execution_count": null,
      "metadata": {
        "id": "A1pN3Kg8pu85"
      },
      "outputs": [],
      "source": [
        "2 ways to loop:"
      ]
    },
    {
      "cell_type": "code",
      "execution_count": null,
      "metadata": {
        "id": "IT3Vpm8Ypu85",
        "outputId": "457b33ad-c7e0-49aa-a60f-9fda3dcf5528"
      },
      "outputs": [
        {
          "name": "stdout",
          "output_type": "stream",
          "text": [
            "0 apples\n",
            "1 grapes\n",
            "2 bananas\n"
          ]
        }
      ],
      "source": [
        "# use the indices:\n",
        "my_list = [\"apples\", \"grapes\", \"bananas\"]\n",
        "for i in range(len(my_list)):\n",
        "    print(i, my_list[i])"
      ]
    },
    {
      "cell_type": "code",
      "execution_count": null,
      "metadata": {
        "id": "u_ML7Ghvpu86",
        "outputId": "998a19c0-f1f9-4cd5-fc8a-34465876aaa1"
      },
      "outputs": [
        {
          "name": "stdout",
          "output_type": "stream",
          "text": [
            "apples\n",
            "grapes\n",
            "bananas\n"
          ]
        }
      ],
      "source": [
        "# use the elements:\n",
        "my_list = [\"apples\", \"grapes\", \"bananas\"]\n",
        "for item in my_list:\n",
        "    print(item)"
      ]
    },
    {
      "cell_type": "markdown",
      "metadata": {
        "id": "LVkcoq9Xpu86"
      },
      "source": [
        "## Parallel Lists:\n",
        "\n",
        "__Parallel Lists__ are two or more list variables that contain related data - the elements of each list are associated with each other based on their position in the list."
      ]
    },
    {
      "cell_type": "code",
      "execution_count": null,
      "metadata": {
        "id": "VSYb3TsPpu86",
        "outputId": "4ad179e8-1626-48ba-db39-0afeef005584"
      },
      "outputs": [
        {
          "name": "stdout",
          "output_type": "stream",
          "text": [
            "apples 100\n",
            "grapes 23\n",
            "bananas 84\n"
          ]
        }
      ],
      "source": [
        "my_list = [\"apples\", \"grapes\", \"bananas\"]\n",
        "quantity = [100, 23, 84]\n",
        "\n",
        "# print out the vlaue and the quantity:\n",
        "for i in range(len(my_list)):\n",
        "    print(my_list[i], quantity[i])"
      ]
    },
    {
      "cell_type": "markdown",
      "metadata": {
        "id": "x1_3wJEmpu86"
      },
      "source": [
        "## List and functions:\n",
        "\n",
        "Lists can be used as parameters:"
      ]
    },
    {
      "cell_type": "code",
      "execution_count": null,
      "metadata": {
        "id": "v4Y5YVaxpu86",
        "outputId": "3889b322-be6b-4a07-8527-cab64c1ee9bf"
      },
      "outputs": [
        {
          "name": "stdout",
          "output_type": "stream",
          "text": [
            "There are 3 negative elements in the list\n"
          ]
        }
      ],
      "source": [
        "def count_negative(the_list):\n",
        "    \"\"\"\n",
        "    returns the count of the number or negative elements in the list\n",
        "\n",
        "    parameters: the_list; a list of numbers (floats or ints)\n",
        "\n",
        "    return: the count (integer) of the number of elements < 0\n",
        "    \"\"\"\n",
        "    count =0\n",
        "    for item in the_list:\n",
        "        if item < 0:\n",
        "            count +=1\n",
        "    return count\n",
        "\n",
        "my_list = [5, -2, 3, 10, -8,-7]\n",
        "\n",
        "answer = count_negative(my_list)\n",
        "print(\"There are\", answer, \"negative elements in the list\")"
      ]
    },
    {
      "cell_type": "markdown",
      "metadata": {
        "id": "xkVytSYFpu87"
      },
      "source": [
        "## Lists and functions\n",
        "\n",
        "Lists can be used as return types, too!"
      ]
    },
    {
      "cell_type": "code",
      "execution_count": null,
      "metadata": {
        "id": "hbJLRKd5pu87",
        "outputId": "5eb9d807-d0e3-45a3-c097-99c65ecedbe3"
      },
      "outputs": [
        {
          "name": "stdout",
          "output_type": "stream",
          "text": [
            "updated percentages:  [0.95, 1.0, 0.85, 0.9, 1.0, 0.95, 0.8]\n"
          ]
        }
      ],
      "source": [
        "def return_percentages(raw_scores, max_value):\n",
        "    \"\"\"\n",
        "    returns a list of values, transformed into percentages\n",
        "\n",
        "    parameters: raw_scores; a list of numbers (ints or floats)\n",
        "                max_value; the maximum possible value\n",
        "\n",
        "    return: a list of values, transformed to percentages, scaled by the max_value\n",
        "    \"\"\"\n",
        "    percent_list = []\n",
        "    for item in raw_scores:\n",
        "        percent = item/max_value\n",
        "        percent_list.append(percent)\n",
        "    return percent_list\n",
        "\n",
        "my_list = [19,20, 17,18,20,19,16]\n",
        "new_list = return_percentages(my_list,20)\n",
        "print(\"updated percentages: \", new_list)"
      ]
    },
    {
      "cell_type": "markdown",
      "metadata": {
        "id": "O4mMyFe3pu87"
      },
      "source": [
        "## Exercise #7:\n",
        "\n",
        "Create a list of 100 random numbers between 1 and 100\n",
        "- use `random.seed(0)` so we are all working on the same list\n",
        "\n",
        "Create a function, `count_even`, that will take the list as a parameter and return the number of even numbers in the list."
      ]
    },
    {
      "cell_type": "code",
      "execution_count": null,
      "metadata": {
        "id": "lj4A9zx-pu87"
      },
      "outputs": [],
      "source": [
        "def count_even(the_list):\n",
        "    \"\"\"\n",
        "    write a docstring and finish this function\n",
        "    \"\"\"\n"
      ]
    },
    {
      "cell_type": "code",
      "execution_count": null,
      "metadata": {
        "id": "jAc1Oky1pu87",
        "outputId": "92c2b2be-db3a-45fc-dbee-03d969cfa15c"
      },
      "outputs": [
        {
          "name": "stdout",
          "output_type": "stream",
          "text": [
            "There are 49 even numbers in the list\n"
          ]
        }
      ],
      "source": [
        "import random\n",
        "random.seed(0)\n",
        "my_list = [] #empty list\n",
        "\n",
        "# fill list with 100 random numbers between 1 and 100:\n",
        "for i in range(100):\n",
        "    my_list.append(random.randint(1,100))\n",
        "\n",
        "num = count_even(my_list)\n",
        "print(\"There are\", num, \"even numbers in the list\")"
      ]
    },
    {
      "cell_type": "markdown",
      "metadata": {
        "id": "I9GCyPNapu88"
      },
      "source": [
        "## Exercise #8:\n",
        "\n",
        "Define a function called `return_abs` that will return the aboslute value of every element in the list.\n",
        "\n",
        "Hint:\n",
        "- create an empty list;\n",
        "- loop through all of the elements\n",
        "- if the element is > 0, add the element to the list\n",
        "- if the element is < 0 add - element to the list\n",
        "\n",
        "Test the function with this code:"
      ]
    },
    {
      "cell_type": "code",
      "execution_count": null,
      "metadata": {
        "id": "pOn8L1Fjpu88"
      },
      "outputs": [],
      "source": [
        "#write your function here"
      ]
    },
    {
      "cell_type": "code",
      "execution_count": null,
      "metadata": {
        "id": "Pa48ODWxpu88",
        "outputId": "dac126e1-b8f7-46c1-dd20-62c3164d8dc5"
      },
      "outputs": [
        {
          "name": "stdout",
          "output_type": "stream",
          "text": [
            "The new list is:  [1, 2, 3, 4, 5, 6, 7, 8]\n"
          ]
        }
      ],
      "source": [
        "my_list =[-1,2,3,-4,5,6,-7,8]\n",
        "new_list = return_abs(my_list)\n",
        "print(\"The new list is: \", new_list)"
      ]
    },
    {
      "cell_type": "markdown",
      "metadata": {
        "id": "RKWVEu0Apu88"
      },
      "source": [
        "## Exercise #9:\n",
        "\n",
        "Create a function called `below_average` that accepts one paramter, a list of numbers.\n",
        "\n",
        "The function should first calculate the average of all of the elements in the list ( use `sum(list)` and `len(list)`)\n",
        "\n",
        "Then the function shoudl loop through all of the elements in the list. Ultimately, the function should return the number of elements in the list that are strictly below the average.\n",
        "\n",
        "Here is some sample starter code -- creat some more examples to check your implementation"
      ]
    },
    {
      "cell_type": "code",
      "execution_count": null,
      "metadata": {
        "id": "ktcEEXxrpu88"
      },
      "outputs": [],
      "source": [
        "# your function here"
      ]
    },
    {
      "cell_type": "code",
      "execution_count": null,
      "metadata": {
        "id": "OPkqPnF8pu88",
        "outputId": "68d8d97a-986c-4815-cc9e-57d19926c6cd"
      },
      "outputs": [
        {
          "name": "stdout",
          "output_type": "stream",
          "text": [
            "There are 2 scores below the average\n"
          ]
        }
      ],
      "source": [
        "answer = below_average(scores)\n",
        "print(\"There are\", answer, \"scores below the average\")"
      ]
    },
    {
      "cell_type": "code",
      "execution_count": null,
      "metadata": {
        "id": "HbyeBJK9pu89"
      },
      "outputs": [],
      "source": [
        "#"
      ]
    },
    {
      "cell_type": "markdown",
      "metadata": {
        "id": "eDfflaJtpu89"
      },
      "source": [
        "## 🚨🚨 Terminology Alert 🚨🚨"
      ]
    },
    {
      "cell_type": "markdown",
      "metadata": {
        "id": "rAwXia-Dpu89"
      },
      "source": [
        "# 💬 Goup Exercise:"
      ]
    },
    {
      "cell_type": "code",
      "execution_count": null,
      "metadata": {
        "id": "iDxTOA0mpu89"
      },
      "outputs": [],
      "source": []
    }
  ],
  "metadata": {
    "celltoolbar": "Slideshow",
    "kernelspec": {
      "display_name": "Python 3 (ipykernel)",
      "language": "python",
      "name": "python3"
    },
    "language_info": {
      "codemirror_mode": {
        "name": "ipython",
        "version": 3
      },
      "file_extension": ".py",
      "mimetype": "text/x-python",
      "name": "python",
      "nbconvert_exporter": "python",
      "pygments_lexer": "ipython3",
      "version": "3.11.4"
    },
    "colab": {
      "provenance": [],
      "include_colab_link": true
    }
  },
  "nbformat": 4,
  "nbformat_minor": 0
}