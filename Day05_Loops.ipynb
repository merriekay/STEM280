{
  "cells": [
    {
      "cell_type": "markdown",
      "metadata": {
        "id": "view-in-github",
        "colab_type": "text"
      },
      "source": [
        "<a href=\"https://colab.research.google.com/github/merriekay/STEM280/blob/main/Day05_Loops.ipynb\" target=\"_parent\"><img src=\"https://colab.research.google.com/assets/colab-badge.svg\" alt=\"Open In Colab\"/></a>"
      ]
    },
    {
      "cell_type": "markdown",
      "metadata": {
        "id": "4WcyDZKRlsY9"
      },
      "source": [
        "# STEM280: Day 5\n",
        "## Loops\n",
        "\n",
        "####  STEM 280: Introduction to Computer Science I | Summer 2023\n",
        "\n",
        "Thursday, July 20th, 2023\n",
        "\n",
        " 📜 [Syllabus](https://docs.google.com/document/d/1LMCXdvynDdj4QWc0T9DgF4tos4PYLBpwOPHRC8BO-rA/edit?usp=sharing) | 📬 [CodePost Login](https://codepost.io/login) | 📆 [Schedule](https://docs.google.com/spreadsheets/d/e/2PACX-1vQiF1fOj8DS9cAab8N9gVPdHtNYzXs9GCBNMdPc3xWbg_qfXanppZrFVqxVSa_H_zy9WyCmGMQSAZEp/pubhtml)"
      ]
    },
    {
      "cell_type": "markdown",
      "metadata": {
        "id": "2ZiqmP4ZlsY_"
      },
      "source": [
        "> Note to self: Make sure you're recording 🎥"
      ]
    },
    {
      "cell_type": "markdown",
      "metadata": {
        "id": "uvcNPPZnlsY_"
      },
      "source": [
        "# Admin Stuff"
      ]
    },
    {
      "cell_type": "markdown",
      "metadata": {
        "id": "JmBUKpOklsY_"
      },
      "source": [
        "You should be working on:\n",
        "- Lab #4 is released today, due Tuesday 7/25 by 11:59pm\n",
        "\n",
        "\n",
        "Readings:\n",
        "- [Reading #6](https://python.swaroopch.com/control_flow.html)\n",
        "- [Reading #7](https://analytics.drake.edu/~urness/CS65Text/Chapter4.html)"
      ]
    },
    {
      "cell_type": "markdown",
      "metadata": {
        "id": "ZTq6IlDWlsZA"
      },
      "source": [
        "# ⏪ Quick Review:"
      ]
    },
    {
      "cell_type": "markdown",
      "metadata": {
        "id": "W7Y602zylsZA"
      },
      "source": [
        "## Boolean Operators (`and`, `or`, and `not`)\n",
        "\n",
        "Boolean operators allow you to combine (or negate) boolean expressions:\n",
        "\n",
        "| Boolean operator | Description                                                                                              |\n",
        "|------------------|:----------------------------------------------------------------------------------------------------------|\n",
        "| a `and` b        | __boolean AND__: `True` when both operands are `True`                                                    |\n",
        "| a `or` b         | __boolean OR__: `True` when at least one operand is `True`                                               |\n",
        "| `not` a          | __boolean NOT__ (opposite): True when the signle operand is `False` (and `False` when operand is `True`) |"
      ]
    },
    {
      "cell_type": "markdown",
      "metadata": {
        "id": "dhIdzwfMlsZA"
      },
      "source": [
        "## Examples -- `and`\n",
        "\n",
        "You can combine Boolean expressions to make more complicated Boolean expressions\n",
        "\n",
        "`and`: True when _both_ operands are True"
      ]
    },
    {
      "cell_type": "code",
      "execution_count": null,
      "metadata": {
        "id": "togyvWwklsZA",
        "outputId": "09f9742a-55bf-4269-a8cb-82624b33e3a4"
      },
      "outputs": [
        {
          "name": "stdout",
          "output_type": "stream",
          "text": [
            "Enter the temperature: 60\n",
            "Enter the weather (e.g. rainy, clowedy, sunny): sunny\n",
            "wear a jacket\n"
          ]
        }
      ],
      "source": [
        "temp = int(input(\"Enter the temperature: \"))\n",
        "weather = input(\"Enter the weather (e.g. rainy, cloudy, sunny): \")\n",
        "\n",
        "## AND\n",
        "if temp > 32 and temp < 75:\n",
        "    print(\"wear a jacket\")\n",
        "if temp <= 0 and weather == \"snowing\":\n",
        "    print(\"Check to see if school is canceled\")"
      ]
    },
    {
      "cell_type": "markdown",
      "metadata": {
        "id": "M7KzRWHVlsZC"
      },
      "source": [
        "## Examples -- `or`\n",
        "\n",
        "You can combine Boolean expressions to make more complicated Boolean expressions\n",
        "\n",
        "`or`: True when _either_ of the operands are True"
      ]
    },
    {
      "cell_type": "code",
      "execution_count": null,
      "metadata": {
        "id": "uGOxlXuElsZC",
        "outputId": "b1bf0c83-505d-4ef8-b52e-1176d264be85"
      },
      "outputs": [
        {
          "name": "stdout",
          "output_type": "stream",
          "text": [
            "Enter the temperature: 80\n",
            "Enter the weather (e.g. rainy, clowedy, sunny): cloudy\n"
          ]
        }
      ],
      "source": [
        "temp = int(input(\"Enter the temperature: \"))\n",
        "weather = input(\"Enter the weather (e.g. rainy, cloudy, sunny): \")\n",
        "\n",
        "## OR\n",
        "if temp > 90 or weather == \"sunny\":\n",
        "    print(\"Bring sunglasses\")\n",
        "if weather == \"raining\" or weather == \"snowing\":\n",
        "    print(\"Bring a jacket.\")"
      ]
    },
    {
      "cell_type": "markdown",
      "metadata": {
        "id": "yF6BcaCClsZC"
      },
      "source": [
        "## Quick Question:\n",
        "\n",
        "What's wrong with this?"
      ]
    },
    {
      "cell_type": "code",
      "execution_count": null,
      "metadata": {
        "id": "C31zvyu6lsZD"
      },
      "outputs": [],
      "source": [
        "state = input(\"name a state with only 4 letters \")\n",
        "\n",
        "if state == \"Iowa\" or \"Utah\" or \"Ohio\":\n",
        "    print(\"correct\")\n",
        "else:\n",
        "    print(\"wrong!\")"
      ]
    },
    {
      "cell_type": "code",
      "execution_count": null,
      "metadata": {
        "id": "2hm9L9OglsZD"
      },
      "outputs": [],
      "source": [
        "state = input(\"name a state with only 4 letters \")\n",
        "\n",
        "if state == \"Iowa\" or state == \"Utah\" or state==\"Ohio\":\n",
        "    print(\"correct\")\n",
        "else:\n",
        "    print(\"wrong!\")"
      ]
    },
    {
      "cell_type": "markdown",
      "metadata": {
        "id": "ehMY5NoKlsZD"
      },
      "source": [
        "## Quick Review:\n",
        "Last class we talked about **lists**\n",
        "\n",
        "| **Code**                     | **Operation**                                           |\n",
        "|:------------------------------|:---------------------------------------------------------|\n",
        "| `list_sum = sum(my_list)`    | Returns the sum of the elements in the list             |\n",
        "| `num_elements= len(my_list)` | returns number of elements in list                      |\n",
        "| `my_list[1] = 3`             | changes element of the list at index 1                  |\n",
        "| `del my_list[3]`             | deletes element of list at index 3                      |\n",
        "| `my_list.append(7)`          | adds the element 7 to the ened of the list              |\n",
        "| `my_list.pop(2)`             | removes the element at index 2 (also returns the value) |\n",
        "| `my_list.sort()`             | Sorts the list in ascending order                       |\n",
        "| `my_list.sort(reverse=True)` | Sorts the list in descending order                      |\n",
        "| `my_list.reverse()`          | reverses the list                                       |"
      ]
    },
    {
      "cell_type": "markdown",
      "metadata": {
        "id": "-cUyx5iNlsZD"
      },
      "source": [
        "# ✨ New Material"
      ]
    },
    {
      "cell_type": "code",
      "execution_count": null,
      "metadata": {
        "id": "GYyBHIpblsZD",
        "outputId": "165737a9-1b50-4607-e009-4601c89de02f"
      },
      "outputs": [
        {
          "name": "stdout",
          "output_type": "stream",
          "text": [
            "['Drogon', 'Rhaegal', 'Viserion', 'Vermax', 'Vhagar']\n",
            "['Viserion', 'Vhagar', 'Vermax', 'Rhaegal', 'Drogon']\n",
            "['Vhagar', 'Vermax', 'Rhaegal', 'Drogon']\n",
            "['Vhagar', 'Vermax', 'Drogon']\n"
          ]
        }
      ],
      "source": [
        "# PollEverywhere Q:\n",
        "got_dragons = ['Drogon', 'Rhaegal', 'Viserion']\n",
        "\n",
        "got_dragons.append('Vermax')\n",
        "got_dragons.append('Vhagar')\n",
        "print(got_dragons)\n",
        "\n",
        "got_dragons.sort(reverse=True)\n",
        "print(got_dragons)\n",
        "\n",
        "got_dragons.remove('Viserion')\n",
        "print(got_dragons)\n",
        "\n",
        "got_dragons.pop(2)\n",
        "print(got_dragons)"
      ]
    },
    {
      "cell_type": "code",
      "execution_count": null,
      "metadata": {
        "id": "GokDGgM4lsZE",
        "outputId": "4fea414e-5110-442a-d2c8-8bdac717df72"
      },
      "outputs": [
        {
          "name": "stdout",
          "output_type": "stream",
          "text": [
            "What would you like to add to the list?8906\n",
            "['apples', 'peanut butter', 'cereal', 'milk', '8906']\n"
          ]
        }
      ],
      "source": [
        "groceries = ['apples', 'peanut butter', 'cereal', 'milk']\n",
        "item = input('What would you like to add to the list?')\n",
        "groceries.append(item)\n",
        "print(groceries)"
      ]
    },
    {
      "cell_type": "markdown",
      "metadata": {
        "id": "nI3iES3JlsZE"
      },
      "source": [
        "## List Slicing:\n",
        "Sometimes you want to work with not just one element, but multiple elements from a list. To do this, we use what is called __list slicing__.\n",
        "\n",
        "A __slice__ of a list is a span of items that are taken from a sequence.\n",
        "- list slicing syntax: `list[ start : end ] `\n",
        "- Span is a list containing copies of elements from `start` up to, but __not including__ `end`\n",
        "- if `start` is not specified, 0 is used for start index\n",
        "- if `end` is not specified, `len(list)` is used for the end index."
      ]
    },
    {
      "cell_type": "code",
      "execution_count": null,
      "metadata": {
        "scrolled": true,
        "id": "_gYFGDMalsZE",
        "outputId": "a5785c0a-ea06-4958-d684-2bf5b686d8a9"
      },
      "outputs": [
        {
          "name": "stdout",
          "output_type": "stream",
          "text": [
            "George\n",
            "['Thomas', 'Teddy']\n",
            "['Thomas', 'Teddy', 'Abe']\n",
            "['George', 'Thomas', 'Teddy']\n"
          ]
        }
      ],
      "source": [
        "presidents = [\"George\", \"Thomas\", \"Teddy\", \"Abe\"]\n",
        "print(presidents[0])\n",
        "print(presidents[1:3])\n",
        "print(presidents[1:])\n",
        "print(presidents[:3])"
      ]
    },
    {
      "cell_type": "markdown",
      "metadata": {
        "id": "OdaSZWr7lsZE"
      },
      "source": [
        "## Repeating code\n",
        "\n",
        "\n",
        "Sometimes we want a section of our code to repeat multiple times. For this we use a __loop__.\n",
        "\n",
        "The first loop we're going to look at is a `while` loop. Its syntax is a lot like the `if` statement (but there's no else part):\n",
        "* keyword `while`\n",
        "* condition\n",
        "* colon `:`\n",
        "* indented block of code\n",
        "\n",
        "**Example**: remember this code we wrote for a simple guess-the-number game? What if we want the user to be able to keep guess until they get it right?"
      ]
    },
    {
      "cell_type": "code",
      "execution_count": null,
      "metadata": {
        "id": "baj2E2SylsZF",
        "outputId": "95bbaa01-f95c-4c50-ba7f-4d4e9389bb07"
      },
      "outputs": [
        {
          "name": "stdout",
          "output_type": "stream",
          "text": [
            "Guess a number: 1\n",
            "Wrong!\n",
            "Guess a number: 2\n",
            "Wrong!\n",
            "Guess a number: 4\n",
            "Wrong!\n",
            "Guess a number: 6\n",
            "Wrong!\n",
            "Guess a number: 7\n",
            "That was right, good guess!\n"
          ]
        }
      ],
      "source": [
        "secret_number = 7\n",
        "guess = 0\n",
        "\n",
        "while guess != secret_number:\n",
        "    guess = int(input(\"Guess a number: \"))\n",
        "\n",
        "    if guess == secret_number:\n",
        "        print(\"That was right, good guess!\")\n",
        "    else:\n",
        "        print(\"Wrong!\")\n",
        "\n",
        "print(\"Thank you for playing!\")"
      ]
    },
    {
      "cell_type": "markdown",
      "metadata": {
        "id": "Q3Nj2jL4lsZF"
      },
      "source": [
        "## Input validation\n",
        "\n",
        "__input validation:__ making sure the user's input makes sense for the program\n",
        "\n",
        "We can use the same pattern as the guess-the-number loop to make an input-validation loop."
      ]
    },
    {
      "cell_type": "code",
      "execution_count": null,
      "metadata": {
        "id": "Wk0gdFsNlsZF",
        "outputId": "50baecc7-fb7e-4204-b575-0df60a1dab6b"
      },
      "outputs": [
        {
          "name": "stdout",
          "output_type": "stream",
          "text": [
            "Soccer team registration form\n",
            "How many players on your team (minimum 11)? 0\n",
            "How many players on your team (minimum 11)? 13\n",
            "Registering team with 13 players...\n"
          ]
        }
      ],
      "source": [
        "print(\"Soccer team registration form\")\n",
        "num_players = 0\n",
        "\n",
        "while num_players < 11:\n",
        "    num_players = int(input(\"How many players on your team (minimum 11)? \"))\n",
        "\n",
        "print(\"Registering team with\",num_players,\"players...\")"
      ]
    },
    {
      "cell_type": "markdown",
      "metadata": {
        "id": "iM1V8MD0lsZF"
      },
      "source": [
        "## Counting\n",
        "\n",
        "Loops are good for counting things. A variable that is used to count something is called a  __counter__.\n",
        "\n",
        "Let's say we want to count how many guesses it took for the user to guess the number."
      ]
    },
    {
      "cell_type": "code",
      "execution_count": null,
      "metadata": {
        "id": "4RJ6d110lsZF",
        "outputId": "7e0953b5-b459-4fb2-f4f5-874aaad27701"
      },
      "outputs": [
        {
          "name": "stdout",
          "output_type": "stream",
          "text": [
            "Guess a number: 3\n",
            "Wrong!\n",
            "Guess a number: 2\n",
            "Wrong!\n",
            "Guess a number: 7\n",
            "That was right, good guess!\n",
            "Congrats!\n",
            "That took 3 guesses\n"
          ]
        }
      ],
      "source": [
        "secret_number = 7\n",
        "guess = 0\n",
        "guess_counter = 0\n",
        "\n",
        "while guess != secret_number and guess_counter <= 5:\n",
        "    guess = int(input(\"Guess a number: \"))\n",
        "    guess_counter += 1 #this is the same as guess_counter = guess_counter + 1\n",
        "\n",
        "    if guess == secret_number:\n",
        "        print(\"That was right, good guess!\")\n",
        "    else:\n",
        "        print(\"Wrong!\")\n",
        "if guess == secret_number:\n",
        "    print(\"Congrats!\")\n",
        "else:\n",
        "    print(\"Sorry :(\")\n",
        "\n",
        "print(\"That took\",guess_counter,\"guesses\")"
      ]
    },
    {
      "cell_type": "markdown",
      "metadata": {
        "id": "_KpZVUkjlsZG"
      },
      "source": [
        "## Thonny Debugger Demo\n",
        "\n",
        "The Thonny debugger is a helpful tool that allows you to step through your program and watch what's happening as it executes.\n",
        "\n",
        "Let's look at how to use it now.\n",
        "\n",
        "You should get in the habit of using the debugger to help identify logic errors in your code."
      ]
    },
    {
      "cell_type": "markdown",
      "metadata": {
        "id": "pJX-sMc3lsZG"
      },
      "source": [
        "## Count-controlled loops\n",
        "\n",
        "You can even use counter variables to control how many times the loop will run."
      ]
    },
    {
      "cell_type": "code",
      "execution_count": null,
      "metadata": {
        "id": "BaQqsDA8lsZG",
        "outputId": "f953cb73-7da8-4049-8727-2311d1b2e4c7"
      },
      "outputs": [
        {
          "name": "stdout",
          "output_type": "stream",
          "text": [
            "0\n",
            "1\n",
            "2\n",
            "3\n",
            "4\n",
            "5\n",
            "6\n",
            "7\n",
            "8\n",
            "9\n",
            "all done\n"
          ]
        }
      ],
      "source": [
        "val = 0\n",
        "while val < 10:\n",
        "    print(val)\n",
        "    val += 1\n",
        "print(\"all done\")"
      ]
    },
    {
      "cell_type": "markdown",
      "metadata": {
        "id": "I7MJPzvmlsZG"
      },
      "source": [
        "# Question\n",
        "\n",
        "How will the output of these loops be different?\n",
        "<div>\n",
        "<img src=\"https://github.com/merriekay/STEM280/blob/main/images/day05_q1.png?raw=1\" width=\"500\"/>\n",
        "</div>"
      ]
    },
    {
      "cell_type": "code",
      "execution_count": null,
      "metadata": {
        "id": "L6fcFys8lsZG"
      },
      "outputs": [],
      "source": [
        "val = 0\n",
        "while val < 10:\n",
        "    print(val)\n",
        "    val += 1\n",
        "print(\"all done\")"
      ]
    },
    {
      "cell_type": "code",
      "execution_count": null,
      "metadata": {
        "id": "9k_KAq0ClsZH"
      },
      "outputs": [],
      "source": [
        "val = 0\n",
        "while val < 10:\n",
        "    val += 1\n",
        "    print(val)\n",
        "print(\"all done\")"
      ]
    },
    {
      "cell_type": "markdown",
      "metadata": {
        "id": "MoLs4lDClsZH"
      },
      "source": [
        "## Another example:"
      ]
    },
    {
      "cell_type": "code",
      "execution_count": null,
      "metadata": {
        "id": "VBMl0_1QlsZH",
        "outputId": "953ce556-4da9-4d51-c8e7-54b40e8875c2"
      },
      "outputs": [
        {
          "name": "stdout",
          "output_type": "stream",
          "text": [
            "How far should we make the car drive?2\n",
            "Time 0\n",
            "  ______\n",
            " /|_||_\\`.__\n",
            "(   _    _ _\\\n",
            "=`-(_)--(_)-')\n",
            "Time 1\n",
            "\t  ______\n",
            "\t /|_||_\\`.__\n",
            "\t(   _    _ _\\\n",
            "\t=`-(_)--(_)-')\n"
          ]
        }
      ],
      "source": [
        "how_far = int(input(\"How far should we make the car drive?\"))\n",
        "counter = 0\n",
        "\n",
        "while counter < how_far:\n",
        "    print(\"Time\",counter)\n",
        "    print(\"\\t\"*counter+\"  ______\")\n",
        "    print(\"\\t\"*counter+\" /|_||_\\`.__\")\n",
        "    print(\"\\t\"*counter+\"(   _    _ _\\\\\")\n",
        "    print(\"\\t\"*counter+\"=`-(_)--(_)-')\")\n",
        "    counter += 1"
      ]
    },
    {
      "cell_type": "markdown",
      "metadata": {
        "id": "Xh7q2UielsZH"
      },
      "source": [
        "## Accumulation\n",
        "\n",
        "An __accumulator__ variable keeps a running total of something. Loops are good for this too."
      ]
    },
    {
      "cell_type": "code",
      "execution_count": null,
      "metadata": {
        "id": "FgBAru2WlsZH",
        "outputId": "d25df344-33c1-490a-d435-f5f7fff0792a"
      },
      "outputs": [
        {
          "name": "stdout",
          "output_type": "stream",
          "text": [
            "Enter item cost (0 to quit): 6\n",
            "Enter item cost (0 to quit): 7\n",
            "Enter item cost (0 to quit): 4\n",
            "Enter item cost (0 to quit): 0\n",
            "The total is 17.0\n",
            "The average cost was:  4.25\n"
          ]
        }
      ],
      "source": [
        "total_bill = 0.0 #accumulator\n",
        "item_cost = -1\n",
        "num_items = 1\n",
        "\n",
        "while item_cost != 0.0:\n",
        "\n",
        "    item_cost = float(input(\"Enter item cost (0 to quit): \"))\n",
        "\n",
        "    total_bill += item_cost #this is the same as total_bill = total_bill + item_cost\n",
        "    num_items+=1\n",
        "\n",
        "print(\"The total is\",total_bill)\n",
        "avg_cost=total_bill/num_items\n",
        "print(\"The average cost was: \",avg_cost)"
      ]
    },
    {
      "cell_type": "markdown",
      "metadata": {
        "id": "E_z4Zj3PlsZI"
      },
      "source": [
        "# Infinite Loops\n",
        "\n",
        "In all but rare cases, loops must contain within themselves a way to terminate.\n",
        "\n",
        "Somthing that mkes the test condition `False`\n",
        "\n",
        "If your loop does not have a way of stopping, it is called an _infinite loop_.\n",
        "\n",
        "> If you accidentally do this in Thonny, you can kill the program by hitting the STOP button."
      ]
    },
    {
      "cell_type": "code",
      "execution_count": null,
      "metadata": {
        "id": "kUQfmw7xlsZI"
      },
      "outputs": [],
      "source": [
        "counter = 0\n",
        "while counter < 10:\n",
        "    print(\"counter:\", counter)\n",
        "counter +=1"
      ]
    },
    {
      "cell_type": "markdown",
      "metadata": {
        "id": "-BUo1YqulsZI"
      },
      "source": [
        "## Tips for writing loops\n",
        "\n",
        "* Split it into 3 parts: Think about what needs to happen *before the loop*, *during each loop __iteration__*, and *after the loop*\n",
        "* Think about what condition should make the loop end\n",
        "* Make sure there is something that changes inside the loop that will eventually allow the loop's condition to be `False`\n",
        "* Set up loop control variables with initial values _before_ the loop"
      ]
    },
    {
      "cell_type": "markdown",
      "metadata": {
        "id": "ePy9teUklsZI"
      },
      "source": [
        "## Loops with Lists\n",
        "\n",
        "Loops are really good for doing things with lists. For example, you use the `len()` function to find out how many items are in a list and then create a count-controlled loop to go through each item in the list, using the counter as the list index. For example, this list will print out all of the values in the rainfall_amounts list."
      ]
    },
    {
      "cell_type": "code",
      "execution_count": null,
      "metadata": {
        "scrolled": true,
        "id": "J6gpb_wZlsZN",
        "outputId": "4817aeb8-01e0-42fe-b0ce-6bb498335c74"
      },
      "outputs": [
        {
          "name": "stdout",
          "output_type": "stream",
          "text": [
            "Day 0 had 0.0 inches of rainfall.\n",
            "Day 1 had 0.3 inches of rainfall.\n",
            "Day 2 had 0.71 inches of rainfall.\n",
            "Day 3 had 0.0 inches of rainfall.\n",
            "Day 4 had 0.32 inches of rainfall.\n",
            "Day 5 had 1.1 inches of rainfall.\n",
            "Day 6 had 0.4 inches of rainfall.\n"
          ]
        }
      ],
      "source": [
        "rainfall = [0.0, 0.3, 0.71, 0.0, 0.32, 1.1, 0.4]\n",
        "counter = 0\n",
        "\n",
        "while counter < len(rainfall):\n",
        "    print(\"Day\",counter,\"had\",rainfall[counter],\"inches of rainfall.\")\n",
        "    counter += 1"
      ]
    },
    {
      "cell_type": "markdown",
      "metadata": {
        "id": "sR6PYaQOlsZN"
      },
      "source": [
        "## Exercise #1:"
      ]
    },
    {
      "cell_type": "code",
      "execution_count": null,
      "metadata": {
        "id": "XvRn5aVIlsZN",
        "outputId": "c88f4733-ff20-425b-faac-f102aa47e6c9"
      },
      "outputs": [
        {
          "name": "stdout",
          "output_type": "stream",
          "text": [
            "10\n",
            "9\n",
            "8\n",
            "7\n",
            "6\n",
            "5\n",
            "4\n",
            "3\n",
            "2\n",
            "1\n"
          ]
        }
      ],
      "source": [
        "# write the loop that gives the following output:"
      ]
    },
    {
      "cell_type": "code",
      "execution_count": null,
      "metadata": {
        "id": "oblwOYo8lsZO",
        "outputId": "f871177f-31f3-4d9a-e5fe-5607c1f10b30"
      },
      "outputs": [
        {
          "name": "stdout",
          "output_type": "stream",
          "text": [
            "1\n",
            "2\n",
            "3\n",
            "4\n",
            "5\n",
            "6\n",
            "7\n",
            "8\n",
            "9\n",
            "10\n"
          ]
        }
      ],
      "source": [
        "# write the loop that gives you the following output:"
      ]
    },
    {
      "cell_type": "markdown",
      "metadata": {
        "id": "hCpTF_HUlsZO"
      },
      "source": [
        "## Exercise #2:\n",
        "\n",
        "Prompt the user for an integer:\n",
        "\n",
        "Keep on dividing the nubmer by 2 while the number is still greater than or equal to 1:"
      ]
    },
    {
      "cell_type": "code",
      "execution_count": null,
      "metadata": {
        "id": "cQO7IRVblsZO",
        "outputId": "c004f410-2bf8-479a-823f-c4f4c8cc207f"
      },
      "outputs": [
        {
          "name": "stdout",
          "output_type": "stream",
          "text": [
            "please enter a number: 64\n",
            "64\n",
            "32.0\n",
            "16.0\n",
            "8.0\n",
            "4.0\n",
            "2.0\n",
            "1.0\n"
          ]
        }
      ],
      "source": [
        "# example output"
      ]
    },
    {
      "cell_type": "code",
      "execution_count": null,
      "metadata": {
        "id": "Z8adIgzClsZO",
        "outputId": "04c5f4e0-f2af-40eb-ea69-012a0bdbdae6"
      },
      "outputs": [
        {
          "name": "stdout",
          "output_type": "stream",
          "text": [
            "please enter a number: 13\n",
            "13\n",
            "6.5\n",
            "3.25\n",
            "1.625\n"
          ]
        }
      ],
      "source": [
        "# example output"
      ]
    },
    {
      "cell_type": "markdown",
      "metadata": {
        "id": "OwUPk0JUlsZP"
      },
      "source": [
        "## What does this code do?"
      ]
    },
    {
      "cell_type": "code",
      "execution_count": null,
      "metadata": {
        "id": "tk05IKHllsZP"
      },
      "outputs": [],
      "source": [
        "total = 0\n",
        "day = 1\n",
        "\n",
        "while day <= 5:\n",
        "    amount = float(input(\"How much did you make today: \"))\n",
        "    total = total + amount\n",
        "    day += 1\n",
        "print(\"you made a total of\", total)"
      ]
    },
    {
      "cell_type": "markdown",
      "metadata": {
        "id": "K6LbnQHKlsZP"
      },
      "source": [
        "## What does this code do?"
      ]
    },
    {
      "cell_type": "code",
      "execution_count": null,
      "metadata": {
        "id": "hkWMzrQHlsZP"
      },
      "outputs": [],
      "source": [
        "total = 0\n",
        "counter = 0\n",
        "\n",
        "while counter < 5:\n",
        "    grade = float(input(\"please enter a grade: \"))\n",
        "    total += grade\n",
        "    counter += 1\n",
        "print(total / counter) ## what do you expect to be the output?"
      ]
    },
    {
      "cell_type": "markdown",
      "metadata": {
        "id": "g1dS0nvFlsZP"
      },
      "source": [
        "## Exercise #3\n",
        "\n",
        "- write a loop that will execute 5 times\n",
        "- within the lopo, get a float value from the user (the amount of rain that fellin a day)\n",
        "- use an accumulator to add up all of the rain taht fell over the face days\n",
        "- outside of the loop, print out the sum of all of the rainfall"
      ]
    },
    {
      "cell_type": "code",
      "execution_count": null,
      "metadata": {
        "id": "Fb5if-IHlsZP",
        "outputId": "589d27b4-6a3e-4551-e6f7-93c3dd0d108a"
      },
      "outputs": [
        {
          "name": "stdout",
          "output_type": "stream",
          "text": [
            "What is the rainfall? 2\n",
            "What is the rainfall? 0\n",
            "What is the rainfall? 1.1\n",
            "What is the rainfall? 1\n",
            "What is the rainfall? 3\n",
            "There was a total of 7.1 inches of rain\n"
          ]
        }
      ],
      "source": [
        "# example output"
      ]
    },
    {
      "cell_type": "markdown",
      "metadata": {
        "id": "BEen_j-GlsZQ"
      },
      "source": [
        "## Exercise #4:\n",
        "- 1+2+3+4+5 is 15\n",
        "- 1+2+3+4+5+6 is 21\n",
        "- Prompt the user for an integer. Output the sum of all of the integers up to and including the input number"
      ]
    },
    {
      "cell_type": "code",
      "execution_count": null,
      "metadata": {
        "id": "4utpeDM_lsZQ",
        "outputId": "61b40eae-a08b-4e11-8790-ad674bdbf148"
      },
      "outputs": [
        {
          "name": "stdout",
          "output_type": "stream",
          "text": [
            "Please enter an integer: 5\n",
            "The sum of integers 1 through 5 is 15\n"
          ]
        }
      ],
      "source": [
        "# Example output"
      ]
    },
    {
      "cell_type": "code",
      "execution_count": null,
      "metadata": {
        "id": "8RPisnjalsZQ",
        "outputId": "cf5bb6b7-0be7-4bf4-eb88-181934a6011c"
      },
      "outputs": [
        {
          "name": "stdout",
          "output_type": "stream",
          "text": [
            "Please enter an integer: 6\n",
            "The sum of integers 1 through 6 is 21\n"
          ]
        }
      ],
      "source": [
        "# example output"
      ]
    },
    {
      "cell_type": "code",
      "execution_count": null,
      "metadata": {
        "id": "DjL8XNVxlsZQ",
        "outputId": "f60afaf0-6a95-4d62-c4ad-67ff87f8932f"
      },
      "outputs": [
        {
          "name": "stdout",
          "output_type": "stream",
          "text": [
            "Please enter an integer: 200\n",
            "The sum of integers 1 through 200 is 20100\n"
          ]
        }
      ],
      "source": [
        "# example output"
      ]
    },
    {
      "cell_type": "markdown",
      "metadata": {
        "id": "KjamD7L4lsZQ"
      },
      "source": [
        "# If statements within loops\n",
        "\n",
        "Let's _trace_ this code:\n",
        "> _Trace_ means to go through it line by line to deterine how it works\n",
        "\n",
        "Question: What is happening?"
      ]
    },
    {
      "cell_type": "code",
      "execution_count": null,
      "metadata": {
        "id": "0bGhqoqrlsZQ"
      },
      "outputs": [],
      "source": [
        "a = 0\n",
        "x = 0\n",
        "\n",
        "while a < 5:\n",
        "    a+=1\n",
        "    b = int(input(\"Please enter an integer between 0 and 100: \"))\n",
        "    if b > x:\n",
        "        x = b\n",
        "print(\"The mysterious answer is\", x)"
      ]
    },
    {
      "cell_type": "markdown",
      "metadata": {
        "id": "FVwnCuBdlsZR"
      },
      "source": [
        "## Exercise #5\n",
        "\n",
        "- Write the code that will loop 5 times\n",
        "- Prompt the user to enter 5 integers between 0 and 100\n",
        "- After the loop, print out the _minimum_ of the numbers entered\n",
        "- Use better variable names than the previous slide."
      ]
    },
    {
      "cell_type": "markdown",
      "metadata": {
        "id": "eMI3sOKdlsZR"
      },
      "source": [
        "# Take a Break:"
      ]
    },
    {
      "cell_type": "markdown",
      "metadata": {
        "id": "C3clic0blsZR"
      },
      "source": [
        "# Introduction to For Loops and `range()`"
      ]
    },
    {
      "cell_type": "markdown",
      "metadata": {
        "id": "-IEw_p_GlsZR"
      },
      "source": [
        "# Count-Controlled Loops\n",
        "\n",
        "__count-controlled loop__: a loop that ierates a specific number of times.\n",
        "- So far, we've accomplished this using a combination of a `counter`, `while` loop, and the `len()` function.\n"
      ]
    },
    {
      "cell_type": "code",
      "execution_count": null,
      "metadata": {
        "scrolled": true,
        "id": "EVbUljjxlsZR",
        "outputId": "0359d149-fd79-40bf-a329-ab8fc8a92b18"
      },
      "outputs": [
        {
          "name": "stdout",
          "output_type": "stream",
          "text": [
            "Sunday\n",
            "Monday\n",
            "Tuesday\n",
            "Wednesday\n",
            "Thursday\n",
            "Friday\n",
            "Saturday\n"
          ]
        }
      ],
      "source": [
        "days_in_week = ['Sunday','Monday', 'Tuesday', 'Wednesday', 'Thursday', 'Friday', 'Saturday']\n",
        "counter = 0\n",
        "while counter < len(days_in_week):\n",
        "    print(days_in_week[counter])\n",
        "    counter +=1"
      ]
    },
    {
      "cell_type": "markdown",
      "metadata": {
        "id": "bIG2cEr8lsZR"
      },
      "source": [
        "# The For Loop:\n",
        "## 🔐✨ New Keywords Unlocked: `for` and `in`\n",
        "Use a `for` statement to easily write count-controlled loops.\n",
        "- designed to work with a sequence of data items.\n",
        "    - iterates once for each item in the sequence."
      ]
    },
    {
      "cell_type": "markdown",
      "metadata": {
        "id": "VIoxRAmulsZS"
      },
      "source": [
        "## `for` loop syntax:\n",
        "- keyword `for`\n",
        "- __target variable__: you get to make this one up, but it's best if it hasn't been used in your current program.\n",
        "- keyword `in`\n",
        "- a sequence\n",
        "- colon `:`\n",
        "\n",
        "Example:"
      ]
    },
    {
      "cell_type": "code",
      "execution_count": null,
      "metadata": {
        "id": "gCb2FFN_lsZS",
        "outputId": "7da91d40-468b-4747-f764-5ae36e4ba68d"
      },
      "outputs": [
        {
          "name": "stdout",
          "output_type": "stream",
          "text": [
            "Sunday\n",
            "Monday\n",
            "Tuesday\n",
            "Wednesday\n",
            "Thursday\n",
            "Friday\n",
            "Saturday\n"
          ]
        }
      ],
      "source": [
        "days_in_week = ['Sunday','Monday', 'Tuesday', 'Wednesday', 'Thursday', 'Friday', 'Saturday']\n",
        "\n",
        "for day in days_in_week: #day is the target variable\n",
        "    print(day)"
      ]
    },
    {
      "cell_type": "code",
      "execution_count": null,
      "metadata": {
        "id": "K2Cw4YAJlsZS",
        "outputId": "1a7e2e14-8a44-47d0-b587-e23087f6b22c"
      },
      "outputs": [
        {
          "name": "stdout",
          "output_type": "stream",
          "text": [
            "1\n",
            "2\n",
            "3\n",
            "4\n",
            "5\n"
          ]
        }
      ],
      "source": [
        "for num in [1,2,3,4,5]:\n",
        "    print(num)"
      ]
    },
    {
      "cell_type": "markdown",
      "metadata": {
        "id": "fJP8LlRAlsZS"
      },
      "source": [
        "<div>\n",
        "<img src=\"https://github.com/merriekay/STEM280/blob/main/images/day05_forloops.png?raw=1\" width=\"500\"/>\n",
        "</div>"
      ]
    },
    {
      "cell_type": "markdown",
      "metadata": {
        "id": "_DO1_-rRlsZS"
      },
      "source": [
        "# Group Exercise #2:\n",
        "\n",
        "Walk through the following for loops. Before you try running them, see if you can predit what they will output."
      ]
    },
    {
      "cell_type": "code",
      "execution_count": null,
      "metadata": {
        "id": "io1czBs5lsZT"
      },
      "outputs": [],
      "source": [
        "for val in [1,3,5,7,9]:\n",
        "    print(val)"
      ]
    },
    {
      "cell_type": "code",
      "execution_count": null,
      "metadata": {
        "id": "7LWYYmzElsZT"
      },
      "outputs": [],
      "source": [
        "for name in ['Han Solo', 'Darth Vader', 'Yoda', 'The Child']:\n",
        "    print(name)"
      ]
    },
    {
      "cell_type": "code",
      "execution_count": null,
      "metadata": {
        "id": "6dcmwgzolsZT"
      },
      "outputs": [],
      "source": [
        "for num in [1,2,3,4,5]:\n",
        "    if num%2==0:\n",
        "        print(num)"
      ]
    },
    {
      "cell_type": "code",
      "execution_count": null,
      "metadata": {
        "scrolled": true,
        "id": "mO6B2o8XlsZT",
        "outputId": "47fb3f56-343b-45e4-fedf-9b4483381687"
      },
      "outputs": [
        {
          "name": "stdout",
          "output_type": "stream",
          "text": [
            "type something:apple\n",
            "a\n",
            "p\n",
            "p\n",
            "l\n",
            "e\n"
          ]
        }
      ],
      "source": [
        "my_string = input(\"type something:\")\n",
        "for char in my_string:\n",
        "    print(char)"
      ]
    },
    {
      "cell_type": "markdown",
      "metadata": {
        "id": "2KHw1Ml3lsZT"
      },
      "source": [
        "# The `range()` function\n",
        "\n",
        "The `range()` function simplifies the process of writing a for loop.\n",
        "\n",
        "- `range()` returns an iterable object\n",
        "    - *iterable* means that it contains a sequence of values that can be iterated (looped) over."
      ]
    },
    {
      "cell_type": "code",
      "execution_count": null,
      "metadata": {
        "id": "ueK3RdTtlsZT",
        "outputId": "20c9f811-4353-4bb1-a4f4-a47e98a1bc10"
      },
      "outputs": [
        {
          "data": {
            "text/plain": [
              "range(0, 5)"
            ]
          },
          "execution_count": 47,
          "metadata": {},
          "output_type": "execute_result"
        }
      ],
      "source": [
        "range(5)"
      ]
    },
    {
      "cell_type": "code",
      "execution_count": null,
      "metadata": {
        "id": "qOaGrwoilsZU",
        "outputId": "25eb7429-78d5-4b41-9108-71428e86f614"
      },
      "outputs": [
        {
          "name": "stdout",
          "output_type": "stream",
          "text": [
            "0\n",
            "1\n",
            "2\n",
            "3\n",
            "4\n"
          ]
        }
      ],
      "source": [
        "for num in range(5):\n",
        "    print(num)"
      ]
    },
    {
      "cell_type": "code",
      "execution_count": null,
      "metadata": {
        "id": "wtNQhplUlsZU",
        "outputId": "cdeb69e6-5af1-41af-ea90-98f5968a12a2"
      },
      "outputs": [
        {
          "name": "stdout",
          "output_type": "stream",
          "text": [
            "Hello World!\n",
            "Hello World!\n",
            "Hello World!\n",
            "Hello World!\n",
            "Hello World!\n"
          ]
        }
      ],
      "source": [
        "for x in range(5):\n",
        "    print(\"Hello World!\")"
      ]
    },
    {
      "cell_type": "markdown",
      "metadata": {
        "id": "8qrnxeXIlsZU"
      },
      "source": [
        "## Passing `range()` Multiple Arguments\n",
        "\n",
        "By default, the range function produces a sequence of numbers that increases by 1.\n",
        "\n",
        "If you pass three arguments to range:\n",
        "- the first number is the starting value\n",
        "- the second number is the ending limit\n",
        "- the third number is the step value (increment)"
      ]
    },
    {
      "cell_type": "code",
      "execution_count": null,
      "metadata": {
        "id": "WsRLhWbElsZU",
        "outputId": "bb7c3fdc-4177-4018-97e7-4626ab3a6df5"
      },
      "outputs": [
        {
          "name": "stdout",
          "output_type": "stream",
          "text": [
            "10\n",
            "8\n",
            "6\n",
            "4\n",
            "2\n"
          ]
        }
      ],
      "source": [
        "for x in range(10,1,-2):\n",
        "    print(x)"
      ]
    },
    {
      "cell_type": "markdown",
      "metadata": {
        "id": "FdEwROl2lsZU"
      },
      "source": [
        "## Group Exercise #3:\n",
        "\n",
        "Using for loops and the `range()` function, take a crack at the following tasks:\n",
        "- print out all integers between 1 and 200 (including 200)\n",
        "- print out all even integers between 1 and 200 (including 200)\n",
        "- print out all integers counting down from 50 to 1\n",
        "- print out all integers between 1 and 10, followed by the squares\n",
        "    - So this output might look like:\n",
        "    \n",
        "    `1 --- 1`\n",
        "    \n",
        "    `2 --- 4`\n",
        "    \n",
        "    `3 --- 9` etc"
      ]
    },
    {
      "cell_type": "code",
      "execution_count": null,
      "metadata": {
        "id": "QCDiv3Q8lsZV"
      },
      "outputs": [],
      "source": []
    },
    {
      "cell_type": "markdown",
      "metadata": {
        "id": "dzoliQmulsZV"
      },
      "source": [
        "## Two Main Formulas for For Loops:\n",
        "\n",
        "There are two common strategies for using for loops with lists.\n",
        "\n",
        "The first is called `list_comprehension`, and is used when you want to have access only to the values that are in the list, but don't necessarily care about the indices of the list.\n",
        "\n",
        "It looks something like this:"
      ]
    },
    {
      "cell_type": "code",
      "execution_count": null,
      "metadata": {
        "id": "OZILBSiilsZV",
        "outputId": "a1df5314-835e-4423-88ef-56e30c048c81"
      },
      "outputs": [
        {
          "name": "stdout",
          "output_type": "stream",
          "text": [
            "-5 4\n",
            "-15 5\n",
            "-8 6\n",
            "-1 7\n"
          ]
        }
      ],
      "source": [
        "temperatures = [30, 20, 2, -5, -15, -8, -1, 0, 5, 35]\n",
        "\n",
        "for temp in temperatures:\n",
        "    if temp < 0:\n",
        "        print(temp, day)"
      ]
    },
    {
      "cell_type": "markdown",
      "metadata": {
        "id": "nsmGbTlalsZV"
      },
      "source": [
        "What if we wanted to print out which days had negative temperatures? Our output might look like:\n",
        "\n",
        "`Day 3 had a negative temperature`\n",
        "\n",
        "`Day 4 had a negative temperature`\n",
        "\n",
        "`Day 5 had a negative temperature`\n",
        "\n",
        "`Day 6 had a negative temperature`\n",
        "\n",
        "Any ideas how we might accomplish this?"
      ]
    },
    {
      "cell_type": "markdown",
      "metadata": {
        "id": "45jMaiVllsZV"
      },
      "source": [
        "Possible solutions:\n",
        "- use a counter\n",
        "- use the `range()` function"
      ]
    },
    {
      "cell_type": "code",
      "execution_count": null,
      "metadata": {
        "id": "wlxTeA0XlsZW"
      },
      "outputs": [],
      "source": [
        "# what will this code do?\n",
        "for index in range(len(temperatures)):\n",
        "    print(index)"
      ]
    },
    {
      "cell_type": "code",
      "execution_count": null,
      "metadata": {
        "id": "iJOgDPbVlsZW"
      },
      "outputs": [],
      "source": [
        "temperatures = [30, 20, 2, -5, -15, -8, -1, 0, 5, 35]\n",
        "\n",
        "for index in range(len(temperatures)):\n",
        "    if temperatures[index] < 0:\n",
        "        print(\"Day\", index, \" had a negative temperature\")"
      ]
    },
    {
      "cell_type": "markdown",
      "metadata": {
        "id": "TyIiceUClsZW"
      },
      "source": [
        "# You should be working on:"
      ]
    },
    {
      "cell_type": "markdown",
      "metadata": {
        "id": "pumwBZ18lsZW"
      },
      "source": [
        "You should be working on:\n",
        "- Lab #4 is released today, due Tuesday 7/25 by 11:59pm\n",
        "\n",
        "\n",
        "Readings:\n",
        "- [Reading #6](https://python.swaroopch.com/control_flow.html)\n",
        "- [Reading #7](https://analytics.drake.edu/~urness/CS65Text/Chapter4.html)"
      ]
    }
  ],
  "metadata": {
    "celltoolbar": "Slideshow",
    "kernelspec": {
      "display_name": "Python 3",
      "language": "python",
      "name": "python3"
    },
    "language_info": {
      "codemirror_mode": {
        "name": "ipython",
        "version": 3
      },
      "file_extension": ".py",
      "mimetype": "text/x-python",
      "name": "python",
      "nbconvert_exporter": "python",
      "pygments_lexer": "ipython3",
      "version": "3.8.3"
    },
    "colab": {
      "provenance": [],
      "include_colab_link": true
    }
  },
  "nbformat": 4,
  "nbformat_minor": 0
}