{
  "cells": [
    {
      "cell_type": "markdown",
      "metadata": {
        "id": "view-in-github",
        "colab_type": "text"
      },
      "source": [
        "<a href=\"https://colab.research.google.com/github/merriekay/STEM280/blob/main/Day07%20Graphics.ipynb\" target=\"_parent\"><img src=\"https://colab.research.google.com/assets/colab-badge.svg\" alt=\"Open In Colab\"/></a>"
      ]
    },
    {
      "cell_type": "markdown",
      "metadata": {
        "id": "w1TiNtPBn6Qn"
      },
      "source": [
        "# STEM280: Day 07\n",
        "## Graphics and Animation\n",
        "\n",
        "####  STEM 280: Introduction to Computer Science I | Summer 2023\n",
        "\n",
        "Thursday, July 27th, 2023\n",
        "\n",
        " 📜 [Syllabus](https://docs.google.com/document/d/1LMCXdvynDdj4QWc0T9DgF4tos4PYLBpwOPHRC8BO-rA/edit?usp=sharing) | 📬 [CodePost Login](https://codepost.io/login) | 📆 [Schedule](https://docs.google.com/spreadsheets/d/e/2PACX-1vQiF1fOj8DS9cAab8N9gVPdHtNYzXs9GCBNMdPc3xWbg_qfXanppZrFVqxVSa_H_zy9WyCmGMQSAZEp/pubhtml)"
      ]
    },
    {
      "cell_type": "markdown",
      "metadata": {
        "id": "03Chz-hKn6Qp"
      },
      "source": [
        "> Note to self: Make sure you're recording 🎥"
      ]
    },
    {
      "cell_type": "markdown",
      "metadata": {
        "id": "pMqc6Wvdn6Qp"
      },
      "source": [
        "# Admin Stuff"
      ]
    },
    {
      "cell_type": "markdown",
      "metadata": {
        "id": "2_w6fDIGn6Qp"
      },
      "source": [
        "You should be working on:\n",
        "- Lab 5a and 5b are due tonight by 11:59 pm\n",
        "- Lab 6 will be done in class today, but is due Tuesday, 8/1 by 11:59pm\n",
        "\n",
        "Readings:\n",
        "- [Reading #8](https://mcsp.wartburg.edu/zelle/python/graphics/graphics/graphref.html) Graphics documentation"
      ]
    },
    {
      "cell_type": "markdown",
      "metadata": {
        "id": "VvGOGkCJn6Qq"
      },
      "source": [
        "# ⏪ Quick Review:"
      ]
    },
    {
      "cell_type": "markdown",
      "metadata": {
        "id": "k3oYz1UJn6Qq"
      },
      "source": [
        "## Print formatting `sep`:\n",
        "\n",
        "When multiple arguments are passed into the `print()` function, they are by default separated by a space."
      ]
    },
    {
      "cell_type": "code",
      "execution_count": null,
      "metadata": {
        "id": "-B-d2hTvn6Qq",
        "outputId": "0933679a-9748-4429-d913-84d794905f38"
      },
      "outputs": [
        {
          "name": "stdout",
          "output_type": "stream",
          "text": [
            "The cost of your item is $ 5.75\n"
          ]
        }
      ],
      "source": [
        "cost = 5.75\n",
        "print(\"The cost of your item is $\", cost)"
      ]
    },
    {
      "cell_type": "markdown",
      "metadata": {
        "id": "QlSXTwW7n6Qr"
      },
      "source": [
        "Note the pesky space between the $ and the cost above."
      ]
    },
    {
      "cell_type": "markdown",
      "metadata": {
        "id": "jai8pl4Nn6Qr"
      },
      "source": [
        "## Print formatting `sep`:\n",
        "\n",
        "If you do not want the default space between arguetsin a print statement, you can put an additional argument that specifies exactly what should be placed between items in the print statement.\n",
        "\n",
        "For example, nothing (the empty string) denoted `\"\"`, which is denoted as `sep = \"\"`"
      ]
    },
    {
      "cell_type": "code",
      "execution_count": null,
      "metadata": {
        "id": "Kzq9M9Vvn6Qs",
        "outputId": "eb9d8363-c163-41cc-b6c6-125329e88663"
      },
      "outputs": [
        {
          "name": "stdout",
          "output_type": "stream",
          "text": [
            "The cost of your item is $5.75\n"
          ]
        }
      ],
      "source": [
        "cost = 5.75\n",
        "print(\"The cost of your item is $\", cost, sep=\"\")"
      ]
    },
    {
      "cell_type": "markdown",
      "metadata": {
        "id": "qyM1svtFn6Qs"
      },
      "source": [
        "# The For Loop:\n",
        "## 🔐✨ New Keywords Unlocked: `for` and `in`\n",
        "Use a `for` statement to easily write count-controlled loops.\n",
        "- designed to work with a sequence of data items.\n",
        "    - iterates once for each item in the sequence."
      ]
    },
    {
      "cell_type": "markdown",
      "metadata": {
        "id": "tyklhHC7n6Qs"
      },
      "source": [
        "## `for` loop syntax:\n",
        "- keyword `for`\n",
        "- __target variable__: you get to make this one up, but it's best if it hasn't been used in your current program.\n",
        "- keyword `in`\n",
        "- a sequence\n",
        "- colon `:`\n",
        "\n",
        "Example:"
      ]
    },
    {
      "cell_type": "code",
      "execution_count": null,
      "metadata": {
        "id": "OfwtMVtVn6Qs",
        "outputId": "1e8819f3-4354-423b-e18c-8ffa8eb41ed4"
      },
      "outputs": [
        {
          "name": "stdout",
          "output_type": "stream",
          "text": [
            "Sunday\n",
            "Monday\n",
            "Tuesday\n",
            "Wednesday\n",
            "Thursday\n",
            "Friday\n",
            "Saturday\n"
          ]
        }
      ],
      "source": [
        "days_in_week = ['Sunday','Monday', 'Tuesday', 'Wednesday', 'Thursday', 'Friday', 'Saturday']\n",
        "\n",
        "for day in days_in_week: #day is the target variable\n",
        "    print(day)"
      ]
    },
    {
      "cell_type": "code",
      "execution_count": null,
      "metadata": {
        "id": "eCyr5PwDn6Qt",
        "outputId": "2b96211b-ca8c-4e4b-da5e-819f12394823"
      },
      "outputs": [
        {
          "name": "stdout",
          "output_type": "stream",
          "text": [
            "1\n",
            "2\n",
            "3\n",
            "4\n",
            "5\n"
          ]
        }
      ],
      "source": [
        "for num in [1,2,3,4,5]:\n",
        "    print(num)"
      ]
    },
    {
      "cell_type": "markdown",
      "metadata": {
        "id": "NkP2H9vvn6Qt"
      },
      "source": [
        "<div>\n",
        "<img src=\"https://github.com/merriekay/STEM280/blob/main/images/day05_forloops.png?raw=1\" width=\"500\"/>\n",
        "</div>"
      ]
    },
    {
      "cell_type": "markdown",
      "metadata": {
        "id": "Dcn3m2pon6Qt"
      },
      "source": [
        "# The `range()` function\n",
        "\n",
        "The `range()` function simplifies the process of writing a for loop.\n",
        "\n",
        "- `range()` returns an iterable object\n",
        "    - *iterable* means that it contains a sequence of values that can be iterated (looped) over."
      ]
    },
    {
      "cell_type": "code",
      "execution_count": null,
      "metadata": {
        "id": "Q8yfb-gFn6Qt",
        "outputId": "b0b310f6-21b8-408e-deea-de058b5236de"
      },
      "outputs": [
        {
          "data": {
            "text/plain": [
              "range(0, 5)"
            ]
          },
          "execution_count": 47,
          "metadata": {},
          "output_type": "execute_result"
        }
      ],
      "source": [
        "range(5)"
      ]
    },
    {
      "cell_type": "code",
      "execution_count": null,
      "metadata": {
        "id": "t4mSXdN-n6Qt",
        "outputId": "dbf337b1-8c9c-47e1-882b-174c71cbf48b"
      },
      "outputs": [
        {
          "name": "stdout",
          "output_type": "stream",
          "text": [
            "0\n",
            "1\n",
            "2\n",
            "3\n",
            "4\n"
          ]
        }
      ],
      "source": [
        "for num in range(5):\n",
        "    print(num)"
      ]
    },
    {
      "cell_type": "markdown",
      "metadata": {
        "id": "EZYiyPYMn6Qu"
      },
      "source": [
        "## Passing `range()` Multiple Arguments\n",
        "\n",
        "By default, the range function produces a sequence of numbers that increases by 1.\n",
        "\n",
        "If you pass three __arguments__ to range:\n",
        "- the first number is the starting value\n",
        "- the second number is the ending limit\n",
        "- the third number is the step value (increment)"
      ]
    },
    {
      "cell_type": "code",
      "execution_count": null,
      "metadata": {
        "scrolled": true,
        "id": "anhWvgIYn6Qu",
        "outputId": "41acda5a-c26f-4aaf-b470-093c54146578"
      },
      "outputs": [
        {
          "name": "stdout",
          "output_type": "stream",
          "text": [
            "10\n",
            "8\n",
            "6\n",
            "4\n",
            "2\n"
          ]
        }
      ],
      "source": [
        "for x in range(10,1,-2):\n",
        "    print(x)"
      ]
    },
    {
      "cell_type": "markdown",
      "metadata": {
        "id": "Vgwa1caxn6Qu"
      },
      "source": [
        "## Two Main Formulas for For Loops:\n",
        "\n",
        "There are two common strategies for using for loops with lists.\n",
        "\n",
        "The first is called `list_comprehension`, and is used when you want to have access only to the values that are in the list, but don't necessarily care about the indices of the list.\n",
        "\n",
        "It looks something like this:"
      ]
    },
    {
      "cell_type": "code",
      "execution_count": null,
      "metadata": {
        "id": "rL19hTLPn6Qu",
        "outputId": "6a1f0a6d-f5be-4f88-b67d-7374e0e0fc21"
      },
      "outputs": [
        {
          "name": "stdout",
          "output_type": "stream",
          "text": [
            "-5\n",
            "-15\n",
            "-8\n",
            "-1\n"
          ]
        }
      ],
      "source": [
        "temperatures = [30, 20, 2, -5, -15, -8, -1, 0, 5, 35]\n",
        "\n",
        "for temp in temperatures:\n",
        "    if temp < 0:\n",
        "        print(temp)"
      ]
    },
    {
      "cell_type": "markdown",
      "metadata": {
        "id": "vJ-C30Rwn6Qu"
      },
      "source": [
        "The second is to be used when you _care about the index_ of the item in the list. Rather than using `list comprehension`, we will use the `range()` function to get a list of numbers from 0 to the `len(temperatures)` which will function as indices for our list.\n",
        "- we can then access individual elements in our list using the syntax `temperatures[index]`."
      ]
    },
    {
      "cell_type": "code",
      "execution_count": null,
      "metadata": {
        "id": "9tm981DNn6Qu"
      },
      "outputs": [],
      "source": [
        "temperatures = [30, 20, 2, -5, -15, -8, -1, 0, 5, 35]\n",
        "\n",
        "for index in range(len(temperatures)):\n",
        "    if temperatures[index] < 0:\n",
        "        print(\"Day\", index, \" had a negative temperature\")"
      ]
    },
    {
      "cell_type": "markdown",
      "metadata": {
        "id": "VITe851mn6Qv"
      },
      "source": [
        "# ✨ New Material"
      ]
    },
    {
      "cell_type": "markdown",
      "metadata": {
        "id": "J9IznEu2n6Qv"
      },
      "source": [
        "## Print formatting note:\n",
        "\n",
        "This isn't required, but is a nice touch...\n",
        "\n",
        "If you want the output to have two values after the decimal point (even if they're zeros), you can use the following syntax:"
      ]
    },
    {
      "cell_type": "code",
      "execution_count": null,
      "metadata": {
        "id": "Au5mLr22n6Qv",
        "outputId": "0347b0a6-2fa3-412d-bb61-44d9793bfc39"
      },
      "outputs": [
        {
          "name": "stdout",
          "output_type": "stream",
          "text": [
            "The cost of your item is $9.5\n",
            "The cost of your item is $9.50\n"
          ]
        }
      ],
      "source": [
        "cost = 9.5\n",
        "print(\"The cost of your item is $\", cost, sep=\"\")\n",
        "\n",
        "# now with 2 places after the decimal\n",
        "print(\"The cost of your item is $\", format(cost,\".2f\"), sep=\"\")"
      ]
    },
    {
      "cell_type": "markdown",
      "metadata": {
        "id": "3lMZuOyKn6Qv"
      },
      "source": [
        "# Today will be a little different\n",
        "\n",
        "I want to walk through many of the elements of Lab #6 in class today. I'll give you time to work and ask questions\n",
        "\n",
        "Feel free to work ahead (follow the lab)."
      ]
    },
    {
      "cell_type": "markdown",
      "metadata": {
        "id": "1oHVDG0sn6Qv"
      },
      "source": [
        "# Section 1: Installing `graphics.py`:\n",
        "\n",
        "1. Download the [graphics.py](https://analytics.drake.edu/~moore/STEM280/) file somewhere on your computer. It is also available via the link on Blackboard. When you open the link, saave the page (right-click on `graphics.py` and select \"Save As\"). Keep the default name of graphics.py. You can also open it in the browser, and then copy and paste it into Thonny and save it as `graphics.py`."
      ]
    },
    {
      "cell_type": "markdown",
      "metadata": {
        "id": "mQs-JX5Xn6Qv"
      },
      "source": [
        "> Remember where you save graphics.py--you'll need to move it to another director later.\n",
        "\n",
        "<div>\n",
        "<img src=\"https://github.com/merriekay/STEM280/blob/main/images/graphics_instructions.png?raw=1\" width=\"500\"/>\n",
        "</div>"
      ]
    },
    {
      "cell_type": "markdown",
      "metadata": {
        "id": "SprRWpnjn6Qw"
      },
      "source": [
        "2. Open up Thonny and click Tools--> Manage packages\n",
        "<div>\n",
        "<img src=\"https://github.com/merriekay/STEM280/blob/main/images/day07_packages.png?raw=1\" width=\"700\"/>\n",
        "</div>"
      ]
    },
    {
      "cell_type": "markdown",
      "metadata": {
        "id": "DWrRYaJfn6Qw"
      },
      "source": [
        "3. Near the bottom of the window, there is a section named __Target__ with a link to a directory. Click the directory link.\n",
        "<div>\n",
        "<img src=\"https://github.com/merriekay/STEM280/blob/main/images/day07_target.png?raw=1\" width=\"700\"/>\n",
        "</div>"
      ]
    },
    {
      "cell_type": "markdown",
      "metadata": {
        "id": "QpYVJ4T6n6Qw"
      },
      "source": [
        "4. A file explorer window should appear in a director named __site-packages__. Now drag and drop (i.e. copy and paste) the `graphics.py` file you downloaded in step 1 into this __site-packages__ folder. (The `cmd + n` is helpful here to open up a new finder/explorer window).\n",
        "\n",
        "5. Now, test that the graphics library is accessible inside of Thonny by executing the following in the shell:"
      ]
    },
    {
      "cell_type": "code",
      "execution_count": null,
      "metadata": {
        "id": "00ETNPwgn6Qw"
      },
      "outputs": [],
      "source": [
        "from graphics import *"
      ]
    },
    {
      "cell_type": "markdown",
      "metadata": {
        "id": "PVGsnimPn6Qw"
      },
      "source": [
        "Take a look at the documentation for the `graphics.py` file:\n",
        "- [Click here to take a look at the documentation](https://mcsp.wartburg.edu/zelle/python/graphics/graphics/index.html)"
      ]
    },
    {
      "cell_type": "code",
      "execution_count": null,
      "metadata": {
        "id": "2BkeVMxXn6Qw",
        "outputId": "f0956c98-b749-441a-e2fd-3382bd629413"
      },
      "outputs": [
        {
          "data": {
            "text/html": [
              "\n",
              "        <iframe\n",
              "            width=\"900\"\n",
              "            height=\"500\"\n",
              "            src=\"https://mcsp.wartburg.edu/zelle/python/graphics/graphics/index.html\"\n",
              "            frameborder=\"0\"\n",
              "            allowfullscreen\n",
              "            \n",
              "        ></iframe>\n",
              "        "
            ],
            "text/plain": [
              "<IPython.lib.display.IFrame at 0x108c70f50>"
            ]
          },
          "execution_count": 2,
          "metadata": {},
          "output_type": "execute_result"
        }
      ],
      "source": [
        "#this code simply displays the documentation website in the notebook, you can ignore this.\n",
        "from IPython.display import IFrame\n",
        "IFrame(\"https://mcsp.wartburg.edu/zelle/python/graphics/graphics/index.html\", 900,500)"
      ]
    },
    {
      "cell_type": "markdown",
      "metadata": {
        "id": "NvJZzBcan6Qw"
      },
      "source": [
        "# Section 2: Introduction to Graphics\n",
        "\n",
        "## 1. Create `Lab6.py`\n",
        "In Thonny, create a new file called `Lab6.py`\n",
        "\n",
        "Enter the following code:"
      ]
    },
    {
      "cell_type": "code",
      "execution_count": null,
      "metadata": {
        "id": "q6TLAWXUn6Qx"
      },
      "outputs": [],
      "source": [
        "# author: YOUR NAME SHOULD GO HERE\n",
        "# Description: Lab 6\n",
        "\n",
        "from graphics import *"
      ]
    },
    {
      "cell_type": "markdown",
      "metadata": {
        "id": "WKbFqahEn6Qx"
      },
      "source": [
        "> Mac users: when running any grpahics code, you _may_ get an error message that looks like the one below. You can safely ignore this message:\n",
        "![image.png](attachment:image.png)\n"
      ]
    },
    {
      "cell_type": "markdown",
      "metadata": {
        "id": "XKbq0jJjn6Q7"
      },
      "source": [
        "## 2. Create a `GraphWin` Object\n",
        "We will begin by experimenting with the basic graphics commands. Start by creating a `GraphWin` object with a title of Hello World. The window will be 640 pixels wide by 480 pixels high."
      ]
    },
    {
      "cell_type": "code",
      "execution_count": null,
      "metadata": {
        "id": "cNGqv5HAn6Q7"
      },
      "outputs": [],
      "source": [
        "from graphics import *\n",
        "\n",
        "width = 640\n",
        "height = 480\n",
        "#create a window\n",
        "win = GraphWin(\"Hello World\", width, height)"
      ]
    },
    {
      "cell_type": "markdown",
      "metadata": {
        "id": "nZ_MUOshn6Q7"
      },
      "source": [
        "Run the program and you should see a window pop up that looks like this:\n",
        "<div>\n",
        "<img src=\"https://github.com/merriekay/STEM280/blob/main/images/day07_hello_world.png?raw=1\" width=\"700\"/>\n",
        "</div>"
      ]
    },
    {
      "cell_type": "markdown",
      "metadata": {
        "id": "GoVFn7Zvn6Q7"
      },
      "source": [
        "### Tips:\n",
        "- Sometimes the windows like to open behind your other applciations, if you're not seeing it, make sure it's not just hiding\n",
        "- Make sure you 'stop' your code when you're finished.\n"
      ]
    },
    {
      "cell_type": "markdown",
      "metadata": {
        "id": "4X0Oi0N5n6Q7"
      },
      "source": [
        "## 3. Plot a Point\n",
        "\n",
        "Try plotting a point in the center of the window by typing:\n",
        "> Note: Since a point is drawn as a single pixel, it might be difficult to find the drawn pixel above. It should be exactly in the middle of the window."
      ]
    },
    {
      "cell_type": "code",
      "execution_count": null,
      "metadata": {
        "id": "T8HL5Mron6Q7"
      },
      "outputs": [],
      "source": [
        "from graphics import *\n",
        "\n",
        "width = 640\n",
        "height = 480\n",
        "#create a window\n",
        "win = GraphWin(\"Hello World\", width, height)\n",
        "\n",
        "p = Point(320, 240)\n",
        "p.draw(win)"
      ]
    },
    {
      "cell_type": "markdown",
      "metadata": {
        "id": "hkbPEtYVn6Q8"
      },
      "source": [
        "### Things to notice:\n",
        "\n",
        "The point we drew at `320, 240` is at the center of the screen.\n",
        "- Play around with the placement of this point. What is the coordinate system? Where is `0,0` and where is `640,480`?\n",
        "\n"
      ]
    },
    {
      "cell_type": "markdown",
      "metadata": {
        "id": "AjgQzhUYn6Q8"
      },
      "source": [
        "## 4. Move a Point\n",
        "Now, add the code `p.move(100, 100)` and see what happens:"
      ]
    },
    {
      "cell_type": "code",
      "execution_count": null,
      "metadata": {
        "id": "9kMflyoLn6Q8"
      },
      "outputs": [],
      "source": [
        "from graphics import *\n",
        "\n",
        "width = 640\n",
        "height = 480\n",
        "#create a window\n",
        "win = GraphWin(\"Hello World\", width, height)\n",
        "\n",
        "p = Point(320, 240)\n",
        "p.draw(win)\n",
        "p.move(100, 100)"
      ]
    },
    {
      "cell_type": "markdown",
      "metadata": {
        "id": "XzK52Rssn6Q8"
      },
      "source": [
        "Verify that the point moved. Note that increasing the `y` value moves the point _down_. The origin (0,0) is in the upper-left corner of the window.\n",
        "- moving things in the +x direction moves them to the right\n",
        "- moving things in teh +y direction moves then down\n",
        "\n",
        "<div>\n",
        "<img src=\"https://github.com/merriekay/STEM280/blob/main/images/day07_window_axis.png?raw=1\" width=\"500\"/>\n",
        "</div>"
      ]
    },
    {
      "cell_type": "markdown",
      "metadata": {
        "id": "JasypO4ln6Q8"
      },
      "source": [
        "## 5. Draw a Circle\n",
        "\n",
        "Now, let's add the code to draw a circle around the point, and make the outline the color red:"
      ]
    },
    {
      "cell_type": "code",
      "execution_count": null,
      "metadata": {
        "id": "aey6Ooibn6Q9",
        "outputId": "404885d7-8d4a-4e2d-b759-10813e7f582e"
      },
      "outputs": [
        {
          "data": {
            "text/plain": [
              "Circle(Point(420.0, 340.0), 50)"
            ]
          },
          "execution_count": 15,
          "metadata": {},
          "output_type": "execute_result"
        }
      ],
      "source": [
        "from graphics import *\n",
        "\n",
        "width = 640\n",
        "height = 480\n",
        "#create a window\n",
        "win = GraphWin(\"Hello World\", width, height)\n",
        "\n",
        "p = Point(320, 240)\n",
        "p.draw(win)\n",
        "p.move(100, 100)\n",
        "\n",
        "circ = Circle(p,50)\n",
        "circ.setOutline(\"red\")\n",
        "circ.draw(win)"
      ]
    },
    {
      "cell_type": "markdown",
      "metadata": {
        "id": "bjBoFcDun6Q9"
      },
      "source": [
        "## 6. Move the circle?\n",
        "If we move the point `p` do you think the circle will move with it?\n",
        "\n",
        "Try it to see what happens.\n",
        "\n",
        "Add the following code at the end `p.move(100,100)`"
      ]
    },
    {
      "cell_type": "markdown",
      "metadata": {
        "id": "027EpKXQn6Q9"
      },
      "source": [
        "## Exercise #1:\n",
        "Check out the documentation for `Graphics Objects` in `graphics.py`. Use the [documentation](https://mcsp.wartburg.edu/zelle/python/graphics/graphics/node4.html) to do the following:\n",
        "\n",
        "Play around a little bit with your circle. See if you can:\n",
        "- move your circle\n",
        "- create another circle of a different color and size\n",
        "\n",
        "> Here's a link to a [list of the different possible colors](https://www.wikipython.com/tkinter-ttk-tix/summary-information/colors/)"
      ]
    },
    {
      "cell_type": "code",
      "execution_count": null,
      "metadata": {
        "id": "PRlfemNyn6Q9",
        "outputId": "97757474-a422-4ac0-babe-beedf6821292"
      },
      "outputs": [
        {
          "data": {
            "text/html": [
              "\n",
              "        <iframe\n",
              "            width=\"900\"\n",
              "            height=\"500\"\n",
              "            src=\"https://mcsp.wartburg.edu/zelle/python/graphics/graphics/node4.html\"\n",
              "            frameborder=\"0\"\n",
              "            allowfullscreen\n",
              "            \n",
              "        ></iframe>\n",
              "        "
            ],
            "text/plain": [
              "<IPython.lib.display.IFrame at 0x108ee1ed0>"
            ]
          },
          "execution_count": 3,
          "metadata": {},
          "output_type": "execute_result"
        }
      ],
      "source": [
        "#this code simply displays the documentation website in the notebook, you can ignore this.\n",
        "from IPython.display import IFrame\n",
        "IFrame(\"https://mcsp.wartburg.edu/zelle/python/graphics/graphics/node4.html\", 900,500)"
      ]
    },
    {
      "cell_type": "markdown",
      "metadata": {
        "id": "O6ueiwsVn6Q9"
      },
      "source": [
        "# Section 3: Drawing Text\n",
        "\n",
        "Let's now display the message \"Hello World!\" on the graphics window. Comment out the previous code (but keep the `from graphics import *`), and enter the following:"
      ]
    },
    {
      "cell_type": "code",
      "execution_count": null,
      "metadata": {
        "id": "RDIzr9xYn6Q9"
      },
      "outputs": [],
      "source": [
        "win = GraphWin()\n",
        "hello = Text(Point(100, 100), \"Hello, world!\")\n",
        "hello.draw(win)"
      ]
    },
    {
      "cell_type": "markdown",
      "metadata": {
        "id": "QUPJ9Qz3n6Q-"
      },
      "source": [
        "If the window is too small for your liking, consider making a larger window by doing the following instead:\n",
        "\n",
        "> Notice how I make the point _within_ the call to Text (line 2)"
      ]
    },
    {
      "cell_type": "code",
      "execution_count": null,
      "metadata": {
        "id": "wdM0heOsn6Q-"
      },
      "outputs": [],
      "source": [
        "win = GraphWin(\"Window's title\", 1000, 1000)\n",
        "hello = Text(Point(500, 500), \"Hello, world!\")\n",
        "hello.draw(win)\n",
        "hello.setSize(32) #sizes from 5 to 36 are legal"
      ]
    },
    {
      "cell_type": "markdown",
      "metadata": {
        "id": "jg6k0eoyn6Q-"
      },
      "source": [
        "Try changing the font of the text by doing:\n",
        "- `hello.setFace(\"courier\")`\n",
        "\n",
        "Try changing the color:\n",
        "- `hello.setTextColor(\"blue\")`\n",
        "\n",
        "You can also move the text object:\n",
        "- `hello.move(0,100)`\n",
        "\n",
        "Or change the text of the object:\n",
        "- `hello.setText(\"Something different\")`\n",
        "\n",
        "Keep in mind, the __application programming interface (API)__ can help you know what things can be done (fonts that are available are under the \"Text Methods\" link, a desxription of colors is under the \"generating colors\" link, etc)."
      ]
    },
    {
      "cell_type": "markdown",
      "metadata": {
        "id": "cOf9dNHon6Q-"
      },
      "source": [
        "## Exercise #2:\n",
        "\n",
        "Play around with creating more text objects, drawing them to the window, and experimenting with font sizes, font styles, and font families.\n",
        "\n",
        "Make two different text variables and display in different colors, sizes, and different fonts.\n",
        "\n",
        "> Hint: `text2 = Text(Point(200, 250), \"here I am\")`, and `text2.draw(win)`"
      ]
    },
    {
      "cell_type": "markdown",
      "metadata": {
        "id": "NaTqncDDn6Q-"
      },
      "source": [
        "## Drawing Rectangles:\n",
        "\n",
        "Rectangles can be drawn (and filled with a color) by specifying the coordinates of the upper left and lower right corners:"
      ]
    },
    {
      "cell_type": "code",
      "execution_count": null,
      "metadata": {
        "id": "RRZxeENjn6Q-"
      },
      "outputs": [],
      "source": [
        "win = GraphWin(\"\", 400, 400)\n",
        "\n",
        "# draw a rectange with opposite corners at (10,50), and (145, 280)\n",
        "rect = Rectangle (Point(10,50), Point(145,280))\n",
        "rect.setFill(\"purple\")\n",
        "rect.draw(win)"
      ]
    },
    {
      "cell_type": "markdown",
      "metadata": {
        "id": "Hl9jJJEzn6Q_"
      },
      "source": [
        "# Section 4: Drawing Circles and Semi Circles\n",
        "\n",
        "Comment out the previous code (but keep `from graphics import *`)\n",
        "\n",
        "You can also draw filled shapes (such as cirlces and rectangles) with calls such as:"
      ]
    },
    {
      "cell_type": "code",
      "execution_count": null,
      "metadata": {
        "id": "3rXYWOxkn6Q_"
      },
      "outputs": [],
      "source": [
        "#section 4\n",
        "win = GraphWin(\"Hello\", 400, 400)\n",
        "\n",
        "#draw a green-filled circle with center (100, 200) and radius 50\n",
        "circ = Circle(Point(300, 270), 50)\n",
        "circ.setFill(\"green\")\n",
        "circ.draw(win)\n",
        "\n",
        "#draw a rectangle with opposite corners at (10, 50) and (145, 280)\n",
        "rect = Rectangle(Point(10, 60), Point(145, 280))\n",
        "rect.draw(win)"
      ]
    },
    {
      "cell_type": "markdown",
      "metadata": {
        "id": "WCl3Agj0n6Q_"
      },
      "source": [
        "## Exercise #3:\n",
        "Write a program to drraw a smiley face. Note that it doesn't have to be perfect! Just get the hang of using graphics objects.\n",
        "\n",
        "> __Notes__: There is no such thing as a 'semi-circle' in the documentation, so you'll have to draw a complete circle, and draw a rectangle after the circle so it covers part of the circle. Make something like this:\n",
        "\n",
        "<div>\n",
        "<img src=\"https://github.com/merriekay/STEM280/blob/main/images/day07_smile.png?raw=1\" width=\"500\"/>\n",
        "</div>"
      ]
    },
    {
      "cell_type": "markdown",
      "metadata": {
        "id": "u3VTQ-_7n6Q_"
      },
      "source": [
        "## Random Numbers (review)\n",
        "\n",
        "Recall that we can incorporate random numbers into our program by incluing `import random` at the top of our code.\n",
        "\n",
        "Then, we can use a function such as `randint()` as follows:"
      ]
    },
    {
      "cell_type": "code",
      "execution_count": null,
      "metadata": {
        "id": "MoSBo973n6Q_",
        "outputId": "3161331d-199d-423b-8df7-78d8c56ad8e8"
      },
      "outputs": [
        {
          "name": "stdout",
          "output_type": "stream",
          "text": [
            "83\n"
          ]
        }
      ],
      "source": [
        "import random\n",
        "\n",
        "# generate a random inteer between 1 and 100 (including 1 and 100)\n",
        "number = random.randint(1,100)\n",
        "print(number)"
      ]
    },
    {
      "cell_type": "markdown",
      "metadata": {
        "id": "SRVyZXENn6Q_"
      },
      "source": [
        "## Computer Colors\n",
        "In computer monitors, colors are made up of 3 different numbers between 0 and 255 that correspond to the amount of red, green, and blue light.\n",
        "\n",
        "Vales for each component range between 0 and 255:\n",
        "- red = 0, green = 0, blue = 0 results in:\n",
        "- red = 255, green = 255, blue = 255 results in:\n",
        "- red = 255, green = 0, blue = 255 results in:"
      ]
    },
    {
      "cell_type": "markdown",
      "metadata": {
        "id": "oKiVDkwJn6RA"
      },
      "source": [
        "## Random Colors:\n",
        "We can create a 'random' color by selecting three different numbers to make the color like this:"
      ]
    },
    {
      "cell_type": "code",
      "execution_count": null,
      "metadata": {
        "id": "TgkksqMTn6RA"
      },
      "outputs": [],
      "source": [
        "r = random.randint(0,255)\n",
        "g = random.randint(0,255)\n",
        "b = random.randint(0,255)\n",
        "\n",
        "random_color = color_rbg(r,g,b)"
      ]
    },
    {
      "cell_type": "markdown",
      "metadata": {
        "id": "HNTBJWf8n6RA"
      },
      "source": [
        "# Section #5: Random Circles\n",
        "Comment out the previous code (but keep `from graphics import *`)\n",
        "\n",
        "Colors are made up of 3 different numbers between 0 and 255 that correspond to the amount of red, green, and blue light. We can create a 'random' color by selecting three different numbers to make the color like this:"
      ]
    },
    {
      "cell_type": "markdown",
      "metadata": {
        "id": "7n9fI7bYn6RA"
      },
      "source": [
        "Similarly, we can select a random x and y value and a random radius for a circle by using `random.randint`:"
      ]
    },
    {
      "cell_type": "code",
      "execution_count": null,
      "metadata": {
        "id": "G0lU8JY2n6RA"
      },
      "outputs": [],
      "source": [
        "#a random location\n",
        "x = random.randint(0,350)\n",
        "y = random.randint(0,350)\n",
        "\n",
        "#a random radius\n",
        "radius = random.randint(10,50)"
      ]
    },
    {
      "cell_type": "markdown",
      "metadata": {
        "id": "hv5VMmu6n6RA"
      },
      "source": [
        "Pulling it together, we get something like this:\n",
        "\n",
        "Enter the program, and run it. Each time you run it, it should create a different circle on your screen."
      ]
    },
    {
      "cell_type": "code",
      "execution_count": null,
      "metadata": {
        "id": "2ohPl-2wn6RA"
      },
      "outputs": [],
      "source": [
        "import random\n",
        "from graphics import *\n",
        "\n",
        "win = GraphWin(\"Random Circles\", 400, 400)\n",
        "\n",
        "#a random color\n",
        "r = random.randint(0,255)\n",
        "g = random.randint(0,255)\n",
        "b = random.randint(0,255)\n",
        "\n",
        "color = color_rgb(r,g,b)\n",
        "\n",
        "#a random location\n",
        "x = random.randint(0,350)\n",
        "y = random.randint(0,350)\n",
        "\n",
        "#a random radius\n",
        "radius = random.randint(10,50)\n",
        "\n",
        "#a random circle\n",
        "circ = Circle(Point(x,y), radius)\n",
        "circ.setFill(color)\n",
        "circ.draw(win)"
      ]
    },
    {
      "cell_type": "markdown",
      "metadata": {
        "id": "4Q_eDaopn6RB"
      },
      "source": [
        "## Exercise #4:\n",
        "\n",
        "Prompt the user for an integer. Use a loop to run the above code the number of times the user entered to draw that number of circles. For example:\n",
        "\n",
        "```\n",
        "How many circles would you like? 20\n",
        "```"
      ]
    },
    {
      "cell_type": "markdown",
      "metadata": {
        "id": "1j8L5mnen6RB"
      },
      "source": [
        "<div>\n",
        "<img src=\"https://github.com/merriekay/STEM280/blob/main/images/day07_randomcircles.png?raw=1\" width=\"400\"/>\n",
        "</div>"
      ]
    },
    {
      "cell_type": "markdown",
      "metadata": {
        "id": "2e_n7lsGn6RB"
      },
      "source": [
        "# Section 6: Something Fun\n",
        "\n",
        "Piet Mondrian is an artist known as one of the pioneers of 20th century abstract art. Here are a few of his paintings:\n",
        "![image.png](attachment:image.png)"
      ]
    },
    {
      "cell_type": "markdown",
      "metadata": {
        "id": "6bvrC8ysn6RB"
      },
      "source": [
        "## Exercise #5:\n",
        "\n",
        "Create a Mondrian-inspired rendering. It can be a bunch of randomly-generated rectangles, or something that you make more intentionally. Each of the following would be acceptable:\n",
        "\n",
        "<div>\n",
        "<img src=\"https://github.com/merriekay/STEM280/blob/main/images/day07_mondrian.png?raw=1\" width=\"800\"/>\n",
        "</div>"
      ]
    },
    {
      "cell_type": "markdown",
      "metadata": {
        "id": "MxqMuSo-n6RB"
      },
      "source": [
        "# Want some more practice?\n",
        "\n",
        "Try these:\n",
        "- use the `graphics.py` module to create a function that will draw a die, start with a 1, then try building the rest of the numbers 1-6. Can you write a function that will choose a random number and then display the die on the screen?\n",
        "- try out the `Polygon` method--can you draw a triangle?\n",
        "- Draw something else cool--can you draw a scene? Maybe a dog, robot, beach, house, etc?"
      ]
    },
    {
      "cell_type": "markdown",
      "metadata": {
        "id": "RnpSxhTXn6RB"
      },
      "source": [
        "# Submitting Lab #6:\n",
        "\n",
        "Once you've completed the exercises, go ahead and submit your `Lab6.py` file to CodePost--no autograding to worry about here, just looking for an attempt at each of the exercises:\n",
        "- Exercise #1: Move a circle\n",
        "- Exercise #2: Draw some text\n",
        "- Exercise #3: Draw a smiley face\n",
        "- Exercise #4: Random circles\n",
        "- Exercise #5: Mondrian\n",
        "\n",
        "Submit Lab #6 to CodePost before 8/1 at 11:59pm."
      ]
    },
    {
      "cell_type": "markdown",
      "metadata": {
        "id": "9Gd06JUSn6RC"
      },
      "source": [
        "# Take a Break:"
      ]
    },
    {
      "cell_type": "markdown",
      "metadata": {
        "id": "CTb4V6XFn6RC"
      },
      "source": [
        "## Setting Different Coordinates\n",
        "\n",
        "Working with pixel values can be tedious.\n",
        "\n",
        "Sometimes it makes more sense to use a scale from 0 to 1, where 0 is the start of the window, and 1 is the end of the window.\n",
        "\n",
        "This is included in the `graphics.py` file, as the `setCoords` method."
      ]
    },
    {
      "cell_type": "code",
      "execution_count": null,
      "metadata": {
        "id": "qS4AEpKGn6RC"
      },
      "outputs": [],
      "source": [
        "from graphics import *\n",
        "\n",
        "win = GraphWin(\"hello\", 400, 400)\n",
        "win.setCoords(0,0,1,1) #change coordinate systems\n",
        "\n",
        "rect = Rectangle(Point(0.1,0.1), Point(0.5,0.5))\n",
        "rect.setfill(\"black\")\n",
        "rect.draw(win)"
      ]
    },
    {
      "cell_type": "markdown",
      "metadata": {
        "id": "fFhR4PNAn6RC"
      },
      "source": [
        "## Getting Mouse Clicks\n",
        "\n",
        "We can use the `getMouse()` method, which returns the `Point` that was clicked like so:"
      ]
    },
    {
      "cell_type": "code",
      "execution_count": null,
      "metadata": {
        "id": "e4K0TdEqn6RC",
        "outputId": "b4ca2572-414a-4429-bfc7-85c9cca30da5"
      },
      "outputs": [
        {
          "name": "stdout",
          "output_type": "stream",
          "text": [
            "Point(537.0, 258.0)\n"
          ]
        }
      ],
      "source": [
        "from graphics import *\n",
        "win = GraphWin(\"detect clicks\", 640, 640)\n",
        "p = win.getMouse() #stores the point where the user clicked\n",
        "print(p)"
      ]
    },
    {
      "cell_type": "markdown",
      "metadata": {
        "id": "dpNMlJg7n6RC"
      },
      "source": [
        "## Group Exercise:\n",
        "\n",
        "__Part I__: How can you draw a triangle?\n",
        "> __Hint__: [take a look at the API](https://mcsp.wartburg.edu/zelle/python/graphics/graphics/index.html), there's no 'Triangle' object, but what else might work?\n",
        "\n",
        "\n",
        "__Part II__: Write a program that will capture three points when the user clicks on the window. Draw a blue triangle between these three points.\n",
        "\n",
        "When you're done with Part II, try these next steps:\n",
        "- Can you make it a random color?\n",
        "- Can you allow the user to make 10 different triangles?"
      ]
    },
    {
      "cell_type": "markdown",
      "metadata": {
        "id": "ax_H3rPDn6RD"
      },
      "source": [
        "## Getting Key Presses `win.key()`"
      ]
    },
    {
      "cell_type": "code",
      "execution_count": null,
      "metadata": {
        "id": "XeY8VjFwn6RD"
      },
      "outputs": [],
      "source": [
        "win = GraphWin(\"Moving a Circle\", 500, 500)\n",
        "win.setCoords(0,0,1,1)\n",
        "\n",
        "#creates a red circle on the window\n",
        "circ = Circle(Point(0.25,0.25), 0.1)\n",
        "circ.setFill(\"red\")\n",
        "circ.draw(win)\n",
        "\n",
        "#while the user doesn't close the window...\n",
        "while win.isOpen():\n",
        "\n",
        "    #check if the user just pressed an arrow key\n",
        "    # and if so, move the circle in that direction.\n",
        "    key = win.getKey()\n",
        "\n",
        "    if key == 'Up':\n",
        "        circ.move(-0,0.05)\n",
        "    elif key == 'Down':\n",
        "        circ.move(0,-0.05)\n",
        "    elif key == 'Right':\n",
        "        circ.move(0.05,0)\n",
        "    elif key == 'Left':\n",
        "        circ.move(-0.05,0)"
      ]
    },
    {
      "cell_type": "markdown",
      "metadata": {
        "id": "q6c0D9O6n6RD"
      },
      "source": [
        "## Group Exercise #2:\n",
        "\n",
        "Can you change the code from the previous slide so that it works not just with the arrow keys, but also the `w`, `a`, `s`, `d` keys as well?\n",
        "\n",
        "If you're done with that:\n",
        "- try making it so that the circle can't go outside of the borders.\n",
        "- add another shape... can you make something happen (change the color, display some text, etc) when the red circle hits this other shape?"
      ]
    },
    {
      "cell_type": "markdown",
      "metadata": {
        "id": "oer9Og5Pn6RD"
      },
      "source": [
        "## Displaying a Die:"
      ]
    },
    {
      "cell_type": "code",
      "execution_count": null,
      "metadata": {
        "id": "gQ7CxRNKn6RD"
      },
      "outputs": [],
      "source": [
        "from graphics import *\n",
        "import random\n",
        "\n",
        "win = GraphWin(\"Awesome Game\", 500, 500, autoflush=False)\n",
        "win.setCoords(0,0,1,1)\n",
        "\n",
        "#build a rectangle in the center of the screen\n",
        "rect = Rectangle(Point(0.25,0.75), Point(0.75,0.25))\n",
        "\n",
        "#make the outline black and fill white\n",
        "rect.setOutline('black')\n",
        "rect.setFill(\"white\")\n",
        "\n",
        "#draw it\n",
        "rect.draw(win)\n",
        "\n",
        "# get a dice roll:\n",
        "roll = random.randint(1,3) # starting with 3 for now\n",
        "\n",
        "if roll == 1:\n",
        "    pip1 = Circle(Point(0.5,0.5), 0.04)\n",
        "    pip1.setFill('black')\n",
        "    pip1.draw(win)\n",
        "elif roll == 2:\n",
        "    pip1 = Circle(Point(0.35,0.65), 0.04)\n",
        "    pip1.setFill('black')\n",
        "    pip1.draw(win)\n",
        "    pip2 = Circle(Point(0.65,0.35), 0.04)\n",
        "    pip2.setFill('black')\n",
        "    pip2.draw(win)\n",
        "elif roll == 3:\n",
        "    pip1 = Circle(Point(0.35,0.65), 0.04)\n",
        "    pip1.setFill('black')\n",
        "    pip1.draw(win)\n",
        "    pip2 = Circle(Point(0.65,0.35), 0.04)\n",
        "    pip2.setFill('black')\n",
        "    pip2.draw(win)\n",
        "    pip3 = Circle(Point(0.5,0.5), 0.04)\n",
        "    pip3.setFill('black')\n",
        "    pip3.draw(win)\n",
        "\n",
        "# you can do 4, 5, 6"
      ]
    },
    {
      "cell_type": "markdown",
      "metadata": {
        "id": "22Sf4Msrn6RD"
      },
      "source": [
        "## What do you think this will do?"
      ]
    },
    {
      "cell_type": "code",
      "execution_count": null,
      "metadata": {
        "id": "eZGt53o8n6RD"
      },
      "outputs": [],
      "source": [
        "from graphics import *\n",
        "WIDTH = 600\n",
        "HEIGHT = 480\n",
        "\n",
        "speed = 2\n",
        "going_right = True\n",
        "going_up = True\n",
        "\n",
        "win = GraphWin(\"Bounce!\", WIDTH, HEIGHT)\n",
        "\n",
        "ball = Circle(Point(30,270), 10)\n",
        "ball.setFill(\"red\")\n",
        "ball.draw(win)\n",
        "\n",
        "while win.isOpen():\n",
        "    ball.move(speed,0)\n",
        "    update(60) # refresh for 60 frames per second"
      ]
    },
    {
      "cell_type": "markdown",
      "metadata": {
        "id": "-SkQbJHxn6RE"
      },
      "source": [
        "## Challenge: Make it bounce!\n",
        "\n",
        "> Hint: `ball.getCenter().getX()`"
      ]
    },
    {
      "cell_type": "markdown",
      "metadata": {
        "id": "_SciensFn6RE"
      },
      "source": [
        "## Challenge: Make it bounce!\n",
        "\n",
        "Now... try to make it bounce off of all of the walls..."
      ]
    },
    {
      "cell_type": "markdown",
      "metadata": {
        "id": "04LcC0AAn6RE"
      },
      "source": [
        "## What will this do?"
      ]
    },
    {
      "cell_type": "code",
      "execution_count": null,
      "metadata": {
        "id": "HOGNBxr-n6RE"
      },
      "outputs": [],
      "source": [
        "from graphics import *\n",
        "\n",
        "WIDTH = 600\n",
        "HEIGHT = 480\n",
        "\n",
        "win = GraphWin(\"Title\", WIDTH, HEIGHT)\n",
        "\n",
        "paddle = Rectangle(Point(50, 450), Point(250, 475))\n",
        "paddle.setFill(\"black\")\n",
        "paddle.draw(win)\n",
        "\n",
        "while win.isOpen():\n",
        "    key = win.checkKey()\n",
        "    if key == 'Right':\n",
        "        paddle.move(20, 0)\n",
        "    elif key == 'Left':\n",
        "        paddle.move(-20, 0)\n",
        "    update(60) # refresh for 60 frames per second\n",
        ""
      ]
    },
    {
      "cell_type": "markdown",
      "metadata": {
        "id": "4H9ead89n6RE"
      },
      "source": [
        "# Admin Stuff"
      ]
    },
    {
      "cell_type": "markdown",
      "metadata": {
        "id": "cFF37QwZn6RE"
      },
      "source": [
        "You should be working on:\n",
        "- Lab 5a and 5b are due tonight by 11:59 pm\n",
        "- Lab 6 will be done in class today, but is due Tuesday, 8/1 by 11:59pm\n",
        "\n",
        "Readings:\n",
        "- [Reading #8](https://mcsp.wartburg.edu/zelle/python/graphics/graphics/graphref.html) Graphics documentation"
      ]
    }
  ],
  "metadata": {
    "celltoolbar": "Slideshow",
    "kernelspec": {
      "display_name": "Python 3 (ipykernel)",
      "language": "python",
      "name": "python3"
    },
    "language_info": {
      "codemirror_mode": {
        "name": "ipython",
        "version": 3
      },
      "file_extension": ".py",
      "mimetype": "text/x-python",
      "name": "python",
      "nbconvert_exporter": "python",
      "pygments_lexer": "ipython3",
      "version": "3.11.4"
    },
    "colab": {
      "provenance": [],
      "include_colab_link": true
    }
  },
  "nbformat": 4,
  "nbformat_minor": 0
}